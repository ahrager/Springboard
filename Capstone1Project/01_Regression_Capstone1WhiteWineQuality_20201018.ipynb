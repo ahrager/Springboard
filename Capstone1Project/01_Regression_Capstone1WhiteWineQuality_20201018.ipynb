{
 "cells": [
  {
   "cell_type": "markdown",
   "metadata": {},
   "source": [
    "<h1>Capstone 1</h1>\n",
    "<h2>White Wine Quality, UC Irvine</h2> \n",
    "(Source: Paulo Cortez (Univ. Minho), Antonio Cerdeira, Fernando Almeida, Telmo Matos and Jose Reis (CVRVV) @ 2009)\n",
    "<h4>Audrey Rager</h4>\n",
    "<h4>October 18, 2020</h4>\n",
    "<h2>Import Python Packages</h2>"
   ]
  },
  {
   "cell_type": "code",
   "execution_count": 1,
   "metadata": {},
   "outputs": [],
   "source": [
    "#Import packages\n",
    "import pandas as pd\n",
    "import matplotlib.pyplot as plt\n",
    "import seaborn as sns\n",
    "import numpy as np\n",
    "import scipy.stats as stats\n",
    "import datetime as dt\n",
    "import statsmodels.api as sm\n",
    "from scipy.stats import norm\n",
    "import statsmodels.stats.weightstats as smsw\n",
    "import pylab\n",
    "\n",
    "# Import sklearn\n",
    "from sklearn.model_selection import train_test_split, cross_val_score\n",
    "from sklearn import svm\n",
    "#from sklearn import cross_validation\n",
    "from scipy import stats as st\n",
    "import warnings \n",
    "warnings.filterwarnings('ignore')\n",
    "\n",
    "# Import pyplot from matplotlib as plt\n",
    "import matplotlib.pyplot as plt\n",
    "%matplotlib inline\n",
    "\n",
    "sns.set_style('whitegrid')\n"
   ]
  },
  {
   "cell_type": "markdown",
   "metadata": {},
   "source": [
    "<h2>Data Wrangling</h2>"
   ]
  },
  {
   "cell_type": "code",
   "execution_count": 2,
   "metadata": {},
   "outputs": [
    {
     "data": {
      "text/html": [
       "<div>\n",
       "<style scoped>\n",
       "    .dataframe tbody tr th:only-of-type {\n",
       "        vertical-align: middle;\n",
       "    }\n",
       "\n",
       "    .dataframe tbody tr th {\n",
       "        vertical-align: top;\n",
       "    }\n",
       "\n",
       "    .dataframe thead th {\n",
       "        text-align: right;\n",
       "    }\n",
       "</style>\n",
       "<table border=\"1\" class=\"dataframe\">\n",
       "  <thead>\n",
       "    <tr style=\"text-align: right;\">\n",
       "      <th></th>\n",
       "      <th>fixed_acidity</th>\n",
       "      <th>volatile_acidity</th>\n",
       "      <th>citric_acid</th>\n",
       "      <th>residual_sugar</th>\n",
       "      <th>chlorides</th>\n",
       "      <th>free_sulfur_dioxide</th>\n",
       "      <th>total_sulfur_dioxide</th>\n",
       "      <th>density</th>\n",
       "      <th>pH</th>\n",
       "      <th>sulphates</th>\n",
       "      <th>alcohol</th>\n",
       "      <th>quality</th>\n",
       "    </tr>\n",
       "  </thead>\n",
       "  <tbody>\n",
       "    <tr>\n",
       "      <th>count</th>\n",
       "      <td>4898.000000</td>\n",
       "      <td>4898.000000</td>\n",
       "      <td>4898.000000</td>\n",
       "      <td>4898.000000</td>\n",
       "      <td>4898.000000</td>\n",
       "      <td>4898.000000</td>\n",
       "      <td>4898.000000</td>\n",
       "      <td>4898.000000</td>\n",
       "      <td>4898.000000</td>\n",
       "      <td>4898.000000</td>\n",
       "      <td>4898.000000</td>\n",
       "      <td>4898.000000</td>\n",
       "    </tr>\n",
       "    <tr>\n",
       "      <th>mean</th>\n",
       "      <td>6.854788</td>\n",
       "      <td>0.278241</td>\n",
       "      <td>0.334192</td>\n",
       "      <td>6.391415</td>\n",
       "      <td>0.045772</td>\n",
       "      <td>35.308085</td>\n",
       "      <td>138.360657</td>\n",
       "      <td>0.994027</td>\n",
       "      <td>3.188267</td>\n",
       "      <td>0.489847</td>\n",
       "      <td>10.514267</td>\n",
       "      <td>5.877909</td>\n",
       "    </tr>\n",
       "    <tr>\n",
       "      <th>std</th>\n",
       "      <td>0.843868</td>\n",
       "      <td>0.100795</td>\n",
       "      <td>0.121020</td>\n",
       "      <td>5.072058</td>\n",
       "      <td>0.021848</td>\n",
       "      <td>17.007137</td>\n",
       "      <td>42.498065</td>\n",
       "      <td>0.002991</td>\n",
       "      <td>0.151001</td>\n",
       "      <td>0.114126</td>\n",
       "      <td>1.230621</td>\n",
       "      <td>0.885639</td>\n",
       "    </tr>\n",
       "    <tr>\n",
       "      <th>min</th>\n",
       "      <td>3.800000</td>\n",
       "      <td>0.080000</td>\n",
       "      <td>0.000000</td>\n",
       "      <td>0.600000</td>\n",
       "      <td>0.009000</td>\n",
       "      <td>2.000000</td>\n",
       "      <td>9.000000</td>\n",
       "      <td>0.987110</td>\n",
       "      <td>2.720000</td>\n",
       "      <td>0.220000</td>\n",
       "      <td>8.000000</td>\n",
       "      <td>3.000000</td>\n",
       "    </tr>\n",
       "    <tr>\n",
       "      <th>25%</th>\n",
       "      <td>6.300000</td>\n",
       "      <td>0.210000</td>\n",
       "      <td>0.270000</td>\n",
       "      <td>1.700000</td>\n",
       "      <td>0.036000</td>\n",
       "      <td>23.000000</td>\n",
       "      <td>108.000000</td>\n",
       "      <td>0.991723</td>\n",
       "      <td>3.090000</td>\n",
       "      <td>0.410000</td>\n",
       "      <td>9.500000</td>\n",
       "      <td>5.000000</td>\n",
       "    </tr>\n",
       "    <tr>\n",
       "      <th>50%</th>\n",
       "      <td>6.800000</td>\n",
       "      <td>0.260000</td>\n",
       "      <td>0.320000</td>\n",
       "      <td>5.200000</td>\n",
       "      <td>0.043000</td>\n",
       "      <td>34.000000</td>\n",
       "      <td>134.000000</td>\n",
       "      <td>0.993740</td>\n",
       "      <td>3.180000</td>\n",
       "      <td>0.470000</td>\n",
       "      <td>10.400000</td>\n",
       "      <td>6.000000</td>\n",
       "    </tr>\n",
       "    <tr>\n",
       "      <th>75%</th>\n",
       "      <td>7.300000</td>\n",
       "      <td>0.320000</td>\n",
       "      <td>0.390000</td>\n",
       "      <td>9.900000</td>\n",
       "      <td>0.050000</td>\n",
       "      <td>46.000000</td>\n",
       "      <td>167.000000</td>\n",
       "      <td>0.996100</td>\n",
       "      <td>3.280000</td>\n",
       "      <td>0.550000</td>\n",
       "      <td>11.400000</td>\n",
       "      <td>6.000000</td>\n",
       "    </tr>\n",
       "    <tr>\n",
       "      <th>max</th>\n",
       "      <td>14.200000</td>\n",
       "      <td>1.100000</td>\n",
       "      <td>1.660000</td>\n",
       "      <td>65.800000</td>\n",
       "      <td>0.346000</td>\n",
       "      <td>289.000000</td>\n",
       "      <td>440.000000</td>\n",
       "      <td>1.038980</td>\n",
       "      <td>3.820000</td>\n",
       "      <td>1.080000</td>\n",
       "      <td>14.200000</td>\n",
       "      <td>9.000000</td>\n",
       "    </tr>\n",
       "  </tbody>\n",
       "</table>\n",
       "</div>"
      ],
      "text/plain": [
       "       fixed_acidity  volatile_acidity  citric_acid  residual_sugar  \\\n",
       "count    4898.000000       4898.000000  4898.000000     4898.000000   \n",
       "mean        6.854788          0.278241     0.334192        6.391415   \n",
       "std         0.843868          0.100795     0.121020        5.072058   \n",
       "min         3.800000          0.080000     0.000000        0.600000   \n",
       "25%         6.300000          0.210000     0.270000        1.700000   \n",
       "50%         6.800000          0.260000     0.320000        5.200000   \n",
       "75%         7.300000          0.320000     0.390000        9.900000   \n",
       "max        14.200000          1.100000     1.660000       65.800000   \n",
       "\n",
       "         chlorides  free_sulfur_dioxide  total_sulfur_dioxide      density  \\\n",
       "count  4898.000000          4898.000000           4898.000000  4898.000000   \n",
       "mean      0.045772            35.308085            138.360657     0.994027   \n",
       "std       0.021848            17.007137             42.498065     0.002991   \n",
       "min       0.009000             2.000000              9.000000     0.987110   \n",
       "25%       0.036000            23.000000            108.000000     0.991723   \n",
       "50%       0.043000            34.000000            134.000000     0.993740   \n",
       "75%       0.050000            46.000000            167.000000     0.996100   \n",
       "max       0.346000           289.000000            440.000000     1.038980   \n",
       "\n",
       "                pH    sulphates      alcohol      quality  \n",
       "count  4898.000000  4898.000000  4898.000000  4898.000000  \n",
       "mean      3.188267     0.489847    10.514267     5.877909  \n",
       "std       0.151001     0.114126     1.230621     0.885639  \n",
       "min       2.720000     0.220000     8.000000     3.000000  \n",
       "25%       3.090000     0.410000     9.500000     5.000000  \n",
       "50%       3.180000     0.470000    10.400000     6.000000  \n",
       "75%       3.280000     0.550000    11.400000     6.000000  \n",
       "max       3.820000     1.080000    14.200000     9.000000  "
      ]
     },
     "execution_count": 2,
     "metadata": {},
     "output_type": "execute_result"
    }
   ],
   "source": [
    "#Import csv files into Pandas data frames\n",
    "#reddf = pd.read_csv('winequality-red.csv',sep=\";\")\n",
    "whitedf = pd.read_csv('winequality-white.csv',sep=\";\")\n",
    "df = pd.read_csv('winequality-white.csv',sep=\";\")\n",
    "df = df.rename({'fixed acidity': 'fixed_acidity','volatile acidity': 'volatile_acidity', 'citric acid': 'citric_acid', 'residual sugar':'residual_sugar',  'free sulfur dioxide':'free_sulfur_dioxide', 'total sulfur dioxide':'total_sulfur_dioxide'}, axis=1)\n",
    "\n",
    "df.describe()\n"
   ]
  },
  {
   "cell_type": "markdown",
   "metadata": {},
   "source": [
    "<h2>Identifying and Removing Outliers</h2>\n",
    "<p>A predictor variable is considered to be an outlier only if it is > Q<sub>3</sub> + 1.5 IQR. Because all skewed data are positively skewed, we only need to eliminate those values.</p>"
   ]
  },
  {
   "cell_type": "code",
   "execution_count": 3,
   "metadata": {},
   "outputs": [],
   "source": [
    "# Filtering Values between Q1-1.5IQR and Q3+1.5IQR\n",
    "ValueList = ('fixed_acidity', 'volatile_acidity', 'citric_acid', 'residual_sugar', 'chlorides',\n",
    "            'free_sulfur_dioxide', 'total_sulfur_dioxide', 'density', 'pH', 'sulphates', 'alcohol')\n",
    "\n",
    "for myValue in ValueList:\n",
    "    #compute range of data\n",
    "    myValueMax = df[myValue].max()\n",
    "    myValueMin = df[myValue].min()\n",
    "    myValueRange = myValueMax - myValueMin\n",
    "    \n",
    "    # Computing IQR\n",
    "    Q1 = df[myValue].quantile(0.25)\n",
    "    Q3 = df[myValue].quantile(0.75)\n",
    "    IQR = Q3 - Q1\n",
    "    gtdropvalue = (Q3 + (1.5 * IQR))\n",
    "    ltdropvalue = (Q1 - (1.5 * IQR))\n",
    "    \n",
    "    index_names_right = df[df[myValue] >= gtdropvalue].index\n",
    "    index_names_left = df[df[myValue] <= ltdropvalue].index\n",
    "    df.drop(index_names_right, inplace = True)\n",
    "    df.drop(index_names_left, inplace = True)\n",
    "    \n",
    "    \n",
    "   "
   ]
  },
  {
   "cell_type": "code",
   "execution_count": 4,
   "metadata": {},
   "outputs": [
    {
     "data": {
      "text/html": [
       "<div>\n",
       "<style scoped>\n",
       "    .dataframe tbody tr th:only-of-type {\n",
       "        vertical-align: middle;\n",
       "    }\n",
       "\n",
       "    .dataframe tbody tr th {\n",
       "        vertical-align: top;\n",
       "    }\n",
       "\n",
       "    .dataframe thead th {\n",
       "        text-align: right;\n",
       "    }\n",
       "</style>\n",
       "<table border=\"1\" class=\"dataframe\">\n",
       "  <thead>\n",
       "    <tr style=\"text-align: right;\">\n",
       "      <th></th>\n",
       "      <th>fixed_acidity</th>\n",
       "      <th>volatile_acidity</th>\n",
       "      <th>citric_acid</th>\n",
       "      <th>residual_sugar</th>\n",
       "      <th>chlorides</th>\n",
       "      <th>free_sulfur_dioxide</th>\n",
       "      <th>total_sulfur_dioxide</th>\n",
       "      <th>density</th>\n",
       "      <th>pH</th>\n",
       "      <th>sulphates</th>\n",
       "      <th>alcohol</th>\n",
       "      <th>quality</th>\n",
       "    </tr>\n",
       "  </thead>\n",
       "  <tbody>\n",
       "    <tr>\n",
       "      <th>count</th>\n",
       "      <td>3951.000000</td>\n",
       "      <td>3951.000000</td>\n",
       "      <td>3951.000000</td>\n",
       "      <td>3951.000000</td>\n",
       "      <td>3951.000000</td>\n",
       "      <td>3951.000000</td>\n",
       "      <td>3951.000000</td>\n",
       "      <td>3951.000000</td>\n",
       "      <td>3951.000000</td>\n",
       "      <td>3951.000000</td>\n",
       "      <td>3951.000000</td>\n",
       "      <td>3951.000000</td>\n",
       "    </tr>\n",
       "    <tr>\n",
       "      <th>mean</th>\n",
       "      <td>6.809048</td>\n",
       "      <td>0.263828</td>\n",
       "      <td>0.322749</td>\n",
       "      <td>6.352759</td>\n",
       "      <td>0.042299</td>\n",
       "      <td>34.730575</td>\n",
       "      <td>136.953176</td>\n",
       "      <td>0.993844</td>\n",
       "      <td>3.189043</td>\n",
       "      <td>0.481445</td>\n",
       "      <td>10.592035</td>\n",
       "      <td>5.953936</td>\n",
       "    </tr>\n",
       "    <tr>\n",
       "      <th>std</th>\n",
       "      <td>0.726417</td>\n",
       "      <td>0.076298</td>\n",
       "      <td>0.083076</td>\n",
       "      <td>4.905477</td>\n",
       "      <td>0.009889</td>\n",
       "      <td>14.941739</td>\n",
       "      <td>41.049024</td>\n",
       "      <td>0.002877</td>\n",
       "      <td>0.137980</td>\n",
       "      <td>0.098904</td>\n",
       "      <td>1.214421</td>\n",
       "      <td>0.856194</td>\n",
       "    </tr>\n",
       "    <tr>\n",
       "      <th>min</th>\n",
       "      <td>4.900000</td>\n",
       "      <td>0.080000</td>\n",
       "      <td>0.110000</td>\n",
       "      <td>0.600000</td>\n",
       "      <td>0.016000</td>\n",
       "      <td>2.000000</td>\n",
       "      <td>19.000000</td>\n",
       "      <td>0.987110</td>\n",
       "      <td>2.830000</td>\n",
       "      <td>0.220000</td>\n",
       "      <td>8.400000</td>\n",
       "      <td>3.000000</td>\n",
       "    </tr>\n",
       "    <tr>\n",
       "      <th>25%</th>\n",
       "      <td>6.300000</td>\n",
       "      <td>0.210000</td>\n",
       "      <td>0.270000</td>\n",
       "      <td>1.800000</td>\n",
       "      <td>0.035000</td>\n",
       "      <td>24.000000</td>\n",
       "      <td>107.000000</td>\n",
       "      <td>0.991580</td>\n",
       "      <td>3.100000</td>\n",
       "      <td>0.410000</td>\n",
       "      <td>9.500000</td>\n",
       "      <td>5.000000</td>\n",
       "    </tr>\n",
       "    <tr>\n",
       "      <th>50%</th>\n",
       "      <td>6.800000</td>\n",
       "      <td>0.260000</td>\n",
       "      <td>0.310000</td>\n",
       "      <td>5.200000</td>\n",
       "      <td>0.042000</td>\n",
       "      <td>34.000000</td>\n",
       "      <td>132.000000</td>\n",
       "      <td>0.993520</td>\n",
       "      <td>3.180000</td>\n",
       "      <td>0.470000</td>\n",
       "      <td>10.500000</td>\n",
       "      <td>6.000000</td>\n",
       "    </tr>\n",
       "    <tr>\n",
       "      <th>75%</th>\n",
       "      <td>7.300000</td>\n",
       "      <td>0.310000</td>\n",
       "      <td>0.370000</td>\n",
       "      <td>9.600000</td>\n",
       "      <td>0.049000</td>\n",
       "      <td>45.000000</td>\n",
       "      <td>166.000000</td>\n",
       "      <td>0.995870</td>\n",
       "      <td>3.280000</td>\n",
       "      <td>0.540000</td>\n",
       "      <td>11.400000</td>\n",
       "      <td>6.000000</td>\n",
       "    </tr>\n",
       "    <tr>\n",
       "      <th>max</th>\n",
       "      <td>8.700000</td>\n",
       "      <td>0.485000</td>\n",
       "      <td>0.540000</td>\n",
       "      <td>20.800000</td>\n",
       "      <td>0.071000</td>\n",
       "      <td>78.000000</td>\n",
       "      <td>253.000000</td>\n",
       "      <td>1.001960</td>\n",
       "      <td>3.570000</td>\n",
       "      <td>0.760000</td>\n",
       "      <td>14.200000</td>\n",
       "      <td>9.000000</td>\n",
       "    </tr>\n",
       "  </tbody>\n",
       "</table>\n",
       "</div>"
      ],
      "text/plain": [
       "       fixed_acidity  volatile_acidity  citric_acid  residual_sugar  \\\n",
       "count    3951.000000       3951.000000  3951.000000     3951.000000   \n",
       "mean        6.809048          0.263828     0.322749        6.352759   \n",
       "std         0.726417          0.076298     0.083076        4.905477   \n",
       "min         4.900000          0.080000     0.110000        0.600000   \n",
       "25%         6.300000          0.210000     0.270000        1.800000   \n",
       "50%         6.800000          0.260000     0.310000        5.200000   \n",
       "75%         7.300000          0.310000     0.370000        9.600000   \n",
       "max         8.700000          0.485000     0.540000       20.800000   \n",
       "\n",
       "         chlorides  free_sulfur_dioxide  total_sulfur_dioxide      density  \\\n",
       "count  3951.000000          3951.000000           3951.000000  3951.000000   \n",
       "mean      0.042299            34.730575            136.953176     0.993844   \n",
       "std       0.009889            14.941739             41.049024     0.002877   \n",
       "min       0.016000             2.000000             19.000000     0.987110   \n",
       "25%       0.035000            24.000000            107.000000     0.991580   \n",
       "50%       0.042000            34.000000            132.000000     0.993520   \n",
       "75%       0.049000            45.000000            166.000000     0.995870   \n",
       "max       0.071000            78.000000            253.000000     1.001960   \n",
       "\n",
       "                pH    sulphates      alcohol      quality  \n",
       "count  3951.000000  3951.000000  3951.000000  3951.000000  \n",
       "mean      3.189043     0.481445    10.592035     5.953936  \n",
       "std       0.137980     0.098904     1.214421     0.856194  \n",
       "min       2.830000     0.220000     8.400000     3.000000  \n",
       "25%       3.100000     0.410000     9.500000     5.000000  \n",
       "50%       3.180000     0.470000    10.500000     6.000000  \n",
       "75%       3.280000     0.540000    11.400000     6.000000  \n",
       "max       3.570000     0.760000    14.200000     9.000000  "
      ]
     },
     "execution_count": 4,
     "metadata": {},
     "output_type": "execute_result"
    }
   ],
   "source": [
    "df.describe()"
   ]
  },
  {
   "cell_type": "markdown",
   "metadata": {},
   "source": [
    "### Fitting Linear Regression using `statsmodels`\n",
    "***\n",
    "[Statsmodels](http://statsmodels.sourceforge.net/) is a great Python library for a lot of basic and inferential statistics. It also provides basic regression functions using an R-like syntax, so it's commonly used by statisticians. While we don't cover statsmodels officially in the Data Science Intensive workshop, it's a good library to have in your toolbox. Here's a quick example of what you could do with it. The version of least-squares we will use in statsmodels is called *ordinary least-squares (OLS)*. There are many other versions of least-squares such as [partial least squares (PLS)](https://en.wikipedia.org/wiki/Partial_least_squares_regression) and [weighted least squares (WLS)](https://en.wikipedia.org/wiki/Iteratively_reweighted_least_squares)."
   ]
  },
  {
   "cell_type": "code",
   "execution_count": 5,
   "metadata": {},
   "outputs": [],
   "source": [
    "# Import regression modules\n",
    "import statsmodels.api as sm\n",
    "from statsmodels.formula.api import ols"
   ]
  },
  {
   "cell_type": "code",
   "execution_count": 6,
   "metadata": {},
   "outputs": [
    {
     "data": {
      "text/plain": [
       "'0.12.0'"
      ]
     },
     "execution_count": 6,
     "metadata": {},
     "output_type": "execute_result"
    }
   ],
   "source": [
    "sm.__version__"
   ]
  },
  {
   "cell_type": "markdown",
   "metadata": {},
   "source": [
    "## Model 1\n"
   ]
  },
  {
   "cell_type": "code",
   "execution_count": 7,
   "metadata": {},
   "outputs": [
    {
     "data": {
      "text/html": [
       "<div>\n",
       "<style scoped>\n",
       "    .dataframe tbody tr th:only-of-type {\n",
       "        vertical-align: middle;\n",
       "    }\n",
       "\n",
       "    .dataframe tbody tr th {\n",
       "        vertical-align: top;\n",
       "    }\n",
       "\n",
       "    .dataframe thead th {\n",
       "        text-align: right;\n",
       "    }\n",
       "</style>\n",
       "<table border=\"1\" class=\"dataframe\">\n",
       "  <thead>\n",
       "    <tr style=\"text-align: right;\">\n",
       "      <th></th>\n",
       "      <th>fixed_acidity</th>\n",
       "      <th>volatile_acidity</th>\n",
       "      <th>citric_acid</th>\n",
       "      <th>residual_sugar</th>\n",
       "      <th>chlorides</th>\n",
       "      <th>free_sulfur_dioxide</th>\n",
       "      <th>total_sulfur_dioxide</th>\n",
       "      <th>density</th>\n",
       "      <th>pH</th>\n",
       "      <th>sulphates</th>\n",
       "      <th>alcohol</th>\n",
       "    </tr>\n",
       "  </thead>\n",
       "  <tbody>\n",
       "    <tr>\n",
       "      <th>2133</th>\n",
       "      <td>8.3</td>\n",
       "      <td>0.24</td>\n",
       "      <td>0.27</td>\n",
       "      <td>2.1</td>\n",
       "      <td>0.030</td>\n",
       "      <td>22.0</td>\n",
       "      <td>162.0</td>\n",
       "      <td>0.991400</td>\n",
       "      <td>2.99</td>\n",
       "      <td>0.68</td>\n",
       "      <td>11.9</td>\n",
       "    </tr>\n",
       "    <tr>\n",
       "      <th>4628</th>\n",
       "      <td>6.1</td>\n",
       "      <td>0.19</td>\n",
       "      <td>0.37</td>\n",
       "      <td>2.6</td>\n",
       "      <td>0.041</td>\n",
       "      <td>24.0</td>\n",
       "      <td>99.0</td>\n",
       "      <td>0.991530</td>\n",
       "      <td>3.18</td>\n",
       "      <td>0.50</td>\n",
       "      <td>10.9</td>\n",
       "    </tr>\n",
       "    <tr>\n",
       "      <th>176</th>\n",
       "      <td>7.2</td>\n",
       "      <td>0.32</td>\n",
       "      <td>0.47</td>\n",
       "      <td>5.1</td>\n",
       "      <td>0.044</td>\n",
       "      <td>19.0</td>\n",
       "      <td>65.0</td>\n",
       "      <td>0.991000</td>\n",
       "      <td>3.03</td>\n",
       "      <td>0.41</td>\n",
       "      <td>12.6</td>\n",
       "    </tr>\n",
       "    <tr>\n",
       "      <th>4545</th>\n",
       "      <td>6.3</td>\n",
       "      <td>0.25</td>\n",
       "      <td>0.53</td>\n",
       "      <td>1.8</td>\n",
       "      <td>0.021</td>\n",
       "      <td>41.0</td>\n",
       "      <td>101.0</td>\n",
       "      <td>0.989315</td>\n",
       "      <td>3.19</td>\n",
       "      <td>0.31</td>\n",
       "      <td>13.0</td>\n",
       "    </tr>\n",
       "    <tr>\n",
       "      <th>1480</th>\n",
       "      <td>7.2</td>\n",
       "      <td>0.08</td>\n",
       "      <td>0.49</td>\n",
       "      <td>1.3</td>\n",
       "      <td>0.050</td>\n",
       "      <td>18.0</td>\n",
       "      <td>148.0</td>\n",
       "      <td>0.994500</td>\n",
       "      <td>3.46</td>\n",
       "      <td>0.44</td>\n",
       "      <td>10.2</td>\n",
       "    </tr>\n",
       "  </tbody>\n",
       "</table>\n",
       "</div>"
      ],
      "text/plain": [
       "      fixed_acidity  volatile_acidity  citric_acid  residual_sugar  chlorides  \\\n",
       "2133            8.3              0.24         0.27             2.1      0.030   \n",
       "4628            6.1              0.19         0.37             2.6      0.041   \n",
       "176             7.2              0.32         0.47             5.1      0.044   \n",
       "4545            6.3              0.25         0.53             1.8      0.021   \n",
       "1480            7.2              0.08         0.49             1.3      0.050   \n",
       "\n",
       "      free_sulfur_dioxide  total_sulfur_dioxide   density    pH  sulphates  \\\n",
       "2133                 22.0                 162.0  0.991400  2.99       0.68   \n",
       "4628                 24.0                  99.0  0.991530  3.18       0.50   \n",
       "176                  19.0                  65.0  0.991000  3.03       0.41   \n",
       "4545                 41.0                 101.0  0.989315  3.19       0.31   \n",
       "1480                 18.0                 148.0  0.994500  3.46       0.44   \n",
       "\n",
       "      alcohol  \n",
       "2133     11.9  \n",
       "4628     10.9  \n",
       "176      12.6  \n",
       "4545     13.0  \n",
       "1480     10.2  "
      ]
     },
     "execution_count": 7,
     "metadata": {},
     "output_type": "execute_result"
    }
   ],
   "source": [
    "ym1 = df.quality\n",
    "Xm1 = df.drop(['quality'],axis=1)\n",
    "from sklearn.model_selection import train_test_split\n",
    "Xm1_train, Xm1_test, ym1_train, ym1_test = train_test_split(Xm1, ym1, test_size=0.25, random_state=101)\n",
    "Xm1_train.head()"
   ]
  },
  {
   "cell_type": "code",
   "execution_count": 8,
   "metadata": {},
   "outputs": [
    {
     "data": {
      "text/plain": [
       "(2963, 11)"
      ]
     },
     "execution_count": 8,
     "metadata": {},
     "output_type": "execute_result"
    }
   ],
   "source": [
    "Xm1_train.shape"
   ]
  },
  {
   "cell_type": "code",
   "execution_count": 9,
   "metadata": {},
   "outputs": [
    {
     "name": "stdout",
     "output_type": "stream",
     "text": [
      "Estimated intercept coefficient: 213.71187413854378\n",
      "Number of coefficients: 11\n"
     ]
    },
    {
     "data": {
      "text/html": [
       "<div>\n",
       "<style scoped>\n",
       "    .dataframe tbody tr th:only-of-type {\n",
       "        vertical-align: middle;\n",
       "    }\n",
       "\n",
       "    .dataframe tbody tr th {\n",
       "        vertical-align: top;\n",
       "    }\n",
       "\n",
       "    .dataframe thead th {\n",
       "        text-align: right;\n",
       "    }\n",
       "</style>\n",
       "<table border=\"1\" class=\"dataframe\">\n",
       "  <thead>\n",
       "    <tr style=\"text-align: right;\">\n",
       "      <th></th>\n",
       "      <th>Coefficient</th>\n",
       "    </tr>\n",
       "  </thead>\n",
       "  <tbody>\n",
       "    <tr>\n",
       "      <th>fixed_acidity</th>\n",
       "      <td>0.170009</td>\n",
       "    </tr>\n",
       "    <tr>\n",
       "      <th>volatile_acidity</th>\n",
       "      <td>-1.839812</td>\n",
       "    </tr>\n",
       "    <tr>\n",
       "      <th>citric_acid</th>\n",
       "      <td>0.010424</td>\n",
       "    </tr>\n",
       "    <tr>\n",
       "      <th>residual_sugar</th>\n",
       "      <td>0.101896</td>\n",
       "    </tr>\n",
       "    <tr>\n",
       "      <th>chlorides</th>\n",
       "      <td>-4.143132</td>\n",
       "    </tr>\n",
       "    <tr>\n",
       "      <th>free_sulfur_dioxide</th>\n",
       "      <td>0.005319</td>\n",
       "    </tr>\n",
       "    <tr>\n",
       "      <th>total_sulfur_dioxide</th>\n",
       "      <td>0.000059</td>\n",
       "    </tr>\n",
       "    <tr>\n",
       "      <th>density</th>\n",
       "      <td>-215.175056</td>\n",
       "    </tr>\n",
       "    <tr>\n",
       "      <th>pH</th>\n",
       "      <td>1.056183</td>\n",
       "    </tr>\n",
       "    <tr>\n",
       "      <th>sulphates</th>\n",
       "      <td>0.671797</td>\n",
       "    </tr>\n",
       "    <tr>\n",
       "      <th>alcohol</th>\n",
       "      <td>0.099296</td>\n",
       "    </tr>\n",
       "  </tbody>\n",
       "</table>\n",
       "</div>"
      ],
      "text/plain": [
       "                      Coefficient\n",
       "fixed_acidity            0.170009\n",
       "volatile_acidity        -1.839812\n",
       "citric_acid              0.010424\n",
       "residual_sugar           0.101896\n",
       "chlorides               -4.143132\n",
       "free_sulfur_dioxide      0.005319\n",
       "total_sulfur_dioxide     0.000059\n",
       "density               -215.175056\n",
       "pH                       1.056183\n",
       "sulphates                0.671797\n",
       "alcohol                  0.099296"
      ]
     },
     "execution_count": 9,
     "metadata": {},
     "output_type": "execute_result"
    }
   ],
   "source": [
    "from sklearn.linear_model import LinearRegression\n",
    "lm1 = LinearRegression()\n",
    "lm1.fit(Xm1_train,ym1_train)\n",
    "print('Estimated intercept coefficient:',lm1.intercept_)\n",
    "print ('Number of coefficients:', len(lm1.coef_))\n",
    "coeffm1_df = pd.DataFrame(lm1.coef_,Xm1.columns,columns=['Coefficient'])\n",
    "coeffm1_df"
   ]
  },
  {
   "cell_type": "code",
   "execution_count": 10,
   "metadata": {},
   "outputs": [
    {
     "data": {
      "text/html": [
       "<div>\n",
       "<style scoped>\n",
       "    .dataframe tbody tr th:only-of-type {\n",
       "        vertical-align: middle;\n",
       "    }\n",
       "\n",
       "    .dataframe tbody tr th {\n",
       "        vertical-align: top;\n",
       "    }\n",
       "\n",
       "    .dataframe thead th {\n",
       "        text-align: right;\n",
       "    }\n",
       "</style>\n",
       "<table border=\"1\" class=\"dataframe\">\n",
       "  <thead>\n",
       "    <tr style=\"text-align: right;\">\n",
       "      <th></th>\n",
       "      <th>VIF</th>\n",
       "      <th>variable</th>\n",
       "    </tr>\n",
       "  </thead>\n",
       "  <tbody>\n",
       "    <tr>\n",
       "      <th>0</th>\n",
       "      <td>5.605979e+06</td>\n",
       "      <td>Intercept</td>\n",
       "    </tr>\n",
       "    <tr>\n",
       "      <th>1</th>\n",
       "      <td>2.961956e+00</td>\n",
       "      <td>fixed_acidity</td>\n",
       "    </tr>\n",
       "    <tr>\n",
       "      <th>2</th>\n",
       "      <td>1.147359e+00</td>\n",
       "      <td>volatile_acidity</td>\n",
       "    </tr>\n",
       "    <tr>\n",
       "      <th>3</th>\n",
       "      <td>1.113266e+00</td>\n",
       "      <td>citric_acid</td>\n",
       "    </tr>\n",
       "    <tr>\n",
       "      <th>4</th>\n",
       "      <td>1.887978e+01</td>\n",
       "      <td>residual_sugar</td>\n",
       "    </tr>\n",
       "    <tr>\n",
       "      <th>5</th>\n",
       "      <td>1.561963e+00</td>\n",
       "      <td>chlorides</td>\n",
       "    </tr>\n",
       "    <tr>\n",
       "      <th>6</th>\n",
       "      <td>1.830994e+00</td>\n",
       "      <td>free_sulfur_dioxide</td>\n",
       "    </tr>\n",
       "    <tr>\n",
       "      <th>7</th>\n",
       "      <td>2.447938e+00</td>\n",
       "      <td>total_sulfur_dioxide</td>\n",
       "    </tr>\n",
       "    <tr>\n",
       "      <th>8</th>\n",
       "      <td>4.763349e+01</td>\n",
       "      <td>density</td>\n",
       "    </tr>\n",
       "    <tr>\n",
       "      <th>9</th>\n",
       "      <td>2.364470e+00</td>\n",
       "      <td>pH</td>\n",
       "    </tr>\n",
       "    <tr>\n",
       "      <th>10</th>\n",
       "      <td>1.151055e+00</td>\n",
       "      <td>sulphates</td>\n",
       "    </tr>\n",
       "    <tr>\n",
       "      <th>11</th>\n",
       "      <td>1.288112e+01</td>\n",
       "      <td>alcohol</td>\n",
       "    </tr>\n",
       "  </tbody>\n",
       "</table>\n",
       "</div>"
      ],
      "text/plain": [
       "             VIF              variable\n",
       "0   5.605979e+06             Intercept\n",
       "1   2.961956e+00         fixed_acidity\n",
       "2   1.147359e+00      volatile_acidity\n",
       "3   1.113266e+00           citric_acid\n",
       "4   1.887978e+01        residual_sugar\n",
       "5   1.561963e+00             chlorides\n",
       "6   1.830994e+00   free_sulfur_dioxide\n",
       "7   2.447938e+00  total_sulfur_dioxide\n",
       "8   4.763349e+01               density\n",
       "9   2.364470e+00                    pH\n",
       "10  1.151055e+00             sulphates\n",
       "11  1.288112e+01               alcohol"
      ]
     },
     "execution_count": 10,
     "metadata": {},
     "output_type": "execute_result"
    }
   ],
   "source": [
    "from patsy import dmatrices\n",
    "from statsmodels.stats.outliers_influence import variance_inflation_factor\n",
    "\n",
    "#find design matrix for linear regression model using 'rating' as response variable \n",
    "ym1, Xm1 = dmatrices('quality ~ fixed_acidity+volatile_acidity+citric_acid+residual_sugar+chlorides+free_sulfur_dioxide+total_sulfur_dioxide+density+pH+sulphates+alcohol', data=df, return_type='dataframe')\n",
    "\n",
    "#calculate VIF for each explanatory variable\n",
    "vifm1 = pd.DataFrame()\n",
    "vifm1['VIF'] = [variance_inflation_factor(Xm1.values, i) for i in range(Xm1.shape[1])]\n",
    "vifm1['variable'] = Xm1.columns\n",
    "\n",
    "#view VIF for each explanatory variable \n",
    "vifm1"
   ]
  },
  {
   "cell_type": "code",
   "execution_count": 11,
   "metadata": {},
   "outputs": [],
   "source": [
    "predictions_m1 = lm1.predict(Xm1_test)"
   ]
  },
  {
   "cell_type": "markdown",
   "metadata": {},
   "source": [
    "**Predicted vs. Actual**"
   ]
  },
  {
   "cell_type": "code",
   "execution_count": 12,
   "metadata": {},
   "outputs": [
    {
     "data": {
      "text/plain": [
       "<matplotlib.collections.PathCollection at 0x16d735d90>"
      ]
     },
     "execution_count": 12,
     "metadata": {},
     "output_type": "execute_result"
    },
    {
     "data": {
      "image/png": "[encoded data removed]",
      "text/plain": [
       "<Figure size 432x288 with 1 Axes>"
      ]
     },
     "metadata": {},
     "output_type": "display_data"
    }
   ],
   "source": [
    "plt.scatter(ym1_test,predictions_m1)"
   ]
  },
  {
   "cell_type": "markdown",
   "metadata": {},
   "source": [
    "**Residual Histogram**"
   ]
  },
  {
   "cell_type": "code",
   "execution_count": 13,
   "metadata": {},
   "outputs": [
    {
     "data": {
      "image/png": "[encoded data removed]",
      "text/plain": [
       "<Figure size 432x288 with 1 Axes>"
      ]
     },
     "metadata": {},
     "output_type": "display_data"
    }
   ],
   "source": [
    "sns.distplot((ym1_test-predictions_m1),bins=50);"
   ]
  },
  {
   "cell_type": "code",
   "execution_count": 14,
   "metadata": {},
   "outputs": [
    {
     "name": "stdout",
     "output_type": "stream",
     "text": [
      "R-squared: 0.22389147221980876\n",
      "Mean Squared Error (MSE): 0.6139035119531284\n",
      "Root Mean Squared Error (RMSE): 0.7835199499394565\n",
      "Log Mean Squared Error: 0.013275311421153606\n",
      "Explained Variance: 0.2253984551009861\n",
      "Mean Absolute Error (MAE): 0.6049732149679001\n",
      "Median Absolute Error: 0.4957935867078902\n",
      "Poisson Deviance: 0.10419333210925862\n",
      "Mean Gamma Deviance: 0.018004481515094452\n"
     ]
    }
   ],
   "source": [
    "from sklearn import metrics\n",
    "print('R-squared:', metrics.r2_score(ym1_test, predictions_m1))\n",
    "print('Mean Squared Error (MSE):', metrics.mean_squared_error(ym1_test, predictions_m1))\n",
    "print('Root Mean Squared Error (RMSE):', np.sqrt(metrics.mean_squared_error(ym1_test, predictions_m1)))\n",
    "print('Log Mean Squared Error:', metrics.mean_squared_log_error(ym1_test, predictions_m1))\n",
    "print('Explained Variance:', metrics.explained_variance_score(ym1_test, predictions_m1))\n",
    "print('Mean Absolute Error (MAE):', metrics.mean_absolute_error(ym1_test, predictions_m1))\n",
    "print('Median Absolute Error:', metrics.median_absolute_error(ym1_test, predictions_m1))\n",
    "print('Poisson Deviance:', metrics.mean_poisson_deviance(ym1_test, predictions_m1))\n",
    "print('Mean Gamma Deviance:', metrics.mean_gamma_deviance(ym1_test, predictions_m1))\n",
    "\n"
   ]
  },
  {
   "cell_type": "markdown",
   "metadata": {},
   "source": [
    "## Model 2 -  Drop Density For High VIF"
   ]
  },
  {
   "cell_type": "code",
   "execution_count": 15,
   "metadata": {},
   "outputs": [
    {
     "data": {
      "text/html": [
       "<div>\n",
       "<style scoped>\n",
       "    .dataframe tbody tr th:only-of-type {\n",
       "        vertical-align: middle;\n",
       "    }\n",
       "\n",
       "    .dataframe tbody tr th {\n",
       "        vertical-align: top;\n",
       "    }\n",
       "\n",
       "    .dataframe thead th {\n",
       "        text-align: right;\n",
       "    }\n",
       "</style>\n",
       "<table border=\"1\" class=\"dataframe\">\n",
       "  <thead>\n",
       "    <tr style=\"text-align: right;\">\n",
       "      <th></th>\n",
       "      <th>fixed_acidity</th>\n",
       "      <th>volatile_acidity</th>\n",
       "      <th>citric_acid</th>\n",
       "      <th>residual_sugar</th>\n",
       "      <th>chlorides</th>\n",
       "      <th>free_sulfur_dioxide</th>\n",
       "      <th>total_sulfur_dioxide</th>\n",
       "      <th>pH</th>\n",
       "      <th>sulphates</th>\n",
       "      <th>alcohol</th>\n",
       "    </tr>\n",
       "  </thead>\n",
       "  <tbody>\n",
       "    <tr>\n",
       "      <th>2133</th>\n",
       "      <td>8.3</td>\n",
       "      <td>0.24</td>\n",
       "      <td>0.27</td>\n",
       "      <td>2.1</td>\n",
       "      <td>0.030</td>\n",
       "      <td>22.0</td>\n",
       "      <td>162.0</td>\n",
       "      <td>2.99</td>\n",
       "      <td>0.68</td>\n",
       "      <td>11.9</td>\n",
       "    </tr>\n",
       "    <tr>\n",
       "      <th>4628</th>\n",
       "      <td>6.1</td>\n",
       "      <td>0.19</td>\n",
       "      <td>0.37</td>\n",
       "      <td>2.6</td>\n",
       "      <td>0.041</td>\n",
       "      <td>24.0</td>\n",
       "      <td>99.0</td>\n",
       "      <td>3.18</td>\n",
       "      <td>0.50</td>\n",
       "      <td>10.9</td>\n",
       "    </tr>\n",
       "    <tr>\n",
       "      <th>176</th>\n",
       "      <td>7.2</td>\n",
       "      <td>0.32</td>\n",
       "      <td>0.47</td>\n",
       "      <td>5.1</td>\n",
       "      <td>0.044</td>\n",
       "      <td>19.0</td>\n",
       "      <td>65.0</td>\n",
       "      <td>3.03</td>\n",
       "      <td>0.41</td>\n",
       "      <td>12.6</td>\n",
       "    </tr>\n",
       "    <tr>\n",
       "      <th>4545</th>\n",
       "      <td>6.3</td>\n",
       "      <td>0.25</td>\n",
       "      <td>0.53</td>\n",
       "      <td>1.8</td>\n",
       "      <td>0.021</td>\n",
       "      <td>41.0</td>\n",
       "      <td>101.0</td>\n",
       "      <td>3.19</td>\n",
       "      <td>0.31</td>\n",
       "      <td>13.0</td>\n",
       "    </tr>\n",
       "    <tr>\n",
       "      <th>1480</th>\n",
       "      <td>7.2</td>\n",
       "      <td>0.08</td>\n",
       "      <td>0.49</td>\n",
       "      <td>1.3</td>\n",
       "      <td>0.050</td>\n",
       "      <td>18.0</td>\n",
       "      <td>148.0</td>\n",
       "      <td>3.46</td>\n",
       "      <td>0.44</td>\n",
       "      <td>10.2</td>\n",
       "    </tr>\n",
       "  </tbody>\n",
       "</table>\n",
       "</div>"
      ],
      "text/plain": [
       "      fixed_acidity  volatile_acidity  citric_acid  residual_sugar  chlorides  \\\n",
       "2133            8.3              0.24         0.27             2.1      0.030   \n",
       "4628            6.1              0.19         0.37             2.6      0.041   \n",
       "176             7.2              0.32         0.47             5.1      0.044   \n",
       "4545            6.3              0.25         0.53             1.8      0.021   \n",
       "1480            7.2              0.08         0.49             1.3      0.050   \n",
       "\n",
       "      free_sulfur_dioxide  total_sulfur_dioxide    pH  sulphates  alcohol  \n",
       "2133                 22.0                 162.0  2.99       0.68     11.9  \n",
       "4628                 24.0                  99.0  3.18       0.50     10.9  \n",
       "176                  19.0                  65.0  3.03       0.41     12.6  \n",
       "4545                 41.0                 101.0  3.19       0.31     13.0  \n",
       "1480                 18.0                 148.0  3.46       0.44     10.2  "
      ]
     },
     "execution_count": 15,
     "metadata": {},
     "output_type": "execute_result"
    }
   ],
   "source": [
    "ym2 = df.quality\n",
    "Xm2 = df.drop(['quality','density'],axis=1)\n",
    "from sklearn.model_selection import train_test_split\n",
    "Xm2_train, Xm2_test, ym2_train, ym2_test = train_test_split(Xm2, ym2, test_size=0.25, random_state=101)\n",
    "Xm2_train.head()"
   ]
  },
  {
   "cell_type": "code",
   "execution_count": 16,
   "metadata": {},
   "outputs": [
    {
     "name": "stdout",
     "output_type": "stream",
     "text": [
      "Estimated intercept coefficient: 1.3903349223169723\n",
      "Number of coefficients: 10\n"
     ]
    },
    {
     "data": {
      "text/html": [
       "<div>\n",
       "<style scoped>\n",
       "    .dataframe tbody tr th:only-of-type {\n",
       "        vertical-align: middle;\n",
       "    }\n",
       "\n",
       "    .dataframe tbody tr th {\n",
       "        vertical-align: top;\n",
       "    }\n",
       "\n",
       "    .dataframe thead th {\n",
       "        text-align: right;\n",
       "    }\n",
       "</style>\n",
       "<table border=\"1\" class=\"dataframe\">\n",
       "  <thead>\n",
       "    <tr style=\"text-align: right;\">\n",
       "      <th></th>\n",
       "      <th>Coefficient</th>\n",
       "    </tr>\n",
       "  </thead>\n",
       "  <tbody>\n",
       "    <tr>\n",
       "      <th>fixed_acidity</th>\n",
       "      <td>0.008910</td>\n",
       "    </tr>\n",
       "    <tr>\n",
       "      <th>volatile_acidity</th>\n",
       "      <td>-1.881699</td>\n",
       "    </tr>\n",
       "    <tr>\n",
       "      <th>citric_acid</th>\n",
       "      <td>-0.060849</td>\n",
       "    </tr>\n",
       "    <tr>\n",
       "      <th>residual_sugar</th>\n",
       "      <td>0.025862</td>\n",
       "    </tr>\n",
       "    <tr>\n",
       "      <th>chlorides</th>\n",
       "      <td>-6.385405</td>\n",
       "    </tr>\n",
       "    <tr>\n",
       "      <th>free_sulfur_dioxide</th>\n",
       "      <td>0.006733</td>\n",
       "    </tr>\n",
       "    <tr>\n",
       "      <th>total_sulfur_dioxide</th>\n",
       "      <td>-0.000848</td>\n",
       "    </tr>\n",
       "    <tr>\n",
       "      <th>pH</th>\n",
       "      <td>0.368016</td>\n",
       "    </tr>\n",
       "    <tr>\n",
       "      <th>sulphates</th>\n",
       "      <td>0.392532</td>\n",
       "    </tr>\n",
       "    <tr>\n",
       "      <th>alcohol</th>\n",
       "      <td>0.343402</td>\n",
       "    </tr>\n",
       "  </tbody>\n",
       "</table>\n",
       "</div>"
      ],
      "text/plain": [
       "                      Coefficient\n",
       "fixed_acidity            0.008910\n",
       "volatile_acidity        -1.881699\n",
       "citric_acid             -0.060849\n",
       "residual_sugar           0.025862\n",
       "chlorides               -6.385405\n",
       "free_sulfur_dioxide      0.006733\n",
       "total_sulfur_dioxide    -0.000848\n",
       "pH                       0.368016\n",
       "sulphates                0.392532\n",
       "alcohol                  0.343402"
      ]
     },
     "execution_count": 16,
     "metadata": {},
     "output_type": "execute_result"
    }
   ],
   "source": [
    "from sklearn.linear_model import LinearRegression\n",
    "lm2 = LinearRegression()\n",
    "lm2.fit(Xm2_train,ym2_train)\n",
    "print('Estimated intercept coefficient:',lm2.intercept_)\n",
    "print ('Number of coefficients:', len(lm2.coef_))\n",
    "coeffm2_df = pd.DataFrame(lm2.coef_,Xm2.columns,columns=['Coefficient'])\n",
    "coeffm2_df"
   ]
  },
  {
   "cell_type": "code",
   "execution_count": 17,
   "metadata": {},
   "outputs": [],
   "source": [
    "predictions_m2 = lm2.predict(Xm2_test)"
   ]
  },
  {
   "cell_type": "markdown",
   "metadata": {},
   "source": [
    "**Predicted vs. Actual**"
   ]
  },
  {
   "cell_type": "code",
   "execution_count": 18,
   "metadata": {},
   "outputs": [
    {
     "data": {
      "text/plain": [
       "<matplotlib.collections.PathCollection at 0x16fa28790>"
      ]
     },
     "execution_count": 18,
     "metadata": {},
     "output_type": "execute_result"
    },
    {
     "data": {
      "image/png": "[encoded data removed]",
      "text/plain": [
       "<Figure size 432x288 with 1 Axes>"
      ]
     },
     "metadata": {},
     "output_type": "display_data"
    }
   ],
   "source": [
    "plt.scatter(ym2_test,predictions_m2)"
   ]
  },
  {
   "cell_type": "markdown",
   "metadata": {},
   "source": [
    "**Residual Histogram**"
   ]
  },
  {
   "cell_type": "code",
   "execution_count": 19,
   "metadata": {},
   "outputs": [
    {
     "data": {
      "image/png": "[encoded data removed]",
      "text/plain": [
       "<Figure size 432x288 with 1 Axes>"
      ]
     },
     "metadata": {},
     "output_type": "display_data"
    }
   ],
   "source": [
    "sns.distplot((ym2_test-predictions_m2),bins=50);"
   ]
  },
  {
   "cell_type": "code",
   "execution_count": 20,
   "metadata": {},
   "outputs": [
    {
     "name": "stdout",
     "output_type": "stream",
     "text": [
      "R-squared: 0.21768259970766723\n",
      "Mean Squared Error (MSE): 0.6188147434420735\n",
      "Root Mean Squared Error (RMSE): 0.7866477886844109\n",
      "Log Mean Squared Error: 0.013367986693335372\n",
      "Explained Variance: 0.21874881618278585\n",
      "Mean Absolute Error (MAE): 0.6043141629330466\n",
      "Median Absolute Error: 0.493886427466935\n",
      "Poisson Deviance: 0.10493151527669616\n",
      "Mean Gamma Deviance: 0.018114301221470532\n"
     ]
    }
   ],
   "source": [
    "from sklearn import metrics\n",
    "print('R-squared:', metrics.r2_score(ym2_test, predictions_m2))\n",
    "print('Mean Squared Error (MSE):', metrics.mean_squared_error(ym2_test, predictions_m2))\n",
    "print('Root Mean Squared Error (RMSE):', np.sqrt(metrics.mean_squared_error(ym2_test, predictions_m2)))\n",
    "print('Log Mean Squared Error:', metrics.mean_squared_log_error(ym2_test, predictions_m2))\n",
    "print('Explained Variance:', metrics.explained_variance_score(ym2_test, predictions_m2))\n",
    "print('Mean Absolute Error (MAE):', metrics.mean_absolute_error(ym2_test, predictions_m2))\n",
    "print('Median Absolute Error:', metrics.median_absolute_error(ym2_test, predictions_m2))\n",
    "print('Poisson Deviance:', metrics.mean_poisson_deviance(ym2_test, predictions_m2))\n",
    "print('Mean Gamma Deviance:', metrics.mean_gamma_deviance(ym2_test, predictions_m2))\n",
    "\n"
   ]
  },
  {
   "cell_type": "code",
   "execution_count": 21,
   "metadata": {},
   "outputs": [
    {
     "data": {
      "text/html": [
       "<div>\n",
       "<style scoped>\n",
       "    .dataframe tbody tr th:only-of-type {\n",
       "        vertical-align: middle;\n",
       "    }\n",
       "\n",
       "    .dataframe tbody tr th {\n",
       "        vertical-align: top;\n",
       "    }\n",
       "\n",
       "    .dataframe thead th {\n",
       "        text-align: right;\n",
       "    }\n",
       "</style>\n",
       "<table border=\"1\" class=\"dataframe\">\n",
       "  <thead>\n",
       "    <tr style=\"text-align: right;\">\n",
       "      <th></th>\n",
       "      <th>VIF</th>\n",
       "      <th>variable</th>\n",
       "    </tr>\n",
       "  </thead>\n",
       "  <tbody>\n",
       "    <tr>\n",
       "      <th>0</th>\n",
       "      <td>1212.912867</td>\n",
       "      <td>Intercept</td>\n",
       "    </tr>\n",
       "    <tr>\n",
       "      <th>1</th>\n",
       "      <td>1.272660</td>\n",
       "      <td>fixed_acidity</td>\n",
       "    </tr>\n",
       "    <tr>\n",
       "      <th>2</th>\n",
       "      <td>1.145174</td>\n",
       "      <td>volatile_acidity</td>\n",
       "    </tr>\n",
       "    <tr>\n",
       "      <th>3</th>\n",
       "      <td>1.106216</td>\n",
       "      <td>citric_acid</td>\n",
       "    </tr>\n",
       "    <tr>\n",
       "      <th>4</th>\n",
       "      <td>1.530861</td>\n",
       "      <td>residual_sugar</td>\n",
       "    </tr>\n",
       "    <tr>\n",
       "      <th>5</th>\n",
       "      <td>1.502001</td>\n",
       "      <td>chlorides</td>\n",
       "    </tr>\n",
       "    <tr>\n",
       "      <th>6</th>\n",
       "      <td>1.773362</td>\n",
       "      <td>free_sulfur_dioxide</td>\n",
       "    </tr>\n",
       "    <tr>\n",
       "      <th>7</th>\n",
       "      <td>2.277433</td>\n",
       "      <td>total_sulfur_dioxide</td>\n",
       "    </tr>\n",
       "    <tr>\n",
       "      <th>8</th>\n",
       "      <td>1.249977</td>\n",
       "      <td>pH</td>\n",
       "    </tr>\n",
       "    <tr>\n",
       "      <th>9</th>\n",
       "      <td>1.055027</td>\n",
       "      <td>sulphates</td>\n",
       "    </tr>\n",
       "    <tr>\n",
       "      <th>10</th>\n",
       "      <td>1.989523</td>\n",
       "      <td>alcohol</td>\n",
       "    </tr>\n",
       "  </tbody>\n",
       "</table>\n",
       "</div>"
      ],
      "text/plain": [
       "            VIF              variable\n",
       "0   1212.912867             Intercept\n",
       "1      1.272660         fixed_acidity\n",
       "2      1.145174      volatile_acidity\n",
       "3      1.106216           citric_acid\n",
       "4      1.530861        residual_sugar\n",
       "5      1.502001             chlorides\n",
       "6      1.773362   free_sulfur_dioxide\n",
       "7      2.277433  total_sulfur_dioxide\n",
       "8      1.249977                    pH\n",
       "9      1.055027             sulphates\n",
       "10     1.989523               alcohol"
      ]
     },
     "execution_count": 21,
     "metadata": {},
     "output_type": "execute_result"
    }
   ],
   "source": [
    "from patsy import dmatrices\n",
    "from statsmodels.stats.outliers_influence import variance_inflation_factor\n",
    "\n",
    "#find design matrix for linear regression model using 'rating' as response variable \n",
    "ym2, Xm2 = dmatrices('quality ~ fixed_acidity+volatile_acidity+citric_acid+residual_sugar+chlorides+free_sulfur_dioxide+total_sulfur_dioxide+pH+sulphates+alcohol', data=df, return_type='dataframe')\n",
    "\n",
    "#calculate VIF for each explanatory variable\n",
    "vifm2 = pd.DataFrame()\n",
    "vifm2['VIF'] = [variance_inflation_factor(Xm2.values, i) for i in range(Xm2.shape[1])]\n",
    "vifm2['variable'] = Xm2.columns\n",
    "\n",
    "#view VIF for each explanatory variable \n",
    "vifm2"
   ]
  },
  {
   "cell_type": "markdown",
   "metadata": {},
   "source": [
    "## Backward Elimination Method to create subsequent models"
   ]
  },
  {
   "cell_type": "markdown",
   "metadata": {},
   "source": [
    "## Model 3: Drop Total Sulfur Dioxide\n"
   ]
  },
  {
   "cell_type": "code",
   "execution_count": 22,
   "metadata": {},
   "outputs": [
    {
     "data": {
      "text/html": [
       "<div>\n",
       "<style scoped>\n",
       "    .dataframe tbody tr th:only-of-type {\n",
       "        vertical-align: middle;\n",
       "    }\n",
       "\n",
       "    .dataframe tbody tr th {\n",
       "        vertical-align: top;\n",
       "    }\n",
       "\n",
       "    .dataframe thead th {\n",
       "        text-align: right;\n",
       "    }\n",
       "</style>\n",
       "<table border=\"1\" class=\"dataframe\">\n",
       "  <thead>\n",
       "    <tr style=\"text-align: right;\">\n",
       "      <th></th>\n",
       "      <th>fixed_acidity</th>\n",
       "      <th>volatile_acidity</th>\n",
       "      <th>citric_acid</th>\n",
       "      <th>residual_sugar</th>\n",
       "      <th>chlorides</th>\n",
       "      <th>free_sulfur_dioxide</th>\n",
       "      <th>pH</th>\n",
       "      <th>sulphates</th>\n",
       "      <th>alcohol</th>\n",
       "    </tr>\n",
       "  </thead>\n",
       "  <tbody>\n",
       "    <tr>\n",
       "      <th>2133</th>\n",
       "      <td>8.3</td>\n",
       "      <td>0.24</td>\n",
       "      <td>0.27</td>\n",
       "      <td>2.1</td>\n",
       "      <td>0.030</td>\n",
       "      <td>22.0</td>\n",
       "      <td>2.99</td>\n",
       "      <td>0.68</td>\n",
       "      <td>11.9</td>\n",
       "    </tr>\n",
       "    <tr>\n",
       "      <th>4628</th>\n",
       "      <td>6.1</td>\n",
       "      <td>0.19</td>\n",
       "      <td>0.37</td>\n",
       "      <td>2.6</td>\n",
       "      <td>0.041</td>\n",
       "      <td>24.0</td>\n",
       "      <td>3.18</td>\n",
       "      <td>0.50</td>\n",
       "      <td>10.9</td>\n",
       "    </tr>\n",
       "    <tr>\n",
       "      <th>176</th>\n",
       "      <td>7.2</td>\n",
       "      <td>0.32</td>\n",
       "      <td>0.47</td>\n",
       "      <td>5.1</td>\n",
       "      <td>0.044</td>\n",
       "      <td>19.0</td>\n",
       "      <td>3.03</td>\n",
       "      <td>0.41</td>\n",
       "      <td>12.6</td>\n",
       "    </tr>\n",
       "    <tr>\n",
       "      <th>4545</th>\n",
       "      <td>6.3</td>\n",
       "      <td>0.25</td>\n",
       "      <td>0.53</td>\n",
       "      <td>1.8</td>\n",
       "      <td>0.021</td>\n",
       "      <td>41.0</td>\n",
       "      <td>3.19</td>\n",
       "      <td>0.31</td>\n",
       "      <td>13.0</td>\n",
       "    </tr>\n",
       "    <tr>\n",
       "      <th>1480</th>\n",
       "      <td>7.2</td>\n",
       "      <td>0.08</td>\n",
       "      <td>0.49</td>\n",
       "      <td>1.3</td>\n",
       "      <td>0.050</td>\n",
       "      <td>18.0</td>\n",
       "      <td>3.46</td>\n",
       "      <td>0.44</td>\n",
       "      <td>10.2</td>\n",
       "    </tr>\n",
       "  </tbody>\n",
       "</table>\n",
       "</div>"
      ],
      "text/plain": [
       "      fixed_acidity  volatile_acidity  citric_acid  residual_sugar  chlorides  \\\n",
       "2133            8.3              0.24         0.27             2.1      0.030   \n",
       "4628            6.1              0.19         0.37             2.6      0.041   \n",
       "176             7.2              0.32         0.47             5.1      0.044   \n",
       "4545            6.3              0.25         0.53             1.8      0.021   \n",
       "1480            7.2              0.08         0.49             1.3      0.050   \n",
       "\n",
       "      free_sulfur_dioxide    pH  sulphates  alcohol  \n",
       "2133                 22.0  2.99       0.68     11.9  \n",
       "4628                 24.0  3.18       0.50     10.9  \n",
       "176                  19.0  3.03       0.41     12.6  \n",
       "4545                 41.0  3.19       0.31     13.0  \n",
       "1480                 18.0  3.46       0.44     10.2  "
      ]
     },
     "execution_count": 22,
     "metadata": {},
     "output_type": "execute_result"
    }
   ],
   "source": [
    "ym3 = df.quality\n",
    "Xm3 = df.drop(['quality','density','total_sulfur_dioxide'],axis=1)\n",
    "from sklearn.model_selection import train_test_split\n",
    "Xm3_train, Xm3_test, ym3_train, ym3_test = train_test_split(Xm3, ym3, test_size=0.25, random_state=101)\n",
    "Xm3_train.head()"
   ]
  },
  {
   "cell_type": "code",
   "execution_count": 23,
   "metadata": {},
   "outputs": [
    {
     "data": {
      "text/plain": [
       "(2963, 9)"
      ]
     },
     "execution_count": 23,
     "metadata": {},
     "output_type": "execute_result"
    }
   ],
   "source": [
    "Xm3_train.shape"
   ]
  },
  {
   "cell_type": "code",
   "execution_count": 24,
   "metadata": {},
   "outputs": [
    {
     "name": "stdout",
     "output_type": "stream",
     "text": [
      "Estimated intercept coefficient: 1.3968562637233832\n",
      "Number of coefficients: 9\n"
     ]
    },
    {
     "data": {
      "text/html": [
       "<div>\n",
       "<style scoped>\n",
       "    .dataframe tbody tr th:only-of-type {\n",
       "        vertical-align: middle;\n",
       "    }\n",
       "\n",
       "    .dataframe tbody tr th {\n",
       "        vertical-align: top;\n",
       "    }\n",
       "\n",
       "    .dataframe thead th {\n",
       "        text-align: right;\n",
       "    }\n",
       "</style>\n",
       "<table border=\"1\" class=\"dataframe\">\n",
       "  <thead>\n",
       "    <tr style=\"text-align: right;\">\n",
       "      <th></th>\n",
       "      <th>Coefficient</th>\n",
       "    </tr>\n",
       "  </thead>\n",
       "  <tbody>\n",
       "    <tr>\n",
       "      <th>fixed_acidity</th>\n",
       "      <td>0.004799</td>\n",
       "    </tr>\n",
       "    <tr>\n",
       "      <th>volatile_acidity</th>\n",
       "      <td>-1.970698</td>\n",
       "    </tr>\n",
       "    <tr>\n",
       "      <th>citric_acid</th>\n",
       "      <td>-0.081952</td>\n",
       "    </tr>\n",
       "    <tr>\n",
       "      <th>residual_sugar</th>\n",
       "      <td>0.025393</td>\n",
       "    </tr>\n",
       "    <tr>\n",
       "      <th>chlorides</th>\n",
       "      <td>-6.789113</td>\n",
       "    </tr>\n",
       "    <tr>\n",
       "      <th>free_sulfur_dioxide</th>\n",
       "      <td>0.005541</td>\n",
       "    </tr>\n",
       "    <tr>\n",
       "      <th>pH</th>\n",
       "      <td>0.346199</td>\n",
       "    </tr>\n",
       "    <tr>\n",
       "      <th>sulphates</th>\n",
       "      <td>0.366498</td>\n",
       "    </tr>\n",
       "    <tr>\n",
       "      <th>alcohol</th>\n",
       "      <td>0.350826</td>\n",
       "    </tr>\n",
       "  </tbody>\n",
       "</table>\n",
       "</div>"
      ],
      "text/plain": [
       "                     Coefficient\n",
       "fixed_acidity           0.004799\n",
       "volatile_acidity       -1.970698\n",
       "citric_acid            -0.081952\n",
       "residual_sugar          0.025393\n",
       "chlorides              -6.789113\n",
       "free_sulfur_dioxide     0.005541\n",
       "pH                      0.346199\n",
       "sulphates               0.366498\n",
       "alcohol                 0.350826"
      ]
     },
     "execution_count": 24,
     "metadata": {},
     "output_type": "execute_result"
    }
   ],
   "source": [
    "from sklearn.linear_model import LinearRegression\n",
    "lm3 = LinearRegression()\n",
    "lm3.fit(Xm3_train,ym3_train)\n",
    "print('Estimated intercept coefficient:',lm3.intercept_)\n",
    "print ('Number of coefficients:', len(lm3.coef_))\n",
    "coeffm1_df = pd.DataFrame(lm3.coef_,Xm3.columns,columns=['Coefficient'])\n",
    "coeffm1_df"
   ]
  },
  {
   "cell_type": "code",
   "execution_count": 25,
   "metadata": {},
   "outputs": [],
   "source": [
    "predictions_m3 = lm3.predict(Xm3_test)"
   ]
  },
  {
   "cell_type": "markdown",
   "metadata": {},
   "source": [
    "**Predicted vs. Actual**"
   ]
  },
  {
   "cell_type": "code",
   "execution_count": 26,
   "metadata": {},
   "outputs": [
    {
     "data": {
      "text/plain": [
       "<matplotlib.collections.PathCollection at 0x16fe2f610>"
      ]
     },
     "execution_count": 26,
     "metadata": {},
     "output_type": "execute_result"
    },
    {
     "data": {
      "image/png": "[encoded data removed]",
      "text/plain": [
       "<Figure size 432x288 with 1 Axes>"
      ]
     },
     "metadata": {},
     "output_type": "display_data"
    }
   ],
   "source": [
    "plt.scatter(ym3_test,predictions_m3)"
   ]
  },
  {
   "cell_type": "markdown",
   "metadata": {},
   "source": [
    "**Residual Histogram**"
   ]
  },
  {
   "cell_type": "code",
   "execution_count": 27,
   "metadata": {},
   "outputs": [
    {
     "data": {
      "image/png": "[encoded data removed]",
      "text/plain": [
       "<Figure size 432x288 with 1 Axes>"
      ]
     },
     "metadata": {},
     "output_type": "display_data"
    }
   ],
   "source": [
    "sns.distplot((ym3_test-predictions_m3),bins=50);"
   ]
  },
  {
   "cell_type": "code",
   "execution_count": 28,
   "metadata": {},
   "outputs": [
    {
     "name": "stdout",
     "output_type": "stream",
     "text": [
      "R-squared: 0.21797710213951338\n",
      "Mean Squared Error (MSE): 0.6185817913861206\n",
      "Root Mean Squared Error (RMSE): 0.7864997084463036\n",
      "Log Mean Squared Error: 0.013350735905662957\n",
      "Explained Variance: 0.21919121741211556\n",
      "Mean Absolute Error (MAE): 0.6043602748868268\n",
      "Median Absolute Error: 0.4932854991263449\n",
      "Poisson Deviance: 0.10486525776832015\n",
      "Mean Gamma Deviance: 0.018098459547516828\n"
     ]
    }
   ],
   "source": [
    "from sklearn import metrics\n",
    "print('R-squared:', metrics.r2_score(ym3_test, predictions_m3))\n",
    "print('Mean Squared Error (MSE):', metrics.mean_squared_error(ym3_test, predictions_m3))\n",
    "print('Root Mean Squared Error (RMSE):', np.sqrt(metrics.mean_squared_error(ym3_test, predictions_m3)))\n",
    "print('Log Mean Squared Error:', metrics.mean_squared_log_error(ym3_test, predictions_m3))\n",
    "print('Explained Variance:', metrics.explained_variance_score(ym3_test, predictions_m3))\n",
    "print('Mean Absolute Error (MAE):', metrics.mean_absolute_error(ym3_test, predictions_m3))\n",
    "print('Median Absolute Error:', metrics.median_absolute_error(ym3_test, predictions_m3))\n",
    "print('Poisson Deviance:', metrics.mean_poisson_deviance(ym3_test, predictions_m3))\n",
    "print('Mean Gamma Deviance:', metrics.mean_gamma_deviance(ym3_test, predictions_m3))\n",
    "\n"
   ]
  },
  {
   "cell_type": "markdown",
   "metadata": {},
   "source": [
    "## Model 4: Drop Free Sulfur Dioxide"
   ]
  },
  {
   "cell_type": "code",
   "execution_count": 29,
   "metadata": {},
   "outputs": [
    {
     "data": {
      "text/html": [
       "<div>\n",
       "<style scoped>\n",
       "    .dataframe tbody tr th:only-of-type {\n",
       "        vertical-align: middle;\n",
       "    }\n",
       "\n",
       "    .dataframe tbody tr th {\n",
       "        vertical-align: top;\n",
       "    }\n",
       "\n",
       "    .dataframe thead th {\n",
       "        text-align: right;\n",
       "    }\n",
       "</style>\n",
       "<table border=\"1\" class=\"dataframe\">\n",
       "  <thead>\n",
       "    <tr style=\"text-align: right;\">\n",
       "      <th></th>\n",
       "      <th>fixed_acidity</th>\n",
       "      <th>volatile_acidity</th>\n",
       "      <th>citric_acid</th>\n",
       "      <th>residual_sugar</th>\n",
       "      <th>chlorides</th>\n",
       "      <th>pH</th>\n",
       "      <th>sulphates</th>\n",
       "      <th>alcohol</th>\n",
       "    </tr>\n",
       "  </thead>\n",
       "  <tbody>\n",
       "    <tr>\n",
       "      <th>2133</th>\n",
       "      <td>8.3</td>\n",
       "      <td>0.24</td>\n",
       "      <td>0.27</td>\n",
       "      <td>2.1</td>\n",
       "      <td>0.030</td>\n",
       "      <td>2.99</td>\n",
       "      <td>0.68</td>\n",
       "      <td>11.9</td>\n",
       "    </tr>\n",
       "    <tr>\n",
       "      <th>4628</th>\n",
       "      <td>6.1</td>\n",
       "      <td>0.19</td>\n",
       "      <td>0.37</td>\n",
       "      <td>2.6</td>\n",
       "      <td>0.041</td>\n",
       "      <td>3.18</td>\n",
       "      <td>0.50</td>\n",
       "      <td>10.9</td>\n",
       "    </tr>\n",
       "    <tr>\n",
       "      <th>176</th>\n",
       "      <td>7.2</td>\n",
       "      <td>0.32</td>\n",
       "      <td>0.47</td>\n",
       "      <td>5.1</td>\n",
       "      <td>0.044</td>\n",
       "      <td>3.03</td>\n",
       "      <td>0.41</td>\n",
       "      <td>12.6</td>\n",
       "    </tr>\n",
       "    <tr>\n",
       "      <th>4545</th>\n",
       "      <td>6.3</td>\n",
       "      <td>0.25</td>\n",
       "      <td>0.53</td>\n",
       "      <td>1.8</td>\n",
       "      <td>0.021</td>\n",
       "      <td>3.19</td>\n",
       "      <td>0.31</td>\n",
       "      <td>13.0</td>\n",
       "    </tr>\n",
       "    <tr>\n",
       "      <th>1480</th>\n",
       "      <td>7.2</td>\n",
       "      <td>0.08</td>\n",
       "      <td>0.49</td>\n",
       "      <td>1.3</td>\n",
       "      <td>0.050</td>\n",
       "      <td>3.46</td>\n",
       "      <td>0.44</td>\n",
       "      <td>10.2</td>\n",
       "    </tr>\n",
       "  </tbody>\n",
       "</table>\n",
       "</div>"
      ],
      "text/plain": [
       "      fixed_acidity  volatile_acidity  citric_acid  residual_sugar  chlorides  \\\n",
       "2133            8.3              0.24         0.27             2.1      0.030   \n",
       "4628            6.1              0.19         0.37             2.6      0.041   \n",
       "176             7.2              0.32         0.47             5.1      0.044   \n",
       "4545            6.3              0.25         0.53             1.8      0.021   \n",
       "1480            7.2              0.08         0.49             1.3      0.050   \n",
       "\n",
       "        pH  sulphates  alcohol  \n",
       "2133  2.99       0.68     11.9  \n",
       "4628  3.18       0.50     10.9  \n",
       "176   3.03       0.41     12.6  \n",
       "4545  3.19       0.31     13.0  \n",
       "1480  3.46       0.44     10.2  "
      ]
     },
     "execution_count": 29,
     "metadata": {},
     "output_type": "execute_result"
    }
   ],
   "source": [
    "ym4 = df.quality\n",
    "Xm4 = df.drop(['quality','density','total_sulfur_dioxide','free_sulfur_dioxide'],axis=1)\n",
    "from sklearn.model_selection import train_test_split\n",
    "Xm4_train, Xm4_test, ym4_train, ym4_test = train_test_split(Xm4, ym4, test_size=0.25, random_state=101)\n",
    "Xm4_train.head()\n"
   ]
  },
  {
   "cell_type": "code",
   "execution_count": 30,
   "metadata": {},
   "outputs": [
    {
     "data": {
      "text/plain": [
       "(2963, 8)"
      ]
     },
     "execution_count": 30,
     "metadata": {},
     "output_type": "execute_result"
    }
   ],
   "source": [
    "Xm4_train.shape"
   ]
  },
  {
   "cell_type": "code",
   "execution_count": 31,
   "metadata": {},
   "outputs": [
    {
     "name": "stdout",
     "output_type": "stream",
     "text": [
      "Estimated intercept coefficient: 1.587977993020373\n",
      "Number of coefficients: 8\n"
     ]
    },
    {
     "data": {
      "text/html": [
       "<div>\n",
       "<style scoped>\n",
       "    .dataframe tbody tr th:only-of-type {\n",
       "        vertical-align: middle;\n",
       "    }\n",
       "\n",
       "    .dataframe tbody tr th {\n",
       "        vertical-align: top;\n",
       "    }\n",
       "\n",
       "    .dataframe thead th {\n",
       "        text-align: right;\n",
       "    }\n",
       "</style>\n",
       "<table border=\"1\" class=\"dataframe\">\n",
       "  <thead>\n",
       "    <tr style=\"text-align: right;\">\n",
       "      <th></th>\n",
       "      <th>Coefficient</th>\n",
       "    </tr>\n",
       "  </thead>\n",
       "  <tbody>\n",
       "    <tr>\n",
       "      <th>fixed_acidity</th>\n",
       "      <td>-0.001593</td>\n",
       "    </tr>\n",
       "    <tr>\n",
       "      <th>volatile_acidity</th>\n",
       "      <td>-2.008352</td>\n",
       "    </tr>\n",
       "    <tr>\n",
       "      <th>citric_acid</th>\n",
       "      <td>0.012040</td>\n",
       "    </tr>\n",
       "    <tr>\n",
       "      <th>residual_sugar</th>\n",
       "      <td>0.030545</td>\n",
       "    </tr>\n",
       "    <tr>\n",
       "      <th>chlorides</th>\n",
       "      <td>-6.542456</td>\n",
       "    </tr>\n",
       "    <tr>\n",
       "      <th>pH</th>\n",
       "      <td>0.358819</td>\n",
       "    </tr>\n",
       "    <tr>\n",
       "      <th>sulphates</th>\n",
       "      <td>0.405405</td>\n",
       "    </tr>\n",
       "    <tr>\n",
       "      <th>alcohol</th>\n",
       "      <td>0.343530</td>\n",
       "    </tr>\n",
       "  </tbody>\n",
       "</table>\n",
       "</div>"
      ],
      "text/plain": [
       "                  Coefficient\n",
       "fixed_acidity       -0.001593\n",
       "volatile_acidity    -2.008352\n",
       "citric_acid          0.012040\n",
       "residual_sugar       0.030545\n",
       "chlorides           -6.542456\n",
       "pH                   0.358819\n",
       "sulphates            0.405405\n",
       "alcohol              0.343530"
      ]
     },
     "execution_count": 31,
     "metadata": {},
     "output_type": "execute_result"
    }
   ],
   "source": [
    "lm4 = LinearRegression()\n",
    "lm4.fit(Xm4_train,ym4_train)\n",
    "print('Estimated intercept coefficient:',lm4.intercept_)\n",
    "print ('Number of coefficients:', len(lm4.coef_))\n",
    "coeffm4_df = pd.DataFrame(lm4.coef_,Xm4.columns,columns=['Coefficient'])\n",
    "coeffm4_df"
   ]
  },
  {
   "cell_type": "code",
   "execution_count": 32,
   "metadata": {},
   "outputs": [],
   "source": [
    "predictions_m4 = lm4.predict(Xm4_test)"
   ]
  },
  {
   "cell_type": "markdown",
   "metadata": {},
   "source": [
    "**Predicted vs. Actual**"
   ]
  },
  {
   "cell_type": "code",
   "execution_count": 33,
   "metadata": {},
   "outputs": [
    {
     "data": {
      "text/plain": [
       "<matplotlib.collections.PathCollection at 0x1700d5640>"
      ]
     },
     "execution_count": 33,
     "metadata": {},
     "output_type": "execute_result"
    },
    {
     "data": {
      "image/png": "[encoded data removed]",
      "text/plain": [
       "<Figure size 432x288 with 1 Axes>"
      ]
     },
     "metadata": {},
     "output_type": "display_data"
    }
   ],
   "source": [
    "plt.scatter(ym1_test,predictions_m4)"
   ]
  },
  {
   "cell_type": "markdown",
   "metadata": {},
   "source": [
    "**Residual Histogram**"
   ]
  },
  {
   "cell_type": "code",
   "execution_count": 34,
   "metadata": {},
   "outputs": [
    {
     "data": {
      "image/png": "[encoded data removed]",
      "text/plain": [
       "<Figure size 432x288 with 1 Axes>"
      ]
     },
     "metadata": {},
     "output_type": "display_data"
    }
   ],
   "source": [
    "sns.distplot((ym4_test-predictions_m4),bins=50);"
   ]
  },
  {
   "cell_type": "markdown",
   "metadata": {},
   "source": [
    "## Model 5: Drop Fixed Acidity\n"
   ]
  },
  {
   "cell_type": "code",
   "execution_count": 35,
   "metadata": {},
   "outputs": [
    {
     "data": {
      "text/html": [
       "<div>\n",
       "<style scoped>\n",
       "    .dataframe tbody tr th:only-of-type {\n",
       "        vertical-align: middle;\n",
       "    }\n",
       "\n",
       "    .dataframe tbody tr th {\n",
       "        vertical-align: top;\n",
       "    }\n",
       "\n",
       "    .dataframe thead th {\n",
       "        text-align: right;\n",
       "    }\n",
       "</style>\n",
       "<table border=\"1\" class=\"dataframe\">\n",
       "  <thead>\n",
       "    <tr style=\"text-align: right;\">\n",
       "      <th></th>\n",
       "      <th>volatile_acidity</th>\n",
       "      <th>citric_acid</th>\n",
       "      <th>residual_sugar</th>\n",
       "      <th>chlorides</th>\n",
       "      <th>pH</th>\n",
       "      <th>sulphates</th>\n",
       "      <th>alcohol</th>\n",
       "    </tr>\n",
       "  </thead>\n",
       "  <tbody>\n",
       "    <tr>\n",
       "      <th>2133</th>\n",
       "      <td>0.24</td>\n",
       "      <td>0.27</td>\n",
       "      <td>2.1</td>\n",
       "      <td>0.030</td>\n",
       "      <td>2.99</td>\n",
       "      <td>0.68</td>\n",
       "      <td>11.9</td>\n",
       "    </tr>\n",
       "    <tr>\n",
       "      <th>4628</th>\n",
       "      <td>0.19</td>\n",
       "      <td>0.37</td>\n",
       "      <td>2.6</td>\n",
       "      <td>0.041</td>\n",
       "      <td>3.18</td>\n",
       "      <td>0.50</td>\n",
       "      <td>10.9</td>\n",
       "    </tr>\n",
       "    <tr>\n",
       "      <th>176</th>\n",
       "      <td>0.32</td>\n",
       "      <td>0.47</td>\n",
       "      <td>5.1</td>\n",
       "      <td>0.044</td>\n",
       "      <td>3.03</td>\n",
       "      <td>0.41</td>\n",
       "      <td>12.6</td>\n",
       "    </tr>\n",
       "    <tr>\n",
       "      <th>4545</th>\n",
       "      <td>0.25</td>\n",
       "      <td>0.53</td>\n",
       "      <td>1.8</td>\n",
       "      <td>0.021</td>\n",
       "      <td>3.19</td>\n",
       "      <td>0.31</td>\n",
       "      <td>13.0</td>\n",
       "    </tr>\n",
       "    <tr>\n",
       "      <th>1480</th>\n",
       "      <td>0.08</td>\n",
       "      <td>0.49</td>\n",
       "      <td>1.3</td>\n",
       "      <td>0.050</td>\n",
       "      <td>3.46</td>\n",
       "      <td>0.44</td>\n",
       "      <td>10.2</td>\n",
       "    </tr>\n",
       "  </tbody>\n",
       "</table>\n",
       "</div>"
      ],
      "text/plain": [
       "      volatile_acidity  citric_acid  residual_sugar  chlorides    pH  \\\n",
       "2133              0.24         0.27             2.1      0.030  2.99   \n",
       "4628              0.19         0.37             2.6      0.041  3.18   \n",
       "176               0.32         0.47             5.1      0.044  3.03   \n",
       "4545              0.25         0.53             1.8      0.021  3.19   \n",
       "1480              0.08         0.49             1.3      0.050  3.46   \n",
       "\n",
       "      sulphates  alcohol  \n",
       "2133       0.68     11.9  \n",
       "4628       0.50     10.9  \n",
       "176        0.41     12.6  \n",
       "4545       0.31     13.0  \n",
       "1480       0.44     10.2  "
      ]
     },
     "execution_count": 35,
     "metadata": {},
     "output_type": "execute_result"
    }
   ],
   "source": [
    "ym5 = df.quality\n",
    "Xm5 = df.drop(['quality','density','total_sulfur_dioxide','free_sulfur_dioxide','fixed_acidity'],axis=1)\n",
    "from sklearn.model_selection import train_test_split\n",
    "Xm5_train, Xm5_test, ym5_train, ym5_test = train_test_split(Xm5, ym5, test_size=0.25, random_state=101)\n",
    "Xm5_train.head()\n",
    "\n",
    "\n"
   ]
  },
  {
   "cell_type": "code",
   "execution_count": 36,
   "metadata": {},
   "outputs": [
    {
     "data": {
      "text/plain": [
       "(2963, 7)"
      ]
     },
     "execution_count": 36,
     "metadata": {},
     "output_type": "execute_result"
    }
   ],
   "source": [
    "Xm5_train.shape"
   ]
  },
  {
   "cell_type": "code",
   "execution_count": 37,
   "metadata": {},
   "outputs": [
    {
     "name": "stdout",
     "output_type": "stream",
     "text": [
      "Estimated intercept coefficient: 1.5685560360286006\n",
      "Number of coefficients: 7\n"
     ]
    },
    {
     "data": {
      "text/html": [
       "<div>\n",
       "<style scoped>\n",
       "    .dataframe tbody tr th:only-of-type {\n",
       "        vertical-align: middle;\n",
       "    }\n",
       "\n",
       "    .dataframe tbody tr th {\n",
       "        vertical-align: top;\n",
       "    }\n",
       "\n",
       "    .dataframe thead th {\n",
       "        text-align: right;\n",
       "    }\n",
       "</style>\n",
       "<table border=\"1\" class=\"dataframe\">\n",
       "  <thead>\n",
       "    <tr style=\"text-align: right;\">\n",
       "      <th></th>\n",
       "      <th>Coefficient</th>\n",
       "    </tr>\n",
       "  </thead>\n",
       "  <tbody>\n",
       "    <tr>\n",
       "      <th>volatile_acidity</th>\n",
       "      <td>-2.007805</td>\n",
       "    </tr>\n",
       "    <tr>\n",
       "      <th>citric_acid</th>\n",
       "      <td>0.009149</td>\n",
       "    </tr>\n",
       "    <tr>\n",
       "      <th>residual_sugar</th>\n",
       "      <td>0.030556</td>\n",
       "    </tr>\n",
       "    <tr>\n",
       "      <th>chlorides</th>\n",
       "      <td>-6.553102</td>\n",
       "    </tr>\n",
       "    <tr>\n",
       "      <th>pH</th>\n",
       "      <td>0.361784</td>\n",
       "    </tr>\n",
       "    <tr>\n",
       "      <th>sulphates</th>\n",
       "      <td>0.405328</td>\n",
       "    </tr>\n",
       "    <tr>\n",
       "      <th>alcohol</th>\n",
       "      <td>0.343561</td>\n",
       "    </tr>\n",
       "  </tbody>\n",
       "</table>\n",
       "</div>"
      ],
      "text/plain": [
       "                  Coefficient\n",
       "volatile_acidity    -2.007805\n",
       "citric_acid          0.009149\n",
       "residual_sugar       0.030556\n",
       "chlorides           -6.553102\n",
       "pH                   0.361784\n",
       "sulphates            0.405328\n",
       "alcohol              0.343561"
      ]
     },
     "execution_count": 37,
     "metadata": {},
     "output_type": "execute_result"
    }
   ],
   "source": [
    "from sklearn.linear_model import LinearRegression\n",
    "lm5 = LinearRegression()\n",
    "lm5.fit(Xm5_train,ym5_train)\n",
    "print('Estimated intercept coefficient:',lm5.intercept_)\n",
    "print ('Number of coefficients:', len(lm5.coef_))\n",
    "coeffm5_df = pd.DataFrame(lm5.coef_,Xm5.columns,columns=['Coefficient'])\n",
    "coeffm5_df"
   ]
  },
  {
   "cell_type": "code",
   "execution_count": 38,
   "metadata": {},
   "outputs": [],
   "source": [
    "predictions_m5 = lm5.predict(Xm5_test)"
   ]
  },
  {
   "cell_type": "markdown",
   "metadata": {},
   "source": [
    "**Predicted vs. Actual**"
   ]
  },
  {
   "cell_type": "code",
   "execution_count": 39,
   "metadata": {},
   "outputs": [
    {
     "data": {
      "text/plain": [
       "<matplotlib.collections.PathCollection at 0x170417550>"
      ]
     },
     "execution_count": 39,
     "metadata": {},
     "output_type": "execute_result"
    },
    {
     "data": {
      "image/png": "[encoded data removed]",
      "text/plain": [
       "<Figure size 432x288 with 1 Axes>"
      ]
     },
     "metadata": {},
     "output_type": "display_data"
    }
   ],
   "source": [
    "plt.scatter(ym5_test,predictions_m5)"
   ]
  },
  {
   "cell_type": "markdown",
   "metadata": {},
   "source": [
    "**Residual Histogram**"
   ]
  },
  {
   "cell_type": "code",
   "execution_count": 40,
   "metadata": {},
   "outputs": [
    {
     "data": {
      "image/png": "[encoded data removed]",
      "text/plain": [
       "<Figure size 432x288 with 1 Axes>"
      ]
     },
     "metadata": {},
     "output_type": "display_data"
    }
   ],
   "source": [
    "sns.distplot((ym5_test-predictions_m5),bins=50);"
   ]
  },
  {
   "cell_type": "code",
   "execution_count": 41,
   "metadata": {},
   "outputs": [
    {
     "name": "stdout",
     "output_type": "stream",
     "text": [
      "R-squared: 0.21043329047593606\n",
      "Mean Squared Error (MSE): 0.6245489626102649\n",
      "Root Mean Squared Error (RMSE): 0.7902841024658569\n",
      "Log Mean Squared Error: 0.013493060083401759\n",
      "Explained Variance: 0.21151837739019141\n",
      "Mean Absolute Error (MAE): 0.6061407667264131\n",
      "Median Absolute Error: 0.4877097578174192\n",
      "Poisson Deviance: 0.10576701329726354\n",
      "Mean Gamma Deviance: 0.01823373450787557\n"
     ]
    }
   ],
   "source": [
    "from sklearn import metrics\n",
    "print('R-squared:', metrics.r2_score(ym5_test, predictions_m5))\n",
    "print('Mean Squared Error (MSE):', metrics.mean_squared_error(ym5_test, predictions_m5))\n",
    "print('Root Mean Squared Error (RMSE):', np.sqrt(metrics.mean_squared_error(ym5_test, predictions_m5)))\n",
    "print('Log Mean Squared Error:', metrics.mean_squared_log_error(ym5_test, predictions_m5))\n",
    "print('Explained Variance:', metrics.explained_variance_score(ym5_test, predictions_m5))\n",
    "print('Mean Absolute Error (MAE):', metrics.mean_absolute_error(ym5_test, predictions_m5))\n",
    "print('Median Absolute Error:', metrics.median_absolute_error(ym5_test, predictions_m5))\n",
    "print('Poisson Deviance:', metrics.mean_poisson_deviance(ym5_test, predictions_m5))\n",
    "print('Mean Gamma Deviance:', metrics.mean_gamma_deviance(ym5_test, predictions_m5))\n",
    "\n"
   ]
  },
  {
   "cell_type": "markdown",
   "metadata": {},
   "source": [
    "\n",
    "## Model 6: Drop Residual Sugar\n",
    "\n"
   ]
  },
  {
   "cell_type": "code",
   "execution_count": 42,
   "metadata": {},
   "outputs": [
    {
     "data": {
      "text/html": [
       "<div>\n",
       "<style scoped>\n",
       "    .dataframe tbody tr th:only-of-type {\n",
       "        vertical-align: middle;\n",
       "    }\n",
       "\n",
       "    .dataframe tbody tr th {\n",
       "        vertical-align: top;\n",
       "    }\n",
       "\n",
       "    .dataframe thead th {\n",
       "        text-align: right;\n",
       "    }\n",
       "</style>\n",
       "<table border=\"1\" class=\"dataframe\">\n",
       "  <thead>\n",
       "    <tr style=\"text-align: right;\">\n",
       "      <th></th>\n",
       "      <th>volatile_acidity</th>\n",
       "      <th>citric_acid</th>\n",
       "      <th>chlorides</th>\n",
       "      <th>pH</th>\n",
       "      <th>sulphates</th>\n",
       "      <th>alcohol</th>\n",
       "    </tr>\n",
       "  </thead>\n",
       "  <tbody>\n",
       "    <tr>\n",
       "      <th>2133</th>\n",
       "      <td>0.24</td>\n",
       "      <td>0.27</td>\n",
       "      <td>0.030</td>\n",
       "      <td>2.99</td>\n",
       "      <td>0.68</td>\n",
       "      <td>11.9</td>\n",
       "    </tr>\n",
       "    <tr>\n",
       "      <th>4628</th>\n",
       "      <td>0.19</td>\n",
       "      <td>0.37</td>\n",
       "      <td>0.041</td>\n",
       "      <td>3.18</td>\n",
       "      <td>0.50</td>\n",
       "      <td>10.9</td>\n",
       "    </tr>\n",
       "    <tr>\n",
       "      <th>176</th>\n",
       "      <td>0.32</td>\n",
       "      <td>0.47</td>\n",
       "      <td>0.044</td>\n",
       "      <td>3.03</td>\n",
       "      <td>0.41</td>\n",
       "      <td>12.6</td>\n",
       "    </tr>\n",
       "    <tr>\n",
       "      <th>4545</th>\n",
       "      <td>0.25</td>\n",
       "      <td>0.53</td>\n",
       "      <td>0.021</td>\n",
       "      <td>3.19</td>\n",
       "      <td>0.31</td>\n",
       "      <td>13.0</td>\n",
       "    </tr>\n",
       "    <tr>\n",
       "      <th>1480</th>\n",
       "      <td>0.08</td>\n",
       "      <td>0.49</td>\n",
       "      <td>0.050</td>\n",
       "      <td>3.46</td>\n",
       "      <td>0.44</td>\n",
       "      <td>10.2</td>\n",
       "    </tr>\n",
       "  </tbody>\n",
       "</table>\n",
       "</div>"
      ],
      "text/plain": [
       "      volatile_acidity  citric_acid  chlorides    pH  sulphates  alcohol\n",
       "2133              0.24         0.27      0.030  2.99       0.68     11.9\n",
       "4628              0.19         0.37      0.041  3.18       0.50     10.9\n",
       "176               0.32         0.47      0.044  3.03       0.41     12.6\n",
       "4545              0.25         0.53      0.021  3.19       0.31     13.0\n",
       "1480              0.08         0.49      0.050  3.46       0.44     10.2"
      ]
     },
     "execution_count": 42,
     "metadata": {},
     "output_type": "execute_result"
    }
   ],
   "source": [
    "ym6 = df.quality\n",
    "Xm6 = df.drop(['quality','density','total_sulfur_dioxide','free_sulfur_dioxide','fixed_acidity','residual_sugar'],axis=1)\n",
    "from sklearn.model_selection import train_test_split\n",
    "Xm6_train, Xm6_test, ym6_train, ym6_test = train_test_split(Xm6, ym6, test_size=0.25, random_state=101)\n",
    "Xm6_train.head()\n"
   ]
  },
  {
   "cell_type": "code",
   "execution_count": 43,
   "metadata": {},
   "outputs": [
    {
     "data": {
      "text/plain": [
       "(2963, 6)"
      ]
     },
     "execution_count": 43,
     "metadata": {},
     "output_type": "execute_result"
    }
   ],
   "source": [
    "Xm6_train.shape"
   ]
  },
  {
   "cell_type": "code",
   "execution_count": 44,
   "metadata": {},
   "outputs": [
    {
     "name": "stdout",
     "output_type": "stream",
     "text": [
      "Estimated intercept coefficient: 2.8406531564015265\n",
      "Number of coefficients: 6\n"
     ]
    },
    {
     "data": {
      "text/html": [
       "<div>\n",
       "<style scoped>\n",
       "    .dataframe tbody tr th:only-of-type {\n",
       "        vertical-align: middle;\n",
       "    }\n",
       "\n",
       "    .dataframe tbody tr th {\n",
       "        vertical-align: top;\n",
       "    }\n",
       "\n",
       "    .dataframe thead th {\n",
       "        text-align: right;\n",
       "    }\n",
       "</style>\n",
       "<table border=\"1\" class=\"dataframe\">\n",
       "  <thead>\n",
       "    <tr style=\"text-align: right;\">\n",
       "      <th></th>\n",
       "      <th>Coefficient</th>\n",
       "    </tr>\n",
       "  </thead>\n",
       "  <tbody>\n",
       "    <tr>\n",
       "      <th>volatile_acidity</th>\n",
       "      <td>-1.753121</td>\n",
       "    </tr>\n",
       "    <tr>\n",
       "      <th>citric_acid</th>\n",
       "      <td>0.059103</td>\n",
       "    </tr>\n",
       "    <tr>\n",
       "      <th>chlorides</th>\n",
       "      <td>-6.597863</td>\n",
       "    </tr>\n",
       "    <tr>\n",
       "      <th>pH</th>\n",
       "      <td>0.224309</td>\n",
       "    </tr>\n",
       "    <tr>\n",
       "      <th>sulphates</th>\n",
       "      <td>0.295784</td>\n",
       "    </tr>\n",
       "    <tr>\n",
       "      <th>alcohol</th>\n",
       "      <td>0.280329</td>\n",
       "    </tr>\n",
       "  </tbody>\n",
       "</table>\n",
       "</div>"
      ],
      "text/plain": [
       "                  Coefficient\n",
       "volatile_acidity    -1.753121\n",
       "citric_acid          0.059103\n",
       "chlorides           -6.597863\n",
       "pH                   0.224309\n",
       "sulphates            0.295784\n",
       "alcohol              0.280329"
      ]
     },
     "execution_count": 44,
     "metadata": {},
     "output_type": "execute_result"
    }
   ],
   "source": [
    "from sklearn.linear_model import LinearRegression\n",
    "lm6 = LinearRegression()\n",
    "lm6.fit(Xm6_train,ym6_train)\n",
    "print('Estimated intercept coefficient:',lm6.intercept_)\n",
    "print ('Number of coefficients:', len(lm6.coef_))\n",
    "coeffm6_df = pd.DataFrame(lm6.coef_,Xm6.columns,columns=['Coefficient'])\n",
    "coeffm6_df\n"
   ]
  },
  {
   "cell_type": "code",
   "execution_count": 45,
   "metadata": {},
   "outputs": [],
   "source": [
    "predictions_m6 = lm6.predict(Xm6_test)"
   ]
  },
  {
   "cell_type": "markdown",
   "metadata": {},
   "source": [
    "**Predicted vs. Actual**"
   ]
  },
  {
   "cell_type": "code",
   "execution_count": 46,
   "metadata": {},
   "outputs": [
    {
     "data": {
      "text/plain": [
       "<matplotlib.collections.PathCollection at 0x170729490>"
      ]
     },
     "execution_count": 46,
     "metadata": {},
     "output_type": "execute_result"
    },
    {
     "data": {
      "image/png": "[encoded data removed]",
      "text/plain": [
       "<Figure size 432x288 with 1 Axes>"
      ]
     },
     "metadata": {},
     "output_type": "display_data"
    }
   ],
   "source": [
    "plt.scatter(ym6_test,predictions_m6)"
   ]
  },
  {
   "cell_type": "markdown",
   "metadata": {},
   "source": [
    "**Residual Histogram**"
   ]
  },
  {
   "cell_type": "code",
   "execution_count": 47,
   "metadata": {},
   "outputs": [
    {
     "data": {
      "image/png": "[encoded data removed]",
      "text/plain": [
       "<Figure size 432x288 with 1 Axes>"
      ]
     },
     "metadata": {},
     "output_type": "display_data"
    }
   ],
   "source": [
    "sns.distplot((ym6_test-predictions_m6),bins=50);"
   ]
  },
  {
   "cell_type": "code",
   "execution_count": 48,
   "metadata": {},
   "outputs": [
    {
     "name": "stdout",
     "output_type": "stream",
     "text": [
      "R-squared: 0.1907576952324218\n",
      "Mean Squared Error (MSE): 0.6401124006957987\n",
      "Root Mean Squared Error (RMSE): 0.8000702473506928\n",
      "Log Mean Squared Error: 0.013816732184869297\n",
      "Explained Variance: 0.19233414519459358\n",
      "Mean Absolute Error (MAE): 0.6169493036705781\n",
      "Median Absolute Error: 0.49075823880649194\n",
      "Poisson Deviance: 0.10852076116457701\n",
      "Mean Gamma Deviance: 0.01872224826336616\n"
     ]
    }
   ],
   "source": [
    "from sklearn import metrics\n",
    "print('R-squared:', metrics.r2_score(ym6_test, predictions_m6))\n",
    "print('Mean Squared Error (MSE):', metrics.mean_squared_error(ym6_test, predictions_m6))\n",
    "print('Root Mean Squared Error (RMSE):', np.sqrt(metrics.mean_squared_error(ym6_test, predictions_m6)))\n",
    "print('Log Mean Squared Error:', metrics.mean_squared_log_error(ym6_test, predictions_m6))\n",
    "print('Explained Variance:', metrics.explained_variance_score(ym6_test, predictions_m6))\n",
    "print('Mean Absolute Error (MAE):', metrics.mean_absolute_error(ym6_test, predictions_m6))\n",
    "print('Median Absolute Error:', metrics.median_absolute_error(ym6_test, predictions_m6))\n",
    "print('Poisson Deviance:', metrics.mean_poisson_deviance(ym6_test, predictions_m6))\n",
    "print('Mean Gamma Deviance:', metrics.mean_gamma_deviance(ym6_test, predictions_m6))\n",
    "\n"
   ]
  },
  {
   "cell_type": "markdown",
   "metadata": {},
   "source": [
    "## Model 7: Drop Citric Acid"
   ]
  },
  {
   "cell_type": "code",
   "execution_count": 49,
   "metadata": {},
   "outputs": [
    {
     "data": {
      "text/html": [
       "<div>\n",
       "<style scoped>\n",
       "    .dataframe tbody tr th:only-of-type {\n",
       "        vertical-align: middle;\n",
       "    }\n",
       "\n",
       "    .dataframe tbody tr th {\n",
       "        vertical-align: top;\n",
       "    }\n",
       "\n",
       "    .dataframe thead th {\n",
       "        text-align: right;\n",
       "    }\n",
       "</style>\n",
       "<table border=\"1\" class=\"dataframe\">\n",
       "  <thead>\n",
       "    <tr style=\"text-align: right;\">\n",
       "      <th></th>\n",
       "      <th>volatile_acidity</th>\n",
       "      <th>chlorides</th>\n",
       "      <th>pH</th>\n",
       "      <th>sulphates</th>\n",
       "      <th>alcohol</th>\n",
       "    </tr>\n",
       "  </thead>\n",
       "  <tbody>\n",
       "    <tr>\n",
       "      <th>2133</th>\n",
       "      <td>0.24</td>\n",
       "      <td>0.030</td>\n",
       "      <td>2.99</td>\n",
       "      <td>0.68</td>\n",
       "      <td>11.9</td>\n",
       "    </tr>\n",
       "    <tr>\n",
       "      <th>4628</th>\n",
       "      <td>0.19</td>\n",
       "      <td>0.041</td>\n",
       "      <td>3.18</td>\n",
       "      <td>0.50</td>\n",
       "      <td>10.9</td>\n",
       "    </tr>\n",
       "    <tr>\n",
       "      <th>176</th>\n",
       "      <td>0.32</td>\n",
       "      <td>0.044</td>\n",
       "      <td>3.03</td>\n",
       "      <td>0.41</td>\n",
       "      <td>12.6</td>\n",
       "    </tr>\n",
       "    <tr>\n",
       "      <th>4545</th>\n",
       "      <td>0.25</td>\n",
       "      <td>0.021</td>\n",
       "      <td>3.19</td>\n",
       "      <td>0.31</td>\n",
       "      <td>13.0</td>\n",
       "    </tr>\n",
       "    <tr>\n",
       "      <th>1480</th>\n",
       "      <td>0.08</td>\n",
       "      <td>0.050</td>\n",
       "      <td>3.46</td>\n",
       "      <td>0.44</td>\n",
       "      <td>10.2</td>\n",
       "    </tr>\n",
       "  </tbody>\n",
       "</table>\n",
       "</div>"
      ],
      "text/plain": [
       "      volatile_acidity  chlorides    pH  sulphates  alcohol\n",
       "2133              0.24      0.030  2.99       0.68     11.9\n",
       "4628              0.19      0.041  3.18       0.50     10.9\n",
       "176               0.32      0.044  3.03       0.41     12.6\n",
       "4545              0.25      0.021  3.19       0.31     13.0\n",
       "1480              0.08      0.050  3.46       0.44     10.2"
      ]
     },
     "execution_count": 49,
     "metadata": {},
     "output_type": "execute_result"
    }
   ],
   "source": [
    "ym7 = df.quality\n",
    "Xm7 = df.drop(['quality','density','total_sulfur_dioxide','free_sulfur_dioxide','fixed_acidity','residual_sugar','citric_acid'],axis=1)\n",
    "from sklearn.model_selection import train_test_split\n",
    "Xm7_train, Xm7_test, ym7_train, ym7_test = train_test_split(Xm7, ym7, test_size=0.25, random_state=101)\n",
    "Xm7_train.head()\n"
   ]
  },
  {
   "cell_type": "code",
   "execution_count": 50,
   "metadata": {},
   "outputs": [
    {
     "data": {
      "text/plain": [
       "(2963, 5)"
      ]
     },
     "execution_count": 50,
     "metadata": {},
     "output_type": "execute_result"
    }
   ],
   "source": [
    "Xm7_train.shape"
   ]
  },
  {
   "cell_type": "code",
   "execution_count": 51,
   "metadata": {},
   "outputs": [
    {
     "name": "stdout",
     "output_type": "stream",
     "text": [
      "Estimated intercept coefficient: 2.869365809328717\n",
      "Number of coefficients: 5\n"
     ]
    },
    {
     "data": {
      "text/html": [
       "<div>\n",
       "<style scoped>\n",
       "    .dataframe tbody tr th:only-of-type {\n",
       "        vertical-align: middle;\n",
       "    }\n",
       "\n",
       "    .dataframe tbody tr th {\n",
       "        vertical-align: top;\n",
       "    }\n",
       "\n",
       "    .dataframe thead th {\n",
       "        text-align: right;\n",
       "    }\n",
       "</style>\n",
       "<table border=\"1\" class=\"dataframe\">\n",
       "  <thead>\n",
       "    <tr style=\"text-align: right;\">\n",
       "      <th></th>\n",
       "      <th>Coefficient</th>\n",
       "    </tr>\n",
       "  </thead>\n",
       "  <tbody>\n",
       "    <tr>\n",
       "      <th>volatile_acidity</th>\n",
       "      <td>-1.762278</td>\n",
       "    </tr>\n",
       "    <tr>\n",
       "      <th>chlorides</th>\n",
       "      <td>-6.578854</td>\n",
       "    </tr>\n",
       "    <tr>\n",
       "      <th>pH</th>\n",
       "      <td>0.220311</td>\n",
       "    </tr>\n",
       "    <tr>\n",
       "      <th>sulphates</th>\n",
       "      <td>0.300279</td>\n",
       "    </tr>\n",
       "    <tr>\n",
       "      <th>alcohol</th>\n",
       "      <td>0.280573</td>\n",
       "    </tr>\n",
       "  </tbody>\n",
       "</table>\n",
       "</div>"
      ],
      "text/plain": [
       "                  Coefficient\n",
       "volatile_acidity    -1.762278\n",
       "chlorides           -6.578854\n",
       "pH                   0.220311\n",
       "sulphates            0.300279\n",
       "alcohol              0.280573"
      ]
     },
     "execution_count": 51,
     "metadata": {},
     "output_type": "execute_result"
    }
   ],
   "source": [
    "from sklearn.linear_model import LinearRegression\n",
    "lm7 = LinearRegression()\n",
    "lm7.fit(Xm7_train,ym7_train)\n",
    "print('Estimated intercept coefficient:',lm7.intercept_)\n",
    "print ('Number of coefficients:', len(lm7.coef_))\n",
    "coeffm7_df = pd.DataFrame(lm7.coef_,Xm7.columns,columns=['Coefficient'])\n",
    "coeffm7_df"
   ]
  },
  {
   "cell_type": "code",
   "execution_count": 52,
   "metadata": {},
   "outputs": [],
   "source": [
    "predictions_m7 = lm7.predict(Xm7_test)"
   ]
  },
  {
   "cell_type": "markdown",
   "metadata": {},
   "source": [
    "**Predicted vs. Actual**"
   ]
  },
  {
   "cell_type": "code",
   "execution_count": 53,
   "metadata": {},
   "outputs": [
    {
     "data": {
      "text/plain": [
       "<matplotlib.collections.PathCollection at 0x17067c880>"
      ]
     },
     "execution_count": 53,
     "metadata": {},
     "output_type": "execute_result"
    },
    {
     "data": {
      "image/png": "[encoded data removed]",
      "text/plain": [
       "<Figure size 432x288 with 1 Axes>"
      ]
     },
     "metadata": {},
     "output_type": "display_data"
    }
   ],
   "source": [
    "plt.scatter(ym7_test,predictions_m7)"
   ]
  },
  {
   "cell_type": "markdown",
   "metadata": {},
   "source": [
    "**Residual Histogram**"
   ]
  },
  {
   "cell_type": "code",
   "execution_count": 54,
   "metadata": {},
   "outputs": [
    {
     "data": {
      "image/png": "[encoded data removed]",
      "text/plain": [
       "<Figure size 432x288 with 1 Axes>"
      ]
     },
     "metadata": {},
     "output_type": "display_data"
    }
   ],
   "source": [
    "sns.distplot((ym7_test-predictions_m7),bins=50);"
   ]
  },
  {
   "cell_type": "code",
   "execution_count": 55,
   "metadata": {},
   "outputs": [
    {
     "name": "stdout",
     "output_type": "stream",
     "text": [
      "R-squared: 0.19091321448217657\n",
      "Mean Squared Error (MSE): 0.639989384635308\n",
      "Root Mean Squared Error (RMSE): 0.799993365369556\n",
      "Log Mean Squared Error: 0.013813527093542308\n",
      "Explained Variance: 0.19247870689801827\n",
      "Mean Absolute Error (MAE): 0.6168212448977108\n",
      "Median Absolute Error: 0.4933058752160684\n",
      "Poisson Deviance: 0.1085003044382067\n",
      "Mean Gamma Deviance: 0.018718805669033032\n"
     ]
    }
   ],
   "source": [
    "from sklearn import metrics\n",
    "print('R-squared:', metrics.r2_score(ym7_test, predictions_m7))\n",
    "print('Mean Squared Error (MSE):', metrics.mean_squared_error(ym7_test, predictions_m7))\n",
    "print('Root Mean Squared Error (RMSE):', np.sqrt(metrics.mean_squared_error(ym7_test, predictions_m7)))\n",
    "print('Log Mean Squared Error:', metrics.mean_squared_log_error(ym7_test, predictions_m7))\n",
    "print('Explained Variance:', metrics.explained_variance_score(ym7_test, predictions_m7))\n",
    "print('Mean Absolute Error (MAE):', metrics.mean_absolute_error(ym7_test, predictions_m7))\n",
    "print('Median Absolute Error:', metrics.median_absolute_error(ym7_test, predictions_m7))\n",
    "print('Poisson Deviance:', metrics.mean_poisson_deviance(ym7_test, predictions_m7))\n",
    "print('Mean Gamma Deviance:', metrics.mean_gamma_deviance(ym7_test, predictions_m7))\n"
   ]
  },
  {
   "cell_type": "markdown",
   "metadata": {},
   "source": [
    "## Model 8: Drop Alcohol"
   ]
  },
  {
   "cell_type": "code",
   "execution_count": 56,
   "metadata": {},
   "outputs": [
    {
     "data": {
      "text/html": [
       "<div>\n",
       "<style scoped>\n",
       "    .dataframe tbody tr th:only-of-type {\n",
       "        vertical-align: middle;\n",
       "    }\n",
       "\n",
       "    .dataframe tbody tr th {\n",
       "        vertical-align: top;\n",
       "    }\n",
       "\n",
       "    .dataframe thead th {\n",
       "        text-align: right;\n",
       "    }\n",
       "</style>\n",
       "<table border=\"1\" class=\"dataframe\">\n",
       "  <thead>\n",
       "    <tr style=\"text-align: right;\">\n",
       "      <th></th>\n",
       "      <th>volatile_acidity</th>\n",
       "      <th>chlorides</th>\n",
       "      <th>pH</th>\n",
       "      <th>sulphates</th>\n",
       "    </tr>\n",
       "  </thead>\n",
       "  <tbody>\n",
       "    <tr>\n",
       "      <th>2133</th>\n",
       "      <td>0.24</td>\n",
       "      <td>0.030</td>\n",
       "      <td>2.99</td>\n",
       "      <td>0.68</td>\n",
       "    </tr>\n",
       "    <tr>\n",
       "      <th>4628</th>\n",
       "      <td>0.19</td>\n",
       "      <td>0.041</td>\n",
       "      <td>3.18</td>\n",
       "      <td>0.50</td>\n",
       "    </tr>\n",
       "    <tr>\n",
       "      <th>176</th>\n",
       "      <td>0.32</td>\n",
       "      <td>0.044</td>\n",
       "      <td>3.03</td>\n",
       "      <td>0.41</td>\n",
       "    </tr>\n",
       "    <tr>\n",
       "      <th>4545</th>\n",
       "      <td>0.25</td>\n",
       "      <td>0.021</td>\n",
       "      <td>3.19</td>\n",
       "      <td>0.31</td>\n",
       "    </tr>\n",
       "    <tr>\n",
       "      <th>1480</th>\n",
       "      <td>0.08</td>\n",
       "      <td>0.050</td>\n",
       "      <td>3.46</td>\n",
       "      <td>0.44</td>\n",
       "    </tr>\n",
       "  </tbody>\n",
       "</table>\n",
       "</div>"
      ],
      "text/plain": [
       "      volatile_acidity  chlorides    pH  sulphates\n",
       "2133              0.24      0.030  2.99       0.68\n",
       "4628              0.19      0.041  3.18       0.50\n",
       "176               0.32      0.044  3.03       0.41\n",
       "4545              0.25      0.021  3.19       0.31\n",
       "1480              0.08      0.050  3.46       0.44"
      ]
     },
     "execution_count": 56,
     "metadata": {},
     "output_type": "execute_result"
    }
   ],
   "source": [
    "ym8 = df.quality\n",
    "Xm8 = df.drop(['quality','density','total_sulfur_dioxide','free_sulfur_dioxide','fixed_acidity','residual_sugar','citric_acid','alcohol'],axis=1)\n",
    "from sklearn.model_selection import train_test_split\n",
    "Xm8_train, Xm8_test, ym8_train, ym8_test = train_test_split(Xm8, ym8, test_size=0.25, random_state=101)\n",
    "Xm8_train.head()"
   ]
  },
  {
   "cell_type": "code",
   "execution_count": 57,
   "metadata": {},
   "outputs": [
    {
     "data": {
      "text/plain": [
       "(2963, 4)"
      ]
     },
     "execution_count": 57,
     "metadata": {},
     "output_type": "execute_result"
    }
   ],
   "source": [
    "Xm8_train.shape"
   ]
  },
  {
   "cell_type": "code",
   "execution_count": 58,
   "metadata": {},
   "outputs": [
    {
     "name": "stdout",
     "output_type": "stream",
     "text": [
      "Estimated intercept coefficient: 5.97338437631953\n",
      "Number of coefficients: 4\n"
     ]
    },
    {
     "data": {
      "text/html": [
       "<div>\n",
       "<style scoped>\n",
       "    .dataframe tbody tr th:only-of-type {\n",
       "        vertical-align: middle;\n",
       "    }\n",
       "\n",
       "    .dataframe tbody tr th {\n",
       "        vertical-align: top;\n",
       "    }\n",
       "\n",
       "    .dataframe thead th {\n",
       "        text-align: right;\n",
       "    }\n",
       "</style>\n",
       "<table border=\"1\" class=\"dataframe\">\n",
       "  <thead>\n",
       "    <tr style=\"text-align: right;\">\n",
       "      <th></th>\n",
       "      <th>Coefficient</th>\n",
       "    </tr>\n",
       "  </thead>\n",
       "  <tbody>\n",
       "    <tr>\n",
       "      <th>volatile_acidity</th>\n",
       "      <td>-1.303449</td>\n",
       "    </tr>\n",
       "    <tr>\n",
       "      <th>chlorides</th>\n",
       "      <td>-25.130061</td>\n",
       "    </tr>\n",
       "    <tr>\n",
       "      <th>pH</th>\n",
       "      <td>0.412052</td>\n",
       "    </tr>\n",
       "    <tr>\n",
       "      <th>sulphates</th>\n",
       "      <td>0.135460</td>\n",
       "    </tr>\n",
       "  </tbody>\n",
       "</table>\n",
       "</div>"
      ],
      "text/plain": [
       "                  Coefficient\n",
       "volatile_acidity    -1.303449\n",
       "chlorides          -25.130061\n",
       "pH                   0.412052\n",
       "sulphates            0.135460"
      ]
     },
     "execution_count": 58,
     "metadata": {},
     "output_type": "execute_result"
    }
   ],
   "source": [
    "from sklearn.linear_model import LinearRegression\n",
    "lm8 = LinearRegression()\n",
    "lm8.fit(Xm8_train,ym8_train)\n",
    "print('Estimated intercept coefficient:',lm8.intercept_)\n",
    "print ('Number of coefficients:', len(lm8.coef_))\n",
    "coeffm8_df = pd.DataFrame(lm8.coef_,Xm8.columns,columns=['Coefficient'])\n",
    "coeffm8_df"
   ]
  },
  {
   "cell_type": "code",
   "execution_count": 59,
   "metadata": {},
   "outputs": [],
   "source": [
    "predictions_m8 = lm8.predict(Xm8_test)"
   ]
  },
  {
   "cell_type": "markdown",
   "metadata": {},
   "source": [
    "**Predicted vs. Actual**"
   ]
  },
  {
   "cell_type": "code",
   "execution_count": 60,
   "metadata": {},
   "outputs": [
    {
     "data": {
      "text/plain": [
       "<matplotlib.collections.PathCollection at 0x170205790>"
      ]
     },
     "execution_count": 60,
     "metadata": {},
     "output_type": "execute_result"
    },
    {
     "data": {
      "image/png": "[encoded data removed]",
      "text/plain": [
       "<Figure size 432x288 with 1 Axes>"
      ]
     },
     "metadata": {},
     "output_type": "display_data"
    }
   ],
   "source": [
    "plt.scatter(ym8_test,predictions_m8)"
   ]
  },
  {
   "cell_type": "markdown",
   "metadata": {},
   "source": [
    "**Residual Histogram**"
   ]
  },
  {
   "cell_type": "code",
   "execution_count": 61,
   "metadata": {},
   "outputs": [
    {
     "data": {
      "image/png": "[encoded data removed]",
      "text/plain": [
       "<Figure size 432x288 with 1 Axes>"
      ]
     },
     "metadata": {},
     "output_type": "display_data"
    }
   ],
   "source": [
    "sns.distplot((ym8_test-predictions_m8),bins=50);"
   ]
  },
  {
   "cell_type": "code",
   "execution_count": 62,
   "metadata": {},
   "outputs": [
    {
     "name": "stdout",
     "output_type": "stream",
     "text": [
      "R-squared: 0.08978251902667234\n",
      "Mean Squared Error (MSE): 0.7199839818908863\n",
      "Root Mean Squared Error (RMSE): 0.8485186986100461\n",
      "Log Mean Squared Error: 0.015413587480911088\n",
      "Explained Variance: 0.09112734095674879\n",
      "Mean Absolute Error (MAE): 0.6418382094053332\n",
      "Median Absolute Error: 0.5661241667398942\n",
      "Poisson Deviance: 0.1217216862762412\n",
      "Mean Gamma Deviance: 0.020907768112248516\n"
     ]
    }
   ],
   "source": [
    "from sklearn import metrics\n",
    "print('R-squared:', metrics.r2_score(ym8_test, predictions_m8))\n",
    "print('Mean Squared Error (MSE):', metrics.mean_squared_error(ym8_test, predictions_m8))\n",
    "print('Root Mean Squared Error (RMSE):', np.sqrt(metrics.mean_squared_error(ym8_test, predictions_m8)))\n",
    "print('Log Mean Squared Error:', metrics.mean_squared_log_error(ym8_test, predictions_m8))\n",
    "print('Explained Variance:', metrics.explained_variance_score(ym8_test, predictions_m8))\n",
    "print('Mean Absolute Error (MAE):', metrics.mean_absolute_error(ym8_test, predictions_m8))\n",
    "print('Median Absolute Error:', metrics.median_absolute_error(ym8_test, predictions_m8))\n",
    "print('Poisson Deviance:', metrics.mean_poisson_deviance(ym8_test, predictions_m8))\n",
    "print('Mean Gamma Deviance:', metrics.mean_gamma_deviance(ym8_test, predictions_m8))\n"
   ]
  },
  {
   "cell_type": "markdown",
   "metadata": {},
   "source": [
    "## Model 9: Drop pH"
   ]
  },
  {
   "cell_type": "code",
   "execution_count": 63,
   "metadata": {
    "scrolled": true
   },
   "outputs": [
    {
     "data": {
      "text/html": [
       "<div>\n",
       "<style scoped>\n",
       "    .dataframe tbody tr th:only-of-type {\n",
       "        vertical-align: middle;\n",
       "    }\n",
       "\n",
       "    .dataframe tbody tr th {\n",
       "        vertical-align: top;\n",
       "    }\n",
       "\n",
       "    .dataframe thead th {\n",
       "        text-align: right;\n",
       "    }\n",
       "</style>\n",
       "<table border=\"1\" class=\"dataframe\">\n",
       "  <thead>\n",
       "    <tr style=\"text-align: right;\">\n",
       "      <th></th>\n",
       "      <th>volatile_acidity</th>\n",
       "      <th>chlorides</th>\n",
       "      <th>sulphates</th>\n",
       "    </tr>\n",
       "  </thead>\n",
       "  <tbody>\n",
       "    <tr>\n",
       "      <th>2133</th>\n",
       "      <td>0.24</td>\n",
       "      <td>0.030</td>\n",
       "      <td>0.68</td>\n",
       "    </tr>\n",
       "    <tr>\n",
       "      <th>4628</th>\n",
       "      <td>0.19</td>\n",
       "      <td>0.041</td>\n",
       "      <td>0.50</td>\n",
       "    </tr>\n",
       "    <tr>\n",
       "      <th>176</th>\n",
       "      <td>0.32</td>\n",
       "      <td>0.044</td>\n",
       "      <td>0.41</td>\n",
       "    </tr>\n",
       "    <tr>\n",
       "      <th>4545</th>\n",
       "      <td>0.25</td>\n",
       "      <td>0.021</td>\n",
       "      <td>0.31</td>\n",
       "    </tr>\n",
       "    <tr>\n",
       "      <th>1480</th>\n",
       "      <td>0.08</td>\n",
       "      <td>0.050</td>\n",
       "      <td>0.44</td>\n",
       "    </tr>\n",
       "  </tbody>\n",
       "</table>\n",
       "</div>"
      ],
      "text/plain": [
       "      volatile_acidity  chlorides  sulphates\n",
       "2133              0.24      0.030       0.68\n",
       "4628              0.19      0.041       0.50\n",
       "176               0.32      0.044       0.41\n",
       "4545              0.25      0.021       0.31\n",
       "1480              0.08      0.050       0.44"
      ]
     },
     "execution_count": 63,
     "metadata": {},
     "output_type": "execute_result"
    }
   ],
   "source": [
    "ym9 = df.quality\n",
    "Xm9 = df.drop(['quality','density','total_sulfur_dioxide','free_sulfur_dioxide','fixed_acidity','residual_sugar','citric_acid','alcohol','pH'],axis=1)\n",
    "from sklearn.model_selection import train_test_split\n",
    "Xm9_train, Xm9_test, ym9_train, ym9_test = train_test_split(Xm9, ym9, test_size=0.25, random_state=101)\n",
    "Xm9_train.head()\n"
   ]
  },
  {
   "cell_type": "code",
   "execution_count": 64,
   "metadata": {},
   "outputs": [
    {
     "data": {
      "text/plain": [
       "(2963, 3)"
      ]
     },
     "execution_count": 64,
     "metadata": {},
     "output_type": "execute_result"
    }
   ],
   "source": [
    "Xm9_train.shape"
   ]
  },
  {
   "cell_type": "code",
   "execution_count": 65,
   "metadata": {},
   "outputs": [
    {
     "name": "stdout",
     "output_type": "stream",
     "text": [
      "Estimated intercept coefficient: 7.268238645177509\n",
      "Number of coefficients: 3\n"
     ]
    },
    {
     "data": {
      "text/html": [
       "<div>\n",
       "<style scoped>\n",
       "    .dataframe tbody tr th:only-of-type {\n",
       "        vertical-align: middle;\n",
       "    }\n",
       "\n",
       "    .dataframe tbody tr th {\n",
       "        vertical-align: top;\n",
       "    }\n",
       "\n",
       "    .dataframe thead th {\n",
       "        text-align: right;\n",
       "    }\n",
       "</style>\n",
       "<table border=\"1\" class=\"dataframe\">\n",
       "  <thead>\n",
       "    <tr style=\"text-align: right;\">\n",
       "      <th></th>\n",
       "      <th>Coefficient</th>\n",
       "    </tr>\n",
       "  </thead>\n",
       "  <tbody>\n",
       "    <tr>\n",
       "      <th>volatile_acidity</th>\n",
       "      <td>-1.336643</td>\n",
       "    </tr>\n",
       "    <tr>\n",
       "      <th>chlorides</th>\n",
       "      <td>-25.300166</td>\n",
       "    </tr>\n",
       "    <tr>\n",
       "      <th>sulphates</th>\n",
       "      <td>0.210481</td>\n",
       "    </tr>\n",
       "  </tbody>\n",
       "</table>\n",
       "</div>"
      ],
      "text/plain": [
       "                  Coefficient\n",
       "volatile_acidity    -1.336643\n",
       "chlorides          -25.300166\n",
       "sulphates            0.210481"
      ]
     },
     "execution_count": 65,
     "metadata": {},
     "output_type": "execute_result"
    }
   ],
   "source": [
    "from sklearn.linear_model import LinearRegression\n",
    "lm9 = LinearRegression()\n",
    "lm9.fit(Xm9_train,ym9_train)\n",
    "print('Estimated intercept coefficient:',lm9.intercept_)\n",
    "print ('Number of coefficients:', len(lm9.coef_))\n",
    "coeffm9_df = pd.DataFrame(lm9.coef_,Xm9.columns,columns=['Coefficient'])\n",
    "coeffm9_df\n"
   ]
  },
  {
   "cell_type": "code",
   "execution_count": 66,
   "metadata": {},
   "outputs": [],
   "source": [
    "predictions_m9 = lm9.predict(Xm9_test)"
   ]
  },
  {
   "cell_type": "markdown",
   "metadata": {},
   "source": [
    "**Predicted vs. Actual**"
   ]
  },
  {
   "cell_type": "code",
   "execution_count": 67,
   "metadata": {},
   "outputs": [
    {
     "data": {
      "text/plain": [
       "<matplotlib.collections.PathCollection at 0x16fcf9fd0>"
      ]
     },
     "execution_count": 67,
     "metadata": {},
     "output_type": "execute_result"
    },
    {
     "data": {
      "image/png": "[encoded data removed]",
      "text/plain": [
       "<Figure size 432x288 with 1 Axes>"
      ]
     },
     "metadata": {},
     "output_type": "display_data"
    }
   ],
   "source": [
    "plt.scatter(ym9_test,predictions_m9)"
   ]
  },
  {
   "cell_type": "markdown",
   "metadata": {},
   "source": [
    "**Residual Histogram**"
   ]
  },
  {
   "cell_type": "code",
   "execution_count": 68,
   "metadata": {
    "scrolled": true
   },
   "outputs": [
    {
     "data": {
      "image/png": "[encoded data removed]",
      "text/plain": [
       "<Figure size 432x288 with 1 Axes>"
      ]
     },
     "metadata": {},
     "output_type": "display_data"
    }
   ],
   "source": [
    "sns.distplot((ym9_test-predictions_m9),bins=50);"
   ]
  },
  {
   "cell_type": "code",
   "execution_count": 69,
   "metadata": {},
   "outputs": [
    {
     "name": "stdout",
     "output_type": "stream",
     "text": [
      "R-squared: 0.09508133640697503\n",
      "Mean Squared Error (MSE): 0.7157926059653181\n",
      "Root Mean Squared Error (RMSE): 0.846045274181777\n",
      "Log Mean Squared Error: 0.015319337786759637\n",
      "Explained Variance: 0.09612602814192206\n",
      "Mean Absolute Error (MAE): 0.6406698919769425\n",
      "Median Absolute Error: 0.5748480944619621\n",
      "Poisson Deviance: 0.12097364416155418\n",
      "Mean Gamma Deviance: 0.020774087905372798\n"
     ]
    }
   ],
   "source": [
    "from sklearn import metrics\n",
    "print('R-squared:', metrics.r2_score(ym9_test, predictions_m9))\n",
    "print('Mean Squared Error (MSE):', metrics.mean_squared_error(ym9_test, predictions_m9))\n",
    "print('Root Mean Squared Error (RMSE):', np.sqrt(metrics.mean_squared_error(ym9_test, predictions_m9)))\n",
    "print('Log Mean Squared Error:', metrics.mean_squared_log_error(ym9_test, predictions_m9))\n",
    "print('Explained Variance:', metrics.explained_variance_score(ym9_test, predictions_m9))\n",
    "print('Mean Absolute Error (MAE):', metrics.mean_absolute_error(ym9_test, predictions_m9))\n",
    "print('Median Absolute Error:', metrics.median_absolute_error(ym9_test, predictions_m9))\n",
    "print('Poisson Deviance:', metrics.mean_poisson_deviance(ym9_test, predictions_m9))\n",
    "print('Mean Gamma Deviance:', metrics.mean_gamma_deviance(ym9_test, predictions_m9))\n"
   ]
  },
  {
   "cell_type": "markdown",
   "metadata": {},
   "source": [
    "## Model 10: Drop Sulphates"
   ]
  },
  {
   "cell_type": "code",
   "execution_count": 70,
   "metadata": {},
   "outputs": [
    {
     "data": {
      "text/html": [
       "<div>\n",
       "<style scoped>\n",
       "    .dataframe tbody tr th:only-of-type {\n",
       "        vertical-align: middle;\n",
       "    }\n",
       "\n",
       "    .dataframe tbody tr th {\n",
       "        vertical-align: top;\n",
       "    }\n",
       "\n",
       "    .dataframe thead th {\n",
       "        text-align: right;\n",
       "    }\n",
       "</style>\n",
       "<table border=\"1\" class=\"dataframe\">\n",
       "  <thead>\n",
       "    <tr style=\"text-align: right;\">\n",
       "      <th></th>\n",
       "      <th>volatile_acidity</th>\n",
       "      <th>chlorides</th>\n",
       "    </tr>\n",
       "  </thead>\n",
       "  <tbody>\n",
       "    <tr>\n",
       "      <th>2133</th>\n",
       "      <td>0.24</td>\n",
       "      <td>0.030</td>\n",
       "    </tr>\n",
       "    <tr>\n",
       "      <th>4628</th>\n",
       "      <td>0.19</td>\n",
       "      <td>0.041</td>\n",
       "    </tr>\n",
       "    <tr>\n",
       "      <th>176</th>\n",
       "      <td>0.32</td>\n",
       "      <td>0.044</td>\n",
       "    </tr>\n",
       "    <tr>\n",
       "      <th>4545</th>\n",
       "      <td>0.25</td>\n",
       "      <td>0.021</td>\n",
       "    </tr>\n",
       "    <tr>\n",
       "      <th>1480</th>\n",
       "      <td>0.08</td>\n",
       "      <td>0.050</td>\n",
       "    </tr>\n",
       "  </tbody>\n",
       "</table>\n",
       "</div>"
      ],
      "text/plain": [
       "      volatile_acidity  chlorides\n",
       "2133              0.24      0.030\n",
       "4628              0.19      0.041\n",
       "176               0.32      0.044\n",
       "4545              0.25      0.021\n",
       "1480              0.08      0.050"
      ]
     },
     "execution_count": 70,
     "metadata": {},
     "output_type": "execute_result"
    }
   ],
   "source": [
    "ym10 = df.quality\n",
    "Xm10 = df.drop(['quality','density','total_sulfur_dioxide','free_sulfur_dioxide','fixed_acidity','residual_sugar','citric_acid','alcohol','pH','sulphates'],axis=1)\n",
    "from sklearn.model_selection import train_test_split\n",
    "Xm10_train, Xm10_test, ym10_train, ym10_test = train_test_split(Xm10, ym10, test_size=0.25, random_state=101)\n",
    "Xm10_train.head()\n"
   ]
  },
  {
   "cell_type": "code",
   "execution_count": 71,
   "metadata": {},
   "outputs": [
    {
     "data": {
      "text/plain": [
       "(2963, 2)"
      ]
     },
     "execution_count": 71,
     "metadata": {},
     "output_type": "execute_result"
    }
   ],
   "source": [
    "Xm10_train.shape"
   ]
  },
  {
   "cell_type": "code",
   "execution_count": 72,
   "metadata": {},
   "outputs": [
    {
     "name": "stdout",
     "output_type": "stream",
     "text": [
      "Estimated intercept coefficient: 7.365048082034636\n",
      "Number of coefficients: 2\n"
     ]
    },
    {
     "data": {
      "text/html": [
       "<div>\n",
       "<style scoped>\n",
       "    .dataframe tbody tr th:only-of-type {\n",
       "        vertical-align: middle;\n",
       "    }\n",
       "\n",
       "    .dataframe tbody tr th {\n",
       "        vertical-align: top;\n",
       "    }\n",
       "\n",
       "    .dataframe thead th {\n",
       "        text-align: right;\n",
       "    }\n",
       "</style>\n",
       "<table border=\"1\" class=\"dataframe\">\n",
       "  <thead>\n",
       "    <tr style=\"text-align: right;\">\n",
       "      <th></th>\n",
       "      <th>Coefficient</th>\n",
       "    </tr>\n",
       "  </thead>\n",
       "  <tbody>\n",
       "    <tr>\n",
       "      <th>volatile_acidity</th>\n",
       "      <td>-1.342949</td>\n",
       "    </tr>\n",
       "    <tr>\n",
       "      <th>chlorides</th>\n",
       "      <td>-25.151890</td>\n",
       "    </tr>\n",
       "  </tbody>\n",
       "</table>\n",
       "</div>"
      ],
      "text/plain": [
       "                  Coefficient\n",
       "volatile_acidity    -1.342949\n",
       "chlorides          -25.151890"
      ]
     },
     "execution_count": 72,
     "metadata": {},
     "output_type": "execute_result"
    }
   ],
   "source": [
    "from sklearn.linear_model import LinearRegression\n",
    "lm10 = LinearRegression()\n",
    "lm10.fit(Xm10_train,ym10_train)\n",
    "print('Estimated intercept coefficient:',lm10.intercept_)\n",
    "print ('Number of coefficients:', len(lm10.coef_))\n",
    "coeffm10_df = pd.DataFrame(lm10.coef_,Xm10.columns,columns=['Coefficient'])\n",
    "coeffm10_df"
   ]
  },
  {
   "cell_type": "code",
   "execution_count": 73,
   "metadata": {},
   "outputs": [],
   "source": [
    "predictions_m10 = lm10.predict(Xm10_test)"
   ]
  },
  {
   "cell_type": "markdown",
   "metadata": {},
   "source": [
    "**Predicted vs. Actual**"
   ]
  },
  {
   "cell_type": "code",
   "execution_count": 74,
   "metadata": {},
   "outputs": [
    {
     "data": {
      "text/plain": [
       "<matplotlib.collections.PathCollection at 0x1706aacd0>"
      ]
     },
     "execution_count": 74,
     "metadata": {},
     "output_type": "execute_result"
    },
    {
     "data": {
      "image/png": "[encoded data removed]",
      "text/plain": [
       "<Figure size 432x288 with 1 Axes>"
      ]
     },
     "metadata": {},
     "output_type": "display_data"
    }
   ],
   "source": [
    "plt.scatter(ym10_test,predictions_m10)"
   ]
  },
  {
   "cell_type": "markdown",
   "metadata": {},
   "source": [
    "**Residual Histogram**"
   ]
  },
  {
   "cell_type": "code",
   "execution_count": 75,
   "metadata": {
    "scrolled": true
   },
   "outputs": [
    {
     "data": {
      "image/png": "[encoded data removed]",
      "text/plain": [
       "<Figure size 432x288 with 1 Axes>"
      ]
     },
     "metadata": {},
     "output_type": "display_data"
    }
   ],
   "source": [
    "sns.distplot((ym10_test-predictions_m10),bins=50);"
   ]
  },
  {
   "cell_type": "code",
   "execution_count": 76,
   "metadata": {},
   "outputs": [
    {
     "name": "stdout",
     "output_type": "stream",
     "text": [
      "R-squared: 0.09292474158152275\n",
      "Mean Squared Error (MSE): 0.7174984771029435\n",
      "Root Mean Squared Error (RMSE): 0.8470528183666846\n",
      "Log Mean Squared Error: 0.015355576926673742\n",
      "Explained Variance: 0.09394553407527717\n",
      "Mean Absolute Error (MAE): 0.6418781796866962\n",
      "Median Absolute Error: 0.5723647041892175\n",
      "Poisson Deviance: 0.12123899531067768\n",
      "Mean Gamma Deviance: 0.020815263301943086\n"
     ]
    }
   ],
   "source": [
    "from sklearn import metrics\n",
    "print('R-squared:', metrics.r2_score(ym10_test, predictions_m10))\n",
    "print('Mean Squared Error (MSE):', metrics.mean_squared_error(ym10_test, predictions_m10))\n",
    "print('Root Mean Squared Error (RMSE):', np.sqrt(metrics.mean_squared_error(ym10_test, predictions_m10)))\n",
    "print('Log Mean Squared Error:', metrics.mean_squared_log_error(ym10_test, predictions_m10))\n",
    "print('Explained Variance:', metrics.explained_variance_score(ym10_test, predictions_m10))\n",
    "print('Mean Absolute Error (MAE):', metrics.mean_absolute_error(ym10_test, predictions_m10))\n",
    "print('Median Absolute Error:', metrics.median_absolute_error(ym10_test, predictions_m10))\n",
    "print('Poisson Deviance:', metrics.mean_poisson_deviance(ym10_test, predictions_m10))\n",
    "print('Mean Gamma Deviance:', metrics.mean_gamma_deviance(ym10_test, predictions_m10))\n"
   ]
  },
  {
   "cell_type": "markdown",
   "metadata": {},
   "source": [
    "## Model 11: Drop Volatile Activity"
   ]
  },
  {
   "cell_type": "code",
   "execution_count": 77,
   "metadata": {},
   "outputs": [
    {
     "data": {
      "text/html": [
       "<div>\n",
       "<style scoped>\n",
       "    .dataframe tbody tr th:only-of-type {\n",
       "        vertical-align: middle;\n",
       "    }\n",
       "\n",
       "    .dataframe tbody tr th {\n",
       "        vertical-align: top;\n",
       "    }\n",
       "\n",
       "    .dataframe thead th {\n",
       "        text-align: right;\n",
       "    }\n",
       "</style>\n",
       "<table border=\"1\" class=\"dataframe\">\n",
       "  <thead>\n",
       "    <tr style=\"text-align: right;\">\n",
       "      <th></th>\n",
       "      <th>chlorides</th>\n",
       "    </tr>\n",
       "  </thead>\n",
       "  <tbody>\n",
       "    <tr>\n",
       "      <th>2133</th>\n",
       "      <td>0.030</td>\n",
       "    </tr>\n",
       "    <tr>\n",
       "      <th>4628</th>\n",
       "      <td>0.041</td>\n",
       "    </tr>\n",
       "    <tr>\n",
       "      <th>176</th>\n",
       "      <td>0.044</td>\n",
       "    </tr>\n",
       "    <tr>\n",
       "      <th>4545</th>\n",
       "      <td>0.021</td>\n",
       "    </tr>\n",
       "    <tr>\n",
       "      <th>1480</th>\n",
       "      <td>0.050</td>\n",
       "    </tr>\n",
       "  </tbody>\n",
       "</table>\n",
       "</div>"
      ],
      "text/plain": [
       "      chlorides\n",
       "2133      0.030\n",
       "4628      0.041\n",
       "176       0.044\n",
       "4545      0.021\n",
       "1480      0.050"
      ]
     },
     "execution_count": 77,
     "metadata": {},
     "output_type": "execute_result"
    }
   ],
   "source": [
    "ym11 = df.quality\n",
    "Xm11 = df.drop(['quality','density','total_sulfur_dioxide','free_sulfur_dioxide','fixed_acidity','residual_sugar','citric_acid','alcohol','pH','sulphates','volatile_acidity'],axis=1)\n",
    "from sklearn.model_selection import train_test_split\n",
    "Xm11_train, Xm11_test, ym11_train, ym11_test = train_test_split(Xm11, ym11, test_size=0.25, random_state=101)\n",
    "Xm11_train.head()\n"
   ]
  },
  {
   "cell_type": "code",
   "execution_count": 78,
   "metadata": {},
   "outputs": [
    {
     "data": {
      "text/plain": [
       "(2963, 1)"
      ]
     },
     "execution_count": 78,
     "metadata": {},
     "output_type": "execute_result"
    }
   ],
   "source": [
    "Xm11_train.shape"
   ]
  },
  {
   "cell_type": "code",
   "execution_count": 79,
   "metadata": {},
   "outputs": [
    {
     "name": "stdout",
     "output_type": "stream",
     "text": [
      "Estimated intercept coefficient: 6.991562201802383\n",
      "Number of coefficients: 1\n"
     ]
    },
    {
     "data": {
      "text/html": [
       "<div>\n",
       "<style scoped>\n",
       "    .dataframe tbody tr th:only-of-type {\n",
       "        vertical-align: middle;\n",
       "    }\n",
       "\n",
       "    .dataframe tbody tr th {\n",
       "        vertical-align: top;\n",
       "    }\n",
       "\n",
       "    .dataframe thead th {\n",
       "        text-align: right;\n",
       "    }\n",
       "</style>\n",
       "<table border=\"1\" class=\"dataframe\">\n",
       "  <thead>\n",
       "    <tr style=\"text-align: right;\">\n",
       "      <th></th>\n",
       "      <th>Coefficient</th>\n",
       "    </tr>\n",
       "  </thead>\n",
       "  <tbody>\n",
       "    <tr>\n",
       "      <th>chlorides</th>\n",
       "      <td>-24.702768</td>\n",
       "    </tr>\n",
       "  </tbody>\n",
       "</table>\n",
       "</div>"
      ],
      "text/plain": [
       "           Coefficient\n",
       "chlorides   -24.702768"
      ]
     },
     "execution_count": 79,
     "metadata": {},
     "output_type": "execute_result"
    }
   ],
   "source": [
    "from sklearn.linear_model import LinearRegression\n",
    "lm11 = LinearRegression()\n",
    "lm11.fit(Xm11_train,ym11_train)\n",
    "print('Estimated intercept coefficient:',lm11.intercept_)\n",
    "print ('Number of coefficients:', len(lm11.coef_))\n",
    "coeffm11_df = pd.DataFrame(lm11.coef_,Xm11.columns,columns=['Coefficient'])\n",
    "coeffm11_df"
   ]
  },
  {
   "cell_type": "code",
   "execution_count": 80,
   "metadata": {},
   "outputs": [],
   "source": [
    "predictions_m11 = lm11.predict(Xm11_test)"
   ]
  },
  {
   "cell_type": "markdown",
   "metadata": {},
   "source": [
    "**Predicted vs. Actual**"
   ]
  },
  {
   "cell_type": "code",
   "execution_count": 81,
   "metadata": {},
   "outputs": [
    {
     "data": {
      "text/plain": [
       "<matplotlib.collections.PathCollection at 0x16ffd6310>"
      ]
     },
     "execution_count": 81,
     "metadata": {},
     "output_type": "execute_result"
    },
    {
     "data": {
      "image/png": "[encoded data removed]",
      "text/plain": [
       "<Figure size 432x288 with 1 Axes>"
      ]
     },
     "metadata": {},
     "output_type": "display_data"
    }
   ],
   "source": [
    "plt.scatter(ym11_test,predictions_m11)"
   ]
  },
  {
   "cell_type": "markdown",
   "metadata": {},
   "source": [
    "**Residual Histogram**"
   ]
  },
  {
   "cell_type": "code",
   "execution_count": 82,
   "metadata": {},
   "outputs": [
    {
     "data": {
      "image/png": "[encoded data removed]",
      "text/plain": [
       "<Figure size 432x288 with 1 Axes>"
      ]
     },
     "metadata": {},
     "output_type": "display_data"
    }
   ],
   "source": [
    "sns.distplot((ym11_test-predictions_m11),bins=50);"
   ]
  },
  {
   "cell_type": "code",
   "execution_count": 83,
   "metadata": {},
   "outputs": [
    {
     "name": "stdout",
     "output_type": "stream",
     "text": [
      "R-squared: 0.07741249437917419\n",
      "Mean Squared Error (MSE): 0.7297686979482735\n",
      "Root Mean Squared Error (RMSE): 0.8542650045204202\n",
      "Log Mean Squared Error: 0.01568583160182278\n",
      "Explained Variance: 0.07848580477149314\n",
      "Mean Absolute Error (MAE): 0.645688783626505\n",
      "Median Absolute Error: 0.5835044411226473\n",
      "Poisson Deviance: 0.12342239848659112\n",
      "Mean Gamma Deviance: 0.021203021934860757\n"
     ]
    }
   ],
   "source": [
    "from sklearn import metrics\n",
    "print('R-squared:', metrics.r2_score(ym11_test, predictions_m11))\n",
    "print('Mean Squared Error (MSE):', metrics.mean_squared_error(ym11_test, predictions_m11))\n",
    "print('Root Mean Squared Error (RMSE):', np.sqrt(metrics.mean_squared_error(ym11_test, predictions_m11)))\n",
    "print('Log Mean Squared Error:', metrics.mean_squared_log_error(ym11_test, predictions_m11))\n",
    "print('Explained Variance:', metrics.explained_variance_score(ym11_test, predictions_m11))\n",
    "print('Mean Absolute Error (MAE):', metrics.mean_absolute_error(ym11_test, predictions_m11))\n",
    "print('Median Absolute Error:', metrics.median_absolute_error(ym11_test, predictions_m11))\n",
    "print('Poisson Deviance:', metrics.mean_poisson_deviance(ym11_test, predictions_m11))\n",
    "print('Mean Gamma Deviance:', metrics.mean_gamma_deviance(ym11_test, predictions_m11))\n"
   ]
  },
  {
   "cell_type": "code",
   "execution_count": null,
   "metadata": {},
   "outputs": [],
   "source": []
  },
  {
   "cell_type": "code",
   "execution_count": null,
   "metadata": {},
   "outputs": [],
   "source": []
  },
  {
   "cell_type": "code",
   "execution_count": null,
   "metadata": {},
   "outputs": [],
   "source": []
  },
  {
   "cell_type": "code",
   "execution_count": null,
   "metadata": {},
   "outputs": [],
   "source": []
  }
 ],
 "metadata": {
  "kernelspec": {
   "display_name": "Python 3",
   "language": "python",
   "name": "python3"
  },
  "language_info": {
   "codemirror_mode": {
    "name": "ipython",
    "version": 3
   },
   "file_extension": ".py",
   "mimetype": "text/x-python",
   "name": "python",
   "nbconvert_exporter": "python",
   "pygments_lexer": "ipython3",
   "version": "3.8.3"
  }
 },
 "nbformat": 4,
 "nbformat_minor": 2
}
