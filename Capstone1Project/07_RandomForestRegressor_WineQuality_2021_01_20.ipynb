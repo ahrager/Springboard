{
 "cells": [
  {
   "cell_type": "markdown",
   "metadata": {},
   "source": [
    "<h1>Capstone 1</h1>\n",
    "<h2>White Wine Quality, Randomized Search Cross Validation</h2> \n",
    "(Source: Paulo Cortez (Univ. Minho), Antonio Cerdeira, Fernando Almeida, Telmo Matos and Jose Reis (CVRVV) @ 2009)\n",
    "<h4>Audrey Rager</h4>\n",
    "<h4>January 20, 2021</h4>\n",
    "\n",
    "\n",
    "<h2>Import Python Packages</h2>"
   ]
  },
  {
   "cell_type": "code",
   "execution_count": 109,
   "metadata": {},
   "outputs": [],
   "source": [
    "from sklearn.ensemble import RandomForestRegressor\n",
    "import numpy as np\n",
    "import matplotlib.pyplot as plt\n",
    "import pandas as pd\n",
    "import seaborn as sns\n",
    "from sklearn.model_selection import train_test_split, GridSearchCV, cross_val_score\n",
    "from sklearn.preprocessing import StandardScaler\n",
    "from sklearn.preprocessing import scale\n",
    "from sklearn.metrics import mean_absolute_error, mean_squared_error\n",
    "from pprint import pprint\n",
    "%matplotlib inline\n",
    "\n",
    "sns.set_style('whitegrid')"
   ]
  },
  {
   "cell_type": "code",
   "execution_count": 110,
   "metadata": {},
   "outputs": [],
   "source": [
    "#Import csv files into Pandas data frames\n",
    "df = pd.read_csv('winequality-white.csv',sep=\";\")\n",
    "\n",
    "#Rename colunms to remove spaces\n",
    "df = df.rename({'fixed acidity': 'fixed_acidity','volatile acidity': 'volatile_acidity', 'citric acid': 'citric_acid', 'residual sugar':'residual_sugar',  'free sulfur dioxide':'free_sulfur_dioxide', 'total sulfur dioxide':'total_sulfur_dioxide'}, axis=1)\n",
    "\n"
   ]
  },
  {
   "cell_type": "markdown",
   "metadata": {},
   "source": [
    "### Train-Test-Split"
   ]
  },
  {
   "cell_type": "code",
   "execution_count": 111,
   "metadata": {},
   "outputs": [],
   "source": [
    "#Independent variables (X) = everything but the target variable, y\n",
    "#Target variable, y, is quality\n",
    "\n",
    "#Set X to all the input variables (everything except 'quality')\n",
    "X = df.drop('quality',axis=1)\n",
    "\n",
    "#Set the variable to be predicted (y) to 'quality'\n",
    "y = df['quality']"
   ]
  },
  {
   "cell_type": "code",
   "execution_count": 112,
   "metadata": {},
   "outputs": [],
   "source": [
    "X_train, X_test, y_train, y_test = train_test_split(X, y, test_size=0.20,random_state=42)\n"
   ]
  },
  {
   "cell_type": "markdown",
   "metadata": {},
   "source": [
    "### Scale Independent Variables"
   ]
  },
  {
   "cell_type": "code",
   "execution_count": 113,
   "metadata": {},
   "outputs": [],
   "source": [
    "# applying Standard Scaling to the dataset to scale all the field values to same scale (approx.).\n",
    "\n",
    "sc = StandardScaler()\n",
    "\n",
    "X_train = sc.fit_transform(X_train)\n",
    "X_test = sc.fit_transform(X_test)\n",
    "\n"
   ]
  },
  {
   "cell_type": "markdown",
   "metadata": {},
   "source": [
    "sklearn.ensemble.RandomForestRegressor(n_estimators=100, *, criterion='mse', max_depth=None, min_samples_split=2, min_samples_leaf=1, min_weight_fraction_leaf=0.0, max_features='auto', max_leaf_nodes=None, min_impurity_decrease=0.0, min_impurity_split=None, bootstrap=True, oob_score=False, n_jobs=None, random_state=None, verbose=0, warm_start=False, ccp_alpha=0.0, max_samples=None)"
   ]
  },
  {
   "cell_type": "markdown",
   "metadata": {},
   "source": [
    "# Randomized Search CV"
   ]
  },
  {
   "cell_type": "code",
   "execution_count": 114,
   "metadata": {},
   "outputs": [],
   "source": [
    "# number of trees\n",
    "n_estimators=[3, 5, 10, 20]\n",
    "\n",
    "# maximum number of features to consider at every split\n",
    "max_features = ['auto', 'sqrt', 'log2']\n",
    "\n",
    "# maximum number of levels in tree\n",
    "max_depth = [3, 5, 10, 20]\n",
    "max_depth.append(None)\n",
    "\n",
    "# Minimum number of samples required to split a node\n",
    "min_samples_split = [2, 5, 10, 15, 20]\n",
    "\n",
    "# Minimum number of samples required at each leaf node\n",
    "min_samples_leaf = [1, 5, 50, 100]\n",
    "\n"
   ]
  },
  {
   "cell_type": "code",
   "execution_count": 115,
   "metadata": {},
   "outputs": [],
   "source": [
    "# Set the grid_param variable for input into GridSearchCV\n",
    "grid_param = {'n_estimators': n_estimators,\n",
    "              'max_features': max_features,\n",
    "              'max_depth': max_depth,\n",
    "              'min_samples_split': min_samples_split,\n",
    "              'min_samples_leaf': min_samples_leaf}"
   ]
  },
  {
   "cell_type": "code",
   "execution_count": 116,
   "metadata": {},
   "outputs": [],
   "source": [
    "from sklearn.model_selection import RandomizedSearchCV\n",
    "rfr = RandomForestRegressor(random_state=1)\n",
    "rfr_random = RandomizedSearchCV(estimator = rfr,\n",
    "                               param_distributions = grid_param, n_iter = 500,\n",
    "                               cv = 5, verbose = 2, random_state = 42,\n",
    "                               n_jobs = -1)"
   ]
  },
  {
   "cell_type": "code",
   "execution_count": 117,
   "metadata": {},
   "outputs": [
    {
     "name": "stdout",
     "output_type": "stream",
     "text": [
      "Fitting 5 folds for each of 500 candidates, totalling 2500 fits\n"
     ]
    },
    {
     "name": "stderr",
     "output_type": "stream",
     "text": [
      "[Parallel(n_jobs=-1)]: Using backend LokyBackend with 8 concurrent workers.\n",
      "[Parallel(n_jobs=-1)]: Done  25 tasks      | elapsed:    2.8s\n",
      "[Parallel(n_jobs=-1)]: Done 672 tasks      | elapsed:    5.7s\n",
      "[Parallel(n_jobs=-1)]: Done 2296 tasks      | elapsed:   12.5s\n"
     ]
    },
    {
     "name": "stdout",
     "output_type": "stream",
     "text": [
      "{'n_estimators': 20, 'min_samples_split': 5, 'min_samples_leaf': 1, 'max_features': 'log2', 'max_depth': 20}\n"
     ]
    },
    {
     "name": "stderr",
     "output_type": "stream",
     "text": [
      "[Parallel(n_jobs=-1)]: Done 2500 out of 2500 | elapsed:   13.4s finished\n"
     ]
    }
   ],
   "source": [
    "rfr_random.fit(X_test,y_test)\n",
    "print(rfr_random.best_params_)"
   ]
  },
  {
   "cell_type": "code",
   "execution_count": null,
   "metadata": {},
   "outputs": [],
   "source": []
  },
  {
   "cell_type": "markdown",
   "metadata": {},
   "source": [
    "# Instantiate the Random Forest Regressor Model"
   ]
  },
  {
   "cell_type": "code",
   "execution_count": 118,
   "metadata": {},
   "outputs": [],
   "source": [
    "rfr = RandomForestRegressor(n_estimators = 20, min_samples_split = 5, min_samples_leaf=1, max_depth = 20, max_features = 'log2', random_state = 42)\n"
   ]
  },
  {
   "cell_type": "markdown",
   "metadata": {},
   "source": [
    "# Fit the Model to the Training Data"
   ]
  },
  {
   "cell_type": "code",
   "execution_count": 119,
   "metadata": {},
   "outputs": [],
   "source": [
    "rfrModel = rfr.fit(X_train,y_train)"
   ]
  },
  {
   "cell_type": "markdown",
   "metadata": {},
   "source": [
    "# Predict Using Test Data"
   ]
  },
  {
   "cell_type": "code",
   "execution_count": 120,
   "metadata": {},
   "outputs": [],
   "source": [
    "y_pred = rfrModel.predict(X_test)"
   ]
  },
  {
   "cell_type": "code",
   "execution_count": 121,
   "metadata": {},
   "outputs": [
    {
     "name": "stdout",
     "output_type": "stream",
     "text": [
      "980\n"
     ]
    }
   ],
   "source": [
    "print(len(y_pred))"
   ]
  },
  {
   "cell_type": "code",
   "execution_count": 122,
   "metadata": {
    "scrolled": true
   },
   "outputs": [
    {
     "name": "stdout",
     "output_type": "stream",
     "text": [
      "[5.48036199]\n"
     ]
    }
   ],
   "source": [
    "print(rfr.predict([[0,0,0,0,0,0,0,0,0,0,0]]))"
   ]
  },
  {
   "cell_type": "code",
   "execution_count": 123,
   "metadata": {},
   "outputs": [
    {
     "name": "stdout",
     "output_type": "stream",
     "text": [
      "[5.48036199]\n"
     ]
    }
   ],
   "source": [
    "print(rfrModel.predict([[0,0,0,0,0,0,0,0,0,0,0]]))"
   ]
  },
  {
   "cell_type": "markdown",
   "metadata": {},
   "source": [
    "# Evaluate Model"
   ]
  },
  {
   "cell_type": "code",
   "execution_count": 124,
   "metadata": {},
   "outputs": [],
   "source": [
    "mae_r = mean_absolute_error(y_test,y_pred)\n",
    "mse_r = mean_squared_error(y_test,y_pred)"
   ]
  },
  {
   "cell_type": "code",
   "execution_count": 125,
   "metadata": {},
   "outputs": [
    {
     "name": "stdout",
     "output_type": "stream",
     "text": [
      "Mean Absolute Error (MAE): 0.4758\n",
      "Mean Squared Error (MSE): 0.3902\n"
     ]
    }
   ],
   "source": [
    "print(\"Mean Absolute Error (MAE):\",round(mae_r,4))\n",
    "print(\"Mean Squared Error (MSE):\",round(mse_r,4))\n"
   ]
  },
  {
   "cell_type": "code",
   "execution_count": 126,
   "metadata": {},
   "outputs": [
    {
     "data": {
      "text/plain": [
       "array([0.06652165, 0.11286222, 0.06820976, 0.08017346, 0.07543038,\n",
       "       0.10441327, 0.07600969, 0.13371317, 0.07045948, 0.05893175,\n",
       "       0.15327517])"
      ]
     },
     "execution_count": 126,
     "metadata": {},
     "output_type": "execute_result"
    }
   ],
   "source": [
    "importance = rfrModel.feature_importances_\n",
    "importance"
   ]
  },
  {
   "cell_type": "code",
   "execution_count": 127,
   "metadata": {},
   "outputs": [
    {
     "data": {
      "text/plain": [
       "pandas.core.series.Series"
      ]
     },
     "execution_count": 127,
     "metadata": {},
     "output_type": "execute_result"
    }
   ],
   "source": [
    "type(y_test)\n"
   ]
  },
  {
   "cell_type": "code",
   "execution_count": 128,
   "metadata": {},
   "outputs": [
    {
     "name": "stdout",
     "output_type": "stream",
     "text": [
      "980\n"
     ]
    }
   ],
   "source": [
    "print(len(y_test))"
   ]
  },
  {
   "cell_type": "code",
   "execution_count": 129,
   "metadata": {},
   "outputs": [
    {
     "data": {
      "text/plain": [
       "4656    7\n",
       "3659    8\n",
       "907     8\n",
       "4352    5\n",
       "3271    7\n",
       "       ..\n",
       "3207    6\n",
       "1539    6\n",
       "964     6\n",
       "168     5\n",
       "3661    6\n",
       "Name: quality, Length: 980, dtype: int64"
      ]
     },
     "execution_count": 129,
     "metadata": {},
     "output_type": "execute_result"
    }
   ],
   "source": [
    "y_test"
   ]
  },
  {
   "cell_type": "code",
   "execution_count": 130,
   "metadata": {},
   "outputs": [
    {
     "name": "stdout",
     "output_type": "stream",
     "text": [
      "980\n"
     ]
    }
   ],
   "source": [
    "type(y_pred)\n",
    "print(len(y_pred))"
   ]
  },
  {
   "cell_type": "code",
   "execution_count": 131,
   "metadata": {},
   "outputs": [
    {
     "data": {
      "text/plain": [
       "array([6.21805556, 7.41345238, 6.77949114, 5.31011905, 6.77916667,\n",
       "       6.34166667, 5.17666667, 5.60916667, 5.7019281 , 5.315     ,\n",
       "       6.72424242, 5.18103427, 6.55428571, 5.45430036, 6.54946429,\n",
       "       5.18832505, 7.33833333, 5.8775    , 6.701536  , 5.90207718,\n",
       "       5.45103535, 5.74095833, 5.26950758, 6.05616162, 5.88958333,\n",
       "       5.44382295, 5.08216514, 6.26074074, 6.83081502, 5.35555556,\n",
       "       5.13333333, 5.52468434, 5.66454518, 5.61576867, 5.4175    ,\n",
       "       6.60553873, 6.27854167, 5.55023196, 5.13333333, 5.72083333,\n",
       "       5.42875739, 5.58558201, 6.01428571, 5.62916667, 5.16097222,\n",
       "       5.82400344, 5.73958333, 5.55204545, 5.33676248, 5.12916667,\n",
       "       4.89375   , 5.71166667, 5.69369048, 6.17981998, 6.20416667,\n",
       "       6.16959496, 6.25138439, 5.91369048, 5.83541667, 6.13409091,\n",
       "       6.06555328, 6.35892857, 5.66607143, 6.87261905, 5.85603175,\n",
       "       6.31233677, 5.77071429, 5.59666667, 5.98700828, 5.64958333,\n",
       "       4.94082207, 6.03898194, 4.91559524, 4.74077381, 5.97291667,\n",
       "       6.16410569, 5.79347744, 6.52583333, 7.3325    , 6.62041667,\n",
       "       5.80833333, 5.40833333, 5.65273109, 5.9625    , 6.27458333,\n",
       "       6.80458333, 5.2780479 , 6.49916667, 5.34464286, 6.1       ,\n",
       "       6.8575    , 5.16666667, 5.56048444, 6.65072464, 6.27824675,\n",
       "       6.82337209, 5.89472222, 5.94890152, 5.21305556, 6.23166667,\n",
       "       5.26969409, 6.13227778, 6.70547619, 5.57994119, 5.87808608,\n",
       "       6.29153846, 6.13409091, 6.29327236, 5.8775    , 6.3       ,\n",
       "       6.2752381 , 6.304     , 6.33434826, 5.75021978, 5.32916667,\n",
       "       6.88904762, 6.6175    , 6.52068627, 5.2125    , 7.16666667,\n",
       "       5.285     , 6.57083333, 5.89035714, 5.32290838, 6.63333333,\n",
       "       5.7327381 , 6.55452381, 5.98208514, 6.42638889, 5.32666667,\n",
       "       6.31166667, 6.10833333, 5.49261076, 6.00547619, 5.06011905,\n",
       "       6.01666667, 6.08938854, 5.46077534, 6.80630952, 5.32225636,\n",
       "       6.41369048, 5.68264752, 6.1025    , 5.45569516, 6.32305556,\n",
       "       5.20992725, 5.11933327, 5.60541667, 5.17489927, 5.42833333,\n",
       "       5.98083333, 5.87375   , 5.85      , 5.97900344, 6.70964286,\n",
       "       5.01      , 6.35295937, 6.09956349, 6.15257937, 5.31168803,\n",
       "       5.60515873, 5.46607143, 5.69375   , 5.68958333, 6.41805556,\n",
       "       6.46315476, 5.08488095, 6.00488095, 5.27954545, 6.08166667,\n",
       "       5.21868235, 6.12398839, 6.48572953, 5.56416667, 6.8775    ,\n",
       "       5.89153846, 5.39166667, 6.1347147 , 6.18642857, 5.15785714,\n",
       "       6.33095238, 5.86994048, 5.90208333, 6.04873447, 5.34782609,\n",
       "       6.46428571, 6.53366162, 5.60220391, 5.97224359, 4.89350932,\n",
       "       5.5714707 , 5.7725    , 6.77916667, 5.93099567, 5.31511905,\n",
       "       5.425     , 6.93333333, 6.51546356, 5.3735523 , 6.36228997,\n",
       "       6.48160569, 4.83547619, 6.39666667, 5.81333333, 5.38083333,\n",
       "       6.00142857, 6.595     , 6.12916667, 5.69466191, 6.51904762,\n",
       "       5.86057692, 6.60261905, 5.66703463, 6.70916667, 5.16506024,\n",
       "       5.36625   , 5.84779617, 5.79880952, 6.35892857, 6.23392857,\n",
       "       5.16265152, 5.47785714, 5.87617939, 6.06398601, 6.215     ,\n",
       "       5.45416667, 6.03295455, 6.565     , 6.54094077, 5.43083333,\n",
       "       5.79027778, 5.0866453 , 6.14015873, 5.47805692, 5.5359127 ,\n",
       "       6.96126984, 5.95      , 5.8148802 , 5.79215278, 5.28082011,\n",
       "       6.11234649, 4.85238095, 6.45511905, 5.39690476, 6.55083333,\n",
       "       5.06325397, 4.98511905, 5.21041667, 5.64714286, 5.52947348,\n",
       "       5.93154762, 5.11944444, 5.92833333, 4.97886905, 5.85273109,\n",
       "       5.4558956 , 6.47559524, 5.24871721, 6.14178571, 5.83944444,\n",
       "       5.88525641, 5.51738095, 5.13761905, 5.1139881 , 6.66904762,\n",
       "       5.81792986, 5.35688795, 5.775     , 6.48561328, 5.68096591,\n",
       "       5.17458333, 5.97962121, 6.26333333, 7.23192308, 5.40480403,\n",
       "       6.54690476, 5.13015873, 6.21464286, 6.72435897, 5.40375   ,\n",
       "       5.88916667, 5.97291667, 6.36202381, 4.79880952, 6.24724359,\n",
       "       6.84309524, 7.36857143, 5.32007856, 5.38905818, 5.38617135,\n",
       "       6.06533333, 5.85357143, 6.16547619, 5.37111472, 7.58867886,\n",
       "       5.64612465, 6.11722222, 6.01630952, 5.13598485, 5.45777778,\n",
       "       4.89375   , 5.42325641, 5.48339286, 5.10666667, 6.40833333,\n",
       "       5.31825397, 5.28367135, 5.91954545, 6.12982143, 4.68071429,\n",
       "       5.81276786, 6.24690476, 5.35406926, 6.30916667, 6.26397201,\n",
       "       7.00958333, 5.99880952, 6.35972222, 5.00833333, 6.76666667,\n",
       "       6.35912487, 6.58425721, 6.64956257, 6.13916091, 5.50416667,\n",
       "       5.39333333, 6.63637821, 5.3775    , 7.29583333, 5.16666667,\n",
       "       5.958171  , 6.05022989, 6.26041667, 6.01391304, 5.68291667,\n",
       "       5.63958333, 6.8528959 , 6.42047619, 6.79393939, 5.5625    ,\n",
       "       5.93145363, 5.60154966, 5.45      , 5.83511905, 5.58333333,\n",
       "       5.55296919, 6.25290718, 4.74393939, 6.8375    , 6.6125    ,\n",
       "       6.74462209, 6.60580919, 5.87808608, 5.40863124, 6.07741228,\n",
       "       4.97886905, 5.73740602, 6.7425    , 6.5239599 , 5.58103175,\n",
       "       5.25242605, 5.54252165, 5.57864998, 5.36147222, 5.43630952,\n",
       "       5.36130952, 5.55125834, 5.42684596, 5.61464286, 6.41430055,\n",
       "       5.6490873 , 5.79192641, 5.76666667, 5.7775    , 6.19      ,\n",
       "       6.01858824, 5.99327586, 5.03813736, 6.85      , 5.76574947,\n",
       "       6.04488095, 6.48454545, 5.79280777, 5.73452381, 5.85582634,\n",
       "       6.41678571, 6.90519089, 6.05683908, 5.56191558, 5.37333333,\n",
       "       5.40861111, 6.24333333, 5.5714707 , 5.52785714, 4.51422619,\n",
       "       5.24083333, 4.75547619, 6.36083333, 6.11130156, 5.61153846,\n",
       "       5.29607143, 6.31107143, 5.84871032, 6.36617439, 5.88875   ,\n",
       "       6.83522619, 6.15532107, 5.38138889, 6.87940231, 6.9535119 ,\n",
       "       5.37111472, 5.82515152, 7.3475    , 5.90151682, 5.73333333,\n",
       "       5.71712733, 4.8134127 , 6.02099359, 5.07777778, 5.93650344,\n",
       "       6.40333333, 5.95      , 5.61388889, 6.30256098, 6.60104167,\n",
       "       6.28393199, 5.86527778, 5.87777778, 5.84178571, 5.97333333,\n",
       "       6.68652831, 5.83589286, 6.58708333, 6.17339431, 6.865     ,\n",
       "       5.07664222, 7.31714286, 5.92357143, 5.13615735, 6.27333333,\n",
       "       5.48517241, 6.62204004, 6.16410569, 5.42214286, 5.00714286,\n",
       "       6.21761905, 6.99404762, 6.195     , 4.92666667, 6.09833333,\n",
       "       5.36167338, 5.09182692, 5.94291667, 6.26519006, 6.535     ,\n",
       "       5.69166667, 5.08833333, 6.51878788, 5.01666667, 5.335     ,\n",
       "       5.44722222, 6.60918498, 5.7875    , 5.70916667, 5.76833333,\n",
       "       6.91337209, 5.83392857, 5.68166667, 6.17515038, 4.97833333,\n",
       "       5.14279423, 6.1775    , 6.23577381, 5.06550642, 4.82779762,\n",
       "       6.01109287, 5.14042857, 5.68208333, 6.12683983, 5.80041667,\n",
       "       6.68536946, 5.02083333, 5.79357143, 5.50704545, 4.70916667,\n",
       "       6.51761905, 6.08823448, 5.42880952, 5.13775641, 5.31291667,\n",
       "       6.01124409, 5.19504826, 6.35583333, 5.33191239, 6.04107143,\n",
       "       6.82642857, 6.11916667, 5.4558956 , 5.73630952, 4.73083333,\n",
       "       6.4025    , 5.77782634, 5.11547619, 6.06194444, 5.79093207,\n",
       "       6.06083333, 5.7275    , 5.63125   , 5.83630952, 6.53458333,\n",
       "       6.58143315, 4.70071429, 5.2834264 , 5.77599638, 5.89326765,\n",
       "       5.72176919, 5.57683957, 5.11218918, 5.94642857, 4.88238095,\n",
       "       5.17121212, 5.06297619, 5.75372024, 5.33758161, 5.95111111,\n",
       "       5.52468434, 6.70958333, 6.23125   , 5.57668067, 5.42847403,\n",
       "       7.37535714, 6.10809524, 5.2780479 , 5.45      , 6.01833333,\n",
       "       5.82916667, 6.38320608, 7.28916667, 6.95738095, 6.25251082,\n",
       "       5.32570555, 5.32992424, 6.01785714, 5.69888889, 6.34107143,\n",
       "       5.70423955, 6.53833333, 5.3       , 5.9952381 , 6.20185897,\n",
       "       5.77415751, 6.86464286, 6.76083333, 5.93522104, 6.8775    ,\n",
       "       6.96666667, 7.05416667, 6.99083333, 5.32151652, 5.74706094,\n",
       "       6.83333333, 6.1325    , 5.61350575, 5.83095238, 6.20424803,\n",
       "       5.78214286, 5.02083333, 5.7234145 , 6.49013889, 5.46882353,\n",
       "       6.0202381 , 6.05416667, 6.27051789, 6.245     , 5.99666667,\n",
       "       6.44178571, 5.71363636, 5.83630952, 6.39939655, 6.13333333,\n",
       "       5.32273196, 5.53157895, 5.20416667, 5.09540043, 5.71666667,\n",
       "       5.25614357, 5.92      , 5.38562555, 5.68381024, 6.65442982,\n",
       "       6.85      , 6.47744048, 5.2952381 , 6.78416667, 5.82111111,\n",
       "       6.31391535, 7.23583333, 6.85037879, 5.175     , 5.29242424,\n",
       "       5.33676248, 6.63379791, 5.81077381, 4.95333333, 5.38125   ,\n",
       "       6.80678571, 5.7489899 , 5.61382937, 5.7775    , 6.54166667,\n",
       "       5.64958333, 6.19748804, 6.025     , 5.9112013 , 5.63136905,\n",
       "       6.15416667, 5.65315657, 6.85150344, 5.86083405, 5.50178571,\n",
       "       6.83081502, 6.67011905, 5.4375    , 5.86766304, 5.74166667,\n",
       "       5.17904762, 6.58425721, 4.55555556, 5.12777778, 6.80155678,\n",
       "       5.12046565, 5.58558201, 6.24      , 5.57583333, 5.52125   ,\n",
       "       5.43862266, 6.2816092 , 5.27131024, 5.5375    , 6.63892857,\n",
       "       5.59118204, 6.32884828, 5.90277778, 4.93761905, 5.59380952,\n",
       "       5.1773062 , 6.25583333, 5.99202381, 6.66269481, 5.95610865,\n",
       "       6.59166667, 6.95416667, 6.59678571, 6.06666667, 6.96666667,\n",
       "       6.20185897, 5.72645857, 5.29077381, 6.30287879, 5.15803777,\n",
       "       7.62166667, 6.695     , 6.36477715, 6.05616162, 6.3725    ,\n",
       "       5.83035714, 5.52452381, 5.42380952, 5.85666667, 5.94810119,\n",
       "       5.59738095, 6.46011905, 5.27285178, 5.47232143, 6.89333333,\n",
       "       5.84577381, 5.56727409, 6.78416667, 5.26835317, 6.0472634 ,\n",
       "       5.99106322, 5.82560988, 5.91755952, 5.99333333, 6.01474359,\n",
       "       6.15129394, 5.76808824, 5.22279762, 5.58529762, 7.52840517,\n",
       "       5.1344246 , 5.58095238, 5.12916667, 6.40625641, 6.0277381 ,\n",
       "       7.62166667, 6.05291147, 6.08689655, 6.29333333, 6.09238095,\n",
       "       5.13333333, 6.00375   , 5.60613248, 6.29574725, 6.14333333,\n",
       "       5.99333333, 6.85166667, 7.115     , 5.65171911, 5.57261905,\n",
       "       5.29464357, 6.27083333, 6.49833333, 6.22261905, 5.33211841,\n",
       "       5.25833333, 5.76666667, 6.27316479, 5.45416667, 6.70880952,\n",
       "       5.17046565, 4.96492063, 5.42378139, 6.49011905, 5.61666667,\n",
       "       5.81805556, 5.70176768, 6.38666667, 6.24642857, 5.28947134,\n",
       "       5.03632052, 6.00142857, 6.11626984, 5.85791667, 5.23214286,\n",
       "       5.40238095, 6.33392857, 5.86400058, 5.15984127, 5.98708333,\n",
       "       6.44292501, 5.425     , 6.56583333, 6.74238095, 6.49880952,\n",
       "       6.15666667, 6.22083333, 5.4352381 , 6.46680556, 6.83488095,\n",
       "       5.74371032, 5.24465657, 6.66535156, 6.80678571, 5.21041018,\n",
       "       5.015     , 5.97900344, 5.62690045, 4.74599206, 5.94744029,\n",
       "       5.54732143, 6.43166667, 6.13787879, 6.05993902, 5.92947963,\n",
       "       6.23869048, 5.82333333, 6.36541667, 6.09733677, 6.09833333,\n",
       "       5.25050297, 6.70769006, 5.35449275, 5.95558608, 5.42544806,\n",
       "       6.83333333, 6.44611794, 5.27404762, 6.42928121, 5.62452381,\n",
       "       6.09791667, 6.74285714, 5.89571429, 5.85      , 6.58125   ,\n",
       "       6.46984127, 6.81196184, 5.44089286, 5.25538618, 6.29409673,\n",
       "       5.48452381, 6.58667898, 5.13512113, 5.88076465, 5.00037879,\n",
       "       5.4       , 5.37752137, 6.42459565, 4.90380952, 5.04063736,\n",
       "       6.58482143, 5.92654132, 5.42305556, 5.31321429, 6.61541667,\n",
       "       5.80242496, 6.27650794, 5.17880952, 6.22163866, 5.69797619,\n",
       "       6.03583333, 6.11781136, 5.43291738, 6.61583333, 5.7075    ,\n",
       "       5.50333333, 6.13981296, 5.195     , 5.53666667, 6.70357143,\n",
       "       6.52596154, 5.08690476, 6.55721854, 6.44181818, 5.38      ,\n",
       "       5.43291738, 7.14583333, 5.43571429, 5.46309524, 5.72959369,\n",
       "       6.32305556, 5.59166667, 6.12738095, 6.15532107, 6.03461353,\n",
       "       5.87285714, 5.80416667, 5.41533778, 5.39017241, 6.0625    ,\n",
       "       6.08259104, 6.03685461, 5.42684596, 5.95497566, 6.24636364,\n",
       "       6.21875   , 6.13293651, 5.86661255, 5.82833333, 6.45949074,\n",
       "       5.54166667, 6.36257184, 6.17930328, 5.18672619, 5.96101045,\n",
       "       5.4627381 , 5.59083333, 6.05690476, 5.17121212, 6.39324074,\n",
       "       5.61547619, 5.35449275, 5.76035714, 6.1875    , 5.85416667,\n",
       "       7.67178571, 6.01159553, 5.86790751, 5.79071429, 5.48166667,\n",
       "       5.40106647, 6.56416667, 6.83583333, 5.17880952, 5.09163618,\n",
       "       4.26625   , 6.55      , 6.51547619, 5.17962963, 6.14275041,\n",
       "       5.57125   , 6.25904762, 6.81625   , 6.58751374, 6.13035714,\n",
       "       6.28976323, 6.04180328, 5.78642857, 5.23677249, 5.86583333,\n",
       "       5.29791667, 6.03001035, 6.08083333, 5.91916667, 5.72176919,\n",
       "       6.46462121, 5.73547619, 5.74704137, 5.31777778, 5.79178571,\n",
       "       4.9712904 , 5.27404762, 5.69166667, 5.40458333, 4.63714286,\n",
       "       6.36228997, 6.28756775, 6.46416667, 5.71107143, 6.01858824,\n",
       "       5.71057692, 5.2475    , 5.97142449, 5.28266026, 6.59893939,\n",
       "       6.85150344, 5.29166667, 6.49541667, 5.74625   , 6.59896073,\n",
       "       5.17692308, 5.535625  , 6.26309524, 6.6025    , 6.66875   ,\n",
       "       6.00666667, 6.96071429, 5.83083333, 5.3735523 , 5.13208181,\n",
       "       6.86340741, 5.57113609, 6.41292898, 5.36916667, 5.25117216,\n",
       "       6.68429517, 5.77458333, 5.42544806, 5.79071429, 5.80909722,\n",
       "       5.40845238, 6.99933333, 6.87285714, 5.43146853, 5.29227273,\n",
       "       5.13973744, 5.14521978, 5.6710119 , 5.99859232, 5.64166667,\n",
       "       5.16106529, 5.54212121, 5.72271242, 6.33800125, 6.05868902,\n",
       "       6.73410714, 6.54583333, 6.28708333, 5.23695115, 6.8025    ,\n",
       "       6.65416667, 5.59086237, 7.10833333, 5.07047619, 5.35033883,\n",
       "       5.7934127 , 5.98458333, 5.79280777, 6.65619048, 5.08035714,\n",
       "       5.95595077, 5.30540115, 5.43333333, 5.44969516, 5.8827381 ,\n",
       "       5.82071429, 5.90207212, 5.48515152, 5.36496428, 5.83214286])"
      ]
     },
     "execution_count": 131,
     "metadata": {},
     "output_type": "execute_result"
    }
   ],
   "source": [
    "y_pred"
   ]
  },
  {
   "cell_type": "code",
   "execution_count": 132,
   "metadata": {},
   "outputs": [
    {
     "name": "stdout",
     "output_type": "stream",
     "text": [
      "Pandas Series : \n"
     ]
    },
    {
     "data": {
      "text/plain": [
       "pandas.core.series.Series"
      ]
     },
     "execution_count": 132,
     "metadata": {},
     "output_type": "execute_result"
    }
   ],
   "source": [
    "# converting the NumPy array, y_pred\n",
    "# to a Pandas series, y_pred_series\n",
    "y_pred_series = pd.Series(y_pred)  \n",
    "  \n",
    "# displaying the Pandas series \n",
    "print(\"Pandas Series : \") \n",
    "type(y_pred_series)"
   ]
  },
  {
   "cell_type": "code",
   "execution_count": 133,
   "metadata": {},
   "outputs": [
    {
     "data": {
      "text/plain": [
       "0      6.218056\n",
       "1      7.413452\n",
       "2      6.779491\n",
       "3      5.310119\n",
       "4      6.779167\n",
       "         ...   \n",
       "975    5.820714\n",
       "976    5.902072\n",
       "977    5.485152\n",
       "978    5.364964\n",
       "979    5.832143\n",
       "Length: 980, dtype: float64"
      ]
     },
     "execution_count": 133,
     "metadata": {},
     "output_type": "execute_result"
    }
   ],
   "source": [
    "y_pred_series"
   ]
  },
  {
   "cell_type": "code",
   "execution_count": 134,
   "metadata": {},
   "outputs": [],
   "source": [
    "# Convert each series to a dataframe\n",
    "df_y_test = pd.DataFrame(data=y_test.values, columns=['test'])\n",
    "df_y_pred = pd.DataFrame(data=y_pred_series.values, columns=['pred'])\n",
    "df_y_test_pred = pd.merge(df_y_test, df_y_pred, left_index=True, right_index=True)"
   ]
  },
  {
   "cell_type": "code",
   "execution_count": 135,
   "metadata": {},
   "outputs": [
    {
     "data": {
      "text/plain": [
       "pandas.core.frame.DataFrame"
      ]
     },
     "execution_count": 135,
     "metadata": {},
     "output_type": "execute_result"
    }
   ],
   "source": [
    "type(df_y_test_pred)"
   ]
  },
  {
   "cell_type": "code",
   "execution_count": 136,
   "metadata": {},
   "outputs": [
    {
     "data": {
      "text/html": [
       "<div>\n",
       "<style scoped>\n",
       "    .dataframe tbody tr th:only-of-type {\n",
       "        vertical-align: middle;\n",
       "    }\n",
       "\n",
       "    .dataframe tbody tr th {\n",
       "        vertical-align: top;\n",
       "    }\n",
       "\n",
       "    .dataframe thead th {\n",
       "        text-align: right;\n",
       "    }\n",
       "</style>\n",
       "<table border=\"1\" class=\"dataframe\">\n",
       "  <thead>\n",
       "    <tr style=\"text-align: right;\">\n",
       "      <th></th>\n",
       "      <th>test</th>\n",
       "      <th>pred</th>\n",
       "    </tr>\n",
       "  </thead>\n",
       "  <tbody>\n",
       "    <tr>\n",
       "      <th>0</th>\n",
       "      <td>7</td>\n",
       "      <td>6.218056</td>\n",
       "    </tr>\n",
       "    <tr>\n",
       "      <th>1</th>\n",
       "      <td>8</td>\n",
       "      <td>7.413452</td>\n",
       "    </tr>\n",
       "    <tr>\n",
       "      <th>2</th>\n",
       "      <td>8</td>\n",
       "      <td>6.779491</td>\n",
       "    </tr>\n",
       "    <tr>\n",
       "      <th>3</th>\n",
       "      <td>5</td>\n",
       "      <td>5.310119</td>\n",
       "    </tr>\n",
       "    <tr>\n",
       "      <th>4</th>\n",
       "      <td>7</td>\n",
       "      <td>6.779167</td>\n",
       "    </tr>\n",
       "  </tbody>\n",
       "</table>\n",
       "</div>"
      ],
      "text/plain": [
       "   test      pred\n",
       "0     7  6.218056\n",
       "1     8  7.413452\n",
       "2     8  6.779491\n",
       "3     5  5.310119\n",
       "4     7  6.779167"
      ]
     },
     "execution_count": 136,
     "metadata": {},
     "output_type": "execute_result"
    }
   ],
   "source": [
    "df_y_test_pred.head()"
   ]
  },
  {
   "cell_type": "code",
   "execution_count": 137,
   "metadata": {},
   "outputs": [
    {
     "data": {
      "text/plain": [
       "980"
      ]
     },
     "execution_count": 137,
     "metadata": {},
     "output_type": "execute_result"
    }
   ],
   "source": [
    "len(df_y_test_pred)"
   ]
  },
  {
   "cell_type": "code",
   "execution_count": 138,
   "metadata": {},
   "outputs": [
    {
     "data": {
      "image/png": "[encoded data removed]",
      "text/plain": [
       "<Figure size 432x432 with 3 Axes>"
      ]
     },
     "metadata": {},
     "output_type": "display_data"
    }
   ],
   "source": [
    "sns.set(style=\"whitegrid\", color_codes=True)\n",
    "sns.jointplot(data=df_y_test_pred,x='test', y='pred',  kind='scatter')\n",
    "plt.show()\n"
   ]
  },
  {
   "cell_type": "code",
   "execution_count": 139,
   "metadata": {},
   "outputs": [
    {
     "name": "stderr",
     "output_type": "stream",
     "text": [
      "/opt/anaconda3/lib/python3.8/site-packages/seaborn/distributions.py:434: UserWarning: The following kwargs were not used by contour: 'marginal_ticks'\n",
      "  cset = contour_func(xx, yy, z, n_levels, **kwargs)\n"
     ]
    },
    {
     "data": {
      "image/png": "[encoded data removed]",
      "text/plain": [
       "<Figure size 432x432 with 3 Axes>"
      ]
     },
     "metadata": {},
     "output_type": "display_data"
    }
   ],
   "source": [
    "\n",
    "\n",
    "sns.set(style=\"whitegrid\", color_codes=True)\n",
    "sns.jointplot(data=df_y_test_pred,x='test', y='pred',  kind='kde', marginal_ticks=True)\n",
    "plt.show()\n"
   ]
  },
  {
   "cell_type": "code",
   "execution_count": 140,
   "metadata": {},
   "outputs": [
    {
     "data": {
      "image/png": "[encoded data removed]",
      "text/plain": [
       "<Figure size 432x432 with 3 Axes>"
      ]
     },
     "metadata": {},
     "output_type": "display_data"
    }
   ],
   "source": [
    "sns.set(style=\"whitegrid\", color_codes=True)\n",
    "sns.jointplot(data=df_y_test_pred,x='test', y='pred',  kind='hex')\n",
    "plt.show()\n"
   ]
  },
  {
   "cell_type": "code",
   "execution_count": 141,
   "metadata": {},
   "outputs": [
    {
     "data": {
      "text/plain": [
       "<function matplotlib.pyplot.show(close=None, block=None)>"
      ]
     },
     "execution_count": 141,
     "metadata": {},
     "output_type": "execute_result"
    },
    {
     "data": {
      "image/png": "[encoded data removed]",
      "text/plain": [
       "<Figure size 432x288 with 1 Axes>"
      ]
     },
     "metadata": {},
     "output_type": "display_data"
    }
   ],
   "source": [
    "# Actual vs. Predicted White White Quality Scatter Plot\n",
    "plt.scatter(y_test,y_pred,alpha=0.3, marker='o', color='pink', edgecolors='purple')\n",
    "plt.xlabel('Actual Quality')\n",
    "plt.ylabel('Predicted Quality')\n",
    "plt.title('Actual vs. Predicted White Wine Quality')\n",
    "plt.show"
   ]
  },
  {
   "cell_type": "code",
   "execution_count": null,
   "metadata": {},
   "outputs": [],
   "source": []
  },
  {
   "cell_type": "code",
   "execution_count": 142,
   "metadata": {},
   "outputs": [],
   "source": [
    "columns = X.columns"
   ]
  },
  {
   "cell_type": "code",
   "execution_count": 143,
   "metadata": {},
   "outputs": [
    {
     "data": {
      "text/plain": [
       "fixed_acidity           0.066522\n",
       "volatile_acidity        0.112862\n",
       "citric_acid             0.068210\n",
       "residual_sugar          0.080173\n",
       "chlorides               0.075430\n",
       "free_sulfur_dioxide     0.104413\n",
       "total_sulfur_dioxide    0.076010\n",
       "density                 0.133713\n",
       "pH                      0.070459\n",
       "sulphates               0.058932\n",
       "alcohol                 0.153275\n",
       "dtype: float64"
      ]
     },
     "execution_count": 143,
     "metadata": {},
     "output_type": "execute_result"
    }
   ],
   "source": [
    "rfrGraph = pd.Series(importance,columns)\n",
    "rfrGraph"
   ]
  },
  {
   "cell_type": "code",
   "execution_count": 144,
   "metadata": {},
   "outputs": [
    {
     "data": {
      "text/plain": [
       "[Text(0.5, 1.0, 'White Wine Quality - Random Forest Regressor Model Visualization (Outliers Not Removed)')]"
      ]
     },
     "execution_count": 144,
     "metadata": {},
     "output_type": "execute_result"
    },
    {
     "data": {
      "image/png": "[encoded data removed]",
      "text/plain": [
       "<Figure size 720x720 with 1 Axes>"
      ]
     },
     "metadata": {},
     "output_type": "display_data"
    }
   ],
   "source": [
    "import matplotlib.pyplot as plt\n",
    "from matplotlib.pyplot import figure\n",
    "\n",
    "figure(figsize=(10,10))\n",
    "\n",
    "rfrGraph.sort_values().plot.barh(color=\"purple\")\n",
    "\n",
    "[plt.title(\"White Wine Quality - Random Forest Regressor Model Visualization\")]"
   ]
  },
  {
   "cell_type": "code",
   "execution_count": null,
   "metadata": {},
   "outputs": [],
   "source": []
  },
  {
   "cell_type": "code",
   "execution_count": null,
   "metadata": {},
   "outputs": [],
   "source": []
  }
 ],
 "metadata": {
  "kernelspec": {
   "display_name": "Python 3",
   "language": "python",
   "name": "python3"
  },
  "language_info": {
   "codemirror_mode": {
    "name": "ipython",
    "version": 3
   },
   "file_extension": ".py",
   "mimetype": "text/x-python",
   "name": "python",
   "nbconvert_exporter": "python",
   "pygments_lexer": "ipython3",
   "version": "3.8.3"
  }
 },
 "nbformat": 4,
 "nbformat_minor": 2
}
