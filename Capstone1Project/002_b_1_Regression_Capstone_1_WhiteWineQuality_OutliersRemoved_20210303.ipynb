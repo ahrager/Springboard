{
 "cells": [
  {
   "cell_type": "markdown",
   "metadata": {},
   "source": [
    "### Capstone 1: White Wine Quality, UC Irvine\n",
    "(Source: Paulo Cortez (Univ. Minho), Antonio Cerdeira, Fernando Almeida, Telmo Matos and Jose Reis (CVRVV) @ 2009)\n",
    "\n",
    "# 2. Linear Regression\n",
    "\n",
    "### Outliers Removed, Categories Not Balanced\n",
    "\n",
    "#### Audrey Hughes Rager\n",
    "#### March 3, 2021\n"
   ]
  },
  {
   "cell_type": "markdown",
   "metadata": {},
   "source": [
    "## Import Packages"
   ]
  },
  {
   "cell_type": "code",
   "execution_count": 167,
   "metadata": {},
   "outputs": [],
   "source": [
    "#Import packages\n",
    "import pandas as pd\n",
    "import matplotlib.pyplot as plt\n",
    "import seaborn as sns\n",
    "import numpy as np\n",
    "import scipy.stats as stats\n",
    "import datetime as dt\n",
    "import statsmodels.api as sm\n",
    "from scipy.stats import norm\n",
    "import statsmodels.stats.weightstats as smsw\n",
    "import pylab\n",
    "\n",
    "# Import sklearn\n",
    "from sklearn.model_selection import train_test_split, cross_val_score\n",
    "from sklearn import svm\n",
    "#from sklearn import cross_validation\n",
    "from scipy import stats as st\n",
    "import warnings \n",
    "warnings.filterwarnings('ignore')\n",
    "\n",
    "#Import Imbalanced Learn\n",
    "from imblearn.over_sampling import RandomOverSampler\n",
    "\n",
    "# Import pyplot from matplotlib as plt\n",
    "import matplotlib.pyplot as plt\n",
    "%matplotlib inline\n",
    "\n",
    "sns.set_style('whitegrid')\n"
   ]
  },
  {
   "cell_type": "markdown",
   "metadata": {},
   "source": [
    "<h2>Data Wrangling</h2>"
   ]
  },
  {
   "cell_type": "code",
   "execution_count": 168,
   "metadata": {},
   "outputs": [
    {
     "data": {
      "text/html": [
       "<div>\n",
       "<style scoped>\n",
       "    .dataframe tbody tr th:only-of-type {\n",
       "        vertical-align: middle;\n",
       "    }\n",
       "\n",
       "    .dataframe tbody tr th {\n",
       "        vertical-align: top;\n",
       "    }\n",
       "\n",
       "    .dataframe thead th {\n",
       "        text-align: right;\n",
       "    }\n",
       "</style>\n",
       "<table border=\"1\" class=\"dataframe\">\n",
       "  <thead>\n",
       "    <tr style=\"text-align: right;\">\n",
       "      <th></th>\n",
       "      <th>Unnamed: 0</th>\n",
       "      <th>fixed_acidity</th>\n",
       "      <th>volatile_acidity</th>\n",
       "      <th>citric_acid</th>\n",
       "      <th>residual_sugar</th>\n",
       "      <th>chlorides</th>\n",
       "      <th>free_sulfur_dioxide</th>\n",
       "      <th>total_sulfur_dioxide</th>\n",
       "      <th>density</th>\n",
       "      <th>pH</th>\n",
       "      <th>sulphates</th>\n",
       "      <th>alcohol</th>\n",
       "      <th>quality</th>\n",
       "    </tr>\n",
       "  </thead>\n",
       "  <tbody>\n",
       "    <tr>\n",
       "      <th>count</th>\n",
       "      <td>3951.000000</td>\n",
       "      <td>3951.000000</td>\n",
       "      <td>3951.000000</td>\n",
       "      <td>3951.000000</td>\n",
       "      <td>3951.000000</td>\n",
       "      <td>3951.000000</td>\n",
       "      <td>3951.000000</td>\n",
       "      <td>3951.000000</td>\n",
       "      <td>3951.000000</td>\n",
       "      <td>3951.000000</td>\n",
       "      <td>3951.000000</td>\n",
       "      <td>3951.000000</td>\n",
       "      <td>3951.000000</td>\n",
       "    </tr>\n",
       "    <tr>\n",
       "      <th>mean</th>\n",
       "      <td>2509.315363</td>\n",
       "      <td>6.809048</td>\n",
       "      <td>0.263828</td>\n",
       "      <td>0.322749</td>\n",
       "      <td>6.352759</td>\n",
       "      <td>0.042299</td>\n",
       "      <td>34.730575</td>\n",
       "      <td>136.953176</td>\n",
       "      <td>0.993844</td>\n",
       "      <td>3.189043</td>\n",
       "      <td>0.481445</td>\n",
       "      <td>10.592035</td>\n",
       "      <td>5.953936</td>\n",
       "    </tr>\n",
       "    <tr>\n",
       "      <th>std</th>\n",
       "      <td>1414.165983</td>\n",
       "      <td>0.726417</td>\n",
       "      <td>0.076298</td>\n",
       "      <td>0.083076</td>\n",
       "      <td>4.905477</td>\n",
       "      <td>0.009889</td>\n",
       "      <td>14.941739</td>\n",
       "      <td>41.049024</td>\n",
       "      <td>0.002877</td>\n",
       "      <td>0.137980</td>\n",
       "      <td>0.098904</td>\n",
       "      <td>1.214421</td>\n",
       "      <td>0.856194</td>\n",
       "    </tr>\n",
       "    <tr>\n",
       "      <th>min</th>\n",
       "      <td>0.000000</td>\n",
       "      <td>4.900000</td>\n",
       "      <td>0.080000</td>\n",
       "      <td>0.110000</td>\n",
       "      <td>0.600000</td>\n",
       "      <td>0.016000</td>\n",
       "      <td>2.000000</td>\n",
       "      <td>19.000000</td>\n",
       "      <td>0.987110</td>\n",
       "      <td>2.830000</td>\n",
       "      <td>0.220000</td>\n",
       "      <td>8.400000</td>\n",
       "      <td>3.000000</td>\n",
       "    </tr>\n",
       "    <tr>\n",
       "      <th>25%</th>\n",
       "      <td>1269.000000</td>\n",
       "      <td>6.300000</td>\n",
       "      <td>0.210000</td>\n",
       "      <td>0.270000</td>\n",
       "      <td>1.800000</td>\n",
       "      <td>0.035000</td>\n",
       "      <td>24.000000</td>\n",
       "      <td>107.000000</td>\n",
       "      <td>0.991580</td>\n",
       "      <td>3.100000</td>\n",
       "      <td>0.410000</td>\n",
       "      <td>9.500000</td>\n",
       "      <td>5.000000</td>\n",
       "    </tr>\n",
       "    <tr>\n",
       "      <th>50%</th>\n",
       "      <td>2588.000000</td>\n",
       "      <td>6.800000</td>\n",
       "      <td>0.260000</td>\n",
       "      <td>0.310000</td>\n",
       "      <td>5.200000</td>\n",
       "      <td>0.042000</td>\n",
       "      <td>34.000000</td>\n",
       "      <td>132.000000</td>\n",
       "      <td>0.993520</td>\n",
       "      <td>3.180000</td>\n",
       "      <td>0.470000</td>\n",
       "      <td>10.500000</td>\n",
       "      <td>6.000000</td>\n",
       "    </tr>\n",
       "    <tr>\n",
       "      <th>75%</th>\n",
       "      <td>3731.500000</td>\n",
       "      <td>7.300000</td>\n",
       "      <td>0.310000</td>\n",
       "      <td>0.370000</td>\n",
       "      <td>9.600000</td>\n",
       "      <td>0.049000</td>\n",
       "      <td>45.000000</td>\n",
       "      <td>166.000000</td>\n",
       "      <td>0.995870</td>\n",
       "      <td>3.280000</td>\n",
       "      <td>0.540000</td>\n",
       "      <td>11.400000</td>\n",
       "      <td>6.000000</td>\n",
       "    </tr>\n",
       "    <tr>\n",
       "      <th>max</th>\n",
       "      <td>4897.000000</td>\n",
       "      <td>8.700000</td>\n",
       "      <td>0.485000</td>\n",
       "      <td>0.540000</td>\n",
       "      <td>20.800000</td>\n",
       "      <td>0.071000</td>\n",
       "      <td>78.000000</td>\n",
       "      <td>253.000000</td>\n",
       "      <td>1.001960</td>\n",
       "      <td>3.570000</td>\n",
       "      <td>0.760000</td>\n",
       "      <td>14.200000</td>\n",
       "      <td>9.000000</td>\n",
       "    </tr>\n",
       "  </tbody>\n",
       "</table>\n",
       "</div>"
      ],
      "text/plain": [
       "        Unnamed: 0  fixed_acidity  volatile_acidity  citric_acid  \\\n",
       "count  3951.000000    3951.000000       3951.000000  3951.000000   \n",
       "mean   2509.315363       6.809048          0.263828     0.322749   \n",
       "std    1414.165983       0.726417          0.076298     0.083076   \n",
       "min       0.000000       4.900000          0.080000     0.110000   \n",
       "25%    1269.000000       6.300000          0.210000     0.270000   \n",
       "50%    2588.000000       6.800000          0.260000     0.310000   \n",
       "75%    3731.500000       7.300000          0.310000     0.370000   \n",
       "max    4897.000000       8.700000          0.485000     0.540000   \n",
       "\n",
       "       residual_sugar    chlorides  free_sulfur_dioxide  total_sulfur_dioxide  \\\n",
       "count     3951.000000  3951.000000          3951.000000           3951.000000   \n",
       "mean         6.352759     0.042299            34.730575            136.953176   \n",
       "std          4.905477     0.009889            14.941739             41.049024   \n",
       "min          0.600000     0.016000             2.000000             19.000000   \n",
       "25%          1.800000     0.035000            24.000000            107.000000   \n",
       "50%          5.200000     0.042000            34.000000            132.000000   \n",
       "75%          9.600000     0.049000            45.000000            166.000000   \n",
       "max         20.800000     0.071000            78.000000            253.000000   \n",
       "\n",
       "           density           pH    sulphates      alcohol      quality  \n",
       "count  3951.000000  3951.000000  3951.000000  3951.000000  3951.000000  \n",
       "mean      0.993844     3.189043     0.481445    10.592035     5.953936  \n",
       "std       0.002877     0.137980     0.098904     1.214421     0.856194  \n",
       "min       0.987110     2.830000     0.220000     8.400000     3.000000  \n",
       "25%       0.991580     3.100000     0.410000     9.500000     5.000000  \n",
       "50%       0.993520     3.180000     0.470000    10.500000     6.000000  \n",
       "75%       0.995870     3.280000     0.540000    11.400000     6.000000  \n",
       "max       1.001960     3.570000     0.760000    14.200000     9.000000  "
      ]
     },
     "execution_count": 168,
     "metadata": {},
     "output_type": "execute_result"
    }
   ],
   "source": [
    "#Import csv files into Pandas data frames\n",
    "#reddf = pd.read_csv('winequality-red.csv',sep=\";\")\n",
    "#whitedf = pd.read_csv('winequality-white.csv',sep=\";\")\n",
    "df = pd.read_csv('winequality-white-outliers-removed.csv',sep=\";\")\n",
    "df = df.rename({'fixed acidity': 'fixed_acidity','volatile acidity': 'volatile_acidity', 'citric acid': 'citric_acid', 'residual sugar':'residual_sugar',  'free sulfur dioxide':'free_sulfur_dioxide', 'total sulfur dioxide':'total_sulfur_dioxide'}, axis=1)\n",
    "\n",
    "df.describe()\n"
   ]
  },
  {
   "cell_type": "markdown",
   "metadata": {},
   "source": [
    "<h2>Identifying and Removing Outliers</h2>\n",
    "<p>A predictor variable is considered to be an outlier only if it is > Q<sub>3</sub> + 1.5 IQR. Because all skewed data are positively skewed, we only need to eliminate those values.</p>"
   ]
  },
  {
   "cell_type": "code",
   "execution_count": 169,
   "metadata": {},
   "outputs": [],
   "source": [
    "# Filtering Values between Q1-1.5IQR and Q3+1.5IQR\n",
    "ValueList = ('fixed_acidity', 'volatile_acidity', 'citric_acid', 'residual_sugar', 'chlorides',\n",
    "            'free_sulfur_dioxide', 'total_sulfur_dioxide', 'density', 'pH', 'sulphates', 'alcohol')\n",
    "\n",
    "for myValue in ValueList:\n",
    "    #compute range of data\n",
    "    myValueMax = df[myValue].max()\n",
    "    myValueMin = df[myValue].min()\n",
    "    myValueRange = myValueMax - myValueMin\n",
    "    \n",
    "    # Computing IQR\n",
    "    Q1 = df[myValue].quantile(0.25)\n",
    "    Q3 = df[myValue].quantile(0.75)\n",
    "    IQR = Q3 - Q1\n",
    "    gtdropvalue = (Q3 + (1.5 * IQR))\n",
    "    ltdropvalue = (Q1 - (1.5 * IQR))\n",
    "    \n",
    "    index_names_right = df[df[myValue] >= gtdropvalue].index\n",
    "    index_names_left = df[df[myValue] <= ltdropvalue].index\n",
    "    df.drop(index_names_right, inplace = True)\n",
    "    df.drop(index_names_left, inplace = True)\n",
    "    \n",
    "    \n",
    "   "
   ]
  },
  {
   "cell_type": "code",
   "execution_count": 170,
   "metadata": {},
   "outputs": [
    {
     "data": {
      "text/html": [
       "<div>\n",
       "<style scoped>\n",
       "    .dataframe tbody tr th:only-of-type {\n",
       "        vertical-align: middle;\n",
       "    }\n",
       "\n",
       "    .dataframe tbody tr th {\n",
       "        vertical-align: top;\n",
       "    }\n",
       "\n",
       "    .dataframe thead th {\n",
       "        text-align: right;\n",
       "    }\n",
       "</style>\n",
       "<table border=\"1\" class=\"dataframe\">\n",
       "  <thead>\n",
       "    <tr style=\"text-align: right;\">\n",
       "      <th></th>\n",
       "      <th>Unnamed: 0</th>\n",
       "      <th>fixed_acidity</th>\n",
       "      <th>volatile_acidity</th>\n",
       "      <th>citric_acid</th>\n",
       "      <th>residual_sugar</th>\n",
       "      <th>chlorides</th>\n",
       "      <th>free_sulfur_dioxide</th>\n",
       "      <th>total_sulfur_dioxide</th>\n",
       "      <th>density</th>\n",
       "      <th>pH</th>\n",
       "      <th>sulphates</th>\n",
       "      <th>alcohol</th>\n",
       "      <th>quality</th>\n",
       "    </tr>\n",
       "  </thead>\n",
       "  <tbody>\n",
       "    <tr>\n",
       "      <th>count</th>\n",
       "      <td>3759.000000</td>\n",
       "      <td>3759.000000</td>\n",
       "      <td>3759.000000</td>\n",
       "      <td>3759.000000</td>\n",
       "      <td>3759.000000</td>\n",
       "      <td>3759.000000</td>\n",
       "      <td>3759.000000</td>\n",
       "      <td>3759.000000</td>\n",
       "      <td>3759.000000</td>\n",
       "      <td>3759.000000</td>\n",
       "      <td>3759.000000</td>\n",
       "      <td>3759.000000</td>\n",
       "      <td>3759.000000</td>\n",
       "    </tr>\n",
       "    <tr>\n",
       "      <th>mean</th>\n",
       "      <td>2506.943336</td>\n",
       "      <td>6.809936</td>\n",
       "      <td>0.261729</td>\n",
       "      <td>0.320564</td>\n",
       "      <td>6.344227</td>\n",
       "      <td>0.042298</td>\n",
       "      <td>34.605347</td>\n",
       "      <td>136.577946</td>\n",
       "      <td>0.993824</td>\n",
       "      <td>3.188606</td>\n",
       "      <td>0.477667</td>\n",
       "      <td>10.599330</td>\n",
       "      <td>5.959564</td>\n",
       "    </tr>\n",
       "    <tr>\n",
       "      <th>std</th>\n",
       "      <td>1413.814206</td>\n",
       "      <td>0.723280</td>\n",
       "      <td>0.073239</td>\n",
       "      <td>0.079510</td>\n",
       "      <td>4.904316</td>\n",
       "      <td>0.009842</td>\n",
       "      <td>14.713299</td>\n",
       "      <td>40.783830</td>\n",
       "      <td>0.002862</td>\n",
       "      <td>0.136200</td>\n",
       "      <td>0.094768</td>\n",
       "      <td>1.210461</td>\n",
       "      <td>0.849483</td>\n",
       "    </tr>\n",
       "    <tr>\n",
       "      <th>min</th>\n",
       "      <td>0.000000</td>\n",
       "      <td>4.900000</td>\n",
       "      <td>0.080000</td>\n",
       "      <td>0.130000</td>\n",
       "      <td>0.600000</td>\n",
       "      <td>0.016000</td>\n",
       "      <td>2.000000</td>\n",
       "      <td>21.000000</td>\n",
       "      <td>0.987110</td>\n",
       "      <td>2.840000</td>\n",
       "      <td>0.220000</td>\n",
       "      <td>8.400000</td>\n",
       "      <td>3.000000</td>\n",
       "    </tr>\n",
       "    <tr>\n",
       "      <th>25%</th>\n",
       "      <td>1272.500000</td>\n",
       "      <td>6.300000</td>\n",
       "      <td>0.210000</td>\n",
       "      <td>0.270000</td>\n",
       "      <td>1.800000</td>\n",
       "      <td>0.035000</td>\n",
       "      <td>24.000000</td>\n",
       "      <td>107.000000</td>\n",
       "      <td>0.991565</td>\n",
       "      <td>3.100000</td>\n",
       "      <td>0.410000</td>\n",
       "      <td>9.500000</td>\n",
       "      <td>5.000000</td>\n",
       "    </tr>\n",
       "    <tr>\n",
       "      <th>50%</th>\n",
       "      <td>2588.000000</td>\n",
       "      <td>6.800000</td>\n",
       "      <td>0.260000</td>\n",
       "      <td>0.310000</td>\n",
       "      <td>5.200000</td>\n",
       "      <td>0.042000</td>\n",
       "      <td>34.000000</td>\n",
       "      <td>132.000000</td>\n",
       "      <td>0.993500</td>\n",
       "      <td>3.180000</td>\n",
       "      <td>0.470000</td>\n",
       "      <td>10.500000</td>\n",
       "      <td>6.000000</td>\n",
       "    </tr>\n",
       "    <tr>\n",
       "      <th>75%</th>\n",
       "      <td>3723.500000</td>\n",
       "      <td>7.300000</td>\n",
       "      <td>0.310000</td>\n",
       "      <td>0.370000</td>\n",
       "      <td>9.575000</td>\n",
       "      <td>0.049000</td>\n",
       "      <td>45.000000</td>\n",
       "      <td>165.000000</td>\n",
       "      <td>0.995810</td>\n",
       "      <td>3.280000</td>\n",
       "      <td>0.540000</td>\n",
       "      <td>11.400000</td>\n",
       "      <td>6.000000</td>\n",
       "    </tr>\n",
       "    <tr>\n",
       "      <th>max</th>\n",
       "      <td>4897.000000</td>\n",
       "      <td>8.700000</td>\n",
       "      <td>0.450000</td>\n",
       "      <td>0.510000</td>\n",
       "      <td>20.800000</td>\n",
       "      <td>0.069000</td>\n",
       "      <td>76.000000</td>\n",
       "      <td>251.000000</td>\n",
       "      <td>1.001960</td>\n",
       "      <td>3.540000</td>\n",
       "      <td>0.730000</td>\n",
       "      <td>14.200000</td>\n",
       "      <td>9.000000</td>\n",
       "    </tr>\n",
       "  </tbody>\n",
       "</table>\n",
       "</div>"
      ],
      "text/plain": [
       "        Unnamed: 0  fixed_acidity  volatile_acidity  citric_acid  \\\n",
       "count  3759.000000    3759.000000       3759.000000  3759.000000   \n",
       "mean   2506.943336       6.809936          0.261729     0.320564   \n",
       "std    1413.814206       0.723280          0.073239     0.079510   \n",
       "min       0.000000       4.900000          0.080000     0.130000   \n",
       "25%    1272.500000       6.300000          0.210000     0.270000   \n",
       "50%    2588.000000       6.800000          0.260000     0.310000   \n",
       "75%    3723.500000       7.300000          0.310000     0.370000   \n",
       "max    4897.000000       8.700000          0.450000     0.510000   \n",
       "\n",
       "       residual_sugar    chlorides  free_sulfur_dioxide  total_sulfur_dioxide  \\\n",
       "count     3759.000000  3759.000000          3759.000000           3759.000000   \n",
       "mean         6.344227     0.042298            34.605347            136.577946   \n",
       "std          4.904316     0.009842            14.713299             40.783830   \n",
       "min          0.600000     0.016000             2.000000             21.000000   \n",
       "25%          1.800000     0.035000            24.000000            107.000000   \n",
       "50%          5.200000     0.042000            34.000000            132.000000   \n",
       "75%          9.575000     0.049000            45.000000            165.000000   \n",
       "max         20.800000     0.069000            76.000000            251.000000   \n",
       "\n",
       "           density           pH    sulphates      alcohol      quality  \n",
       "count  3759.000000  3759.000000  3759.000000  3759.000000  3759.000000  \n",
       "mean      0.993824     3.188606     0.477667    10.599330     5.959564  \n",
       "std       0.002862     0.136200     0.094768     1.210461     0.849483  \n",
       "min       0.987110     2.840000     0.220000     8.400000     3.000000  \n",
       "25%       0.991565     3.100000     0.410000     9.500000     5.000000  \n",
       "50%       0.993500     3.180000     0.470000    10.500000     6.000000  \n",
       "75%       0.995810     3.280000     0.540000    11.400000     6.000000  \n",
       "max       1.001960     3.540000     0.730000    14.200000     9.000000  "
      ]
     },
     "execution_count": 170,
     "metadata": {},
     "output_type": "execute_result"
    }
   ],
   "source": [
    "df.describe()"
   ]
  },
  {
   "cell_type": "markdown",
   "metadata": {},
   "source": [
    "### Fitting Linear Regression using `statsmodels`\n",
    "***\n",
    "[Statsmodels](http://statsmodels.sourceforge.net/) is a great Python library for a lot of basic and inferential statistics. It also provides basic regression functions using an R-like syntax, so it's commonly used by statisticians. While we don't cover statsmodels officially in the Data Science Intensive workshop, it's a good library to have in your toolbox. Here's a quick example of what you could do with it. The version of least-squares we will use in statsmodels is called *ordinary least-squares (OLS)*. There are many other versions of least-squares such as [partial least squares (PLS)](https://en.wikipedia.org/wiki/Partial_least_squares_regression) and [weighted least squares (WLS)](https://en.wikipedia.org/wiki/Iteratively_reweighted_least_squares)."
   ]
  },
  {
   "cell_type": "code",
   "execution_count": 171,
   "metadata": {},
   "outputs": [],
   "source": [
    "# Import regression modules\n",
    "import statsmodels.api as sm\n",
    "from statsmodels.formula.api import ols"
   ]
  },
  {
   "cell_type": "code",
   "execution_count": 172,
   "metadata": {},
   "outputs": [
    {
     "data": {
      "text/plain": [
       "'0.12.0'"
      ]
     },
     "execution_count": 172,
     "metadata": {},
     "output_type": "execute_result"
    }
   ],
   "source": [
    "sm.__version__"
   ]
  },
  {
   "cell_type": "markdown",
   "metadata": {},
   "source": [
    "## Model 1\n"
   ]
  },
  {
   "cell_type": "code",
   "execution_count": 173,
   "metadata": {},
   "outputs": [
    {
     "data": {
      "text/html": [
       "<div>\n",
       "<style scoped>\n",
       "    .dataframe tbody tr th:only-of-type {\n",
       "        vertical-align: middle;\n",
       "    }\n",
       "\n",
       "    .dataframe tbody tr th {\n",
       "        vertical-align: top;\n",
       "    }\n",
       "\n",
       "    .dataframe thead th {\n",
       "        text-align: right;\n",
       "    }\n",
       "</style>\n",
       "<table border=\"1\" class=\"dataframe\">\n",
       "  <thead>\n",
       "    <tr style=\"text-align: right;\">\n",
       "      <th></th>\n",
       "      <th>Unnamed: 0</th>\n",
       "      <th>fixed_acidity</th>\n",
       "      <th>volatile_acidity</th>\n",
       "      <th>citric_acid</th>\n",
       "      <th>residual_sugar</th>\n",
       "      <th>chlorides</th>\n",
       "      <th>free_sulfur_dioxide</th>\n",
       "      <th>total_sulfur_dioxide</th>\n",
       "      <th>density</th>\n",
       "      <th>pH</th>\n",
       "      <th>sulphates</th>\n",
       "      <th>alcohol</th>\n",
       "    </tr>\n",
       "  </thead>\n",
       "  <tbody>\n",
       "    <tr>\n",
       "      <th>1341</th>\n",
       "      <td>1757</td>\n",
       "      <td>6.9</td>\n",
       "      <td>0.29</td>\n",
       "      <td>0.23</td>\n",
       "      <td>8.6</td>\n",
       "      <td>0.056</td>\n",
       "      <td>56.0</td>\n",
       "      <td>215.0</td>\n",
       "      <td>0.99670</td>\n",
       "      <td>3.17</td>\n",
       "      <td>0.44</td>\n",
       "      <td>8.8</td>\n",
       "    </tr>\n",
       "    <tr>\n",
       "      <th>1062</th>\n",
       "      <td>1377</td>\n",
       "      <td>6.9</td>\n",
       "      <td>0.28</td>\n",
       "      <td>0.41</td>\n",
       "      <td>1.7</td>\n",
       "      <td>0.050</td>\n",
       "      <td>10.0</td>\n",
       "      <td>136.0</td>\n",
       "      <td>0.99300</td>\n",
       "      <td>3.16</td>\n",
       "      <td>0.71</td>\n",
       "      <td>11.4</td>\n",
       "    </tr>\n",
       "    <tr>\n",
       "      <th>2971</th>\n",
       "      <td>3743</td>\n",
       "      <td>7.0</td>\n",
       "      <td>0.15</td>\n",
       "      <td>0.28</td>\n",
       "      <td>14.7</td>\n",
       "      <td>0.051</td>\n",
       "      <td>29.0</td>\n",
       "      <td>149.0</td>\n",
       "      <td>0.99792</td>\n",
       "      <td>2.96</td>\n",
       "      <td>0.39</td>\n",
       "      <td>9.0</td>\n",
       "    </tr>\n",
       "    <tr>\n",
       "      <th>2151</th>\n",
       "      <td>2799</td>\n",
       "      <td>6.7</td>\n",
       "      <td>0.16</td>\n",
       "      <td>0.37</td>\n",
       "      <td>1.3</td>\n",
       "      <td>0.036</td>\n",
       "      <td>45.0</td>\n",
       "      <td>125.0</td>\n",
       "      <td>0.98964</td>\n",
       "      <td>3.19</td>\n",
       "      <td>0.51</td>\n",
       "      <td>12.4</td>\n",
       "    </tr>\n",
       "    <tr>\n",
       "      <th>405</th>\n",
       "      <td>518</td>\n",
       "      <td>5.9</td>\n",
       "      <td>0.13</td>\n",
       "      <td>0.28</td>\n",
       "      <td>1.9</td>\n",
       "      <td>0.050</td>\n",
       "      <td>20.0</td>\n",
       "      <td>78.0</td>\n",
       "      <td>0.99180</td>\n",
       "      <td>3.43</td>\n",
       "      <td>0.64</td>\n",
       "      <td>10.8</td>\n",
       "    </tr>\n",
       "  </tbody>\n",
       "</table>\n",
       "</div>"
      ],
      "text/plain": [
       "      Unnamed: 0  fixed_acidity  volatile_acidity  citric_acid  \\\n",
       "1341        1757            6.9              0.29         0.23   \n",
       "1062        1377            6.9              0.28         0.41   \n",
       "2971        3743            7.0              0.15         0.28   \n",
       "2151        2799            6.7              0.16         0.37   \n",
       "405          518            5.9              0.13         0.28   \n",
       "\n",
       "      residual_sugar  chlorides  free_sulfur_dioxide  total_sulfur_dioxide  \\\n",
       "1341             8.6      0.056                 56.0                 215.0   \n",
       "1062             1.7      0.050                 10.0                 136.0   \n",
       "2971            14.7      0.051                 29.0                 149.0   \n",
       "2151             1.3      0.036                 45.0                 125.0   \n",
       "405              1.9      0.050                 20.0                  78.0   \n",
       "\n",
       "      density    pH  sulphates  alcohol  \n",
       "1341  0.99670  3.17       0.44      8.8  \n",
       "1062  0.99300  3.16       0.71     11.4  \n",
       "2971  0.99792  2.96       0.39      9.0  \n",
       "2151  0.98964  3.19       0.51     12.4  \n",
       "405   0.99180  3.43       0.64     10.8  "
      ]
     },
     "execution_count": 173,
     "metadata": {},
     "output_type": "execute_result"
    }
   ],
   "source": [
    "ym1 = df.quality\n",
    "Xm1 = df.drop(['quality'],axis=1)\n",
    "from sklearn.model_selection import train_test_split\n",
    "Xm1_train, Xm1_test, ym1_train, ym1_test = train_test_split(Xm1, ym1, test_size=0.25, random_state=101)\n",
    "Xm1_train.head()"
   ]
  },
  {
   "cell_type": "code",
   "execution_count": 174,
   "metadata": {},
   "outputs": [
    {
     "data": {
      "text/plain": [
       "(2819, 12)"
      ]
     },
     "execution_count": 174,
     "metadata": {},
     "output_type": "execute_result"
    }
   ],
   "source": [
    "Xm1_train.shape"
   ]
  },
  {
   "cell_type": "code",
   "execution_count": 175,
   "metadata": {},
   "outputs": [
    {
     "name": "stdout",
     "output_type": "stream",
     "text": [
      "Estimated intercept coefficient: 228.26083426575047\n",
      "Number of coefficients: 12\n"
     ]
    },
    {
     "data": {
      "text/html": [
       "<div>\n",
       "<style scoped>\n",
       "    .dataframe tbody tr th:only-of-type {\n",
       "        vertical-align: middle;\n",
       "    }\n",
       "\n",
       "    .dataframe tbody tr th {\n",
       "        vertical-align: top;\n",
       "    }\n",
       "\n",
       "    .dataframe thead th {\n",
       "        text-align: right;\n",
       "    }\n",
       "</style>\n",
       "<table border=\"1\" class=\"dataframe\">\n",
       "  <thead>\n",
       "    <tr style=\"text-align: right;\">\n",
       "      <th></th>\n",
       "      <th>Coefficient</th>\n",
       "    </tr>\n",
       "  </thead>\n",
       "  <tbody>\n",
       "    <tr>\n",
       "      <th>Unnamed: 0</th>\n",
       "      <td>-0.000056</td>\n",
       "    </tr>\n",
       "    <tr>\n",
       "      <th>fixed_acidity</th>\n",
       "      <td>0.150635</td>\n",
       "    </tr>\n",
       "    <tr>\n",
       "      <th>volatile_acidity</th>\n",
       "      <td>-1.927559</td>\n",
       "    </tr>\n",
       "    <tr>\n",
       "      <th>citric_acid</th>\n",
       "      <td>-0.191932</td>\n",
       "    </tr>\n",
       "    <tr>\n",
       "      <th>residual_sugar</th>\n",
       "      <td>0.107831</td>\n",
       "    </tr>\n",
       "    <tr>\n",
       "      <th>chlorides</th>\n",
       "      <td>-3.311658</td>\n",
       "    </tr>\n",
       "    <tr>\n",
       "      <th>free_sulfur_dioxide</th>\n",
       "      <td>0.004781</td>\n",
       "    </tr>\n",
       "    <tr>\n",
       "      <th>total_sulfur_dioxide</th>\n",
       "      <td>0.000246</td>\n",
       "    </tr>\n",
       "    <tr>\n",
       "      <th>density</th>\n",
       "      <td>-228.343715</td>\n",
       "    </tr>\n",
       "    <tr>\n",
       "      <th>pH</th>\n",
       "      <td>0.696375</td>\n",
       "    </tr>\n",
       "    <tr>\n",
       "      <th>sulphates</th>\n",
       "      <td>0.853825</td>\n",
       "    </tr>\n",
       "    <tr>\n",
       "      <th>alcohol</th>\n",
       "      <td>0.087842</td>\n",
       "    </tr>\n",
       "  </tbody>\n",
       "</table>\n",
       "</div>"
      ],
      "text/plain": [
       "                      Coefficient\n",
       "Unnamed: 0              -0.000056\n",
       "fixed_acidity            0.150635\n",
       "volatile_acidity        -1.927559\n",
       "citric_acid             -0.191932\n",
       "residual_sugar           0.107831\n",
       "chlorides               -3.311658\n",
       "free_sulfur_dioxide      0.004781\n",
       "total_sulfur_dioxide     0.000246\n",
       "density               -228.343715\n",
       "pH                       0.696375\n",
       "sulphates                0.853825\n",
       "alcohol                  0.087842"
      ]
     },
     "execution_count": 175,
     "metadata": {},
     "output_type": "execute_result"
    }
   ],
   "source": [
    "from sklearn.linear_model import LinearRegression\n",
    "lm1 = LinearRegression()\n",
    "lm1.fit(Xm1_train,ym1_train)\n",
    "print('Estimated intercept coefficient:',lm1.intercept_)\n",
    "print ('Number of coefficients:', len(lm1.coef_))\n",
    "coeffm1_df = pd.DataFrame(lm1.coef_,Xm1.columns,columns=['Coefficient'])\n",
    "coeffm1_df"
   ]
  },
  {
   "cell_type": "code",
   "execution_count": 176,
   "metadata": {},
   "outputs": [
    {
     "data": {
      "text/html": [
       "<div>\n",
       "<style scoped>\n",
       "    .dataframe tbody tr th:only-of-type {\n",
       "        vertical-align: middle;\n",
       "    }\n",
       "\n",
       "    .dataframe tbody tr th {\n",
       "        vertical-align: top;\n",
       "    }\n",
       "\n",
       "    .dataframe thead th {\n",
       "        text-align: right;\n",
       "    }\n",
       "</style>\n",
       "<table border=\"1\" class=\"dataframe\">\n",
       "  <thead>\n",
       "    <tr style=\"text-align: right;\">\n",
       "      <th></th>\n",
       "      <th>VIF</th>\n",
       "      <th>variable</th>\n",
       "    </tr>\n",
       "  </thead>\n",
       "  <tbody>\n",
       "    <tr>\n",
       "      <th>0</th>\n",
       "      <td>5.594502e+06</td>\n",
       "      <td>Intercept</td>\n",
       "    </tr>\n",
       "    <tr>\n",
       "      <th>1</th>\n",
       "      <td>2.922610e+00</td>\n",
       "      <td>fixed_acidity</td>\n",
       "    </tr>\n",
       "    <tr>\n",
       "      <th>2</th>\n",
       "      <td>1.150645e+00</td>\n",
       "      <td>volatile_acidity</td>\n",
       "    </tr>\n",
       "    <tr>\n",
       "      <th>3</th>\n",
       "      <td>1.122511e+00</td>\n",
       "      <td>citric_acid</td>\n",
       "    </tr>\n",
       "    <tr>\n",
       "      <th>4</th>\n",
       "      <td>1.875046e+01</td>\n",
       "      <td>residual_sugar</td>\n",
       "    </tr>\n",
       "    <tr>\n",
       "      <th>5</th>\n",
       "      <td>1.562118e+00</td>\n",
       "      <td>chlorides</td>\n",
       "    </tr>\n",
       "    <tr>\n",
       "      <th>6</th>\n",
       "      <td>1.826980e+00</td>\n",
       "      <td>free_sulfur_dioxide</td>\n",
       "    </tr>\n",
       "    <tr>\n",
       "      <th>7</th>\n",
       "      <td>2.476600e+00</td>\n",
       "      <td>total_sulfur_dioxide</td>\n",
       "    </tr>\n",
       "    <tr>\n",
       "      <th>8</th>\n",
       "      <td>4.703059e+01</td>\n",
       "      <td>density</td>\n",
       "    </tr>\n",
       "    <tr>\n",
       "      <th>9</th>\n",
       "      <td>2.314887e+00</td>\n",
       "      <td>pH</td>\n",
       "    </tr>\n",
       "    <tr>\n",
       "      <th>10</th>\n",
       "      <td>1.145296e+00</td>\n",
       "      <td>sulphates</td>\n",
       "    </tr>\n",
       "    <tr>\n",
       "      <th>11</th>\n",
       "      <td>1.275948e+01</td>\n",
       "      <td>alcohol</td>\n",
       "    </tr>\n",
       "  </tbody>\n",
       "</table>\n",
       "</div>"
      ],
      "text/plain": [
       "             VIF              variable\n",
       "0   5.594502e+06             Intercept\n",
       "1   2.922610e+00         fixed_acidity\n",
       "2   1.150645e+00      volatile_acidity\n",
       "3   1.122511e+00           citric_acid\n",
       "4   1.875046e+01        residual_sugar\n",
       "5   1.562118e+00             chlorides\n",
       "6   1.826980e+00   free_sulfur_dioxide\n",
       "7   2.476600e+00  total_sulfur_dioxide\n",
       "8   4.703059e+01               density\n",
       "9   2.314887e+00                    pH\n",
       "10  1.145296e+00             sulphates\n",
       "11  1.275948e+01               alcohol"
      ]
     },
     "execution_count": 176,
     "metadata": {},
     "output_type": "execute_result"
    }
   ],
   "source": [
    "from patsy import dmatrices\n",
    "from statsmodels.stats.outliers_influence import variance_inflation_factor\n",
    "\n",
    "#find design matrix for linear regression model using 'rating' as response variable \n",
    "ym1, Xm1 = dmatrices('quality ~ fixed_acidity+volatile_acidity+citric_acid+residual_sugar+chlorides+free_sulfur_dioxide+total_sulfur_dioxide+density+pH+sulphates+alcohol', data=df, return_type='dataframe')\n",
    "\n",
    "#calculate VIF for each explanatory variable\n",
    "vifm1 = pd.DataFrame()\n",
    "vifm1['VIF'] = [variance_inflation_factor(Xm1.values, i) for i in range(Xm1.shape[1])]\n",
    "vifm1['variable'] = Xm1.columns\n",
    "\n",
    "#view VIF for each explanatory variable \n",
    "vifm1"
   ]
  },
  {
   "cell_type": "code",
   "execution_count": 177,
   "metadata": {},
   "outputs": [],
   "source": [
    "predictions_m1 = lm1.predict(Xm1_test)"
   ]
  },
  {
   "cell_type": "markdown",
   "metadata": {},
   "source": [
    "**Predicted vs. Actual**"
   ]
  },
  {
   "cell_type": "code",
   "execution_count": 178,
   "metadata": {},
   "outputs": [
    {
     "data": {
      "text/plain": [
       "<matplotlib.collections.PathCollection at 0x7fc43db52a60>"
      ]
     },
     "execution_count": 178,
     "metadata": {},
     "output_type": "execute_result"
    },
    {
     "data": {
      "image/png": "[encoded data removed]",
      "text/plain": [
       "<Figure size 432x288 with 1 Axes>"
      ]
     },
     "metadata": {},
     "output_type": "display_data"
    }
   ],
   "source": [
    "plt.scatter(ym1_test,predictions_m1)"
   ]
  },
  {
   "cell_type": "markdown",
   "metadata": {},
   "source": [
    "**Residual Histogram**"
   ]
  },
  {
   "cell_type": "code",
   "execution_count": 179,
   "metadata": {},
   "outputs": [
    {
     "data": {
      "image/png": "[encoded data removed]",
      "text/plain": [
       "<Figure size 432x288 with 1 Axes>"
      ]
     },
     "metadata": {},
     "output_type": "display_data"
    }
   ],
   "source": [
    "sns.distplot((ym1_test-predictions_m1),bins=50);"
   ]
  },
  {
   "cell_type": "code",
   "execution_count": 180,
   "metadata": {},
   "outputs": [
    {
     "name": "stdout",
     "output_type": "stream",
     "text": [
      "R-squared: 0.29505462716995956\n",
      "Mean Squared Error (MSE): 0.5087119090136746\n",
      "Root Mean Squared Error (RMSE): 0.7132404286169388\n",
      "Log Mean Squared Error: 0.010529962876107527\n",
      "Explained Variance: 0.29704449601147653\n",
      "Mean Absolute Error (MAE): 0.5650602444170763\n",
      "Median Absolute Error: 0.47303145555838455\n",
      "Poisson Deviance: 0.08496022918428513\n",
      "Mean Gamma Deviance: 0.014386823969237447\n"
     ]
    }
   ],
   "source": [
    "from sklearn import metrics\n",
    "print('R-squared:', metrics.r2_score(ym1_test, predictions_m1))\n",
    "print('Mean Squared Error (MSE):', metrics.mean_squared_error(ym1_test, predictions_m1))\n",
    "print('Root Mean Squared Error (RMSE):', np.sqrt(metrics.mean_squared_error(ym1_test, predictions_m1)))\n",
    "print('Log Mean Squared Error:', metrics.mean_squared_log_error(ym1_test, predictions_m1))\n",
    "print('Explained Variance:', metrics.explained_variance_score(ym1_test, predictions_m1))\n",
    "print('Mean Absolute Error (MAE):', metrics.mean_absolute_error(ym1_test, predictions_m1))\n",
    "print('Median Absolute Error:', metrics.median_absolute_error(ym1_test, predictions_m1))\n",
    "print('Poisson Deviance:', metrics.mean_poisson_deviance(ym1_test, predictions_m1))\n",
    "print('Mean Gamma Deviance:', metrics.mean_gamma_deviance(ym1_test, predictions_m1))\n",
    "\n"
   ]
  },
  {
   "cell_type": "markdown",
   "metadata": {},
   "source": [
    "## Model 2 -  Drop Density For High VIF"
   ]
  },
  {
   "cell_type": "code",
   "execution_count": 181,
   "metadata": {},
   "outputs": [
    {
     "data": {
      "text/html": [
       "<div>\n",
       "<style scoped>\n",
       "    .dataframe tbody tr th:only-of-type {\n",
       "        vertical-align: middle;\n",
       "    }\n",
       "\n",
       "    .dataframe tbody tr th {\n",
       "        vertical-align: top;\n",
       "    }\n",
       "\n",
       "    .dataframe thead th {\n",
       "        text-align: right;\n",
       "    }\n",
       "</style>\n",
       "<table border=\"1\" class=\"dataframe\">\n",
       "  <thead>\n",
       "    <tr style=\"text-align: right;\">\n",
       "      <th></th>\n",
       "      <th>Unnamed: 0</th>\n",
       "      <th>fixed_acidity</th>\n",
       "      <th>volatile_acidity</th>\n",
       "      <th>citric_acid</th>\n",
       "      <th>residual_sugar</th>\n",
       "      <th>chlorides</th>\n",
       "      <th>free_sulfur_dioxide</th>\n",
       "      <th>total_sulfur_dioxide</th>\n",
       "      <th>pH</th>\n",
       "      <th>sulphates</th>\n",
       "      <th>alcohol</th>\n",
       "    </tr>\n",
       "  </thead>\n",
       "  <tbody>\n",
       "    <tr>\n",
       "      <th>1341</th>\n",
       "      <td>1757</td>\n",
       "      <td>6.9</td>\n",
       "      <td>0.29</td>\n",
       "      <td>0.23</td>\n",
       "      <td>8.6</td>\n",
       "      <td>0.056</td>\n",
       "      <td>56.0</td>\n",
       "      <td>215.0</td>\n",
       "      <td>3.17</td>\n",
       "      <td>0.44</td>\n",
       "      <td>8.8</td>\n",
       "    </tr>\n",
       "    <tr>\n",
       "      <th>1062</th>\n",
       "      <td>1377</td>\n",
       "      <td>6.9</td>\n",
       "      <td>0.28</td>\n",
       "      <td>0.41</td>\n",
       "      <td>1.7</td>\n",
       "      <td>0.050</td>\n",
       "      <td>10.0</td>\n",
       "      <td>136.0</td>\n",
       "      <td>3.16</td>\n",
       "      <td>0.71</td>\n",
       "      <td>11.4</td>\n",
       "    </tr>\n",
       "    <tr>\n",
       "      <th>2971</th>\n",
       "      <td>3743</td>\n",
       "      <td>7.0</td>\n",
       "      <td>0.15</td>\n",
       "      <td>0.28</td>\n",
       "      <td>14.7</td>\n",
       "      <td>0.051</td>\n",
       "      <td>29.0</td>\n",
       "      <td>149.0</td>\n",
       "      <td>2.96</td>\n",
       "      <td>0.39</td>\n",
       "      <td>9.0</td>\n",
       "    </tr>\n",
       "    <tr>\n",
       "      <th>2151</th>\n",
       "      <td>2799</td>\n",
       "      <td>6.7</td>\n",
       "      <td>0.16</td>\n",
       "      <td>0.37</td>\n",
       "      <td>1.3</td>\n",
       "      <td>0.036</td>\n",
       "      <td>45.0</td>\n",
       "      <td>125.0</td>\n",
       "      <td>3.19</td>\n",
       "      <td>0.51</td>\n",
       "      <td>12.4</td>\n",
       "    </tr>\n",
       "    <tr>\n",
       "      <th>405</th>\n",
       "      <td>518</td>\n",
       "      <td>5.9</td>\n",
       "      <td>0.13</td>\n",
       "      <td>0.28</td>\n",
       "      <td>1.9</td>\n",
       "      <td>0.050</td>\n",
       "      <td>20.0</td>\n",
       "      <td>78.0</td>\n",
       "      <td>3.43</td>\n",
       "      <td>0.64</td>\n",
       "      <td>10.8</td>\n",
       "    </tr>\n",
       "  </tbody>\n",
       "</table>\n",
       "</div>"
      ],
      "text/plain": [
       "      Unnamed: 0  fixed_acidity  volatile_acidity  citric_acid  \\\n",
       "1341        1757            6.9              0.29         0.23   \n",
       "1062        1377            6.9              0.28         0.41   \n",
       "2971        3743            7.0              0.15         0.28   \n",
       "2151        2799            6.7              0.16         0.37   \n",
       "405          518            5.9              0.13         0.28   \n",
       "\n",
       "      residual_sugar  chlorides  free_sulfur_dioxide  total_sulfur_dioxide  \\\n",
       "1341             8.6      0.056                 56.0                 215.0   \n",
       "1062             1.7      0.050                 10.0                 136.0   \n",
       "2971            14.7      0.051                 29.0                 149.0   \n",
       "2151             1.3      0.036                 45.0                 125.0   \n",
       "405              1.9      0.050                 20.0                  78.0   \n",
       "\n",
       "        pH  sulphates  alcohol  \n",
       "1341  3.17       0.44      8.8  \n",
       "1062  3.16       0.71     11.4  \n",
       "2971  2.96       0.39      9.0  \n",
       "2151  3.19       0.51     12.4  \n",
       "405   3.43       0.64     10.8  "
      ]
     },
     "execution_count": 181,
     "metadata": {},
     "output_type": "execute_result"
    }
   ],
   "source": [
    "ym2 = df.quality\n",
    "Xm2 = df.drop(['quality','density'],axis=1)\n",
    "from sklearn.model_selection import train_test_split\n",
    "Xm2_train, Xm2_test, ym2_train, ym2_test = train_test_split(Xm2, ym2, test_size=0.25, random_state=101)\n",
    "Xm2_train.head()"
   ]
  },
  {
   "cell_type": "code",
   "execution_count": 182,
   "metadata": {},
   "outputs": [
    {
     "name": "stdout",
     "output_type": "stream",
     "text": [
      "Estimated intercept coefficient: 2.9106650463893535\n",
      "Number of coefficients: 11\n"
     ]
    },
    {
     "data": {
      "text/html": [
       "<div>\n",
       "<style scoped>\n",
       "    .dataframe tbody tr th:only-of-type {\n",
       "        vertical-align: middle;\n",
       "    }\n",
       "\n",
       "    .dataframe tbody tr th {\n",
       "        vertical-align: top;\n",
       "    }\n",
       "\n",
       "    .dataframe thead th {\n",
       "        text-align: right;\n",
       "    }\n",
       "</style>\n",
       "<table border=\"1\" class=\"dataframe\">\n",
       "  <thead>\n",
       "    <tr style=\"text-align: right;\">\n",
       "      <th></th>\n",
       "      <th>Coefficient</th>\n",
       "    </tr>\n",
       "  </thead>\n",
       "  <tbody>\n",
       "    <tr>\n",
       "      <th>Unnamed: 0</th>\n",
       "      <td>-0.000053</td>\n",
       "    </tr>\n",
       "    <tr>\n",
       "      <th>fixed_acidity</th>\n",
       "      <td>-0.016631</td>\n",
       "    </tr>\n",
       "    <tr>\n",
       "      <th>volatile_acidity</th>\n",
       "      <td>-1.982527</td>\n",
       "    </tr>\n",
       "    <tr>\n",
       "      <th>citric_acid</th>\n",
       "      <td>-0.286405</td>\n",
       "    </tr>\n",
       "    <tr>\n",
       "      <th>residual_sugar</th>\n",
       "      <td>0.026705</td>\n",
       "    </tr>\n",
       "    <tr>\n",
       "      <th>chlorides</th>\n",
       "      <td>-5.716798</td>\n",
       "    </tr>\n",
       "    <tr>\n",
       "      <th>free_sulfur_dioxide</th>\n",
       "      <td>0.006291</td>\n",
       "    </tr>\n",
       "    <tr>\n",
       "      <th>total_sulfur_dioxide</th>\n",
       "      <td>-0.000680</td>\n",
       "    </tr>\n",
       "    <tr>\n",
       "      <th>pH</th>\n",
       "      <td>-0.018560</td>\n",
       "    </tr>\n",
       "    <tr>\n",
       "      <th>sulphates</th>\n",
       "      <td>0.534802</td>\n",
       "    </tr>\n",
       "    <tr>\n",
       "      <th>alcohol</th>\n",
       "      <td>0.344080</td>\n",
       "    </tr>\n",
       "  </tbody>\n",
       "</table>\n",
       "</div>"
      ],
      "text/plain": [
       "                      Coefficient\n",
       "Unnamed: 0              -0.000053\n",
       "fixed_acidity           -0.016631\n",
       "volatile_acidity        -1.982527\n",
       "citric_acid             -0.286405\n",
       "residual_sugar           0.026705\n",
       "chlorides               -5.716798\n",
       "free_sulfur_dioxide      0.006291\n",
       "total_sulfur_dioxide    -0.000680\n",
       "pH                      -0.018560\n",
       "sulphates                0.534802\n",
       "alcohol                  0.344080"
      ]
     },
     "execution_count": 182,
     "metadata": {},
     "output_type": "execute_result"
    }
   ],
   "source": [
    "from sklearn.linear_model import LinearRegression\n",
    "lm2 = LinearRegression()\n",
    "lm2.fit(Xm2_train,ym2_train)\n",
    "print('Estimated intercept coefficient:',lm2.intercept_)\n",
    "print ('Number of coefficients:', len(lm2.coef_))\n",
    "coeffm2_df = pd.DataFrame(lm2.coef_,Xm2.columns,columns=['Coefficient'])\n",
    "coeffm2_df"
   ]
  },
  {
   "cell_type": "code",
   "execution_count": 183,
   "metadata": {},
   "outputs": [],
   "source": [
    "predictions_m2 = lm2.predict(Xm2_test)"
   ]
  },
  {
   "cell_type": "markdown",
   "metadata": {},
   "source": [
    "**Predicted vs. Actual**"
   ]
  },
  {
   "cell_type": "code",
   "execution_count": 184,
   "metadata": {},
   "outputs": [
    {
     "data": {
      "text/plain": [
       "<matplotlib.collections.PathCollection at 0x7fc43d6c1430>"
      ]
     },
     "execution_count": 184,
     "metadata": {},
     "output_type": "execute_result"
    },
    {
     "data": {
      "image/png": "[encoded data removed]",
      "text/plain": [
       "<Figure size 432x288 with 1 Axes>"
      ]
     },
     "metadata": {},
     "output_type": "display_data"
    }
   ],
   "source": [
    "plt.scatter(ym2_test,predictions_m2)"
   ]
  },
  {
   "cell_type": "markdown",
   "metadata": {},
   "source": [
    "**Residual Histogram**"
   ]
  },
  {
   "cell_type": "code",
   "execution_count": 185,
   "metadata": {},
   "outputs": [
    {
     "data": {
      "image/png": "[encoded data removed]",
      "text/plain": [
       "<Figure size 432x288 with 1 Axes>"
      ]
     },
     "metadata": {},
     "output_type": "display_data"
    }
   ],
   "source": [
    "sns.distplot((ym2_test-predictions_m2),bins=50);"
   ]
  },
  {
   "cell_type": "code",
   "execution_count": 186,
   "metadata": {},
   "outputs": [
    {
     "name": "stdout",
     "output_type": "stream",
     "text": [
      "R-squared: 0.29275609418185944\n",
      "Mean Squared Error (MSE): 0.510370606480704\n",
      "Root Mean Squared Error (RMSE): 0.7144022721693317\n",
      "Log Mean Squared Error: 0.0105406681967557\n",
      "Explained Variance: 0.2947166432973174\n",
      "Mean Absolute Error (MAE): 0.5613576222220323\n",
      "Median Absolute Error: 0.46681675309790105\n",
      "Poisson Deviance: 0.08513743755033043\n",
      "Mean Gamma Deviance: 0.014400691106912871\n"
     ]
    }
   ],
   "source": [
    "from sklearn import metrics\n",
    "print('R-squared:', metrics.r2_score(ym2_test, predictions_m2))\n",
    "print('Mean Squared Error (MSE):', metrics.mean_squared_error(ym2_test, predictions_m2))\n",
    "print('Root Mean Squared Error (RMSE):', np.sqrt(metrics.mean_squared_error(ym2_test, predictions_m2)))\n",
    "print('Log Mean Squared Error:', metrics.mean_squared_log_error(ym2_test, predictions_m2))\n",
    "print('Explained Variance:', metrics.explained_variance_score(ym2_test, predictions_m2))\n",
    "print('Mean Absolute Error (MAE):', metrics.mean_absolute_error(ym2_test, predictions_m2))\n",
    "print('Median Absolute Error:', metrics.median_absolute_error(ym2_test, predictions_m2))\n",
    "print('Poisson Deviance:', metrics.mean_poisson_deviance(ym2_test, predictions_m2))\n",
    "print('Mean Gamma Deviance:', metrics.mean_gamma_deviance(ym2_test, predictions_m2))\n",
    "\n"
   ]
  },
  {
   "cell_type": "code",
   "execution_count": 187,
   "metadata": {},
   "outputs": [
    {
     "data": {
      "text/html": [
       "<div>\n",
       "<style scoped>\n",
       "    .dataframe tbody tr th:only-of-type {\n",
       "        vertical-align: middle;\n",
       "    }\n",
       "\n",
       "    .dataframe tbody tr th {\n",
       "        vertical-align: top;\n",
       "    }\n",
       "\n",
       "    .dataframe thead th {\n",
       "        text-align: right;\n",
       "    }\n",
       "</style>\n",
       "<table border=\"1\" class=\"dataframe\">\n",
       "  <thead>\n",
       "    <tr style=\"text-align: right;\">\n",
       "      <th></th>\n",
       "      <th>VIF</th>\n",
       "      <th>variable</th>\n",
       "    </tr>\n",
       "  </thead>\n",
       "  <tbody>\n",
       "    <tr>\n",
       "      <th>0</th>\n",
       "      <td>1230.869516</td>\n",
       "      <td>Intercept</td>\n",
       "    </tr>\n",
       "    <tr>\n",
       "      <th>1</th>\n",
       "      <td>1.277560</td>\n",
       "      <td>fixed_acidity</td>\n",
       "    </tr>\n",
       "    <tr>\n",
       "      <th>2</th>\n",
       "      <td>1.148697</td>\n",
       "      <td>volatile_acidity</td>\n",
       "    </tr>\n",
       "    <tr>\n",
       "      <th>3</th>\n",
       "      <td>1.116169</td>\n",
       "      <td>citric_acid</td>\n",
       "    </tr>\n",
       "    <tr>\n",
       "      <th>4</th>\n",
       "      <td>1.525892</td>\n",
       "      <td>residual_sugar</td>\n",
       "    </tr>\n",
       "    <tr>\n",
       "      <th>5</th>\n",
       "      <td>1.504576</td>\n",
       "      <td>chlorides</td>\n",
       "    </tr>\n",
       "    <tr>\n",
       "      <th>6</th>\n",
       "      <td>1.765687</td>\n",
       "      <td>free_sulfur_dioxide</td>\n",
       "    </tr>\n",
       "    <tr>\n",
       "      <th>7</th>\n",
       "      <td>2.297958</td>\n",
       "      <td>total_sulfur_dioxide</td>\n",
       "    </tr>\n",
       "    <tr>\n",
       "      <th>8</th>\n",
       "      <td>1.241939</td>\n",
       "      <td>pH</td>\n",
       "    </tr>\n",
       "    <tr>\n",
       "      <th>9</th>\n",
       "      <td>1.053502</td>\n",
       "      <td>sulphates</td>\n",
       "    </tr>\n",
       "    <tr>\n",
       "      <th>10</th>\n",
       "      <td>1.994360</td>\n",
       "      <td>alcohol</td>\n",
       "    </tr>\n",
       "  </tbody>\n",
       "</table>\n",
       "</div>"
      ],
      "text/plain": [
       "            VIF              variable\n",
       "0   1230.869516             Intercept\n",
       "1      1.277560         fixed_acidity\n",
       "2      1.148697      volatile_acidity\n",
       "3      1.116169           citric_acid\n",
       "4      1.525892        residual_sugar\n",
       "5      1.504576             chlorides\n",
       "6      1.765687   free_sulfur_dioxide\n",
       "7      2.297958  total_sulfur_dioxide\n",
       "8      1.241939                    pH\n",
       "9      1.053502             sulphates\n",
       "10     1.994360               alcohol"
      ]
     },
     "execution_count": 187,
     "metadata": {},
     "output_type": "execute_result"
    }
   ],
   "source": [
    "from patsy import dmatrices\n",
    "from statsmodels.stats.outliers_influence import variance_inflation_factor\n",
    "\n",
    "#find design matrix for linear regression model using 'rating' as response variable \n",
    "ym2, Xm2 = dmatrices('quality ~ fixed_acidity+volatile_acidity+citric_acid+residual_sugar+chlorides+free_sulfur_dioxide+total_sulfur_dioxide+pH+sulphates+alcohol', data=df, return_type='dataframe')\n",
    "\n",
    "#calculate VIF for each explanatory variable\n",
    "vifm2 = pd.DataFrame()\n",
    "vifm2['VIF'] = [variance_inflation_factor(Xm2.values, i) for i in range(Xm2.shape[1])]\n",
    "vifm2['variable'] = Xm2.columns\n",
    "\n",
    "#view VIF for each explanatory variable \n",
    "vifm2"
   ]
  },
  {
   "cell_type": "markdown",
   "metadata": {},
   "source": [
    "## Backward Elimination Method to create subsequent models"
   ]
  },
  {
   "cell_type": "markdown",
   "metadata": {},
   "source": [
    "## Model 3: Drop Total Sulfur Dioxide\n"
   ]
  },
  {
   "cell_type": "code",
   "execution_count": 188,
   "metadata": {},
   "outputs": [
    {
     "data": {
      "text/html": [
       "<div>\n",
       "<style scoped>\n",
       "    .dataframe tbody tr th:only-of-type {\n",
       "        vertical-align: middle;\n",
       "    }\n",
       "\n",
       "    .dataframe tbody tr th {\n",
       "        vertical-align: top;\n",
       "    }\n",
       "\n",
       "    .dataframe thead th {\n",
       "        text-align: right;\n",
       "    }\n",
       "</style>\n",
       "<table border=\"1\" class=\"dataframe\">\n",
       "  <thead>\n",
       "    <tr style=\"text-align: right;\">\n",
       "      <th></th>\n",
       "      <th>Unnamed: 0</th>\n",
       "      <th>fixed_acidity</th>\n",
       "      <th>volatile_acidity</th>\n",
       "      <th>citric_acid</th>\n",
       "      <th>residual_sugar</th>\n",
       "      <th>chlorides</th>\n",
       "      <th>free_sulfur_dioxide</th>\n",
       "      <th>pH</th>\n",
       "      <th>sulphates</th>\n",
       "      <th>alcohol</th>\n",
       "    </tr>\n",
       "  </thead>\n",
       "  <tbody>\n",
       "    <tr>\n",
       "      <th>1341</th>\n",
       "      <td>1757</td>\n",
       "      <td>6.9</td>\n",
       "      <td>0.29</td>\n",
       "      <td>0.23</td>\n",
       "      <td>8.6</td>\n",
       "      <td>0.056</td>\n",
       "      <td>56.0</td>\n",
       "      <td>3.17</td>\n",
       "      <td>0.44</td>\n",
       "      <td>8.8</td>\n",
       "    </tr>\n",
       "    <tr>\n",
       "      <th>1062</th>\n",
       "      <td>1377</td>\n",
       "      <td>6.9</td>\n",
       "      <td>0.28</td>\n",
       "      <td>0.41</td>\n",
       "      <td>1.7</td>\n",
       "      <td>0.050</td>\n",
       "      <td>10.0</td>\n",
       "      <td>3.16</td>\n",
       "      <td>0.71</td>\n",
       "      <td>11.4</td>\n",
       "    </tr>\n",
       "    <tr>\n",
       "      <th>2971</th>\n",
       "      <td>3743</td>\n",
       "      <td>7.0</td>\n",
       "      <td>0.15</td>\n",
       "      <td>0.28</td>\n",
       "      <td>14.7</td>\n",
       "      <td>0.051</td>\n",
       "      <td>29.0</td>\n",
       "      <td>2.96</td>\n",
       "      <td>0.39</td>\n",
       "      <td>9.0</td>\n",
       "    </tr>\n",
       "    <tr>\n",
       "      <th>2151</th>\n",
       "      <td>2799</td>\n",
       "      <td>6.7</td>\n",
       "      <td>0.16</td>\n",
       "      <td>0.37</td>\n",
       "      <td>1.3</td>\n",
       "      <td>0.036</td>\n",
       "      <td>45.0</td>\n",
       "      <td>3.19</td>\n",
       "      <td>0.51</td>\n",
       "      <td>12.4</td>\n",
       "    </tr>\n",
       "    <tr>\n",
       "      <th>405</th>\n",
       "      <td>518</td>\n",
       "      <td>5.9</td>\n",
       "      <td>0.13</td>\n",
       "      <td>0.28</td>\n",
       "      <td>1.9</td>\n",
       "      <td>0.050</td>\n",
       "      <td>20.0</td>\n",
       "      <td>3.43</td>\n",
       "      <td>0.64</td>\n",
       "      <td>10.8</td>\n",
       "    </tr>\n",
       "  </tbody>\n",
       "</table>\n",
       "</div>"
      ],
      "text/plain": [
       "      Unnamed: 0  fixed_acidity  volatile_acidity  citric_acid  \\\n",
       "1341        1757            6.9              0.29         0.23   \n",
       "1062        1377            6.9              0.28         0.41   \n",
       "2971        3743            7.0              0.15         0.28   \n",
       "2151        2799            6.7              0.16         0.37   \n",
       "405          518            5.9              0.13         0.28   \n",
       "\n",
       "      residual_sugar  chlorides  free_sulfur_dioxide    pH  sulphates  alcohol  \n",
       "1341             8.6      0.056                 56.0  3.17       0.44      8.8  \n",
       "1062             1.7      0.050                 10.0  3.16       0.71     11.4  \n",
       "2971            14.7      0.051                 29.0  2.96       0.39      9.0  \n",
       "2151             1.3      0.036                 45.0  3.19       0.51     12.4  \n",
       "405              1.9      0.050                 20.0  3.43       0.64     10.8  "
      ]
     },
     "execution_count": 188,
     "metadata": {},
     "output_type": "execute_result"
    }
   ],
   "source": [
    "ym3 = df.quality\n",
    "Xm3 = df.drop(['quality','density','total_sulfur_dioxide'],axis=1)\n",
    "from sklearn.model_selection import train_test_split\n",
    "Xm3_train, Xm3_test, ym3_train, ym3_test = train_test_split(Xm3, ym3, test_size=0.25, random_state=101)\n",
    "Xm3_train.head()"
   ]
  },
  {
   "cell_type": "code",
   "execution_count": 189,
   "metadata": {},
   "outputs": [
    {
     "data": {
      "text/plain": [
       "(2819, 10)"
      ]
     },
     "execution_count": 189,
     "metadata": {},
     "output_type": "execute_result"
    }
   ],
   "source": [
    "Xm3_train.shape"
   ]
  },
  {
   "cell_type": "code",
   "execution_count": 190,
   "metadata": {},
   "outputs": [
    {
     "name": "stdout",
     "output_type": "stream",
     "text": [
      "Estimated intercept coefficient: 2.9074324486431777\n",
      "Number of coefficients: 10\n"
     ]
    },
    {
     "data": {
      "text/html": [
       "<div>\n",
       "<style scoped>\n",
       "    .dataframe tbody tr th:only-of-type {\n",
       "        vertical-align: middle;\n",
       "    }\n",
       "\n",
       "    .dataframe tbody tr th {\n",
       "        vertical-align: top;\n",
       "    }\n",
       "\n",
       "    .dataframe thead th {\n",
       "        text-align: right;\n",
       "    }\n",
       "</style>\n",
       "<table border=\"1\" class=\"dataframe\">\n",
       "  <thead>\n",
       "    <tr style=\"text-align: right;\">\n",
       "      <th></th>\n",
       "      <th>Coefficient</th>\n",
       "    </tr>\n",
       "  </thead>\n",
       "  <tbody>\n",
       "    <tr>\n",
       "      <th>Unnamed: 0</th>\n",
       "      <td>-0.000051</td>\n",
       "    </tr>\n",
       "    <tr>\n",
       "      <th>fixed_acidity</th>\n",
       "      <td>-0.018984</td>\n",
       "    </tr>\n",
       "    <tr>\n",
       "      <th>volatile_acidity</th>\n",
       "      <td>-2.053721</td>\n",
       "    </tr>\n",
       "    <tr>\n",
       "      <th>citric_acid</th>\n",
       "      <td>-0.303514</td>\n",
       "    </tr>\n",
       "    <tr>\n",
       "      <th>residual_sugar</th>\n",
       "      <td>0.026204</td>\n",
       "    </tr>\n",
       "    <tr>\n",
       "      <th>chlorides</th>\n",
       "      <td>-6.099506</td>\n",
       "    </tr>\n",
       "    <tr>\n",
       "      <th>free_sulfur_dioxide</th>\n",
       "      <td>0.005333</td>\n",
       "    </tr>\n",
       "    <tr>\n",
       "      <th>pH</th>\n",
       "      <td>-0.032477</td>\n",
       "    </tr>\n",
       "    <tr>\n",
       "      <th>sulphates</th>\n",
       "      <td>0.512477</td>\n",
       "    </tr>\n",
       "    <tr>\n",
       "      <th>alcohol</th>\n",
       "      <td>0.349189</td>\n",
       "    </tr>\n",
       "  </tbody>\n",
       "</table>\n",
       "</div>"
      ],
      "text/plain": [
       "                     Coefficient\n",
       "Unnamed: 0             -0.000051\n",
       "fixed_acidity          -0.018984\n",
       "volatile_acidity       -2.053721\n",
       "citric_acid            -0.303514\n",
       "residual_sugar          0.026204\n",
       "chlorides              -6.099506\n",
       "free_sulfur_dioxide     0.005333\n",
       "pH                     -0.032477\n",
       "sulphates               0.512477\n",
       "alcohol                 0.349189"
      ]
     },
     "execution_count": 190,
     "metadata": {},
     "output_type": "execute_result"
    }
   ],
   "source": [
    "from sklearn.linear_model import LinearRegression\n",
    "lm3 = LinearRegression()\n",
    "lm3.fit(Xm3_train,ym3_train)\n",
    "print('Estimated intercept coefficient:',lm3.intercept_)\n",
    "print ('Number of coefficients:', len(lm3.coef_))\n",
    "coeffm1_df = pd.DataFrame(lm3.coef_,Xm3.columns,columns=['Coefficient'])\n",
    "coeffm1_df"
   ]
  },
  {
   "cell_type": "code",
   "execution_count": 191,
   "metadata": {},
   "outputs": [],
   "source": [
    "predictions_m3 = lm3.predict(Xm3_test)"
   ]
  },
  {
   "cell_type": "markdown",
   "metadata": {},
   "source": [
    "**Predicted vs. Actual**"
   ]
  },
  {
   "cell_type": "code",
   "execution_count": 192,
   "metadata": {},
   "outputs": [
    {
     "data": {
      "text/plain": [
       "<matplotlib.collections.PathCollection at 0x7fc43a5a1190>"
      ]
     },
     "execution_count": 192,
     "metadata": {},
     "output_type": "execute_result"
    },
    {
     "data": {
      "image/png": "[encoded data removed]",
      "text/plain": [
       "<Figure size 432x288 with 1 Axes>"
      ]
     },
     "metadata": {},
     "output_type": "display_data"
    }
   ],
   "source": [
    "plt.scatter(ym3_test,predictions_m3)"
   ]
  },
  {
   "cell_type": "markdown",
   "metadata": {},
   "source": [
    "**Residual Histogram**"
   ]
  },
  {
   "cell_type": "code",
   "execution_count": 193,
   "metadata": {},
   "outputs": [
    {
     "data": {
      "image/png": "[encoded data removed]",
      "text/plain": [
       "<Figure size 432x288 with 1 Axes>"
      ]
     },
     "metadata": {},
     "output_type": "display_data"
    }
   ],
   "source": [
    "sns.distplot((ym3_test-predictions_m3),bins=50);"
   ]
  },
  {
   "cell_type": "code",
   "execution_count": 194,
   "metadata": {},
   "outputs": [
    {
     "name": "stdout",
     "output_type": "stream",
     "text": [
      "R-squared: 0.2899037198200475\n",
      "Mean Squared Error (MSE): 0.5124289742106655\n",
      "Root Mean Squared Error (RMSE): 0.7158414448819413\n",
      "Log Mean Squared Error: 0.010579159069754547\n",
      "Explained Variance: 0.29193778694344297\n",
      "Mean Absolute Error (MAE): 0.5625406124015764\n",
      "Median Absolute Error: 0.46557422040717134\n",
      "Poisson Deviance: 0.08547120812386733\n",
      "Mean Gamma Deviance: 0.01445488283564664\n"
     ]
    }
   ],
   "source": [
    "from sklearn import metrics\n",
    "print('R-squared:', metrics.r2_score(ym3_test, predictions_m3))\n",
    "print('Mean Squared Error (MSE):', metrics.mean_squared_error(ym3_test, predictions_m3))\n",
    "print('Root Mean Squared Error (RMSE):', np.sqrt(metrics.mean_squared_error(ym3_test, predictions_m3)))\n",
    "print('Log Mean Squared Error:', metrics.mean_squared_log_error(ym3_test, predictions_m3))\n",
    "print('Explained Variance:', metrics.explained_variance_score(ym3_test, predictions_m3))\n",
    "print('Mean Absolute Error (MAE):', metrics.mean_absolute_error(ym3_test, predictions_m3))\n",
    "print('Median Absolute Error:', metrics.median_absolute_error(ym3_test, predictions_m3))\n",
    "print('Poisson Deviance:', metrics.mean_poisson_deviance(ym3_test, predictions_m3))\n",
    "print('Mean Gamma Deviance:', metrics.mean_gamma_deviance(ym3_test, predictions_m3))\n",
    "\n"
   ]
  },
  {
   "cell_type": "markdown",
   "metadata": {},
   "source": [
    "## Model 4: Drop Free Sulfur Dioxide"
   ]
  },
  {
   "cell_type": "code",
   "execution_count": 195,
   "metadata": {},
   "outputs": [
    {
     "data": {
      "text/html": [
       "<div>\n",
       "<style scoped>\n",
       "    .dataframe tbody tr th:only-of-type {\n",
       "        vertical-align: middle;\n",
       "    }\n",
       "\n",
       "    .dataframe tbody tr th {\n",
       "        vertical-align: top;\n",
       "    }\n",
       "\n",
       "    .dataframe thead th {\n",
       "        text-align: right;\n",
       "    }\n",
       "</style>\n",
       "<table border=\"1\" class=\"dataframe\">\n",
       "  <thead>\n",
       "    <tr style=\"text-align: right;\">\n",
       "      <th></th>\n",
       "      <th>Unnamed: 0</th>\n",
       "      <th>fixed_acidity</th>\n",
       "      <th>volatile_acidity</th>\n",
       "      <th>citric_acid</th>\n",
       "      <th>residual_sugar</th>\n",
       "      <th>chlorides</th>\n",
       "      <th>pH</th>\n",
       "      <th>sulphates</th>\n",
       "      <th>alcohol</th>\n",
       "    </tr>\n",
       "  </thead>\n",
       "  <tbody>\n",
       "    <tr>\n",
       "      <th>1341</th>\n",
       "      <td>1757</td>\n",
       "      <td>6.9</td>\n",
       "      <td>0.29</td>\n",
       "      <td>0.23</td>\n",
       "      <td>8.6</td>\n",
       "      <td>0.056</td>\n",
       "      <td>3.17</td>\n",
       "      <td>0.44</td>\n",
       "      <td>8.8</td>\n",
       "    </tr>\n",
       "    <tr>\n",
       "      <th>1062</th>\n",
       "      <td>1377</td>\n",
       "      <td>6.9</td>\n",
       "      <td>0.28</td>\n",
       "      <td>0.41</td>\n",
       "      <td>1.7</td>\n",
       "      <td>0.050</td>\n",
       "      <td>3.16</td>\n",
       "      <td>0.71</td>\n",
       "      <td>11.4</td>\n",
       "    </tr>\n",
       "    <tr>\n",
       "      <th>2971</th>\n",
       "      <td>3743</td>\n",
       "      <td>7.0</td>\n",
       "      <td>0.15</td>\n",
       "      <td>0.28</td>\n",
       "      <td>14.7</td>\n",
       "      <td>0.051</td>\n",
       "      <td>2.96</td>\n",
       "      <td>0.39</td>\n",
       "      <td>9.0</td>\n",
       "    </tr>\n",
       "    <tr>\n",
       "      <th>2151</th>\n",
       "      <td>2799</td>\n",
       "      <td>6.7</td>\n",
       "      <td>0.16</td>\n",
       "      <td>0.37</td>\n",
       "      <td>1.3</td>\n",
       "      <td>0.036</td>\n",
       "      <td>3.19</td>\n",
       "      <td>0.51</td>\n",
       "      <td>12.4</td>\n",
       "    </tr>\n",
       "    <tr>\n",
       "      <th>405</th>\n",
       "      <td>518</td>\n",
       "      <td>5.9</td>\n",
       "      <td>0.13</td>\n",
       "      <td>0.28</td>\n",
       "      <td>1.9</td>\n",
       "      <td>0.050</td>\n",
       "      <td>3.43</td>\n",
       "      <td>0.64</td>\n",
       "      <td>10.8</td>\n",
       "    </tr>\n",
       "  </tbody>\n",
       "</table>\n",
       "</div>"
      ],
      "text/plain": [
       "      Unnamed: 0  fixed_acidity  volatile_acidity  citric_acid  \\\n",
       "1341        1757            6.9              0.29         0.23   \n",
       "1062        1377            6.9              0.28         0.41   \n",
       "2971        3743            7.0              0.15         0.28   \n",
       "2151        2799            6.7              0.16         0.37   \n",
       "405          518            5.9              0.13         0.28   \n",
       "\n",
       "      residual_sugar  chlorides    pH  sulphates  alcohol  \n",
       "1341             8.6      0.056  3.17       0.44      8.8  \n",
       "1062             1.7      0.050  3.16       0.71     11.4  \n",
       "2971            14.7      0.051  2.96       0.39      9.0  \n",
       "2151             1.3      0.036  3.19       0.51     12.4  \n",
       "405              1.9      0.050  3.43       0.64     10.8  "
      ]
     },
     "execution_count": 195,
     "metadata": {},
     "output_type": "execute_result"
    }
   ],
   "source": [
    "ym4 = df.quality\n",
    "Xm4 = df.drop(['quality','density','total_sulfur_dioxide','free_sulfur_dioxide'],axis=1)\n",
    "from sklearn.model_selection import train_test_split\n",
    "Xm4_train, Xm4_test, ym4_train, ym4_test = train_test_split(Xm4, ym4, test_size=0.25, random_state=101)\n",
    "Xm4_train.head()\n"
   ]
  },
  {
   "cell_type": "code",
   "execution_count": 196,
   "metadata": {},
   "outputs": [
    {
     "data": {
      "text/plain": [
       "(2819, 9)"
      ]
     },
     "execution_count": 196,
     "metadata": {},
     "output_type": "execute_result"
    }
   ],
   "source": [
    "Xm4_train.shape"
   ]
  },
  {
   "cell_type": "code",
   "execution_count": 197,
   "metadata": {},
   "outputs": [
    {
     "name": "stdout",
     "output_type": "stream",
     "text": [
      "Estimated intercept coefficient: 3.1333608124900283\n",
      "Number of coefficients: 9\n"
     ]
    },
    {
     "data": {
      "text/html": [
       "<div>\n",
       "<style scoped>\n",
       "    .dataframe tbody tr th:only-of-type {\n",
       "        vertical-align: middle;\n",
       "    }\n",
       "\n",
       "    .dataframe tbody tr th {\n",
       "        vertical-align: top;\n",
       "    }\n",
       "\n",
       "    .dataframe thead th {\n",
       "        text-align: right;\n",
       "    }\n",
       "</style>\n",
       "<table border=\"1\" class=\"dataframe\">\n",
       "  <thead>\n",
       "    <tr style=\"text-align: right;\">\n",
       "      <th></th>\n",
       "      <th>Coefficient</th>\n",
       "    </tr>\n",
       "  </thead>\n",
       "  <tbody>\n",
       "    <tr>\n",
       "      <th>Unnamed: 0</th>\n",
       "      <td>-0.000051</td>\n",
       "    </tr>\n",
       "    <tr>\n",
       "      <th>fixed_acidity</th>\n",
       "      <td>-0.028114</td>\n",
       "    </tr>\n",
       "    <tr>\n",
       "      <th>volatile_acidity</th>\n",
       "      <td>-2.092227</td>\n",
       "    </tr>\n",
       "    <tr>\n",
       "      <th>citric_acid</th>\n",
       "      <td>-0.221737</td>\n",
       "    </tr>\n",
       "    <tr>\n",
       "      <th>residual_sugar</th>\n",
       "      <td>0.030827</td>\n",
       "    </tr>\n",
       "    <tr>\n",
       "      <th>chlorides</th>\n",
       "      <td>-5.879523</td>\n",
       "    </tr>\n",
       "    <tr>\n",
       "      <th>pH</th>\n",
       "      <td>-0.023800</td>\n",
       "    </tr>\n",
       "    <tr>\n",
       "      <th>sulphates</th>\n",
       "      <td>0.523843</td>\n",
       "    </tr>\n",
       "    <tr>\n",
       "      <th>alcohol</th>\n",
       "      <td>0.342724</td>\n",
       "    </tr>\n",
       "  </tbody>\n",
       "</table>\n",
       "</div>"
      ],
      "text/plain": [
       "                  Coefficient\n",
       "Unnamed: 0          -0.000051\n",
       "fixed_acidity       -0.028114\n",
       "volatile_acidity    -2.092227\n",
       "citric_acid         -0.221737\n",
       "residual_sugar       0.030827\n",
       "chlorides           -5.879523\n",
       "pH                  -0.023800\n",
       "sulphates            0.523843\n",
       "alcohol              0.342724"
      ]
     },
     "execution_count": 197,
     "metadata": {},
     "output_type": "execute_result"
    }
   ],
   "source": [
    "lm4 = LinearRegression()\n",
    "lm4.fit(Xm4_train,ym4_train)\n",
    "print('Estimated intercept coefficient:',lm4.intercept_)\n",
    "print ('Number of coefficients:', len(lm4.coef_))\n",
    "coeffm4_df = pd.DataFrame(lm4.coef_,Xm4.columns,columns=['Coefficient'])\n",
    "coeffm4_df"
   ]
  },
  {
   "cell_type": "code",
   "execution_count": 198,
   "metadata": {},
   "outputs": [],
   "source": [
    "predictions_m4 = lm4.predict(Xm4_test)"
   ]
  },
  {
   "cell_type": "markdown",
   "metadata": {},
   "source": [
    "**Predicted vs. Actual**"
   ]
  },
  {
   "cell_type": "code",
   "execution_count": 199,
   "metadata": {},
   "outputs": [
    {
     "data": {
      "text/plain": [
       "<matplotlib.collections.PathCollection at 0x7fc43d248c70>"
      ]
     },
     "execution_count": 199,
     "metadata": {},
     "output_type": "execute_result"
    },
    {
     "data": {
      "image/png": "[encoded data removed]",
      "text/plain": [
       "<Figure size 432x288 with 1 Axes>"
      ]
     },
     "metadata": {},
     "output_type": "display_data"
    }
   ],
   "source": [
    "plt.scatter(ym1_test,predictions_m4)"
   ]
  },
  {
   "cell_type": "markdown",
   "metadata": {},
   "source": [
    "**Residual Histogram**"
   ]
  },
  {
   "cell_type": "code",
   "execution_count": 200,
   "metadata": {},
   "outputs": [
    {
     "data": {
      "image/png": "[encoded data removed]",
      "text/plain": [
       "<Figure size 432x288 with 1 Axes>"
      ]
     },
     "metadata": {},
     "output_type": "display_data"
    }
   ],
   "source": [
    "sns.distplot((ym4_test-predictions_m4),bins=50);"
   ]
  },
  {
   "cell_type": "markdown",
   "metadata": {},
   "source": [
    "## Model 5: Drop Fixed Acidity\n"
   ]
  },
  {
   "cell_type": "code",
   "execution_count": 201,
   "metadata": {},
   "outputs": [
    {
     "data": {
      "text/html": [
       "<div>\n",
       "<style scoped>\n",
       "    .dataframe tbody tr th:only-of-type {\n",
       "        vertical-align: middle;\n",
       "    }\n",
       "\n",
       "    .dataframe tbody tr th {\n",
       "        vertical-align: top;\n",
       "    }\n",
       "\n",
       "    .dataframe thead th {\n",
       "        text-align: right;\n",
       "    }\n",
       "</style>\n",
       "<table border=\"1\" class=\"dataframe\">\n",
       "  <thead>\n",
       "    <tr style=\"text-align: right;\">\n",
       "      <th></th>\n",
       "      <th>Unnamed: 0</th>\n",
       "      <th>volatile_acidity</th>\n",
       "      <th>citric_acid</th>\n",
       "      <th>residual_sugar</th>\n",
       "      <th>chlorides</th>\n",
       "      <th>pH</th>\n",
       "      <th>sulphates</th>\n",
       "      <th>alcohol</th>\n",
       "    </tr>\n",
       "  </thead>\n",
       "  <tbody>\n",
       "    <tr>\n",
       "      <th>1341</th>\n",
       "      <td>1757</td>\n",
       "      <td>0.29</td>\n",
       "      <td>0.23</td>\n",
       "      <td>8.6</td>\n",
       "      <td>0.056</td>\n",
       "      <td>3.17</td>\n",
       "      <td>0.44</td>\n",
       "      <td>8.8</td>\n",
       "    </tr>\n",
       "    <tr>\n",
       "      <th>1062</th>\n",
       "      <td>1377</td>\n",
       "      <td>0.28</td>\n",
       "      <td>0.41</td>\n",
       "      <td>1.7</td>\n",
       "      <td>0.050</td>\n",
       "      <td>3.16</td>\n",
       "      <td>0.71</td>\n",
       "      <td>11.4</td>\n",
       "    </tr>\n",
       "    <tr>\n",
       "      <th>2971</th>\n",
       "      <td>3743</td>\n",
       "      <td>0.15</td>\n",
       "      <td>0.28</td>\n",
       "      <td>14.7</td>\n",
       "      <td>0.051</td>\n",
       "      <td>2.96</td>\n",
       "      <td>0.39</td>\n",
       "      <td>9.0</td>\n",
       "    </tr>\n",
       "    <tr>\n",
       "      <th>2151</th>\n",
       "      <td>2799</td>\n",
       "      <td>0.16</td>\n",
       "      <td>0.37</td>\n",
       "      <td>1.3</td>\n",
       "      <td>0.036</td>\n",
       "      <td>3.19</td>\n",
       "      <td>0.51</td>\n",
       "      <td>12.4</td>\n",
       "    </tr>\n",
       "    <tr>\n",
       "      <th>405</th>\n",
       "      <td>518</td>\n",
       "      <td>0.13</td>\n",
       "      <td>0.28</td>\n",
       "      <td>1.9</td>\n",
       "      <td>0.050</td>\n",
       "      <td>3.43</td>\n",
       "      <td>0.64</td>\n",
       "      <td>10.8</td>\n",
       "    </tr>\n",
       "  </tbody>\n",
       "</table>\n",
       "</div>"
      ],
      "text/plain": [
       "      Unnamed: 0  volatile_acidity  citric_acid  residual_sugar  chlorides  \\\n",
       "1341        1757              0.29         0.23             8.6      0.056   \n",
       "1062        1377              0.28         0.41             1.7      0.050   \n",
       "2971        3743              0.15         0.28            14.7      0.051   \n",
       "2151        2799              0.16         0.37             1.3      0.036   \n",
       "405          518              0.13         0.28             1.9      0.050   \n",
       "\n",
       "        pH  sulphates  alcohol  \n",
       "1341  3.17       0.44      8.8  \n",
       "1062  3.16       0.71     11.4  \n",
       "2971  2.96       0.39      9.0  \n",
       "2151  3.19       0.51     12.4  \n",
       "405   3.43       0.64     10.8  "
      ]
     },
     "execution_count": 201,
     "metadata": {},
     "output_type": "execute_result"
    }
   ],
   "source": [
    "ym5 = df.quality\n",
    "Xm5 = df.drop(['quality','density','total_sulfur_dioxide','free_sulfur_dioxide','fixed_acidity'],axis=1)\n",
    "from sklearn.model_selection import train_test_split\n",
    "Xm5_train, Xm5_test, ym5_train, ym5_test = train_test_split(Xm5, ym5, test_size=0.25, random_state=101)\n",
    "Xm5_train.head()\n",
    "\n",
    "\n"
   ]
  },
  {
   "cell_type": "code",
   "execution_count": 202,
   "metadata": {},
   "outputs": [
    {
     "data": {
      "text/plain": [
       "(2819, 8)"
      ]
     },
     "execution_count": 202,
     "metadata": {},
     "output_type": "execute_result"
    }
   ],
   "source": [
    "Xm5_train.shape"
   ]
  },
  {
   "cell_type": "code",
   "execution_count": 203,
   "metadata": {},
   "outputs": [
    {
     "name": "stdout",
     "output_type": "stream",
     "text": [
      "Estimated intercept coefficient: 2.7704926556997806\n",
      "Number of coefficients: 8\n"
     ]
    },
    {
     "data": {
      "text/html": [
       "<div>\n",
       "<style scoped>\n",
       "    .dataframe tbody tr th:only-of-type {\n",
       "        vertical-align: middle;\n",
       "    }\n",
       "\n",
       "    .dataframe tbody tr th {\n",
       "        vertical-align: top;\n",
       "    }\n",
       "\n",
       "    .dataframe thead th {\n",
       "        text-align: right;\n",
       "    }\n",
       "</style>\n",
       "<table border=\"1\" class=\"dataframe\">\n",
       "  <thead>\n",
       "    <tr style=\"text-align: right;\">\n",
       "      <th></th>\n",
       "      <th>Coefficient</th>\n",
       "    </tr>\n",
       "  </thead>\n",
       "  <tbody>\n",
       "    <tr>\n",
       "      <th>Unnamed: 0</th>\n",
       "      <td>-0.000047</td>\n",
       "    </tr>\n",
       "    <tr>\n",
       "      <th>volatile_acidity</th>\n",
       "      <td>-2.085176</td>\n",
       "    </tr>\n",
       "    <tr>\n",
       "      <th>citric_acid</th>\n",
       "      <td>-0.264021</td>\n",
       "    </tr>\n",
       "    <tr>\n",
       "      <th>residual_sugar</th>\n",
       "      <td>0.030885</td>\n",
       "    </tr>\n",
       "    <tr>\n",
       "      <th>chlorides</th>\n",
       "      <td>-6.152070</td>\n",
       "    </tr>\n",
       "    <tr>\n",
       "      <th>pH</th>\n",
       "      <td>0.038155</td>\n",
       "    </tr>\n",
       "    <tr>\n",
       "      <th>sulphates</th>\n",
       "      <td>0.519268</td>\n",
       "    </tr>\n",
       "    <tr>\n",
       "      <th>alcohol</th>\n",
       "      <td>0.341570</td>\n",
       "    </tr>\n",
       "  </tbody>\n",
       "</table>\n",
       "</div>"
      ],
      "text/plain": [
       "                  Coefficient\n",
       "Unnamed: 0          -0.000047\n",
       "volatile_acidity    -2.085176\n",
       "citric_acid         -0.264021\n",
       "residual_sugar       0.030885\n",
       "chlorides           -6.152070\n",
       "pH                   0.038155\n",
       "sulphates            0.519268\n",
       "alcohol              0.341570"
      ]
     },
     "execution_count": 203,
     "metadata": {},
     "output_type": "execute_result"
    }
   ],
   "source": [
    "from sklearn.linear_model import LinearRegression\n",
    "lm5 = LinearRegression()\n",
    "lm5.fit(Xm5_train,ym5_train)\n",
    "print('Estimated intercept coefficient:',lm5.intercept_)\n",
    "print ('Number of coefficients:', len(lm5.coef_))\n",
    "coeffm5_df = pd.DataFrame(lm5.coef_,Xm5.columns,columns=['Coefficient'])\n",
    "coeffm5_df"
   ]
  },
  {
   "cell_type": "code",
   "execution_count": 204,
   "metadata": {},
   "outputs": [],
   "source": [
    "predictions_m5 = lm5.predict(Xm5_test)"
   ]
  },
  {
   "cell_type": "markdown",
   "metadata": {},
   "source": [
    "**Predicted vs. Actual**"
   ]
  },
  {
   "cell_type": "code",
   "execution_count": 205,
   "metadata": {},
   "outputs": [
    {
     "data": {
      "text/plain": [
       "<matplotlib.collections.PathCollection at 0x7fc43dc7e3d0>"
      ]
     },
     "execution_count": 205,
     "metadata": {},
     "output_type": "execute_result"
    },
    {
     "data": {
      "image/png": "[encoded data removed]",
      "text/plain": [
       "<Figure size 432x288 with 1 Axes>"
      ]
     },
     "metadata": {},
     "output_type": "display_data"
    }
   ],
   "source": [
    "plt.scatter(ym5_test,predictions_m5)"
   ]
  },
  {
   "cell_type": "markdown",
   "metadata": {},
   "source": [
    "**Residual Histogram**"
   ]
  },
  {
   "cell_type": "code",
   "execution_count": 206,
   "metadata": {},
   "outputs": [
    {
     "data": {
      "image/png": "[encoded data removed]",
      "text/plain": [
       "<Figure size 432x288 with 1 Axes>"
      ]
     },
     "metadata": {},
     "output_type": "display_data"
    }
   ],
   "source": [
    "sns.distplot((ym5_test-predictions_m5),bins=50);"
   ]
  },
  {
   "cell_type": "code",
   "execution_count": 207,
   "metadata": {},
   "outputs": [
    {
     "name": "stdout",
     "output_type": "stream",
     "text": [
      "R-squared: 0.27749714043233753\n",
      "Mean Squared Error (MSE): 0.5213819724540815\n",
      "Root Mean Squared Error (RMSE): 0.7220678447722773\n",
      "Log Mean Squared Error: 0.01076779814530553\n",
      "Explained Variance: 0.28004412262398903\n",
      "Mean Absolute Error (MAE): 0.5659139146623344\n",
      "Median Absolute Error: 0.4802697462702863\n",
      "Poisson Deviance: 0.08692972660153361\n",
      "Mean Gamma Deviance: 0.014693760026546081\n"
     ]
    }
   ],
   "source": [
    "from sklearn import metrics\n",
    "print('R-squared:', metrics.r2_score(ym5_test, predictions_m5))\n",
    "print('Mean Squared Error (MSE):', metrics.mean_squared_error(ym5_test, predictions_m5))\n",
    "print('Root Mean Squared Error (RMSE):', np.sqrt(metrics.mean_squared_error(ym5_test, predictions_m5)))\n",
    "print('Log Mean Squared Error:', metrics.mean_squared_log_error(ym5_test, predictions_m5))\n",
    "print('Explained Variance:', metrics.explained_variance_score(ym5_test, predictions_m5))\n",
    "print('Mean Absolute Error (MAE):', metrics.mean_absolute_error(ym5_test, predictions_m5))\n",
    "print('Median Absolute Error:', metrics.median_absolute_error(ym5_test, predictions_m5))\n",
    "print('Poisson Deviance:', metrics.mean_poisson_deviance(ym5_test, predictions_m5))\n",
    "print('Mean Gamma Deviance:', metrics.mean_gamma_deviance(ym5_test, predictions_m5))\n",
    "\n"
   ]
  },
  {
   "cell_type": "markdown",
   "metadata": {},
   "source": [
    "\n",
    "## Model 6: Drop Residual Sugar\n",
    "\n"
   ]
  },
  {
   "cell_type": "code",
   "execution_count": 208,
   "metadata": {},
   "outputs": [
    {
     "data": {
      "text/html": [
       "<div>\n",
       "<style scoped>\n",
       "    .dataframe tbody tr th:only-of-type {\n",
       "        vertical-align: middle;\n",
       "    }\n",
       "\n",
       "    .dataframe tbody tr th {\n",
       "        vertical-align: top;\n",
       "    }\n",
       "\n",
       "    .dataframe thead th {\n",
       "        text-align: right;\n",
       "    }\n",
       "</style>\n",
       "<table border=\"1\" class=\"dataframe\">\n",
       "  <thead>\n",
       "    <tr style=\"text-align: right;\">\n",
       "      <th></th>\n",
       "      <th>Unnamed: 0</th>\n",
       "      <th>volatile_acidity</th>\n",
       "      <th>citric_acid</th>\n",
       "      <th>chlorides</th>\n",
       "      <th>pH</th>\n",
       "      <th>sulphates</th>\n",
       "      <th>alcohol</th>\n",
       "    </tr>\n",
       "  </thead>\n",
       "  <tbody>\n",
       "    <tr>\n",
       "      <th>1341</th>\n",
       "      <td>1757</td>\n",
       "      <td>0.29</td>\n",
       "      <td>0.23</td>\n",
       "      <td>0.056</td>\n",
       "      <td>3.17</td>\n",
       "      <td>0.44</td>\n",
       "      <td>8.8</td>\n",
       "    </tr>\n",
       "    <tr>\n",
       "      <th>1062</th>\n",
       "      <td>1377</td>\n",
       "      <td>0.28</td>\n",
       "      <td>0.41</td>\n",
       "      <td>0.050</td>\n",
       "      <td>3.16</td>\n",
       "      <td>0.71</td>\n",
       "      <td>11.4</td>\n",
       "    </tr>\n",
       "    <tr>\n",
       "      <th>2971</th>\n",
       "      <td>3743</td>\n",
       "      <td>0.15</td>\n",
       "      <td>0.28</td>\n",
       "      <td>0.051</td>\n",
       "      <td>2.96</td>\n",
       "      <td>0.39</td>\n",
       "      <td>9.0</td>\n",
       "    </tr>\n",
       "    <tr>\n",
       "      <th>2151</th>\n",
       "      <td>2799</td>\n",
       "      <td>0.16</td>\n",
       "      <td>0.37</td>\n",
       "      <td>0.036</td>\n",
       "      <td>3.19</td>\n",
       "      <td>0.51</td>\n",
       "      <td>12.4</td>\n",
       "    </tr>\n",
       "    <tr>\n",
       "      <th>405</th>\n",
       "      <td>518</td>\n",
       "      <td>0.13</td>\n",
       "      <td>0.28</td>\n",
       "      <td>0.050</td>\n",
       "      <td>3.43</td>\n",
       "      <td>0.64</td>\n",
       "      <td>10.8</td>\n",
       "    </tr>\n",
       "  </tbody>\n",
       "</table>\n",
       "</div>"
      ],
      "text/plain": [
       "      Unnamed: 0  volatile_acidity  citric_acid  chlorides    pH  sulphates  \\\n",
       "1341        1757              0.29         0.23      0.056  3.17       0.44   \n",
       "1062        1377              0.28         0.41      0.050  3.16       0.71   \n",
       "2971        3743              0.15         0.28      0.051  2.96       0.39   \n",
       "2151        2799              0.16         0.37      0.036  3.19       0.51   \n",
       "405          518              0.13         0.28      0.050  3.43       0.64   \n",
       "\n",
       "      alcohol  \n",
       "1341      8.8  \n",
       "1062     11.4  \n",
       "2971      9.0  \n",
       "2151     12.4  \n",
       "405      10.8  "
      ]
     },
     "execution_count": 208,
     "metadata": {},
     "output_type": "execute_result"
    }
   ],
   "source": [
    "ym6 = df.quality\n",
    "Xm6 = df.drop(['quality','density','total_sulfur_dioxide','free_sulfur_dioxide','fixed_acidity','residual_sugar'],axis=1)\n",
    "from sklearn.model_selection import train_test_split\n",
    "Xm6_train, Xm6_test, ym6_train, ym6_test = train_test_split(Xm6, ym6, test_size=0.25, random_state=101)\n",
    "Xm6_train.head()\n"
   ]
  },
  {
   "cell_type": "code",
   "execution_count": 209,
   "metadata": {},
   "outputs": [
    {
     "data": {
      "text/plain": [
       "(2819, 7)"
      ]
     },
     "execution_count": 209,
     "metadata": {},
     "output_type": "execute_result"
    }
   ],
   "source": [
    "Xm6_train.shape"
   ]
  },
  {
   "cell_type": "code",
   "execution_count": 210,
   "metadata": {},
   "outputs": [
    {
     "name": "stdout",
     "output_type": "stream",
     "text": [
      "Estimated intercept coefficient: 4.065321955210803\n",
      "Number of coefficients: 7\n"
     ]
    },
    {
     "data": {
      "text/html": [
       "<div>\n",
       "<style scoped>\n",
       "    .dataframe tbody tr th:only-of-type {\n",
       "        vertical-align: middle;\n",
       "    }\n",
       "\n",
       "    .dataframe tbody tr th {\n",
       "        vertical-align: top;\n",
       "    }\n",
       "\n",
       "    .dataframe thead th {\n",
       "        text-align: right;\n",
       "    }\n",
       "</style>\n",
       "<table border=\"1\" class=\"dataframe\">\n",
       "  <thead>\n",
       "    <tr style=\"text-align: right;\">\n",
       "      <th></th>\n",
       "      <th>Coefficient</th>\n",
       "    </tr>\n",
       "  </thead>\n",
       "  <tbody>\n",
       "    <tr>\n",
       "      <th>Unnamed: 0</th>\n",
       "      <td>-0.000037</td>\n",
       "    </tr>\n",
       "    <tr>\n",
       "      <th>volatile_acidity</th>\n",
       "      <td>-1.824968</td>\n",
       "    </tr>\n",
       "    <tr>\n",
       "      <th>citric_acid</th>\n",
       "      <td>-0.238530</td>\n",
       "    </tr>\n",
       "    <tr>\n",
       "      <th>chlorides</th>\n",
       "      <td>-6.079687</td>\n",
       "    </tr>\n",
       "    <tr>\n",
       "      <th>pH</th>\n",
       "      <td>-0.106309</td>\n",
       "    </tr>\n",
       "    <tr>\n",
       "      <th>sulphates</th>\n",
       "      <td>0.396100</td>\n",
       "    </tr>\n",
       "    <tr>\n",
       "      <th>alcohol</th>\n",
       "      <td>0.277019</td>\n",
       "    </tr>\n",
       "  </tbody>\n",
       "</table>\n",
       "</div>"
      ],
      "text/plain": [
       "                  Coefficient\n",
       "Unnamed: 0          -0.000037\n",
       "volatile_acidity    -1.824968\n",
       "citric_acid         -0.238530\n",
       "chlorides           -6.079687\n",
       "pH                  -0.106309\n",
       "sulphates            0.396100\n",
       "alcohol              0.277019"
      ]
     },
     "execution_count": 210,
     "metadata": {},
     "output_type": "execute_result"
    }
   ],
   "source": [
    "from sklearn.linear_model import LinearRegression\n",
    "lm6 = LinearRegression()\n",
    "lm6.fit(Xm6_train,ym6_train)\n",
    "print('Estimated intercept coefficient:',lm6.intercept_)\n",
    "print ('Number of coefficients:', len(lm6.coef_))\n",
    "coeffm6_df = pd.DataFrame(lm6.coef_,Xm6.columns,columns=['Coefficient'])\n",
    "coeffm6_df\n"
   ]
  },
  {
   "cell_type": "code",
   "execution_count": 211,
   "metadata": {},
   "outputs": [],
   "source": [
    "predictions_m6 = lm6.predict(Xm6_test)"
   ]
  },
  {
   "cell_type": "markdown",
   "metadata": {},
   "source": [
    "**Predicted vs. Actual**"
   ]
  },
  {
   "cell_type": "code",
   "execution_count": 212,
   "metadata": {},
   "outputs": [
    {
     "data": {
      "text/plain": [
       "<matplotlib.collections.PathCollection at 0x7fc43e1054f0>"
      ]
     },
     "execution_count": 212,
     "metadata": {},
     "output_type": "execute_result"
    },
    {
     "data": {
      "image/png": "[encoded data removed]",
      "text/plain": [
       "<Figure size 432x288 with 1 Axes>"
      ]
     },
     "metadata": {},
     "output_type": "display_data"
    }
   ],
   "source": [
    "plt.scatter(ym6_test,predictions_m6)"
   ]
  },
  {
   "cell_type": "markdown",
   "metadata": {},
   "source": [
    "**Residual Histogram**"
   ]
  },
  {
   "cell_type": "code",
   "execution_count": 213,
   "metadata": {},
   "outputs": [
    {
     "data": {
      "image/png": "[encoded data removed]",
      "text/plain": [
       "<Figure size 432x288 with 1 Axes>"
      ]
     },
     "metadata": {},
     "output_type": "display_data"
    }
   ],
   "source": [
    "sns.distplot((ym6_test-predictions_m6),bins=50);"
   ]
  },
  {
   "cell_type": "code",
   "execution_count": 214,
   "metadata": {},
   "outputs": [
    {
     "name": "stdout",
     "output_type": "stream",
     "text": [
      "R-squared: 0.25054734063650796\n",
      "Mean Squared Error (MSE): 0.5408298398067454\n",
      "Root Mean Squared Error (RMSE): 0.7354113405480944\n",
      "Log Mean Squared Error: 0.011217406420244705\n",
      "Explained Variance: 0.25303244691512716\n",
      "Mean Absolute Error (MAE): 0.5802636430505315\n",
      "Median Absolute Error: 0.48813627604686394\n",
      "Poisson Deviance: 0.09033156198434757\n",
      "Mean Gamma Deviance: 0.015291635480847703\n"
     ]
    }
   ],
   "source": [
    "from sklearn import metrics\n",
    "print('R-squared:', metrics.r2_score(ym6_test, predictions_m6))\n",
    "print('Mean Squared Error (MSE):', metrics.mean_squared_error(ym6_test, predictions_m6))\n",
    "print('Root Mean Squared Error (RMSE):', np.sqrt(metrics.mean_squared_error(ym6_test, predictions_m6)))\n",
    "print('Log Mean Squared Error:', metrics.mean_squared_log_error(ym6_test, predictions_m6))\n",
    "print('Explained Variance:', metrics.explained_variance_score(ym6_test, predictions_m6))\n",
    "print('Mean Absolute Error (MAE):', metrics.mean_absolute_error(ym6_test, predictions_m6))\n",
    "print('Median Absolute Error:', metrics.median_absolute_error(ym6_test, predictions_m6))\n",
    "print('Poisson Deviance:', metrics.mean_poisson_deviance(ym6_test, predictions_m6))\n",
    "print('Mean Gamma Deviance:', metrics.mean_gamma_deviance(ym6_test, predictions_m6))\n",
    "\n"
   ]
  },
  {
   "cell_type": "markdown",
   "metadata": {},
   "source": [
    "## Model 7: Drop Citric Acid"
   ]
  },
  {
   "cell_type": "code",
   "execution_count": 215,
   "metadata": {},
   "outputs": [
    {
     "data": {
      "text/html": [
       "<div>\n",
       "<style scoped>\n",
       "    .dataframe tbody tr th:only-of-type {\n",
       "        vertical-align: middle;\n",
       "    }\n",
       "\n",
       "    .dataframe tbody tr th {\n",
       "        vertical-align: top;\n",
       "    }\n",
       "\n",
       "    .dataframe thead th {\n",
       "        text-align: right;\n",
       "    }\n",
       "</style>\n",
       "<table border=\"1\" class=\"dataframe\">\n",
       "  <thead>\n",
       "    <tr style=\"text-align: right;\">\n",
       "      <th></th>\n",
       "      <th>Unnamed: 0</th>\n",
       "      <th>volatile_acidity</th>\n",
       "      <th>chlorides</th>\n",
       "      <th>pH</th>\n",
       "      <th>sulphates</th>\n",
       "      <th>alcohol</th>\n",
       "    </tr>\n",
       "  </thead>\n",
       "  <tbody>\n",
       "    <tr>\n",
       "      <th>1341</th>\n",
       "      <td>1757</td>\n",
       "      <td>0.29</td>\n",
       "      <td>0.056</td>\n",
       "      <td>3.17</td>\n",
       "      <td>0.44</td>\n",
       "      <td>8.8</td>\n",
       "    </tr>\n",
       "    <tr>\n",
       "      <th>1062</th>\n",
       "      <td>1377</td>\n",
       "      <td>0.28</td>\n",
       "      <td>0.050</td>\n",
       "      <td>3.16</td>\n",
       "      <td>0.71</td>\n",
       "      <td>11.4</td>\n",
       "    </tr>\n",
       "    <tr>\n",
       "      <th>2971</th>\n",
       "      <td>3743</td>\n",
       "      <td>0.15</td>\n",
       "      <td>0.051</td>\n",
       "      <td>2.96</td>\n",
       "      <td>0.39</td>\n",
       "      <td>9.0</td>\n",
       "    </tr>\n",
       "    <tr>\n",
       "      <th>2151</th>\n",
       "      <td>2799</td>\n",
       "      <td>0.16</td>\n",
       "      <td>0.036</td>\n",
       "      <td>3.19</td>\n",
       "      <td>0.51</td>\n",
       "      <td>12.4</td>\n",
       "    </tr>\n",
       "    <tr>\n",
       "      <th>405</th>\n",
       "      <td>518</td>\n",
       "      <td>0.13</td>\n",
       "      <td>0.050</td>\n",
       "      <td>3.43</td>\n",
       "      <td>0.64</td>\n",
       "      <td>10.8</td>\n",
       "    </tr>\n",
       "  </tbody>\n",
       "</table>\n",
       "</div>"
      ],
      "text/plain": [
       "      Unnamed: 0  volatile_acidity  chlorides    pH  sulphates  alcohol\n",
       "1341        1757              0.29      0.056  3.17       0.44      8.8\n",
       "1062        1377              0.28      0.050  3.16       0.71     11.4\n",
       "2971        3743              0.15      0.051  2.96       0.39      9.0\n",
       "2151        2799              0.16      0.036  3.19       0.51     12.4\n",
       "405          518              0.13      0.050  3.43       0.64     10.8"
      ]
     },
     "execution_count": 215,
     "metadata": {},
     "output_type": "execute_result"
    }
   ],
   "source": [
    "ym7 = df.quality\n",
    "Xm7 = df.drop(['quality','density','total_sulfur_dioxide','free_sulfur_dioxide','fixed_acidity','residual_sugar','citric_acid'],axis=1)\n",
    "from sklearn.model_selection import train_test_split\n",
    "Xm7_train, Xm7_test, ym7_train, ym7_test = train_test_split(Xm7, ym7, test_size=0.25, random_state=101)\n",
    "Xm7_train.head()\n"
   ]
  },
  {
   "cell_type": "code",
   "execution_count": 216,
   "metadata": {},
   "outputs": [
    {
     "data": {
      "text/plain": [
       "(2819, 6)"
      ]
     },
     "execution_count": 216,
     "metadata": {},
     "output_type": "execute_result"
    }
   ],
   "source": [
    "Xm7_train.shape"
   ]
  },
  {
   "cell_type": "code",
   "execution_count": 217,
   "metadata": {},
   "outputs": [
    {
     "name": "stdout",
     "output_type": "stream",
     "text": [
      "Estimated intercept coefficient: 3.9431712907824057\n",
      "Number of coefficients: 6\n"
     ]
    },
    {
     "data": {
      "text/html": [
       "<div>\n",
       "<style scoped>\n",
       "    .dataframe tbody tr th:only-of-type {\n",
       "        vertical-align: middle;\n",
       "    }\n",
       "\n",
       "    .dataframe tbody tr th {\n",
       "        vertical-align: top;\n",
       "    }\n",
       "\n",
       "    .dataframe thead th {\n",
       "        text-align: right;\n",
       "    }\n",
       "</style>\n",
       "<table border=\"1\" class=\"dataframe\">\n",
       "  <thead>\n",
       "    <tr style=\"text-align: right;\">\n",
       "      <th></th>\n",
       "      <th>Coefficient</th>\n",
       "    </tr>\n",
       "  </thead>\n",
       "  <tbody>\n",
       "    <tr>\n",
       "      <th>Unnamed: 0</th>\n",
       "      <td>-0.000033</td>\n",
       "    </tr>\n",
       "    <tr>\n",
       "      <th>volatile_acidity</th>\n",
       "      <td>-1.791862</td>\n",
       "    </tr>\n",
       "    <tr>\n",
       "      <th>chlorides</th>\n",
       "      <td>-6.180124</td>\n",
       "    </tr>\n",
       "    <tr>\n",
       "      <th>pH</th>\n",
       "      <td>-0.086526</td>\n",
       "    </tr>\n",
       "    <tr>\n",
       "      <th>sulphates</th>\n",
       "      <td>0.377847</td>\n",
       "    </tr>\n",
       "    <tr>\n",
       "      <th>alcohol</th>\n",
       "      <td>0.275017</td>\n",
       "    </tr>\n",
       "  </tbody>\n",
       "</table>\n",
       "</div>"
      ],
      "text/plain": [
       "                  Coefficient\n",
       "Unnamed: 0          -0.000033\n",
       "volatile_acidity    -1.791862\n",
       "chlorides           -6.180124\n",
       "pH                  -0.086526\n",
       "sulphates            0.377847\n",
       "alcohol              0.275017"
      ]
     },
     "execution_count": 217,
     "metadata": {},
     "output_type": "execute_result"
    }
   ],
   "source": [
    "from sklearn.linear_model import LinearRegression\n",
    "lm7 = LinearRegression()\n",
    "lm7.fit(Xm7_train,ym7_train)\n",
    "print('Estimated intercept coefficient:',lm7.intercept_)\n",
    "print ('Number of coefficients:', len(lm7.coef_))\n",
    "coeffm7_df = pd.DataFrame(lm7.coef_,Xm7.columns,columns=['Coefficient'])\n",
    "coeffm7_df"
   ]
  },
  {
   "cell_type": "code",
   "execution_count": 218,
   "metadata": {},
   "outputs": [],
   "source": [
    "predictions_m7 = lm7.predict(Xm7_test)"
   ]
  },
  {
   "cell_type": "markdown",
   "metadata": {},
   "source": [
    "**Predicted vs. Actual**"
   ]
  },
  {
   "cell_type": "code",
   "execution_count": 219,
   "metadata": {},
   "outputs": [
    {
     "data": {
      "text/plain": [
       "<matplotlib.collections.PathCollection at 0x7fc43e27f3d0>"
      ]
     },
     "execution_count": 219,
     "metadata": {},
     "output_type": "execute_result"
    },
    {
     "data": {
      "image/png": "[encoded data removed]",
      "text/plain": [
       "<Figure size 432x288 with 1 Axes>"
      ]
     },
     "metadata": {},
     "output_type": "display_data"
    }
   ],
   "source": [
    "plt.scatter(ym7_test,predictions_m7)"
   ]
  },
  {
   "cell_type": "markdown",
   "metadata": {},
   "source": [
    "**Residual Histogram**"
   ]
  },
  {
   "cell_type": "code",
   "execution_count": 220,
   "metadata": {},
   "outputs": [
    {
     "data": {
      "image/png": "[encoded data removed]",
      "text/plain": [
       "<Figure size 432x288 with 1 Axes>"
      ]
     },
     "metadata": {},
     "output_type": "display_data"
    }
   ],
   "source": [
    "sns.distplot((ym7_test-predictions_m7),bins=50);"
   ]
  },
  {
   "cell_type": "code",
   "execution_count": 221,
   "metadata": {},
   "outputs": [
    {
     "name": "stdout",
     "output_type": "stream",
     "text": [
      "R-squared: 0.2515452464614665\n",
      "Mean Squared Error (MSE): 0.5401097179408587\n",
      "Root Mean Squared Error (RMSE): 0.7349215726462646\n",
      "Log Mean Squared Error: 0.01119636658773741\n",
      "Explained Variance: 0.2542025232169174\n",
      "Mean Absolute Error (MAE): 0.5809097085041185\n",
      "Median Absolute Error: 0.4913905923486981\n",
      "Poisson Deviance: 0.09019013285233325\n",
      "Mean Gamma Deviance: 0.015264310357764687\n"
     ]
    }
   ],
   "source": [
    "from sklearn import metrics\n",
    "print('R-squared:', metrics.r2_score(ym7_test, predictions_m7))\n",
    "print('Mean Squared Error (MSE):', metrics.mean_squared_error(ym7_test, predictions_m7))\n",
    "print('Root Mean Squared Error (RMSE):', np.sqrt(metrics.mean_squared_error(ym7_test, predictions_m7)))\n",
    "print('Log Mean Squared Error:', metrics.mean_squared_log_error(ym7_test, predictions_m7))\n",
    "print('Explained Variance:', metrics.explained_variance_score(ym7_test, predictions_m7))\n",
    "print('Mean Absolute Error (MAE):', metrics.mean_absolute_error(ym7_test, predictions_m7))\n",
    "print('Median Absolute Error:', metrics.median_absolute_error(ym7_test, predictions_m7))\n",
    "print('Poisson Deviance:', metrics.mean_poisson_deviance(ym7_test, predictions_m7))\n",
    "print('Mean Gamma Deviance:', metrics.mean_gamma_deviance(ym7_test, predictions_m7))\n"
   ]
  },
  {
   "cell_type": "markdown",
   "metadata": {},
   "source": [
    "## Model 8: Drop Alcohol"
   ]
  },
  {
   "cell_type": "code",
   "execution_count": 222,
   "metadata": {},
   "outputs": [
    {
     "data": {
      "text/html": [
       "<div>\n",
       "<style scoped>\n",
       "    .dataframe tbody tr th:only-of-type {\n",
       "        vertical-align: middle;\n",
       "    }\n",
       "\n",
       "    .dataframe tbody tr th {\n",
       "        vertical-align: top;\n",
       "    }\n",
       "\n",
       "    .dataframe thead th {\n",
       "        text-align: right;\n",
       "    }\n",
       "</style>\n",
       "<table border=\"1\" class=\"dataframe\">\n",
       "  <thead>\n",
       "    <tr style=\"text-align: right;\">\n",
       "      <th></th>\n",
       "      <th>Unnamed: 0</th>\n",
       "      <th>volatile_acidity</th>\n",
       "      <th>chlorides</th>\n",
       "      <th>pH</th>\n",
       "      <th>sulphates</th>\n",
       "    </tr>\n",
       "  </thead>\n",
       "  <tbody>\n",
       "    <tr>\n",
       "      <th>1341</th>\n",
       "      <td>1757</td>\n",
       "      <td>0.29</td>\n",
       "      <td>0.056</td>\n",
       "      <td>3.17</td>\n",
       "      <td>0.44</td>\n",
       "    </tr>\n",
       "    <tr>\n",
       "      <th>1062</th>\n",
       "      <td>1377</td>\n",
       "      <td>0.28</td>\n",
       "      <td>0.050</td>\n",
       "      <td>3.16</td>\n",
       "      <td>0.71</td>\n",
       "    </tr>\n",
       "    <tr>\n",
       "      <th>2971</th>\n",
       "      <td>3743</td>\n",
       "      <td>0.15</td>\n",
       "      <td>0.051</td>\n",
       "      <td>2.96</td>\n",
       "      <td>0.39</td>\n",
       "    </tr>\n",
       "    <tr>\n",
       "      <th>2151</th>\n",
       "      <td>2799</td>\n",
       "      <td>0.16</td>\n",
       "      <td>0.036</td>\n",
       "      <td>3.19</td>\n",
       "      <td>0.51</td>\n",
       "    </tr>\n",
       "    <tr>\n",
       "      <th>405</th>\n",
       "      <td>518</td>\n",
       "      <td>0.13</td>\n",
       "      <td>0.050</td>\n",
       "      <td>3.43</td>\n",
       "      <td>0.64</td>\n",
       "    </tr>\n",
       "  </tbody>\n",
       "</table>\n",
       "</div>"
      ],
      "text/plain": [
       "      Unnamed: 0  volatile_acidity  chlorides    pH  sulphates\n",
       "1341        1757              0.29      0.056  3.17       0.44\n",
       "1062        1377              0.28      0.050  3.16       0.71\n",
       "2971        3743              0.15      0.051  2.96       0.39\n",
       "2151        2799              0.16      0.036  3.19       0.51\n",
       "405          518              0.13      0.050  3.43       0.64"
      ]
     },
     "execution_count": 222,
     "metadata": {},
     "output_type": "execute_result"
    }
   ],
   "source": [
    "ym8 = df.quality\n",
    "Xm8 = df.drop(['quality','density','total_sulfur_dioxide','free_sulfur_dioxide','fixed_acidity','residual_sugar','citric_acid','alcohol'],axis=1)\n",
    "from sklearn.model_selection import train_test_split\n",
    "Xm8_train, Xm8_test, ym8_train, ym8_test = train_test_split(Xm8, ym8, test_size=0.25, random_state=101)\n",
    "Xm8_train.head()"
   ]
  },
  {
   "cell_type": "code",
   "execution_count": 223,
   "metadata": {},
   "outputs": [
    {
     "data": {
      "text/plain": [
       "(2819, 5)"
      ]
     },
     "execution_count": 223,
     "metadata": {},
     "output_type": "execute_result"
    }
   ],
   "source": [
    "Xm8_train.shape"
   ]
  },
  {
   "cell_type": "code",
   "execution_count": 224,
   "metadata": {},
   "outputs": [
    {
     "name": "stdout",
     "output_type": "stream",
     "text": [
      "Estimated intercept coefficient: 6.809764298797286\n",
      "Number of coefficients: 5\n"
     ]
    },
    {
     "data": {
      "text/html": [
       "<div>\n",
       "<style scoped>\n",
       "    .dataframe tbody tr th:only-of-type {\n",
       "        vertical-align: middle;\n",
       "    }\n",
       "\n",
       "    .dataframe tbody tr th {\n",
       "        vertical-align: top;\n",
       "    }\n",
       "\n",
       "    .dataframe thead th {\n",
       "        text-align: right;\n",
       "    }\n",
       "</style>\n",
       "<table border=\"1\" class=\"dataframe\">\n",
       "  <thead>\n",
       "    <tr style=\"text-align: right;\">\n",
       "      <th></th>\n",
       "      <th>Coefficient</th>\n",
       "    </tr>\n",
       "  </thead>\n",
       "  <tbody>\n",
       "    <tr>\n",
       "      <th>Unnamed: 0</th>\n",
       "      <td>0.000009</td>\n",
       "    </tr>\n",
       "    <tr>\n",
       "      <th>volatile_acidity</th>\n",
       "      <td>-1.345625</td>\n",
       "    </tr>\n",
       "    <tr>\n",
       "      <th>chlorides</th>\n",
       "      <td>-24.676797</td>\n",
       "    </tr>\n",
       "    <tr>\n",
       "      <th>pH</th>\n",
       "      <td>0.139188</td>\n",
       "    </tr>\n",
       "    <tr>\n",
       "      <th>sulphates</th>\n",
       "      <td>0.149874</td>\n",
       "    </tr>\n",
       "  </tbody>\n",
       "</table>\n",
       "</div>"
      ],
      "text/plain": [
       "                  Coefficient\n",
       "Unnamed: 0           0.000009\n",
       "volatile_acidity    -1.345625\n",
       "chlorides          -24.676797\n",
       "pH                   0.139188\n",
       "sulphates            0.149874"
      ]
     },
     "execution_count": 224,
     "metadata": {},
     "output_type": "execute_result"
    }
   ],
   "source": [
    "from sklearn.linear_model import LinearRegression\n",
    "lm8 = LinearRegression()\n",
    "lm8.fit(Xm8_train,ym8_train)\n",
    "print('Estimated intercept coefficient:',lm8.intercept_)\n",
    "print ('Number of coefficients:', len(lm8.coef_))\n",
    "coeffm8_df = pd.DataFrame(lm8.coef_,Xm8.columns,columns=['Coefficient'])\n",
    "coeffm8_df"
   ]
  },
  {
   "cell_type": "code",
   "execution_count": 225,
   "metadata": {},
   "outputs": [],
   "source": [
    "predictions_m8 = lm8.predict(Xm8_test)"
   ]
  },
  {
   "cell_type": "markdown",
   "metadata": {},
   "source": [
    "**Predicted vs. Actual**"
   ]
  },
  {
   "cell_type": "code",
   "execution_count": 226,
   "metadata": {},
   "outputs": [
    {
     "data": {
      "text/plain": [
       "<matplotlib.collections.PathCollection at 0x7fc43dc9a2e0>"
      ]
     },
     "execution_count": 226,
     "metadata": {},
     "output_type": "execute_result"
    },
    {
     "data": {
      "image/png": "[encoded data removed]",
      "text/plain": [
       "<Figure size 432x288 with 1 Axes>"
      ]
     },
     "metadata": {},
     "output_type": "display_data"
    }
   ],
   "source": [
    "plt.scatter(ym8_test,predictions_m8)"
   ]
  },
  {
   "cell_type": "markdown",
   "metadata": {},
   "source": [
    "**Residual Histogram**"
   ]
  },
  {
   "cell_type": "code",
   "execution_count": 227,
   "metadata": {},
   "outputs": [
    {
     "data": {
      "image/png": "[encoded data removed]",
      "text/plain": [
       "<Figure size 432x288 with 1 Axes>"
      ]
     },
     "metadata": {},
     "output_type": "display_data"
    }
   ],
   "source": [
    "sns.distplot((ym8_test-predictions_m8),bins=50);"
   ]
  },
  {
   "cell_type": "code",
   "execution_count": 228,
   "metadata": {},
   "outputs": [
    {
     "name": "stdout",
     "output_type": "stream",
     "text": [
      "R-squared: 0.10829112063496027\n",
      "Mean Squared Error (MSE): 0.6434866356880116\n",
      "Root Mean Squared Error (RMSE): 0.8021761874351616\n",
      "Log Mean Squared Error: 0.013263668114670711\n",
      "Explained Variance: 0.10985076104949143\n",
      "Mean Absolute Error (MAE): 0.6205641127448548\n",
      "Median Absolute Error: 0.5639280614495652\n",
      "Poisson Deviance: 0.10736099700060933\n",
      "Mean Gamma Deviance: 0.018123260125771538\n"
     ]
    }
   ],
   "source": [
    "from sklearn import metrics\n",
    "print('R-squared:', metrics.r2_score(ym8_test, predictions_m8))\n",
    "print('Mean Squared Error (MSE):', metrics.mean_squared_error(ym8_test, predictions_m8))\n",
    "print('Root Mean Squared Error (RMSE):', np.sqrt(metrics.mean_squared_error(ym8_test, predictions_m8)))\n",
    "print('Log Mean Squared Error:', metrics.mean_squared_log_error(ym8_test, predictions_m8))\n",
    "print('Explained Variance:', metrics.explained_variance_score(ym8_test, predictions_m8))\n",
    "print('Mean Absolute Error (MAE):', metrics.mean_absolute_error(ym8_test, predictions_m8))\n",
    "print('Median Absolute Error:', metrics.median_absolute_error(ym8_test, predictions_m8))\n",
    "print('Poisson Deviance:', metrics.mean_poisson_deviance(ym8_test, predictions_m8))\n",
    "print('Mean Gamma Deviance:', metrics.mean_gamma_deviance(ym8_test, predictions_m8))\n"
   ]
  },
  {
   "cell_type": "markdown",
   "metadata": {},
   "source": [
    "## Model 9: Drop pH"
   ]
  },
  {
   "cell_type": "code",
   "execution_count": 229,
   "metadata": {
    "scrolled": true
   },
   "outputs": [
    {
     "data": {
      "text/html": [
       "<div>\n",
       "<style scoped>\n",
       "    .dataframe tbody tr th:only-of-type {\n",
       "        vertical-align: middle;\n",
       "    }\n",
       "\n",
       "    .dataframe tbody tr th {\n",
       "        vertical-align: top;\n",
       "    }\n",
       "\n",
       "    .dataframe thead th {\n",
       "        text-align: right;\n",
       "    }\n",
       "</style>\n",
       "<table border=\"1\" class=\"dataframe\">\n",
       "  <thead>\n",
       "    <tr style=\"text-align: right;\">\n",
       "      <th></th>\n",
       "      <th>Unnamed: 0</th>\n",
       "      <th>volatile_acidity</th>\n",
       "      <th>chlorides</th>\n",
       "      <th>sulphates</th>\n",
       "    </tr>\n",
       "  </thead>\n",
       "  <tbody>\n",
       "    <tr>\n",
       "      <th>1341</th>\n",
       "      <td>1757</td>\n",
       "      <td>0.29</td>\n",
       "      <td>0.056</td>\n",
       "      <td>0.44</td>\n",
       "    </tr>\n",
       "    <tr>\n",
       "      <th>1062</th>\n",
       "      <td>1377</td>\n",
       "      <td>0.28</td>\n",
       "      <td>0.050</td>\n",
       "      <td>0.71</td>\n",
       "    </tr>\n",
       "    <tr>\n",
       "      <th>2971</th>\n",
       "      <td>3743</td>\n",
       "      <td>0.15</td>\n",
       "      <td>0.051</td>\n",
       "      <td>0.39</td>\n",
       "    </tr>\n",
       "    <tr>\n",
       "      <th>2151</th>\n",
       "      <td>2799</td>\n",
       "      <td>0.16</td>\n",
       "      <td>0.036</td>\n",
       "      <td>0.51</td>\n",
       "    </tr>\n",
       "    <tr>\n",
       "      <th>405</th>\n",
       "      <td>518</td>\n",
       "      <td>0.13</td>\n",
       "      <td>0.050</td>\n",
       "      <td>0.64</td>\n",
       "    </tr>\n",
       "  </tbody>\n",
       "</table>\n",
       "</div>"
      ],
      "text/plain": [
       "      Unnamed: 0  volatile_acidity  chlorides  sulphates\n",
       "1341        1757              0.29      0.056       0.44\n",
       "1062        1377              0.28      0.050       0.71\n",
       "2971        3743              0.15      0.051       0.39\n",
       "2151        2799              0.16      0.036       0.51\n",
       "405          518              0.13      0.050       0.64"
      ]
     },
     "execution_count": 229,
     "metadata": {},
     "output_type": "execute_result"
    }
   ],
   "source": [
    "ym9 = df.quality\n",
    "Xm9 = df.drop(['quality','density','total_sulfur_dioxide','free_sulfur_dioxide','fixed_acidity','residual_sugar','citric_acid','alcohol','pH'],axis=1)\n",
    "from sklearn.model_selection import train_test_split\n",
    "Xm9_train, Xm9_test, ym9_train, ym9_test = train_test_split(Xm9, ym9, test_size=0.25, random_state=101)\n",
    "Xm9_train.head()\n"
   ]
  },
  {
   "cell_type": "code",
   "execution_count": 230,
   "metadata": {},
   "outputs": [
    {
     "data": {
      "text/plain": [
       "(2819, 4)"
      ]
     },
     "execution_count": 230,
     "metadata": {},
     "output_type": "execute_result"
    }
   ],
   "source": [
    "Xm9_train.shape"
   ]
  },
  {
   "cell_type": "code",
   "execution_count": 231,
   "metadata": {},
   "outputs": [
    {
     "name": "stdout",
     "output_type": "stream",
     "text": [
      "Estimated intercept coefficient: 7.249649281406007\n",
      "Number of coefficients: 4\n"
     ]
    },
    {
     "data": {
      "text/html": [
       "<div>\n",
       "<style scoped>\n",
       "    .dataframe tbody tr th:only-of-type {\n",
       "        vertical-align: middle;\n",
       "    }\n",
       "\n",
       "    .dataframe tbody tr th {\n",
       "        vertical-align: top;\n",
       "    }\n",
       "\n",
       "    .dataframe thead th {\n",
       "        text-align: right;\n",
       "    }\n",
       "</style>\n",
       "<table border=\"1\" class=\"dataframe\">\n",
       "  <thead>\n",
       "    <tr style=\"text-align: right;\">\n",
       "      <th></th>\n",
       "      <th>Coefficient</th>\n",
       "    </tr>\n",
       "  </thead>\n",
       "  <tbody>\n",
       "    <tr>\n",
       "      <th>Unnamed: 0</th>\n",
       "      <td>0.000007</td>\n",
       "    </tr>\n",
       "    <tr>\n",
       "      <th>volatile_acidity</th>\n",
       "      <td>-1.347141</td>\n",
       "    </tr>\n",
       "    <tr>\n",
       "      <th>chlorides</th>\n",
       "      <td>-24.776594</td>\n",
       "    </tr>\n",
       "    <tr>\n",
       "      <th>sulphates</th>\n",
       "      <td>0.179651</td>\n",
       "    </tr>\n",
       "  </tbody>\n",
       "</table>\n",
       "</div>"
      ],
      "text/plain": [
       "                  Coefficient\n",
       "Unnamed: 0           0.000007\n",
       "volatile_acidity    -1.347141\n",
       "chlorides          -24.776594\n",
       "sulphates            0.179651"
      ]
     },
     "execution_count": 231,
     "metadata": {},
     "output_type": "execute_result"
    }
   ],
   "source": [
    "from sklearn.linear_model import LinearRegression\n",
    "lm9 = LinearRegression()\n",
    "lm9.fit(Xm9_train,ym9_train)\n",
    "print('Estimated intercept coefficient:',lm9.intercept_)\n",
    "print ('Number of coefficients:', len(lm9.coef_))\n",
    "coeffm9_df = pd.DataFrame(lm9.coef_,Xm9.columns,columns=['Coefficient'])\n",
    "coeffm9_df\n"
   ]
  },
  {
   "cell_type": "code",
   "execution_count": 232,
   "metadata": {},
   "outputs": [],
   "source": [
    "predictions_m9 = lm9.predict(Xm9_test)"
   ]
  },
  {
   "cell_type": "markdown",
   "metadata": {},
   "source": [
    "**Predicted vs. Actual**"
   ]
  },
  {
   "cell_type": "code",
   "execution_count": 233,
   "metadata": {},
   "outputs": [
    {
     "data": {
      "text/plain": [
       "<matplotlib.collections.PathCollection at 0x7fc43a7882b0>"
      ]
     },
     "execution_count": 233,
     "metadata": {},
     "output_type": "execute_result"
    },
    {
     "data": {
      "image/png": "[encoded data removed]",
      "text/plain": [
       "<Figure size 432x288 with 1 Axes>"
      ]
     },
     "metadata": {},
     "output_type": "display_data"
    }
   ],
   "source": [
    "plt.scatter(ym9_test,predictions_m9)"
   ]
  },
  {
   "cell_type": "markdown",
   "metadata": {},
   "source": [
    "**Residual Histogram**"
   ]
  },
  {
   "cell_type": "code",
   "execution_count": 234,
   "metadata": {
    "scrolled": true
   },
   "outputs": [
    {
     "data": {
      "image/png": "[encoded data removed]",
      "text/plain": [
       "<Figure size 432x288 with 1 Axes>"
      ]
     },
     "metadata": {},
     "output_type": "display_data"
    }
   ],
   "source": [
    "sns.distplot((ym9_test-predictions_m9),bins=50);"
   ]
  },
  {
   "cell_type": "code",
   "execution_count": 235,
   "metadata": {},
   "outputs": [
    {
     "name": "stdout",
     "output_type": "stream",
     "text": [
      "R-squared: 0.10545973440549339\n",
      "Mean Squared Error (MSE): 0.6455298576871358\n",
      "Root Mean Squared Error (RMSE): 0.8034487274786959\n",
      "Log Mean Squared Error: 0.013305887610284233\n",
      "Explained Variance: 0.10697759342731639\n",
      "Mean Absolute Error (MAE): 0.6215894578679947\n",
      "Median Absolute Error: 0.5646640425382214\n",
      "Poisson Deviance: 0.10769761214283147\n",
      "Mean Gamma Deviance: 0.018178670537460865\n"
     ]
    }
   ],
   "source": [
    "from sklearn import metrics\n",
    "print('R-squared:', metrics.r2_score(ym9_test, predictions_m9))\n",
    "print('Mean Squared Error (MSE):', metrics.mean_squared_error(ym9_test, predictions_m9))\n",
    "print('Root Mean Squared Error (RMSE):', np.sqrt(metrics.mean_squared_error(ym9_test, predictions_m9)))\n",
    "print('Log Mean Squared Error:', metrics.mean_squared_log_error(ym9_test, predictions_m9))\n",
    "print('Explained Variance:', metrics.explained_variance_score(ym9_test, predictions_m9))\n",
    "print('Mean Absolute Error (MAE):', metrics.mean_absolute_error(ym9_test, predictions_m9))\n",
    "print('Median Absolute Error:', metrics.median_absolute_error(ym9_test, predictions_m9))\n",
    "print('Poisson Deviance:', metrics.mean_poisson_deviance(ym9_test, predictions_m9))\n",
    "print('Mean Gamma Deviance:', metrics.mean_gamma_deviance(ym9_test, predictions_m9))\n"
   ]
  },
  {
   "cell_type": "markdown",
   "metadata": {},
   "source": [
    "## Model 10: Drop Sulphates"
   ]
  },
  {
   "cell_type": "code",
   "execution_count": 236,
   "metadata": {},
   "outputs": [
    {
     "data": {
      "text/html": [
       "<div>\n",
       "<style scoped>\n",
       "    .dataframe tbody tr th:only-of-type {\n",
       "        vertical-align: middle;\n",
       "    }\n",
       "\n",
       "    .dataframe tbody tr th {\n",
       "        vertical-align: top;\n",
       "    }\n",
       "\n",
       "    .dataframe thead th {\n",
       "        text-align: right;\n",
       "    }\n",
       "</style>\n",
       "<table border=\"1\" class=\"dataframe\">\n",
       "  <thead>\n",
       "    <tr style=\"text-align: right;\">\n",
       "      <th></th>\n",
       "      <th>Unnamed: 0</th>\n",
       "      <th>volatile_acidity</th>\n",
       "      <th>chlorides</th>\n",
       "    </tr>\n",
       "  </thead>\n",
       "  <tbody>\n",
       "    <tr>\n",
       "      <th>1341</th>\n",
       "      <td>1757</td>\n",
       "      <td>0.29</td>\n",
       "      <td>0.056</td>\n",
       "    </tr>\n",
       "    <tr>\n",
       "      <th>1062</th>\n",
       "      <td>1377</td>\n",
       "      <td>0.28</td>\n",
       "      <td>0.050</td>\n",
       "    </tr>\n",
       "    <tr>\n",
       "      <th>2971</th>\n",
       "      <td>3743</td>\n",
       "      <td>0.15</td>\n",
       "      <td>0.051</td>\n",
       "    </tr>\n",
       "    <tr>\n",
       "      <th>2151</th>\n",
       "      <td>2799</td>\n",
       "      <td>0.16</td>\n",
       "      <td>0.036</td>\n",
       "    </tr>\n",
       "    <tr>\n",
       "      <th>405</th>\n",
       "      <td>518</td>\n",
       "      <td>0.13</td>\n",
       "      <td>0.050</td>\n",
       "    </tr>\n",
       "  </tbody>\n",
       "</table>\n",
       "</div>"
      ],
      "text/plain": [
       "      Unnamed: 0  volatile_acidity  chlorides\n",
       "1341        1757              0.29      0.056\n",
       "1062        1377              0.28      0.050\n",
       "2971        3743              0.15      0.051\n",
       "2151        2799              0.16      0.036\n",
       "405          518              0.13      0.050"
      ]
     },
     "execution_count": 236,
     "metadata": {},
     "output_type": "execute_result"
    }
   ],
   "source": [
    "ym10 = df.quality\n",
    "Xm10 = df.drop(['quality','density','total_sulfur_dioxide','free_sulfur_dioxide','fixed_acidity','residual_sugar','citric_acid','alcohol','pH','sulphates'],axis=1)\n",
    "from sklearn.model_selection import train_test_split\n",
    "Xm10_train, Xm10_test, ym10_train, ym10_test = train_test_split(Xm10, ym10, test_size=0.25, random_state=101)\n",
    "Xm10_train.head()\n"
   ]
  },
  {
   "cell_type": "code",
   "execution_count": 237,
   "metadata": {},
   "outputs": [
    {
     "data": {
      "text/plain": [
       "(2819, 3)"
      ]
     },
     "execution_count": 237,
     "metadata": {},
     "output_type": "execute_result"
    }
   ],
   "source": [
    "Xm10_train.shape"
   ]
  },
  {
   "cell_type": "code",
   "execution_count": 238,
   "metadata": {},
   "outputs": [
    {
     "name": "stdout",
     "output_type": "stream",
     "text": [
      "Estimated intercept coefficient: 7.329521994906569\n",
      "Number of coefficients: 3\n"
     ]
    },
    {
     "data": {
      "text/html": [
       "<div>\n",
       "<style scoped>\n",
       "    .dataframe tbody tr th:only-of-type {\n",
       "        vertical-align: middle;\n",
       "    }\n",
       "\n",
       "    .dataframe tbody tr th {\n",
       "        vertical-align: top;\n",
       "    }\n",
       "\n",
       "    .dataframe thead th {\n",
       "        text-align: right;\n",
       "    }\n",
       "</style>\n",
       "<table border=\"1\" class=\"dataframe\">\n",
       "  <thead>\n",
       "    <tr style=\"text-align: right;\">\n",
       "      <th></th>\n",
       "      <th>Coefficient</th>\n",
       "    </tr>\n",
       "  </thead>\n",
       "  <tbody>\n",
       "    <tr>\n",
       "      <th>Unnamed: 0</th>\n",
       "      <td>0.000007</td>\n",
       "    </tr>\n",
       "    <tr>\n",
       "      <th>volatile_acidity</th>\n",
       "      <td>-1.343875</td>\n",
       "    </tr>\n",
       "    <tr>\n",
       "      <th>chlorides</th>\n",
       "      <td>-24.662220</td>\n",
       "    </tr>\n",
       "  </tbody>\n",
       "</table>\n",
       "</div>"
      ],
      "text/plain": [
       "                  Coefficient\n",
       "Unnamed: 0           0.000007\n",
       "volatile_acidity    -1.343875\n",
       "chlorides          -24.662220"
      ]
     },
     "execution_count": 238,
     "metadata": {},
     "output_type": "execute_result"
    }
   ],
   "source": [
    "from sklearn.linear_model import LinearRegression\n",
    "lm10 = LinearRegression()\n",
    "lm10.fit(Xm10_train,ym10_train)\n",
    "print('Estimated intercept coefficient:',lm10.intercept_)\n",
    "print ('Number of coefficients:', len(lm10.coef_))\n",
    "coeffm10_df = pd.DataFrame(lm10.coef_,Xm10.columns,columns=['Coefficient'])\n",
    "coeffm10_df"
   ]
  },
  {
   "cell_type": "code",
   "execution_count": 239,
   "metadata": {},
   "outputs": [],
   "source": [
    "predictions_m10 = lm10.predict(Xm10_test)"
   ]
  },
  {
   "cell_type": "markdown",
   "metadata": {},
   "source": [
    "**Predicted vs. Actual**"
   ]
  },
  {
   "cell_type": "code",
   "execution_count": 240,
   "metadata": {},
   "outputs": [
    {
     "data": {
      "text/plain": [
       "<matplotlib.collections.PathCollection at 0x7fc43d940d60>"
      ]
     },
     "execution_count": 240,
     "metadata": {},
     "output_type": "execute_result"
    },
    {
     "data": {
      "image/png": "[encoded data removed]",
      "text/plain": [
       "<Figure size 432x288 with 1 Axes>"
      ]
     },
     "metadata": {},
     "output_type": "display_data"
    }
   ],
   "source": [
    "plt.scatter(ym10_test,predictions_m10)"
   ]
  },
  {
   "cell_type": "markdown",
   "metadata": {},
   "source": [
    "**Residual Histogram**"
   ]
  },
  {
   "cell_type": "code",
   "execution_count": 241,
   "metadata": {
    "scrolled": true
   },
   "outputs": [
    {
     "data": {
      "image/png": "[encoded data removed]",
      "text/plain": [
       "<Figure size 432x288 with 1 Axes>"
      ]
     },
     "metadata": {},
     "output_type": "display_data"
    }
   ],
   "source": [
    "sns.distplot((ym10_test-predictions_m10),bins=50);"
   ]
  },
  {
   "cell_type": "code",
   "execution_count": 242,
   "metadata": {},
   "outputs": [
    {
     "name": "stdout",
     "output_type": "stream",
     "text": [
      "R-squared: 0.10310630618999517\n",
      "Mean Squared Error (MSE): 0.6472281693668429\n",
      "Root Mean Squared Error (RMSE): 0.8045049219034294\n",
      "Log Mean Squared Error: 0.013341107998232526\n",
      "Explained Variance: 0.10469528831618968\n",
      "Mean Absolute Error (MAE): 0.6220087759114465\n",
      "Median Absolute Error: 0.5664883657597999\n",
      "Poisson Deviance: 0.10796715364029924\n",
      "Mean Gamma Deviance: 0.018221438144960442\n"
     ]
    }
   ],
   "source": [
    "from sklearn import metrics\n",
    "print('R-squared:', metrics.r2_score(ym10_test, predictions_m10))\n",
    "print('Mean Squared Error (MSE):', metrics.mean_squared_error(ym10_test, predictions_m10))\n",
    "print('Root Mean Squared Error (RMSE):', np.sqrt(metrics.mean_squared_error(ym10_test, predictions_m10)))\n",
    "print('Log Mean Squared Error:', metrics.mean_squared_log_error(ym10_test, predictions_m10))\n",
    "print('Explained Variance:', metrics.explained_variance_score(ym10_test, predictions_m10))\n",
    "print('Mean Absolute Error (MAE):', metrics.mean_absolute_error(ym10_test, predictions_m10))\n",
    "print('Median Absolute Error:', metrics.median_absolute_error(ym10_test, predictions_m10))\n",
    "print('Poisson Deviance:', metrics.mean_poisson_deviance(ym10_test, predictions_m10))\n",
    "print('Mean Gamma Deviance:', metrics.mean_gamma_deviance(ym10_test, predictions_m10))\n"
   ]
  },
  {
   "cell_type": "markdown",
   "metadata": {},
   "source": [
    "## Model 11: Drop Volatile Activity"
   ]
  },
  {
   "cell_type": "code",
   "execution_count": 243,
   "metadata": {},
   "outputs": [
    {
     "data": {
      "text/html": [
       "<div>\n",
       "<style scoped>\n",
       "    .dataframe tbody tr th:only-of-type {\n",
       "        vertical-align: middle;\n",
       "    }\n",
       "\n",
       "    .dataframe tbody tr th {\n",
       "        vertical-align: top;\n",
       "    }\n",
       "\n",
       "    .dataframe thead th {\n",
       "        text-align: right;\n",
       "    }\n",
       "</style>\n",
       "<table border=\"1\" class=\"dataframe\">\n",
       "  <thead>\n",
       "    <tr style=\"text-align: right;\">\n",
       "      <th></th>\n",
       "      <th>Unnamed: 0</th>\n",
       "      <th>chlorides</th>\n",
       "    </tr>\n",
       "  </thead>\n",
       "  <tbody>\n",
       "    <tr>\n",
       "      <th>1341</th>\n",
       "      <td>1757</td>\n",
       "      <td>0.056</td>\n",
       "    </tr>\n",
       "    <tr>\n",
       "      <th>1062</th>\n",
       "      <td>1377</td>\n",
       "      <td>0.050</td>\n",
       "    </tr>\n",
       "    <tr>\n",
       "      <th>2971</th>\n",
       "      <td>3743</td>\n",
       "      <td>0.051</td>\n",
       "    </tr>\n",
       "    <tr>\n",
       "      <th>2151</th>\n",
       "      <td>2799</td>\n",
       "      <td>0.036</td>\n",
       "    </tr>\n",
       "    <tr>\n",
       "      <th>405</th>\n",
       "      <td>518</td>\n",
       "      <td>0.050</td>\n",
       "    </tr>\n",
       "  </tbody>\n",
       "</table>\n",
       "</div>"
      ],
      "text/plain": [
       "      Unnamed: 0  chlorides\n",
       "1341        1757      0.056\n",
       "1062        1377      0.050\n",
       "2971        3743      0.051\n",
       "2151        2799      0.036\n",
       "405          518      0.050"
      ]
     },
     "execution_count": 243,
     "metadata": {},
     "output_type": "execute_result"
    }
   ],
   "source": [
    "ym11 = df.quality\n",
    "Xm11 = df.drop(['quality','density','total_sulfur_dioxide','free_sulfur_dioxide','fixed_acidity','residual_sugar','citric_acid','alcohol','pH','sulphates','volatile_acidity'],axis=1)\n",
    "from sklearn.model_selection import train_test_split\n",
    "Xm11_train, Xm11_test, ym11_train, ym11_test = train_test_split(Xm11, ym11, test_size=0.25, random_state=101)\n",
    "Xm11_train.head()\n"
   ]
  },
  {
   "cell_type": "code",
   "execution_count": 244,
   "metadata": {},
   "outputs": [
    {
     "data": {
      "text/plain": [
       "(2819, 2)"
      ]
     },
     "execution_count": 244,
     "metadata": {},
     "output_type": "execute_result"
    }
   ],
   "source": [
    "Xm11_train.shape"
   ]
  },
  {
   "cell_type": "code",
   "execution_count": 245,
   "metadata": {},
   "outputs": [
    {
     "name": "stdout",
     "output_type": "stream",
     "text": [
      "Estimated intercept coefficient: 6.96429922551326\n",
      "Number of coefficients: 2\n"
     ]
    },
    {
     "data": {
      "text/html": [
       "<div>\n",
       "<style scoped>\n",
       "    .dataframe tbody tr th:only-of-type {\n",
       "        vertical-align: middle;\n",
       "    }\n",
       "\n",
       "    .dataframe tbody tr th {\n",
       "        vertical-align: top;\n",
       "    }\n",
       "\n",
       "    .dataframe thead th {\n",
       "        text-align: right;\n",
       "    }\n",
       "</style>\n",
       "<table border=\"1\" class=\"dataframe\">\n",
       "  <thead>\n",
       "    <tr style=\"text-align: right;\">\n",
       "      <th></th>\n",
       "      <th>Coefficient</th>\n",
       "    </tr>\n",
       "  </thead>\n",
       "  <tbody>\n",
       "    <tr>\n",
       "      <th>Unnamed: 0</th>\n",
       "      <td>0.000004</td>\n",
       "    </tr>\n",
       "    <tr>\n",
       "      <th>chlorides</th>\n",
       "      <td>-24.139864</td>\n",
       "    </tr>\n",
       "  </tbody>\n",
       "</table>\n",
       "</div>"
      ],
      "text/plain": [
       "            Coefficient\n",
       "Unnamed: 0     0.000004\n",
       "chlorides    -24.139864"
      ]
     },
     "execution_count": 245,
     "metadata": {},
     "output_type": "execute_result"
    }
   ],
   "source": [
    "from sklearn.linear_model import LinearRegression\n",
    "lm11 = LinearRegression()\n",
    "lm11.fit(Xm11_train,ym11_train)\n",
    "print('Estimated intercept coefficient:',lm11.intercept_)\n",
    "print ('Number of coefficients:', len(lm11.coef_))\n",
    "coeffm11_df = pd.DataFrame(lm11.coef_,Xm11.columns,columns=['Coefficient'])\n",
    "coeffm11_df"
   ]
  },
  {
   "cell_type": "code",
   "execution_count": 246,
   "metadata": {},
   "outputs": [],
   "source": [
    "predictions_m11 = lm11.predict(Xm11_test)"
   ]
  },
  {
   "cell_type": "markdown",
   "metadata": {},
   "source": [
    "**Predicted vs. Actual**"
   ]
  },
  {
   "cell_type": "code",
   "execution_count": 247,
   "metadata": {},
   "outputs": [
    {
     "data": {
      "text/plain": [
       "<matplotlib.collections.PathCollection at 0x7fc43e2ca760>"
      ]
     },
     "execution_count": 247,
     "metadata": {},
     "output_type": "execute_result"
    },
    {
     "data": {
      "image/png": "[encoded data removed]",
      "text/plain": [
       "<Figure size 432x288 with 1 Axes>"
      ]
     },
     "metadata": {},
     "output_type": "display_data"
    }
   ],
   "source": [
    "plt.scatter(ym11_test,predictions_m11)"
   ]
  },
  {
   "cell_type": "markdown",
   "metadata": {},
   "source": [
    "**Residual Histogram**"
   ]
  },
  {
   "cell_type": "code",
   "execution_count": 248,
   "metadata": {},
   "outputs": [
    {
     "data": {
      "image/png": "[encoded data removed]",
      "text/plain": [
       "<Figure size 432x288 with 1 Axes>"
      ]
     },
     "metadata": {},
     "output_type": "display_data"
    }
   ],
   "source": [
    "sns.distplot((ym11_test-predictions_m11),bins=50);"
   ]
  },
  {
   "cell_type": "code",
   "execution_count": 249,
   "metadata": {},
   "outputs": [
    {
     "name": "stdout",
     "output_type": "stream",
     "text": [
      "R-squared: 0.08976090235374279\n",
      "Mean Squared Error (MSE): 0.656858654399809\n",
      "Root Mean Squared Error (RMSE): 0.8104681698868925\n",
      "Log Mean Squared Error: 0.013600432684904106\n",
      "Explained Variance: 0.09078676803634544\n",
      "Mean Absolute Error (MAE): 0.6268176838337319\n",
      "Median Absolute Error: 0.6030112900373239\n",
      "Poisson Deviance: 0.10971114349909517\n",
      "Mean Gamma Deviance: 0.018536431229161217\n"
     ]
    }
   ],
   "source": [
    "from sklearn import metrics\n",
    "print('R-squared:', metrics.r2_score(ym11_test, predictions_m11))\n",
    "print('Mean Squared Error (MSE):', metrics.mean_squared_error(ym11_test, predictions_m11))\n",
    "print('Root Mean Squared Error (RMSE):', np.sqrt(metrics.mean_squared_error(ym11_test, predictions_m11)))\n",
    "print('Log Mean Squared Error:', metrics.mean_squared_log_error(ym11_test, predictions_m11))\n",
    "print('Explained Variance:', metrics.explained_variance_score(ym11_test, predictions_m11))\n",
    "print('Mean Absolute Error (MAE):', metrics.mean_absolute_error(ym11_test, predictions_m11))\n",
    "print('Median Absolute Error:', metrics.median_absolute_error(ym11_test, predictions_m11))\n",
    "print('Poisson Deviance:', metrics.mean_poisson_deviance(ym11_test, predictions_m11))\n",
    "print('Mean Gamma Deviance:', metrics.mean_gamma_deviance(ym11_test, predictions_m11))\n"
   ]
  },
  {
   "cell_type": "code",
   "execution_count": null,
   "metadata": {},
   "outputs": [],
   "source": []
  },
  {
   "cell_type": "code",
   "execution_count": null,
   "metadata": {},
   "outputs": [],
   "source": []
  },
  {
   "cell_type": "code",
   "execution_count": null,
   "metadata": {},
   "outputs": [],
   "source": []
  }
 ],
 "metadata": {
  "kernelspec": {
   "display_name": "Python 3",
   "language": "python",
   "name": "python3"
  },
  "language_info": {
   "codemirror_mode": {
    "name": "ipython",
    "version": 3
   },
   "file_extension": ".py",
   "mimetype": "text/x-python",
   "name": "python",
   "nbconvert_exporter": "python",
   "pygments_lexer": "ipython3",
   "version": "3.8.5"
  }
 },
 "nbformat": 4,
 "nbformat_minor": 2
}
