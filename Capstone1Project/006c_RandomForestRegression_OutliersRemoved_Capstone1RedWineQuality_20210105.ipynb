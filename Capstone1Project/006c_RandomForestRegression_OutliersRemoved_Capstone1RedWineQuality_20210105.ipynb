{
 "cells": [
  {
   "cell_type": "markdown",
   "metadata": {},
   "source": [
    "### Capstone 1: White Wine Quality, UC Irvine\n",
    "(Source: Paulo Cortez (Univ. Minho), Antonio Cerdeira, Fernando Almeida, Telmo Matos and Jose Reis (CVRVV) @ 2009)\n",
    "\n",
    "# 6c. Random Forest Regressor\n",
    "## Red Wine, Outliers Removed\n",
    "\n",
    "#### Audrey Hughes Rager\n",
    "#### December 30, 2020\n"
   ]
  },
  {
   "cell_type": "code",
   "execution_count": 1,
   "metadata": {},
   "outputs": [],
   "source": [
    "from sklearn.ensemble import RandomForestRegressor\n",
    "import numpy as np\n",
    "import matplotlib.pyplot as plt\n",
    "import pandas as pd\n",
    "import seaborn as sns\n",
    "from sklearn.model_selection import train_test_split, GridSearchCV, cross_val_score\n",
    "from sklearn.preprocessing import StandardScaler\n",
    "from sklearn.preprocessing import scale\n",
    "from sklearn.metrics import mean_absolute_error, mean_squared_error\n",
    "\n",
    "%matplotlib inline\n",
    "\n",
    "sns.set_style('whitegrid')"
   ]
  },
  {
   "cell_type": "markdown",
   "metadata": {},
   "source": [
    "## Data Wrangling"
   ]
  },
  {
   "cell_type": "markdown",
   "metadata": {},
   "source": [
    "### Import Data"
   ]
  },
  {
   "cell_type": "code",
   "execution_count": 2,
   "metadata": {},
   "outputs": [],
   "source": [
    "#Import csv files into Pandas data frames\n",
    "df = pd.read_csv('winequality-red.csv',sep=\";\")\n",
    "df = df.rename({'fixed acidity': 'fixed_acidity','volatile acidity': 'volatile_acidity', 'citric acid': 'citric_acid', 'residual sugar':'residual_sugar',  'free sulfur dioxide':'free_sulfur_dioxide', 'total sulfur dioxide':'total_sulfur_dioxide'}, axis=1)\n",
    "\n"
   ]
  },
  {
   "cell_type": "markdown",
   "metadata": {},
   "source": [
    "### Remove Outliers"
   ]
  },
  {
   "cell_type": "code",
   "execution_count": 3,
   "metadata": {},
   "outputs": [
    {
     "name": "stdout",
     "output_type": "stream",
     "text": [
      "fixed_acidity maximum: 15.9\n",
      "fixed_acidity minimum: 4.6\n",
      "fixed_acidity Q1: 7.1\n",
      "fixed_acidity Q3: 9.2\n",
      "fixed_acidity range: 11.3\n",
      "fixed_acidity IQR: 2.0999999999999996\n",
      "ratio of Range fo IQR: 5.380952380952382\n",
      "\n",
      "volatile_acidity maximum: 1.58\n",
      "volatile_acidity minimum: 0.12\n",
      "volatile_acidity Q1: 0.395\n",
      "volatile_acidity Q3: 0.64\n",
      "volatile_acidity range: 1.46\n",
      "volatile_acidity IQR: 0.245\n",
      "ratio of Range fo IQR: 5.959183673469388\n",
      "\n",
      "citric_acid maximum: 1.0\n",
      "citric_acid minimum: 0.0\n",
      "citric_acid Q1: 0.09\n",
      "citric_acid Q3: 0.41\n",
      "citric_acid range: 1.0\n",
      "citric_acid IQR: 0.31999999999999995\n",
      "ratio of Range fo IQR: 3.1250000000000004\n",
      "\n",
      "residual_sugar maximum: 15.5\n",
      "residual_sugar minimum: 0.9\n",
      "residual_sugar Q1: 1.9\n",
      "residual_sugar Q3: 2.6\n",
      "residual_sugar range: 14.6\n",
      "residual_sugar IQR: 0.7000000000000002\n",
      "ratio of Range fo IQR: 20.85714285714285\n",
      "\n",
      "chlorides maximum: 0.611\n",
      "chlorides minimum: 0.012\n",
      "chlorides Q1: 0.07\n",
      "chlorides Q3: 0.08900000000000001\n",
      "chlorides range: 0.599\n",
      "chlorides IQR: 0.019000000000000003\n",
      "ratio of Range fo IQR: 31.526315789473678\n",
      "\n",
      "free_sulfur_dioxide maximum: 57.0\n",
      "free_sulfur_dioxide minimum: 1.0\n",
      "free_sulfur_dioxide Q1: 8.0\n",
      "free_sulfur_dioxide Q3: 21.0\n",
      "free_sulfur_dioxide range: 56.0\n",
      "free_sulfur_dioxide IQR: 13.0\n",
      "ratio of Range fo IQR: 4.3076923076923075\n",
      "\n",
      "total_sulfur_dioxide maximum: 155.0\n",
      "total_sulfur_dioxide minimum: 6.0\n",
      "total_sulfur_dioxide Q1: 22.5\n",
      "total_sulfur_dioxide Q3: 59.0\n",
      "total_sulfur_dioxide range: 149.0\n",
      "total_sulfur_dioxide IQR: 36.5\n",
      "ratio of Range fo IQR: 4.082191780821918\n",
      "\n",
      "density maximum: 1.001\n",
      "density minimum: 0.9900700000000001\n",
      "density Q1: 0.9954700000000001\n",
      "density Q3: 0.9975\n",
      "density range: 0.010929999999999773\n",
      "density IQR: 0.0020299999999999763\n",
      "ratio of Range fo IQR: 5.384236453201922\n",
      "\n",
      "pH maximum: 3.9\n",
      "pH minimum: 2.88\n",
      "pH Q1: 3.23\n",
      "pH Q3: 3.41\n",
      "pH range: 1.02\n",
      "pH IQR: 0.18000000000000016\n",
      "ratio of Range fo IQR: 5.666666666666662\n",
      "\n",
      "sulphates maximum: 1.56\n",
      "sulphates minimum: 0.33\n",
      "sulphates Q1: 0.55\n",
      "sulphates Q3: 0.7075\n",
      "sulphates range: 1.23\n",
      "sulphates IQR: 0.15749999999999997\n",
      "ratio of Range fo IQR: 7.809523809523811\n",
      "\n",
      "alcohol maximum: 14.0\n",
      "alcohol minimum: 8.7\n",
      "alcohol Q1: 9.5\n",
      "alcohol Q3: 11.0\n",
      "alcohol range: 5.300000000000001\n",
      "alcohol IQR: 1.5\n",
      "ratio of Range fo IQR: 3.5333333333333337\n",
      "\n"
     ]
    }
   ],
   "source": [
    "# Filtering Values between Q1-1.5IQR and Q3+1.5IQR\n",
    "ValueList = ('fixed_acidity', 'volatile_acidity', 'citric_acid', 'residual_sugar', 'chlorides',\n",
    "            'free_sulfur_dioxide', 'total_sulfur_dioxide', 'density', 'pH', 'sulphates', 'alcohol')\n",
    "\n",
    "for myValue in ValueList:\n",
    "    #compute range of data\n",
    "    myValueMax = df[myValue].max()\n",
    "    myValueMin = df[myValue].min()\n",
    "    myValueRange = myValueMax - myValueMin\n",
    "    \n",
    "    # Computing IQR\n",
    "    Q1 = df[myValue].quantile(0.25)\n",
    "    Q3 = df[myValue].quantile(0.75)\n",
    "    IQR = Q3 - Q1\n",
    "    gtdropvalue = (Q3 + (1.5 * IQR))\n",
    "    ltdropvalue = (Q1 - (1.5 * IQR))\n",
    "    \n",
    "    index_names_right = df[df[myValue] >= gtdropvalue].index\n",
    "    index_names_left = df[df[myValue] <= ltdropvalue].index\n",
    "    df.drop(index_names_right, inplace = True)\n",
    "    df.drop(index_names_left, inplace = True)\n",
    "    print(myValue + ' maximum: ' + str(myValueMax))\n",
    "    print(myValue + ' minimum: ' + str(myValueMin))\n",
    "    print(myValue + ' Q1: ' + str(Q1))\n",
    "    print(myValue + ' Q3: ' + str(Q3))\n",
    "    print(myValue + ' range: ' + str(myValueRange))\n",
    "    print(myValue + ' IQR: ' + str(IQR))\n",
    "    print('ratio of Range fo IQR: ' + str(myValueRange/IQR))\n",
    "    print()\n",
    "    \n",
    "   "
   ]
  },
  {
   "cell_type": "markdown",
   "metadata": {},
   "source": [
    "### EDA\n"
   ]
  },
  {
   "cell_type": "code",
   "execution_count": 4,
   "metadata": {},
   "outputs": [
    {
     "data": {
      "text/html": [
       "<div>\n",
       "<style scoped>\n",
       "    .dataframe tbody tr th:only-of-type {\n",
       "        vertical-align: middle;\n",
       "    }\n",
       "\n",
       "    .dataframe tbody tr th {\n",
       "        vertical-align: top;\n",
       "    }\n",
       "\n",
       "    .dataframe thead th {\n",
       "        text-align: right;\n",
       "    }\n",
       "</style>\n",
       "<table border=\"1\" class=\"dataframe\">\n",
       "  <thead>\n",
       "    <tr style=\"text-align: right;\">\n",
       "      <th></th>\n",
       "      <th>fixed_acidity</th>\n",
       "      <th>volatile_acidity</th>\n",
       "      <th>citric_acid</th>\n",
       "      <th>residual_sugar</th>\n",
       "      <th>chlorides</th>\n",
       "      <th>free_sulfur_dioxide</th>\n",
       "      <th>total_sulfur_dioxide</th>\n",
       "      <th>density</th>\n",
       "      <th>pH</th>\n",
       "      <th>sulphates</th>\n",
       "      <th>alcohol</th>\n",
       "      <th>quality</th>\n",
       "    </tr>\n",
       "  </thead>\n",
       "  <tbody>\n",
       "    <tr>\n",
       "      <th>count</th>\n",
       "      <td>1135.000000</td>\n",
       "      <td>1135.000000</td>\n",
       "      <td>1135.000000</td>\n",
       "      <td>1135.000000</td>\n",
       "      <td>1135.000000</td>\n",
       "      <td>1135.000000</td>\n",
       "      <td>1135.000000</td>\n",
       "      <td>1135.000000</td>\n",
       "      <td>1135.000000</td>\n",
       "      <td>1135.000000</td>\n",
       "      <td>1135.000000</td>\n",
       "      <td>1135.000000</td>\n",
       "    </tr>\n",
       "    <tr>\n",
       "      <th>mean</th>\n",
       "      <td>8.146784</td>\n",
       "      <td>0.522211</td>\n",
       "      <td>0.246000</td>\n",
       "      <td>2.180617</td>\n",
       "      <td>0.078296</td>\n",
       "      <td>14.788546</td>\n",
       "      <td>40.946256</td>\n",
       "      <td>0.996569</td>\n",
       "      <td>3.325286</td>\n",
       "      <td>0.628405</td>\n",
       "      <td>10.353377</td>\n",
       "      <td>5.637004</td>\n",
       "    </tr>\n",
       "    <tr>\n",
       "      <th>std</th>\n",
       "      <td>1.444025</td>\n",
       "      <td>0.164683</td>\n",
       "      <td>0.180343</td>\n",
       "      <td>0.439189</td>\n",
       "      <td>0.013741</td>\n",
       "      <td>8.587718</td>\n",
       "      <td>24.625658</td>\n",
       "      <td>0.001558</td>\n",
       "      <td>0.130173</td>\n",
       "      <td>0.112067</td>\n",
       "      <td>0.953617</td>\n",
       "      <td>0.758518</td>\n",
       "    </tr>\n",
       "    <tr>\n",
       "      <th>min</th>\n",
       "      <td>5.100000</td>\n",
       "      <td>0.120000</td>\n",
       "      <td>0.000000</td>\n",
       "      <td>1.200000</td>\n",
       "      <td>0.042000</td>\n",
       "      <td>1.000000</td>\n",
       "      <td>6.000000</td>\n",
       "      <td>0.992560</td>\n",
       "      <td>2.980000</td>\n",
       "      <td>0.330000</td>\n",
       "      <td>8.700000</td>\n",
       "      <td>3.000000</td>\n",
       "    </tr>\n",
       "    <tr>\n",
       "      <th>25%</th>\n",
       "      <td>7.100000</td>\n",
       "      <td>0.390000</td>\n",
       "      <td>0.080000</td>\n",
       "      <td>1.900000</td>\n",
       "      <td>0.069000</td>\n",
       "      <td>8.000000</td>\n",
       "      <td>22.000000</td>\n",
       "      <td>0.995515</td>\n",
       "      <td>3.230000</td>\n",
       "      <td>0.550000</td>\n",
       "      <td>9.500000</td>\n",
       "      <td>5.000000</td>\n",
       "    </tr>\n",
       "    <tr>\n",
       "      <th>50%</th>\n",
       "      <td>7.800000</td>\n",
       "      <td>0.520000</td>\n",
       "      <td>0.240000</td>\n",
       "      <td>2.100000</td>\n",
       "      <td>0.078000</td>\n",
       "      <td>13.000000</td>\n",
       "      <td>35.000000</td>\n",
       "      <td>0.996600</td>\n",
       "      <td>3.330000</td>\n",
       "      <td>0.610000</td>\n",
       "      <td>10.100000</td>\n",
       "      <td>6.000000</td>\n",
       "    </tr>\n",
       "    <tr>\n",
       "      <th>75%</th>\n",
       "      <td>9.000000</td>\n",
       "      <td>0.630000</td>\n",
       "      <td>0.390000</td>\n",
       "      <td>2.400000</td>\n",
       "      <td>0.087000</td>\n",
       "      <td>20.000000</td>\n",
       "      <td>54.000000</td>\n",
       "      <td>0.997500</td>\n",
       "      <td>3.400000</td>\n",
       "      <td>0.700000</td>\n",
       "      <td>11.000000</td>\n",
       "      <td>6.000000</td>\n",
       "    </tr>\n",
       "    <tr>\n",
       "      <th>max</th>\n",
       "      <td>12.300000</td>\n",
       "      <td>1.005000</td>\n",
       "      <td>0.730000</td>\n",
       "      <td>3.600000</td>\n",
       "      <td>0.116000</td>\n",
       "      <td>40.000000</td>\n",
       "      <td>113.000000</td>\n",
       "      <td>1.000400</td>\n",
       "      <td>3.680000</td>\n",
       "      <td>0.940000</td>\n",
       "      <td>13.000000</td>\n",
       "      <td>8.000000</td>\n",
       "    </tr>\n",
       "  </tbody>\n",
       "</table>\n",
       "</div>"
      ],
      "text/plain": [
       "       fixed_acidity  volatile_acidity  citric_acid  residual_sugar  \\\n",
       "count    1135.000000       1135.000000  1135.000000     1135.000000   \n",
       "mean        8.146784          0.522211     0.246000        2.180617   \n",
       "std         1.444025          0.164683     0.180343        0.439189   \n",
       "min         5.100000          0.120000     0.000000        1.200000   \n",
       "25%         7.100000          0.390000     0.080000        1.900000   \n",
       "50%         7.800000          0.520000     0.240000        2.100000   \n",
       "75%         9.000000          0.630000     0.390000        2.400000   \n",
       "max        12.300000          1.005000     0.730000        3.600000   \n",
       "\n",
       "         chlorides  free_sulfur_dioxide  total_sulfur_dioxide      density  \\\n",
       "count  1135.000000          1135.000000           1135.000000  1135.000000   \n",
       "mean      0.078296            14.788546             40.946256     0.996569   \n",
       "std       0.013741             8.587718             24.625658     0.001558   \n",
       "min       0.042000             1.000000              6.000000     0.992560   \n",
       "25%       0.069000             8.000000             22.000000     0.995515   \n",
       "50%       0.078000            13.000000             35.000000     0.996600   \n",
       "75%       0.087000            20.000000             54.000000     0.997500   \n",
       "max       0.116000            40.000000            113.000000     1.000400   \n",
       "\n",
       "                pH    sulphates      alcohol      quality  \n",
       "count  1135.000000  1135.000000  1135.000000  1135.000000  \n",
       "mean      3.325286     0.628405    10.353377     5.637004  \n",
       "std       0.130173     0.112067     0.953617     0.758518  \n",
       "min       2.980000     0.330000     8.700000     3.000000  \n",
       "25%       3.230000     0.550000     9.500000     5.000000  \n",
       "50%       3.330000     0.610000    10.100000     6.000000  \n",
       "75%       3.400000     0.700000    11.000000     6.000000  \n",
       "max       3.680000     0.940000    13.000000     8.000000  "
      ]
     },
     "execution_count": 4,
     "metadata": {},
     "output_type": "execute_result"
    }
   ],
   "source": [
    "df.describe()"
   ]
  },
  {
   "cell_type": "code",
   "execution_count": 5,
   "metadata": {},
   "outputs": [
    {
     "data": {
      "image/png": "[encoded data removed]",
      "text/plain": [
       "<Figure size 1368x1440 with 12 Axes>"
      ]
     },
     "metadata": {},
     "output_type": "display_data"
    }
   ],
   "source": [
    "#Historgrams  - outliers removed (df)\n",
    "def subplot_histplot(data, row = 4, column = 3, title = \"Subplots\", height = 20, width = 19):\n",
    "    # Create a figure instance, and the subplots\n",
    "    fig = plt.figure(figsize = (width, height))\n",
    "    fig.suptitle(title, fontsize=24, y = 0.93)\n",
    "    # Run loop over the all the variables\n",
    "    for i in range(data.shape[1]):\n",
    "        # Create the axis line\n",
    "        ax = fig.add_subplot(row, column, i + 1)\n",
    "        fig.subplots_adjust(hspace = .5)\n",
    "        # Create histogram for each variable\n",
    "        plot = sns.histplot(df.iloc[:, i], ax=ax)\n",
    "    # Show the plot\n",
    "    plot.tick_params(labelsize = 20)\n",
    "    plt.show()\n",
    "\n",
    "plot_columns = ['quality','fixed_acidity','volatile_acidity', 'citric_acid', 'residual_sugar','chlorides','free_sulfur_dioxide','total_sulfur_dioxide','density', 'pH', 'sulphates','alcohol']\n",
    "    \n",
    "\n",
    "\n",
    "myhistplot = subplot_histplot(df[plot_columns], row = 4, column = 3, title = \"Histogram of the White Wine Variables\\n(Outliers Removed)\")\n"
   ]
  },
  {
   "cell_type": "markdown",
   "metadata": {},
   "source": [
    "### Train-Test-Split"
   ]
  },
  {
   "cell_type": "code",
   "execution_count": 6,
   "metadata": {},
   "outputs": [],
   "source": [
    "#Independent variables (X) = everything but the target variable, y\n",
    "#Target variable, y, is quality\n",
    "\n",
    "#Set X to all the input variables (everything except 'quality')\n",
    "X = df.drop('quality',axis=1)\n",
    "\n",
    "#Set the variable to be predicted (y) to 'quality'\n",
    "y = df['quality']"
   ]
  },
  {
   "cell_type": "code",
   "execution_count": 7,
   "metadata": {},
   "outputs": [],
   "source": [
    "X_train, X_test, y_train, y_test = train_test_split(X, y, test_size=0.20,random_state=42)\n"
   ]
  },
  {
   "cell_type": "markdown",
   "metadata": {},
   "source": [
    "### Scale Independent Variables"
   ]
  },
  {
   "cell_type": "code",
   "execution_count": 8,
   "metadata": {},
   "outputs": [],
   "source": [
    "# applying Standard Scaling to the dataset to scale all the field values to same scale (approx.).\n",
    "\n",
    "sc = StandardScaler()\n",
    "\n",
    "X_train = sc.fit_transform(X_train)\n",
    "X_test = sc.fit_transform(X_test)\n",
    "\n"
   ]
  },
  {
   "cell_type": "markdown",
   "metadata": {},
   "source": [
    "# RandomForestRegressor\n",
    "\n",
    "sklearn.ensemble.RandomForestRegressor(n_estimators=100, *, criterion='mse', max_depth=None, min_samples_split=2, min_samples_leaf=1, min_weight_fraction_leaf=0.0, max_features='auto', max_leaf_nodes=None, min_impurity_decrease=0.0, min_impurity_split=None, bootstrap=True, oob_score=False, n_jobs=None, random_state=None, verbose=0, warm_start=False, ccp_alpha=0.0, max_samples=None)"
   ]
  },
  {
   "cell_type": "markdown",
   "metadata": {},
   "source": [
    "# Instantiate the Random Forest Regressor Model"
   ]
  },
  {
   "cell_type": "code",
   "execution_count": 9,
   "metadata": {},
   "outputs": [],
   "source": [
    "rfr = RandomForestRegressor(n_estimators = 200, max_depth=20, min_samples_leaf=50, random_state = 42)"
   ]
  },
  {
   "cell_type": "markdown",
   "metadata": {},
   "source": [
    "# Fit the Model to the Training Data"
   ]
  },
  {
   "cell_type": "code",
   "execution_count": 10,
   "metadata": {},
   "outputs": [],
   "source": [
    "rfrModel = rfr.fit(X_train,y_train)"
   ]
  },
  {
   "cell_type": "markdown",
   "metadata": {},
   "source": [
    "# Predict Using Test Data"
   ]
  },
  {
   "cell_type": "code",
   "execution_count": 11,
   "metadata": {},
   "outputs": [],
   "source": [
    "y_pred = rfrModel.predict(X_test)"
   ]
  },
  {
   "cell_type": "code",
   "execution_count": 12,
   "metadata": {},
   "outputs": [
    {
     "name": "stdout",
     "output_type": "stream",
     "text": [
      "[5.38350353 6.29002098 5.06043962 5.11130688 6.51691117 5.28667658\n",
      " 5.15021162 5.23325777 5.40263585 5.62688528 5.81388612 5.19527467\n",
      " 6.35085375 6.52456393 6.36465895 5.28342694 5.63666745 5.8200268\n",
      " 6.37750842 5.54692402 5.36164266 6.13368705 5.62688528 5.60209119\n",
      " 5.21168883 5.29308877 5.19027338 5.15129706 6.31669003 5.20593631\n",
      " 5.20098781 5.23203724 5.0882404  5.6716963  5.6565793  5.56125197\n",
      " 6.15181072 5.19736798 5.49299579 5.83025331 5.72614511 5.5556751\n",
      " 5.96768392 5.19550694 5.63641601 6.50880455 5.26144701 6.30430327\n",
      " 5.25649929 6.18942848 6.18448799 5.11886149 5.84251918 5.39309193\n",
      " 6.01182893 5.16002801 5.74419152 5.14965548 4.99141387 5.58432473\n",
      " 5.63641601 5.64140587 5.7043624  5.69485951 6.05180465 6.41925403\n",
      " 4.99956982 6.43144561 4.99075391 5.5438824  5.15021162 5.99948317\n",
      " 5.35707139 5.74563909 5.43772847 5.52821995 5.33029912 5.19403537\n",
      " 6.4912708  5.18947609 5.77424641 5.23325777 5.27798125 5.77189035\n",
      " 5.91592726 5.6565793  6.31872177 5.3554782  5.66136923 5.77424641\n",
      " 6.37463449 6.2386848  6.29070503 6.22489017 5.5992756  5.72278021\n",
      " 5.84221333 5.58259894 5.52810296 6.35288213 6.49407191 5.12821944\n",
      " 6.33545275 6.30570808 6.51838333 5.54294065 5.32821958 5.96458667\n",
      " 6.30824837 5.77541771 5.73299728 5.18880194 6.08729662 5.22561657\n",
      " 5.98245    5.68498663 6.52253219 5.19010094 5.02719918 5.17955837\n",
      " 5.41470195 5.19143082 6.49670788 5.51221235 6.33603873 5.91285496\n",
      " 5.73729499 5.78589167 5.12780512 6.25070651 5.36216085 5.40440774\n",
      " 5.10418005 6.46814658 5.51681163 5.0474916  5.34617759 5.15691784\n",
      " 6.07880276 5.19035006 5.00989578 5.12581007 5.72618656 5.70688728\n",
      " 5.32335087 6.29315572 5.22957907 5.53282131 5.84786914 6.13400343\n",
      " 5.24520163 5.06590608 5.82852306 5.28524823 6.19573949 5.63681333\n",
      " 5.729792   5.0134043  5.61243815 5.52739108 5.92303861 5.32583149\n",
      " 5.03223501 5.77783586 5.02406097 5.39464064 5.28979002 5.33620012\n",
      " 6.50678123 6.3908998  5.05993378 5.23476252 6.49387993 5.63474634\n",
      " 5.4630786  5.78553835 5.03344339 5.52739108 5.23203724 5.81077077\n",
      " 5.19557397 5.2835248  5.52020604 5.68542027 5.55731322 5.52020604\n",
      " 5.74113149 4.98617298 6.09017282 5.69492584 5.60851642 5.19824694\n",
      " 5.60593614 5.6716963  5.18083357 5.20586316 5.48129323 6.3284884\n",
      " 5.75027893 5.29708516 5.27900522 5.86380553 5.2087031  6.51778942\n",
      " 5.55518719 5.26127001 6.39055181 6.46803054 5.0407427  5.16186197\n",
      " 5.28418976 5.18637566 5.41499182 5.32654219 4.9724432  5.28909054\n",
      " 5.78217581 5.20586316 5.02885324 5.19094119 6.17235643 5.47190782\n",
      " 5.40218506 6.13870258 5.36840012 5.5992756  5.66879503]\n"
     ]
    }
   ],
   "source": [
    "print(y_pred)"
   ]
  },
  {
   "cell_type": "code",
   "execution_count": 13,
   "metadata": {
    "scrolled": true
   },
   "outputs": [
    {
     "name": "stdout",
     "output_type": "stream",
     "text": [
      "[5.6260814]\n"
     ]
    }
   ],
   "source": [
    "print(rfr.predict([[0,0,0,0,0,0,0,0,0,0,0]]))"
   ]
  },
  {
   "cell_type": "code",
   "execution_count": 14,
   "metadata": {},
   "outputs": [
    {
     "name": "stdout",
     "output_type": "stream",
     "text": [
      "[5.6260814]\n"
     ]
    }
   ],
   "source": [
    "print(rfrModel.predict([[0,0,0,0,0,0,0,0,0,0,0]]))"
   ]
  },
  {
   "cell_type": "markdown",
   "metadata": {},
   "source": [
    "# Evaluate Model"
   ]
  },
  {
   "cell_type": "code",
   "execution_count": 15,
   "metadata": {},
   "outputs": [],
   "source": [
    "mae_r = mean_absolute_error(y_test,y_pred)\n",
    "mse_r = mean_squared_error(y_test,y_pred)"
   ]
  },
  {
   "cell_type": "code",
   "execution_count": 16,
   "metadata": {},
   "outputs": [
    {
     "name": "stdout",
     "output_type": "stream",
     "text": [
      "Mean Absolute Error (MAE): 0.4635\n",
      "Mean Squared Error (MSE): 0.3215\n"
     ]
    }
   ],
   "source": [
    "print(\"Mean Absolute Error (MAE):\",round(mae_r,4))\n",
    "print(\"Mean Squared Error (MSE):\",round(mse_r,4))\n"
   ]
  },
  {
   "cell_type": "code",
   "execution_count": 17,
   "metadata": {},
   "outputs": [
    {
     "data": {
      "text/plain": [
       "array([0.00147952, 0.10707699, 0.00797867, 0.00070282, 0.00251431,\n",
       "       0.00323138, 0.01046969, 0.01248349, 0.01226317, 0.27170039,\n",
       "       0.57009956])"
      ]
     },
     "execution_count": 17,
     "metadata": {},
     "output_type": "execute_result"
    }
   ],
   "source": [
    "importance = rfrModel.feature_importances_\n",
    "importance"
   ]
  },
  {
   "cell_type": "code",
   "execution_count": 18,
   "metadata": {},
   "outputs": [],
   "source": [
    "columns = X.columns"
   ]
  },
  {
   "cell_type": "code",
   "execution_count": 19,
   "metadata": {},
   "outputs": [
    {
     "data": {
      "text/plain": [
       "fixed_acidity           0.001480\n",
       "volatile_acidity        0.107077\n",
       "citric_acid             0.007979\n",
       "residual_sugar          0.000703\n",
       "chlorides               0.002514\n",
       "free_sulfur_dioxide     0.003231\n",
       "total_sulfur_dioxide    0.010470\n",
       "density                 0.012483\n",
       "pH                      0.012263\n",
       "sulphates               0.271700\n",
       "alcohol                 0.570100\n",
       "dtype: float64"
      ]
     },
     "execution_count": 19,
     "metadata": {},
     "output_type": "execute_result"
    }
   ],
   "source": [
    "rfrGraph = pd.Series(importance,columns)\n",
    "rfrGraph"
   ]
  },
  {
   "cell_type": "code",
   "execution_count": 46,
   "metadata": {},
   "outputs": [
    {
     "data": {
      "text/plain": [
       "[Text(0.5, 1.0, 'White Wine Quality - Random Forest Regressor Model Visualization (Outliers Removed)')]"
      ]
     },
     "execution_count": 46,
     "metadata": {},
     "output_type": "execute_result"
    },
    {
     "data": {
      "image/png": "[encoded data removed]",
      "text/plain": [
       "<Figure size 720x720 with 1 Axes>"
      ]
     },
     "metadata": {},
     "output_type": "display_data"
    }
   ],
   "source": [
    "import matplotlib.pyplot as plt\n",
    "from matplotlib.pyplot import figure\n",
    "\n",
    "figure(figsize=(10,10))\n",
    "\n",
    "rfrGraph.sort_values().plot.barh(color=\"purple\")\n",
    "\n",
    "[plt.title(\"White Wine Quality - Random Forest Regressor Model Visualization (Outliers Removed)\")]"
   ]
  }
 ],
 "metadata": {
  "kernelspec": {
   "display_name": "Python 3",
   "language": "python",
   "name": "python3"
  },
  "language_info": {
   "codemirror_mode": {
    "name": "ipython",
    "version": 3
   },
   "file_extension": ".py",
   "mimetype": "text/x-python",
   "name": "python",
   "nbconvert_exporter": "python",
   "pygments_lexer": "ipython3",
   "version": "3.8.2"
  }
 },
 "nbformat": 4,
 "nbformat_minor": 2
}
