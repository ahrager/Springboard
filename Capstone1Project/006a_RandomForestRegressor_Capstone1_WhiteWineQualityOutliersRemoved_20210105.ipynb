{
 "cells": [
  {
   "cell_type": "markdown",
   "metadata": {},
   "source": [
    "### Capstone 1: White Wine Quality, UC Irvine\n",
    "(Source: Paulo Cortez (Univ. Minho), Antonio Cerdeira, Fernando Almeida, Telmo Matos and Jose Reis (CVRVV) @ 2009)\n",
    "\n",
    "# 6a. Random Forest Regressor\n",
    "## White Wine, Outliers Removed\n",
    "\n",
    "#### Audrey Hughes Rager\n",
    "#### December 30, 2020\n"
   ]
  },
  {
   "cell_type": "code",
   "execution_count": 2,
   "metadata": {},
   "outputs": [],
   "source": [
    "from sklearn.ensemble import RandomForestRegressor\n",
    "import numpy as np\n",
    "import matplotlib.pyplot as plt\n",
    "import pandas as pd\n",
    "import seaborn as sns\n",
    "from sklearn.model_selection import train_test_split, GridSearchCV, cross_val_score\n",
    "from sklearn.preprocessing import StandardScaler\n",
    "from sklearn.preprocessing import scale\n",
    "from sklearn.metrics import mean_absolute_error, mean_squared_error\n",
    "\n",
    "%matplotlib inline\n",
    "\n",
    "sns.set_style('whitegrid')"
   ]
  },
  {
   "cell_type": "markdown",
   "metadata": {},
   "source": [
    "## Data Wrangling"
   ]
  },
  {
   "cell_type": "markdown",
   "metadata": {},
   "source": [
    "### Import Data"
   ]
  },
  {
   "cell_type": "code",
   "execution_count": 3,
   "metadata": {},
   "outputs": [],
   "source": [
    "#Import csv files into Pandas data frames\n",
    "df = pd.read_csv('winequality-white.csv',sep=\";\")\n",
    "df = df.rename({'fixed acidity': 'fixed_acidity','volatile acidity': 'volatile_acidity', 'citric acid': 'citric_acid', 'residual sugar':'residual_sugar',  'free sulfur dioxide':'free_sulfur_dioxide', 'total sulfur dioxide':'total_sulfur_dioxide'}, axis=1)\n",
    "\n"
   ]
  },
  {
   "cell_type": "markdown",
   "metadata": {},
   "source": [
    "### Remove Outliers"
   ]
  },
  {
   "cell_type": "code",
   "execution_count": 4,
   "metadata": {},
   "outputs": [
    {
     "name": "stdout",
     "output_type": "stream",
     "text": [
      "fixed_acidity maximum: 14.2\n",
      "fixed_acidity minimum: 3.8\n",
      "fixed_acidity Q1: 6.3\n",
      "fixed_acidity Q3: 7.3\n",
      "fixed_acidity range: 10.399999999999999\n",
      "fixed_acidity IQR: 1.0\n",
      "ratio of Range fo IQR: 10.399999999999999\n",
      "\n",
      "volatile_acidity maximum: 1.1\n",
      "volatile_acidity minimum: 0.08\n",
      "volatile_acidity Q1: 0.21\n",
      "volatile_acidity Q3: 0.32\n",
      "volatile_acidity range: 1.02\n",
      "volatile_acidity IQR: 0.11000000000000001\n",
      "ratio of Range fo IQR: 9.272727272727272\n",
      "\n",
      "citric_acid maximum: 1.66\n",
      "citric_acid minimum: 0.0\n",
      "citric_acid Q1: 0.27\n",
      "citric_acid Q3: 0.38\n",
      "citric_acid range: 1.66\n",
      "citric_acid IQR: 0.10999999999999999\n",
      "ratio of Range fo IQR: 15.090909090909092\n",
      "\n",
      "residual_sugar maximum: 31.6\n",
      "residual_sugar minimum: 0.6\n",
      "residual_sugar Q1: 1.8\n",
      "residual_sugar Q3: 9.6\n",
      "residual_sugar range: 31.0\n",
      "residual_sugar IQR: 7.8\n",
      "ratio of Range fo IQR: 3.9743589743589745\n",
      "\n",
      "chlorides maximum: 0.34600000000000003\n",
      "chlorides minimum: 0.012\n",
      "chlorides Q1: 0.036000000000000004\n",
      "chlorides Q3: 0.05\n",
      "chlorides range: 0.334\n",
      "chlorides IQR: 0.013999999999999999\n",
      "ratio of Range fo IQR: 23.85714285714286\n",
      "\n",
      "free_sulfur_dioxide maximum: 289.0\n",
      "free_sulfur_dioxide minimum: 2.0\n",
      "free_sulfur_dioxide Q1: 24.0\n",
      "free_sulfur_dioxide Q3: 46.0\n",
      "free_sulfur_dioxide range: 287.0\n",
      "free_sulfur_dioxide IQR: 22.0\n",
      "ratio of Range fo IQR: 13.045454545454545\n",
      "\n",
      "total_sulfur_dioxide maximum: 272.0\n",
      "total_sulfur_dioxide minimum: 19.0\n",
      "total_sulfur_dioxide Q1: 107.0\n",
      "total_sulfur_dioxide Q3: 166.0\n",
      "total_sulfur_dioxide range: 253.0\n",
      "total_sulfur_dioxide IQR: 59.0\n",
      "ratio of Range fo IQR: 4.288135593220339\n",
      "\n",
      "density maximum: 1.00196\n",
      "density minimum: 0.98711\n",
      "density Q1: 0.9916\n",
      "density Q3: 0.99587\n",
      "density range: 0.014849999999999919\n",
      "density IQR: 0.004269999999999996\n",
      "ratio of Range fo IQR: 3.477751756440265\n",
      "\n",
      "pH maximum: 3.82\n",
      "pH minimum: 2.79\n",
      "pH Q1: 3.1\n",
      "pH Q3: 3.29\n",
      "pH range: 1.0299999999999998\n",
      "pH IQR: 0.18999999999999995\n",
      "ratio of Range fo IQR: 5.421052631578948\n",
      "\n",
      "sulphates maximum: 1.08\n",
      "sulphates minimum: 0.22\n",
      "sulphates Q1: 0.41\n",
      "sulphates Q3: 0.55\n",
      "sulphates range: 0.8600000000000001\n",
      "sulphates IQR: 0.14000000000000007\n",
      "ratio of Range fo IQR: 6.142857142857141\n",
      "\n",
      "alcohol maximum: 14.2\n",
      "alcohol minimum: 8.4\n",
      "alcohol Q1: 9.5\n",
      "alcohol Q3: 11.4\n",
      "alcohol range: 5.799999999999999\n",
      "alcohol IQR: 1.9000000000000004\n",
      "ratio of Range fo IQR: 3.0526315789473673\n",
      "\n"
     ]
    }
   ],
   "source": [
    "# Filtering Values between Q1-1.5IQR and Q3+1.5IQR\n",
    "ValueList = ('fixed_acidity', 'volatile_acidity', 'citric_acid', 'residual_sugar', 'chlorides',\n",
    "            'free_sulfur_dioxide', 'total_sulfur_dioxide', 'density', 'pH', 'sulphates', 'alcohol')\n",
    "\n",
    "for myValue in ValueList:\n",
    "    #compute range of data\n",
    "    myValueMax = df[myValue].max()\n",
    "    myValueMin = df[myValue].min()\n",
    "    myValueRange = myValueMax - myValueMin\n",
    "    \n",
    "    # Computing IQR\n",
    "    Q1 = df[myValue].quantile(0.25)\n",
    "    Q3 = df[myValue].quantile(0.75)\n",
    "    IQR = Q3 - Q1\n",
    "    gtdropvalue = (Q3 + (1.5 * IQR))\n",
    "    ltdropvalue = (Q1 - (1.5 * IQR))\n",
    "    \n",
    "    index_names_right = df[df[myValue] >= gtdropvalue].index\n",
    "    index_names_left = df[df[myValue] <= ltdropvalue].index\n",
    "    df.drop(index_names_right, inplace = True)\n",
    "    df.drop(index_names_left, inplace = True)\n",
    "    print(myValue + ' maximum: ' + str(myValueMax))\n",
    "    print(myValue + ' minimum: ' + str(myValueMin))\n",
    "    print(myValue + ' Q1: ' + str(Q1))\n",
    "    print(myValue + ' Q3: ' + str(Q3))\n",
    "    print(myValue + ' range: ' + str(myValueRange))\n",
    "    print(myValue + ' IQR: ' + str(IQR))\n",
    "    print('ratio of Range fo IQR: ' + str(myValueRange/IQR))\n",
    "    print()\n",
    "    \n",
    "   "
   ]
  },
  {
   "cell_type": "markdown",
   "metadata": {},
   "source": [
    "### EDA\n"
   ]
  },
  {
   "cell_type": "code",
   "execution_count": 5,
   "metadata": {},
   "outputs": [
    {
     "data": {
      "text/html": [
       "<div>\n",
       "<style scoped>\n",
       "    .dataframe tbody tr th:only-of-type {\n",
       "        vertical-align: middle;\n",
       "    }\n",
       "\n",
       "    .dataframe tbody tr th {\n",
       "        vertical-align: top;\n",
       "    }\n",
       "\n",
       "    .dataframe thead th {\n",
       "        text-align: right;\n",
       "    }\n",
       "</style>\n",
       "<table border=\"1\" class=\"dataframe\">\n",
       "  <thead>\n",
       "    <tr style=\"text-align: right;\">\n",
       "      <th></th>\n",
       "      <th>fixed_acidity</th>\n",
       "      <th>volatile_acidity</th>\n",
       "      <th>citric_acid</th>\n",
       "      <th>residual_sugar</th>\n",
       "      <th>chlorides</th>\n",
       "      <th>free_sulfur_dioxide</th>\n",
       "      <th>total_sulfur_dioxide</th>\n",
       "      <th>density</th>\n",
       "      <th>pH</th>\n",
       "      <th>sulphates</th>\n",
       "      <th>alcohol</th>\n",
       "      <th>quality</th>\n",
       "    </tr>\n",
       "  </thead>\n",
       "  <tbody>\n",
       "    <tr>\n",
       "      <th>count</th>\n",
       "      <td>3951.000000</td>\n",
       "      <td>3951.000000</td>\n",
       "      <td>3951.000000</td>\n",
       "      <td>3951.000000</td>\n",
       "      <td>3951.000000</td>\n",
       "      <td>3951.000000</td>\n",
       "      <td>3951.000000</td>\n",
       "      <td>3951.000000</td>\n",
       "      <td>3951.000000</td>\n",
       "      <td>3951.000000</td>\n",
       "      <td>3951.000000</td>\n",
       "      <td>3951.000000</td>\n",
       "    </tr>\n",
       "    <tr>\n",
       "      <th>mean</th>\n",
       "      <td>6.809048</td>\n",
       "      <td>0.263828</td>\n",
       "      <td>0.322749</td>\n",
       "      <td>6.352759</td>\n",
       "      <td>0.042299</td>\n",
       "      <td>34.730575</td>\n",
       "      <td>136.953176</td>\n",
       "      <td>0.993844</td>\n",
       "      <td>3.189043</td>\n",
       "      <td>0.481445</td>\n",
       "      <td>10.592035</td>\n",
       "      <td>5.953936</td>\n",
       "    </tr>\n",
       "    <tr>\n",
       "      <th>std</th>\n",
       "      <td>0.726417</td>\n",
       "      <td>0.076298</td>\n",
       "      <td>0.083076</td>\n",
       "      <td>4.905477</td>\n",
       "      <td>0.009889</td>\n",
       "      <td>14.941739</td>\n",
       "      <td>41.049024</td>\n",
       "      <td>0.002877</td>\n",
       "      <td>0.137980</td>\n",
       "      <td>0.098904</td>\n",
       "      <td>1.214421</td>\n",
       "      <td>0.856194</td>\n",
       "    </tr>\n",
       "    <tr>\n",
       "      <th>min</th>\n",
       "      <td>4.900000</td>\n",
       "      <td>0.080000</td>\n",
       "      <td>0.110000</td>\n",
       "      <td>0.600000</td>\n",
       "      <td>0.016000</td>\n",
       "      <td>2.000000</td>\n",
       "      <td>19.000000</td>\n",
       "      <td>0.987110</td>\n",
       "      <td>2.830000</td>\n",
       "      <td>0.220000</td>\n",
       "      <td>8.400000</td>\n",
       "      <td>3.000000</td>\n",
       "    </tr>\n",
       "    <tr>\n",
       "      <th>25%</th>\n",
       "      <td>6.300000</td>\n",
       "      <td>0.210000</td>\n",
       "      <td>0.270000</td>\n",
       "      <td>1.800000</td>\n",
       "      <td>0.035000</td>\n",
       "      <td>24.000000</td>\n",
       "      <td>107.000000</td>\n",
       "      <td>0.991580</td>\n",
       "      <td>3.100000</td>\n",
       "      <td>0.410000</td>\n",
       "      <td>9.500000</td>\n",
       "      <td>5.000000</td>\n",
       "    </tr>\n",
       "    <tr>\n",
       "      <th>50%</th>\n",
       "      <td>6.800000</td>\n",
       "      <td>0.260000</td>\n",
       "      <td>0.310000</td>\n",
       "      <td>5.200000</td>\n",
       "      <td>0.042000</td>\n",
       "      <td>34.000000</td>\n",
       "      <td>132.000000</td>\n",
       "      <td>0.993520</td>\n",
       "      <td>3.180000</td>\n",
       "      <td>0.470000</td>\n",
       "      <td>10.500000</td>\n",
       "      <td>6.000000</td>\n",
       "    </tr>\n",
       "    <tr>\n",
       "      <th>75%</th>\n",
       "      <td>7.300000</td>\n",
       "      <td>0.310000</td>\n",
       "      <td>0.370000</td>\n",
       "      <td>9.600000</td>\n",
       "      <td>0.049000</td>\n",
       "      <td>45.000000</td>\n",
       "      <td>166.000000</td>\n",
       "      <td>0.995870</td>\n",
       "      <td>3.280000</td>\n",
       "      <td>0.540000</td>\n",
       "      <td>11.400000</td>\n",
       "      <td>6.000000</td>\n",
       "    </tr>\n",
       "    <tr>\n",
       "      <th>max</th>\n",
       "      <td>8.700000</td>\n",
       "      <td>0.485000</td>\n",
       "      <td>0.540000</td>\n",
       "      <td>20.800000</td>\n",
       "      <td>0.071000</td>\n",
       "      <td>78.000000</td>\n",
       "      <td>253.000000</td>\n",
       "      <td>1.001960</td>\n",
       "      <td>3.570000</td>\n",
       "      <td>0.760000</td>\n",
       "      <td>14.200000</td>\n",
       "      <td>9.000000</td>\n",
       "    </tr>\n",
       "  </tbody>\n",
       "</table>\n",
       "</div>"
      ],
      "text/plain": [
       "       fixed_acidity  volatile_acidity  citric_acid  residual_sugar  \\\n",
       "count    3951.000000       3951.000000  3951.000000     3951.000000   \n",
       "mean        6.809048          0.263828     0.322749        6.352759   \n",
       "std         0.726417          0.076298     0.083076        4.905477   \n",
       "min         4.900000          0.080000     0.110000        0.600000   \n",
       "25%         6.300000          0.210000     0.270000        1.800000   \n",
       "50%         6.800000          0.260000     0.310000        5.200000   \n",
       "75%         7.300000          0.310000     0.370000        9.600000   \n",
       "max         8.700000          0.485000     0.540000       20.800000   \n",
       "\n",
       "         chlorides  free_sulfur_dioxide  total_sulfur_dioxide      density  \\\n",
       "count  3951.000000          3951.000000           3951.000000  3951.000000   \n",
       "mean      0.042299            34.730575            136.953176     0.993844   \n",
       "std       0.009889            14.941739             41.049024     0.002877   \n",
       "min       0.016000             2.000000             19.000000     0.987110   \n",
       "25%       0.035000            24.000000            107.000000     0.991580   \n",
       "50%       0.042000            34.000000            132.000000     0.993520   \n",
       "75%       0.049000            45.000000            166.000000     0.995870   \n",
       "max       0.071000            78.000000            253.000000     1.001960   \n",
       "\n",
       "                pH    sulphates      alcohol      quality  \n",
       "count  3951.000000  3951.000000  3951.000000  3951.000000  \n",
       "mean      3.189043     0.481445    10.592035     5.953936  \n",
       "std       0.137980     0.098904     1.214421     0.856194  \n",
       "min       2.830000     0.220000     8.400000     3.000000  \n",
       "25%       3.100000     0.410000     9.500000     5.000000  \n",
       "50%       3.180000     0.470000    10.500000     6.000000  \n",
       "75%       3.280000     0.540000    11.400000     6.000000  \n",
       "max       3.570000     0.760000    14.200000     9.000000  "
      ]
     },
     "execution_count": 5,
     "metadata": {},
     "output_type": "execute_result"
    }
   ],
   "source": [
    "df.describe()"
   ]
  },
  {
   "cell_type": "code",
   "execution_count": 6,
   "metadata": {},
   "outputs": [
    {
     "data": {
      "image/png": "[encoded data removed]",
      "text/plain": [
       "<Figure size 1368x1440 with 12 Axes>"
      ]
     },
     "metadata": {},
     "output_type": "display_data"
    }
   ],
   "source": [
    "#Historgrams  - outliers removed (df)\n",
    "def subplot_histplot(data, row = 4, column = 3, title = \"Subplots\", height = 20, width = 19):\n",
    "    # Create a figure instance, and the subplots\n",
    "    fig = plt.figure(figsize = (width, height))\n",
    "    fig.suptitle(title, fontsize=24, y = 0.93)\n",
    "    # Run loop over the all the variables\n",
    "    for i in range(data.shape[1]):\n",
    "        # Create the axis line\n",
    "        ax = fig.add_subplot(row, column, i + 1)\n",
    "        fig.subplots_adjust(hspace = .5)\n",
    "        # Create histogram for each variable\n",
    "        plot = sns.histplot(df.iloc[:, i], ax=ax)\n",
    "    # Show the plot\n",
    "    plot.tick_params(labelsize = 20)\n",
    "    plt.show()\n",
    "\n",
    "plot_columns = ['quality','fixed_acidity','volatile_acidity', 'citric_acid', 'residual_sugar','chlorides','free_sulfur_dioxide','total_sulfur_dioxide','density', 'pH', 'sulphates','alcohol']\n",
    "    \n",
    "\n",
    "\n",
    "myhistplot = subplot_histplot(df[plot_columns], row = 4, column = 3, title = \"Histogram of the White Wine Variables\\n(Outliers Removed)\")\n"
   ]
  },
  {
   "cell_type": "markdown",
   "metadata": {},
   "source": [
    "### Train-Test-Split"
   ]
  },
  {
   "cell_type": "code",
   "execution_count": 7,
   "metadata": {},
   "outputs": [],
   "source": [
    "#Independent variables (X) = everything but the target variable, y\n",
    "#Target variable, y, is quality\n",
    "\n",
    "#Set X to all the input variables (everything except 'quality')\n",
    "X = df.drop('quality',axis=1)\n",
    "\n",
    "#Set the variable to be predicted (y) to 'quality'\n",
    "y = df['quality']"
   ]
  },
  {
   "cell_type": "code",
   "execution_count": 8,
   "metadata": {},
   "outputs": [],
   "source": [
    "X_train, X_test, y_train, y_test = train_test_split(X, y, test_size=0.20,random_state=42)\n"
   ]
  },
  {
   "cell_type": "markdown",
   "metadata": {},
   "source": [
    "### Scale Independent Variables"
   ]
  },
  {
   "cell_type": "code",
   "execution_count": 9,
   "metadata": {},
   "outputs": [],
   "source": [
    "# applying Standard Scaling to the dataset to scale all the field values to same scale (approx.).\n",
    "\n",
    "sc = StandardScaler()\n",
    "\n",
    "X_train = sc.fit_transform(X_train)\n",
    "X_test = sc.fit_transform(X_test)\n",
    "\n"
   ]
  },
  {
   "cell_type": "markdown",
   "metadata": {},
   "source": [
    "# RandomForestRegressor\n",
    "\n",
    "sklearn.ensemble.RandomForestRegressor(n_estimators=100, *, criterion='mse', max_depth=None, min_samples_split=2, min_samples_leaf=1, min_weight_fraction_leaf=0.0, max_features='auto', max_leaf_nodes=None, min_impurity_decrease=0.0, min_impurity_split=None, bootstrap=True, oob_score=False, n_jobs=None, random_state=None, verbose=0, warm_start=False, ccp_alpha=0.0, max_samples=None)"
   ]
  },
  {
   "cell_type": "markdown",
   "metadata": {},
   "source": [
    "# Instantiate the Random Forest Regressor Model"
   ]
  },
  {
   "cell_type": "code",
   "execution_count": 10,
   "metadata": {},
   "outputs": [],
   "source": [
    "rfr = RandomForestRegressor(n_estimators = 200, max_depth=20, min_samples_leaf=50, random_state = 42)"
   ]
  },
  {
   "cell_type": "markdown",
   "metadata": {},
   "source": [
    "# Fit the Model to the Training Data"
   ]
  },
  {
   "cell_type": "code",
   "execution_count": 11,
   "metadata": {},
   "outputs": [],
   "source": [
    "rfrModel = rfr.fit(X_train,y_train)"
   ]
  },
  {
   "cell_type": "markdown",
   "metadata": {},
   "source": [
    "# Predict Using Test Data"
   ]
  },
  {
   "cell_type": "code",
   "execution_count": 12,
   "metadata": {},
   "outputs": [],
   "source": [
    "y_pred = rfrModel.predict(X_test)"
   ]
  },
  {
   "cell_type": "code",
   "execution_count": 13,
   "metadata": {},
   "outputs": [
    {
     "name": "stdout",
     "output_type": "stream",
     "text": [
      "[6.17101088 5.3351805  6.68419305 6.60430681 6.35355541 5.42235866\n",
      " 5.33471702 5.79548565 6.54200756 5.36776966 6.83366797 5.68670803\n",
      " 6.48052481 6.06534927 5.98685769 5.9013008  5.44180907 5.74187769\n",
      " 5.6368413  5.49168162 5.21876505 6.29995129 6.03028761 6.62896658\n",
      " 6.17060567 6.70618425 6.11400559 5.83203519 6.63434914 6.4845837\n",
      " 6.22481404 6.3458852  5.74187769 5.75573228 5.71940934 6.03551791\n",
      " 5.68373197 5.70973547 6.57216535 4.98405081 6.14855783 5.75646814\n",
      " 5.19787623 5.78524312 6.74052781 6.43434957 5.83207892 5.7460226\n",
      " 6.54506656 5.15608822 6.83264347 6.06502439 5.53772642 5.85902108\n",
      " 6.23796829 5.832331   5.38476485 5.56387898 6.30221343 5.88742738\n",
      " 5.95839847 5.78733997 5.88780698 5.97745646 5.95821251 5.31022821\n",
      " 5.92192716 5.55857938 6.82452712 5.85540454 5.73705334 5.92411187\n",
      " 6.32664681 6.75972772 5.73530755 5.07974903 5.5850663  6.32238335\n",
      " 5.94827328 5.29200744 6.77429246 5.65944378 6.04747045 5.21052116\n",
      " 6.2688338  5.4593039  6.15539042 5.95250736 6.54163916 5.76001483\n",
      " 5.69347745 6.1034913  5.29200744 5.72727412 5.92199334 6.55847051\n",
      " 5.73091111 6.46849357 6.75825193 6.65189171 5.84068526 6.79469059\n",
      " 5.32227809 6.0289762  6.21590467 6.29139759 6.31493026 5.25550726\n",
      " 6.01515676 6.76387536 5.00585463 6.83639566 6.25916189 5.27029531\n",
      " 5.99007132 5.92243024 5.97584133 5.82514892 5.72898426 6.03116365\n",
      " 5.56459084 5.57143947 5.95855676 6.45342768 5.69555935 5.60821672\n",
      " 6.08386775 5.76009    5.35419045 5.97123057 6.56954409 6.44393993\n",
      " 6.34702045 5.32565912 5.54934207 5.54201243 6.22820522 5.71005813\n",
      " 5.41776992 6.6080065  6.84265255 6.05841314 5.72870017 6.26551892\n",
      " 5.97485796 6.08254122 6.11433063 6.55525745 6.54389476 5.86904764\n",
      " 6.70180539 5.27154107 5.94596773 5.38720436 6.26190909 5.33966033\n",
      " 5.73530755 5.84018046 5.73669355 6.30108856 6.35361701 5.51538051\n",
      " 6.02126127 6.81554915 5.79998755 6.01529718 6.374121   6.80387427\n",
      " 5.59792985 6.31837887 5.24257776 6.57978639 6.35912141 6.09085394\n",
      " 5.90734802 6.95356119 5.92353815 5.7010256  6.37775071 6.34083361\n",
      " 5.80622692 6.40525506 5.66988452 5.67425969 5.53270142 6.39415751\n",
      " 6.08929041 6.15656042 6.23746224 6.26340981 5.23932406 5.84231047\n",
      " 6.479936   5.36746399 5.77511057 5.54848554 6.29381816 6.07446966\n",
      " 6.28385845 5.94128274 5.95840232 6.0667099  5.81896288 5.46098447\n",
      " 5.31214209 6.01464406 5.79941996 6.25716736 6.17737898 6.33805297\n",
      " 6.00835196 5.96073855 6.15343708 6.51936209 6.84404946 5.82841062\n",
      " 5.42767054 5.52124054 5.56931747 6.45342768 6.1697704  5.85636088\n",
      " 6.33336145 5.87587432 6.08432521 6.01570079 6.73675142 5.55857938\n",
      " 5.65697002 5.27029531 5.94686309 6.39299177 6.77447492 5.93043974\n",
      " 6.10512714 6.83864135 5.901104   5.55761116 5.45797721 6.37483184\n",
      " 5.86783211 5.45304909 5.34828001 5.9481854  6.61406255 5.74485495\n",
      " 6.73413569 5.55850323 5.70644005 6.8001415  5.43365281 6.34738904\n",
      " 6.29591502 5.00430103 6.07480174 6.71418147 5.6727661  5.71223678\n",
      " 6.80111815 5.49268964 6.56805001 5.94613094 6.03978127 5.47393188\n",
      " 6.54389476 5.42988967 6.21280977 5.36151648 6.12066126 6.16484656\n",
      " 5.99639694 5.76221002 6.63682549 5.82818139 5.22509676 5.14537212\n",
      " 6.31256586 5.4135667  6.56744783 5.91375019 5.73057249 6.31991505\n",
      " 5.83547235 5.18235371 5.70204319 5.68438472 6.522544   6.53492182\n",
      " 6.31328408 5.29433736 6.0226387  6.30241982 5.56842613 5.51282848\n",
      " 5.76451463 5.61758822 6.15847087 6.04783343 6.42531838 5.51508828\n",
      " 5.91576386 6.28612049 6.50435771 6.23955589 6.08330911 6.60740357\n",
      " 6.01679339 5.41554836 6.46628728 5.28194308 5.80073226 6.64377254\n",
      " 6.27881855 5.18516092 6.41247946 5.83446231 5.19831877 5.89567869\n",
      " 5.21191046 5.67439311 5.44355839 6.73620729 5.69566693 5.40713298\n",
      " 6.10661029 5.90396832 5.27007225 5.37443841 6.73545397 6.02267724\n",
      " 5.81293007 5.32300692 6.72326093 5.6276357  5.92771894 6.32084568\n",
      " 6.43923839 5.86500662 5.29048619 5.93324925 6.65439449 5.93882901\n",
      " 5.57371551 5.74865904 6.08542332 5.76262964 6.27849617 5.74095191\n",
      " 5.61245385 5.96791592 6.03479381 5.78202569 5.44593936 5.99521056\n",
      " 5.46722191 6.15853294 5.69886094 5.37880564 6.35585157 6.52306166\n",
      " 5.44557527 6.28463898 5.96762711 5.88777    5.88397137 5.34273366\n",
      " 6.11138804 5.51429582 5.76347854 5.87507744 6.33503571 5.95869565\n",
      " 6.69991147 6.03401405 5.89866821 5.82532582 5.78167297 6.15096048\n",
      " 5.49278093 5.27096444 5.72422814 6.11573369 5.93000435 5.12832595\n",
      " 5.77051389 5.89472683 5.50176018 5.43134762 6.30044745 5.35481932\n",
      " 5.55532198 6.66314084 6.09533389 5.37365996 5.65839547 6.10028462\n",
      " 6.09337759 6.09169533 5.93390635 5.55961322 5.51528105 5.86791937\n",
      " 6.34147946 5.3005216  6.22903106 6.3853616  5.5066291  6.49800348\n",
      " 5.68740584 5.22347017 6.91717118 6.14743922 6.17105567 6.66008445\n",
      " 6.08432739 5.96917162 5.410682   6.36815059 5.64360969 6.74909392\n",
      " 6.24089422 6.11556749 5.84624412 6.15557295 6.42348485 5.36033775\n",
      " 5.494839   6.15847087 5.59336266 6.81183206 6.03943205 6.35692961\n",
      " 5.7403598  6.68309069 6.03743874 6.06379221 6.76385736 5.96718211\n",
      " 6.25545821 5.13880636 6.06244526 5.83681377 6.67894537 6.15266329\n",
      " 6.1438185  5.86791937 5.14942999 6.57394211 5.39795688 5.83965945\n",
      " 5.8067577  5.79238183 6.1144609  5.55259117 5.36299905 6.74358379\n",
      " 6.78084161 6.00026726 6.31937398 6.40272814 6.88978068 6.10145381\n",
      " 6.40219475 6.29059642 6.14578736 6.43833939 5.62448237 5.90775746\n",
      " 6.06434763 5.30721499 5.95868635 5.35377465 6.0065827  5.32118733\n",
      " 5.92660116 5.8558882  6.34484402 5.87765641 5.4104747  5.89201908\n",
      " 5.35117343 5.987159   5.89956778 6.05925106 5.56483707 6.28121744\n",
      " 5.85496726 5.24848222 6.63569157 5.48026481 5.85861014 5.94754887\n",
      " 6.26791089 6.01865094 5.81896288 6.77814387 5.53501623 6.33165265\n",
      " 6.01760409 5.99329828 5.7995512  5.33277055 6.78977491 5.35728189\n",
      " 5.75311085 6.86819763 6.77429246 5.97058563 5.99978638 6.07325466\n",
      " 5.89239156 4.98405081 6.01562637 5.82797431 6.05848744 6.33308301\n",
      " 5.33956404 5.51470973 5.24709665 5.25901543 5.85341315 5.9718379\n",
      " 6.47444961 6.36741997 6.01414187 6.76478737 6.04348209 5.87713878\n",
      " 5.6248095  5.61220282 5.86457953 5.7716445  5.84150833 5.75192233\n",
      " 5.28271274 5.25043577 6.24699862 6.82223379 6.82655096 6.14030903\n",
      " 5.76500591 5.47941645 5.79987024 6.05395811 6.23472477 5.90553972\n",
      " 6.32118096 5.82168148 6.1325767  6.79721589 5.80595014 5.38196565\n",
      " 5.837417   5.62152621 6.47813311 6.41764394 6.3118694  6.80387427\n",
      " 6.57420292 6.42325471 6.06619227 6.04274023 5.57357443 5.65517724\n",
      " 5.71005813 5.79112233 6.32667686 5.99007132 6.50054554 6.21468709\n",
      " 5.99298201 6.312251   5.97244492 5.70055032 6.12673215 6.47132868\n",
      " 5.93035005 5.76057017 5.33379824 5.8196371  5.50401834 5.88013939\n",
      " 5.92243024 5.56685613 6.55204011 6.41789783 5.59529754 5.55646692\n",
      " 6.76723519 5.71964847 6.04425999 6.31417864 5.81113511 6.29138819\n",
      " 5.68014133 5.92771894 6.30690041 5.4180255  5.54143887 5.98074665\n",
      " 5.35311216 6.38597875 5.25550726 5.94761059 6.44393993 6.08888745\n",
      " 5.41392846 5.22405882 5.82239775 5.7745403  5.75722067 6.10145381\n",
      " 5.56031013 5.69035731 6.29059642 6.80435394 6.12228717 5.90697727\n",
      " 5.87424899 6.06856154 6.64532535 6.80588306 5.94492745 5.43007547\n",
      " 6.57399592 6.66335765 6.69733929 5.80747941 5.21656893 5.65209014\n",
      " 5.84425513 5.81399296 6.08432521 5.75075737 6.29138819 6.70127263\n",
      " 5.74166112 5.90067557 6.54436268 5.7851528  6.09373248 6.31519463\n",
      " 5.30085481 5.65198827 6.81637027 5.67563377 5.31865778 5.94638565\n",
      " 5.89026558 6.03356644 6.11729816 5.3318221  5.59491337 6.38881851\n",
      " 5.52862565 5.89964398 6.04080723 5.72333888 5.83452427 5.15517939\n",
      " 5.92353815 5.78167297 5.34280881 5.73374309 5.52702716 5.92166054\n",
      " 6.12893232 6.63558632 6.02196158 5.30904943 6.28774672 6.35170613\n",
      " 5.58030926 6.5101869  5.5356433  5.72833883 5.95868635 6.1034913\n",
      " 6.27027772 5.18737653 6.53454518 5.88780698 6.42348485 5.71712079\n",
      " 6.65042563 5.87774556 5.95659328 6.91991566 6.21095822 5.57371551\n",
      " 6.31837887 6.03565409 5.94492745 6.03035387 5.94909739 5.28231724\n",
      " 6.27988484 6.43233086 5.40005878 5.74427508 5.55767472 5.83853057\n",
      " 5.3509762  6.14578736 6.21372712 6.36228249 5.79829415 5.9559274\n",
      " 5.78202569 5.76642642 5.84264333 6.36828488 5.53605861 5.89391175\n",
      " 5.84169927 6.45188334 5.41952386 6.64230853 5.5236816  6.03221315\n",
      " 6.33523345 5.48026481 5.72457828 5.90376665 5.67746676 5.72390681\n",
      " 6.01288629 5.67568726 5.89391197 5.63018615 5.87148499 6.03626631\n",
      " 5.9341226  6.86753976 6.42161499 6.40216055 6.24810231 5.75935763\n",
      " 6.66156337 6.74697831 6.46567526 5.50287214 6.16327633 6.45771194\n",
      " 5.71221489 5.50052614 5.9759345  5.55767472 6.64422264 5.35871633\n",
      " 5.39153247 6.22131653 6.31632921 6.11250484 5.72390681 5.68594109\n",
      " 5.15855342 5.78764015 6.16726417 5.43753427 5.65799678 6.05102262\n",
      " 5.25138058 5.51647112 5.89222924 5.12755713 6.28195963 5.79765594\n",
      " 5.48026481 5.03022905 6.39559576 6.72516451 6.40821235 6.09085394\n",
      " 5.00595683 6.22274525 5.88513519 5.28546731 5.47480906 6.31115536\n",
      " 5.89365686 5.95433088 5.63034209 5.75015487 6.16484656 5.49870973\n",
      " 5.83503344 5.64769554 6.2401675  5.56833658 5.67401338]\n"
     ]
    }
   ],
   "source": [
    "print(y_pred)"
   ]
  },
  {
   "cell_type": "code",
   "execution_count": 14,
   "metadata": {
    "scrolled": true
   },
   "outputs": [
    {
     "name": "stdout",
     "output_type": "stream",
     "text": [
      "[5.77152794]\n"
     ]
    }
   ],
   "source": [
    "print(rfr.predict([[0,0,0,0,0,0,0,0,0,0,0]]))"
   ]
  },
  {
   "cell_type": "code",
   "execution_count": 15,
   "metadata": {},
   "outputs": [
    {
     "name": "stdout",
     "output_type": "stream",
     "text": [
      "[5.77152794]\n"
     ]
    }
   ],
   "source": [
    "print(rfrModel.predict([[0,0,0,0,0,0,0,0,0,0,0]]))"
   ]
  },
  {
   "cell_type": "markdown",
   "metadata": {},
   "source": [
    "# Evaluate Model"
   ]
  },
  {
   "cell_type": "code",
   "execution_count": 16,
   "metadata": {},
   "outputs": [],
   "source": [
    "mae_r = mean_absolute_error(y_test,y_pred)\n",
    "mse_r = mean_squared_error(y_test,y_pred)"
   ]
  },
  {
   "cell_type": "code",
   "execution_count": 17,
   "metadata": {},
   "outputs": [
    {
     "name": "stdout",
     "output_type": "stream",
     "text": [
      "Mean Absolute Error (MAE): 0.524\n",
      "Mean Squared Error (MSE): 0.4432\n"
     ]
    }
   ],
   "source": [
    "print(\"Mean Absolute Error (MAE):\",round(mae_r,4))\n",
    "print(\"Mean Squared Error (MSE):\",round(mse_r,4))\n"
   ]
  },
  {
   "cell_type": "code",
   "execution_count": 18,
   "metadata": {},
   "outputs": [
    {
     "data": {
      "text/plain": [
       "array([0.0191299 , 0.18099098, 0.00981886, 0.05624667, 0.0314692 ,\n",
       "       0.09130979, 0.01294707, 0.01419032, 0.04357298, 0.02088839,\n",
       "       0.51943583])"
      ]
     },
     "execution_count": 18,
     "metadata": {},
     "output_type": "execute_result"
    }
   ],
   "source": [
    "importance = rfrModel.feature_importances_\n",
    "importance"
   ]
  },
  {
   "cell_type": "code",
   "execution_count": 19,
   "metadata": {},
   "outputs": [],
   "source": [
    "columns = X.columns"
   ]
  },
  {
   "cell_type": "code",
   "execution_count": 20,
   "metadata": {},
   "outputs": [
    {
     "data": {
      "text/plain": [
       "fixed_acidity           0.019130\n",
       "volatile_acidity        0.180991\n",
       "citric_acid             0.009819\n",
       "residual_sugar          0.056247\n",
       "chlorides               0.031469\n",
       "free_sulfur_dioxide     0.091310\n",
       "total_sulfur_dioxide    0.012947\n",
       "density                 0.014190\n",
       "pH                      0.043573\n",
       "sulphates               0.020888\n",
       "alcohol                 0.519436\n",
       "dtype: float64"
      ]
     },
     "execution_count": 20,
     "metadata": {},
     "output_type": "execute_result"
    }
   ],
   "source": [
    "rfrGraph = pd.Series(importance,columns)\n",
    "rfrGraph"
   ]
  },
  {
   "cell_type": "code",
   "execution_count": 22,
   "metadata": {},
   "outputs": [
    {
     "data": {
      "text/plain": [
       "[Text(0.5, 1.0, 'White Wine Quality - Random Forest Regressor Model Visualization (Outliers Removed)')]"
      ]
     },
     "execution_count": 22,
     "metadata": {},
     "output_type": "execute_result"
    },
    {
     "data": {
      "image/png": "[encoded data removed]",
      "text/plain": [
       "<Figure size 720x720 with 1 Axes>"
      ]
     },
     "metadata": {},
     "output_type": "display_data"
    }
   ],
   "source": [
    "import matplotlib.pyplot as plt\n",
    "from matplotlib.pyplot import figure\n",
    "\n",
    "figure(figsize=(10,10))\n",
    "\n",
    "rfrGraph.sort_values().plot.barh(color=\"purple\")\n",
    "\n",
    "[plt.title(\"White Wine Quality - Random Forest Regressor Model Visualization (Outliers Removed)\")]"
   ]
  },
  {
   "cell_type": "code",
   "execution_count": 23,
   "metadata": {},
   "outputs": [
    {
     "data": {
      "text/plain": [
       "<matplotlib.collections.PathCollection at 0x7fce22baa370>"
      ]
     },
     "execution_count": 23,
     "metadata": {},
     "output_type": "execute_result"
    },
    {
     "data": {
      "image/png": "[encoded data removed]",
      "text/plain": [
       "<Figure size 432x288 with 1 Axes>"
      ]
     },
     "metadata": {},
     "output_type": "display_data"
    }
   ],
   "source": [
    "#Plot actual vs. predicted.\n",
    "plt.scatter(y_test,y_pred)"
   ]
  },
  {
   "cell_type": "code",
   "execution_count": null,
   "metadata": {},
   "outputs": [],
   "source": []
  }
 ],
 "metadata": {
  "kernelspec": {
   "display_name": "Python 3",
   "language": "python",
   "name": "python3"
  },
  "language_info": {
   "codemirror_mode": {
    "name": "ipython",
    "version": 3
   },
   "file_extension": ".py",
   "mimetype": "text/x-python",
   "name": "python",
   "nbconvert_exporter": "python",
   "pygments_lexer": "ipython3",
   "version": "3.8.2"
  }
 },
 "nbformat": 4,
 "nbformat_minor": 2
}
