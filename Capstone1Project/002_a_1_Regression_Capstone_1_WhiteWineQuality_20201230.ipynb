{
 "cells": [
  {
   "cell_type": "markdown",
   "metadata": {},
   "source": [
    "### Capstone 1: White Wine Quality, UC Irvine\n",
    "(Source: Paulo Cortez (Univ. Minho), Antonio Cerdeira, Fernando Almeida, Telmo Matos and Jose Reis (CVRVV) @ 2009)\n",
    "\n",
    "# 2. Linear Regression\n",
    "\n",
    "### Outliers Included, Categories Not Balanced\n",
    "\n",
    "#### Audrey Hughes Rager\n",
    "#### December 30, 2020\n"
   ]
  },
  {
   "cell_type": "markdown",
   "metadata": {},
   "source": [
    "## Import Packages"
   ]
  },
  {
   "cell_type": "code",
   "execution_count": 84,
   "metadata": {},
   "outputs": [],
   "source": [
    "#Import packages\n",
    "import pandas as pd\n",
    "import matplotlib.pyplot as plt\n",
    "import seaborn as sns\n",
    "import numpy as np\n",
    "import scipy.stats as stats\n",
    "import datetime as dt\n",
    "import statsmodels.api as sm\n",
    "from scipy.stats import norm\n",
    "import statsmodels.stats.weightstats as smsw\n",
    "import pylab\n",
    "\n",
    "# Import sklearn\n",
    "from sklearn.model_selection import train_test_split, cross_val_score\n",
    "from sklearn import svm\n",
    "#from sklearn import cross_validation\n",
    "from scipy import stats as st\n",
    "import warnings \n",
    "warnings.filterwarnings('ignore')\n",
    "\n",
    "# Import pyplot from matplotlib as plt\n",
    "import matplotlib.pyplot as plt\n",
    "%matplotlib inline\n",
    "\n",
    "sns.set_style('whitegrid')\n"
   ]
  },
  {
   "cell_type": "markdown",
   "metadata": {},
   "source": [
    "<h2>Data Wrangling</h2>"
   ]
  },
  {
   "cell_type": "code",
   "execution_count": 85,
   "metadata": {},
   "outputs": [
    {
     "data": {
      "text/html": [
       "<div>\n",
       "<style scoped>\n",
       "    .dataframe tbody tr th:only-of-type {\n",
       "        vertical-align: middle;\n",
       "    }\n",
       "\n",
       "    .dataframe tbody tr th {\n",
       "        vertical-align: top;\n",
       "    }\n",
       "\n",
       "    .dataframe thead th {\n",
       "        text-align: right;\n",
       "    }\n",
       "</style>\n",
       "<table border=\"1\" class=\"dataframe\">\n",
       "  <thead>\n",
       "    <tr style=\"text-align: right;\">\n",
       "      <th></th>\n",
       "      <th>fixed_acidity</th>\n",
       "      <th>volatile_acidity</th>\n",
       "      <th>citric_acid</th>\n",
       "      <th>residual_sugar</th>\n",
       "      <th>chlorides</th>\n",
       "      <th>free_sulfur_dioxide</th>\n",
       "      <th>total_sulfur_dioxide</th>\n",
       "      <th>density</th>\n",
       "      <th>pH</th>\n",
       "      <th>sulphates</th>\n",
       "      <th>alcohol</th>\n",
       "      <th>quality</th>\n",
       "    </tr>\n",
       "  </thead>\n",
       "  <tbody>\n",
       "    <tr>\n",
       "      <th>count</th>\n",
       "      <td>4898.000000</td>\n",
       "      <td>4898.000000</td>\n",
       "      <td>4898.000000</td>\n",
       "      <td>4898.000000</td>\n",
       "      <td>4898.000000</td>\n",
       "      <td>4898.000000</td>\n",
       "      <td>4898.000000</td>\n",
       "      <td>4898.000000</td>\n",
       "      <td>4898.000000</td>\n",
       "      <td>4898.000000</td>\n",
       "      <td>4898.000000</td>\n",
       "      <td>4898.000000</td>\n",
       "    </tr>\n",
       "    <tr>\n",
       "      <th>mean</th>\n",
       "      <td>6.854788</td>\n",
       "      <td>0.278241</td>\n",
       "      <td>0.334192</td>\n",
       "      <td>6.391415</td>\n",
       "      <td>0.045772</td>\n",
       "      <td>35.308085</td>\n",
       "      <td>138.360657</td>\n",
       "      <td>0.994027</td>\n",
       "      <td>3.188267</td>\n",
       "      <td>0.489847</td>\n",
       "      <td>10.514267</td>\n",
       "      <td>5.877909</td>\n",
       "    </tr>\n",
       "    <tr>\n",
       "      <th>std</th>\n",
       "      <td>0.843868</td>\n",
       "      <td>0.100795</td>\n",
       "      <td>0.121020</td>\n",
       "      <td>5.072058</td>\n",
       "      <td>0.021848</td>\n",
       "      <td>17.007137</td>\n",
       "      <td>42.498065</td>\n",
       "      <td>0.002991</td>\n",
       "      <td>0.151001</td>\n",
       "      <td>0.114126</td>\n",
       "      <td>1.230621</td>\n",
       "      <td>0.885639</td>\n",
       "    </tr>\n",
       "    <tr>\n",
       "      <th>min</th>\n",
       "      <td>3.800000</td>\n",
       "      <td>0.080000</td>\n",
       "      <td>0.000000</td>\n",
       "      <td>0.600000</td>\n",
       "      <td>0.009000</td>\n",
       "      <td>2.000000</td>\n",
       "      <td>9.000000</td>\n",
       "      <td>0.987110</td>\n",
       "      <td>2.720000</td>\n",
       "      <td>0.220000</td>\n",
       "      <td>8.000000</td>\n",
       "      <td>3.000000</td>\n",
       "    </tr>\n",
       "    <tr>\n",
       "      <th>25%</th>\n",
       "      <td>6.300000</td>\n",
       "      <td>0.210000</td>\n",
       "      <td>0.270000</td>\n",
       "      <td>1.700000</td>\n",
       "      <td>0.036000</td>\n",
       "      <td>23.000000</td>\n",
       "      <td>108.000000</td>\n",
       "      <td>0.991723</td>\n",
       "      <td>3.090000</td>\n",
       "      <td>0.410000</td>\n",
       "      <td>9.500000</td>\n",
       "      <td>5.000000</td>\n",
       "    </tr>\n",
       "    <tr>\n",
       "      <th>50%</th>\n",
       "      <td>6.800000</td>\n",
       "      <td>0.260000</td>\n",
       "      <td>0.320000</td>\n",
       "      <td>5.200000</td>\n",
       "      <td>0.043000</td>\n",
       "      <td>34.000000</td>\n",
       "      <td>134.000000</td>\n",
       "      <td>0.993740</td>\n",
       "      <td>3.180000</td>\n",
       "      <td>0.470000</td>\n",
       "      <td>10.400000</td>\n",
       "      <td>6.000000</td>\n",
       "    </tr>\n",
       "    <tr>\n",
       "      <th>75%</th>\n",
       "      <td>7.300000</td>\n",
       "      <td>0.320000</td>\n",
       "      <td>0.390000</td>\n",
       "      <td>9.900000</td>\n",
       "      <td>0.050000</td>\n",
       "      <td>46.000000</td>\n",
       "      <td>167.000000</td>\n",
       "      <td>0.996100</td>\n",
       "      <td>3.280000</td>\n",
       "      <td>0.550000</td>\n",
       "      <td>11.400000</td>\n",
       "      <td>6.000000</td>\n",
       "    </tr>\n",
       "    <tr>\n",
       "      <th>max</th>\n",
       "      <td>14.200000</td>\n",
       "      <td>1.100000</td>\n",
       "      <td>1.660000</td>\n",
       "      <td>65.800000</td>\n",
       "      <td>0.346000</td>\n",
       "      <td>289.000000</td>\n",
       "      <td>440.000000</td>\n",
       "      <td>1.038980</td>\n",
       "      <td>3.820000</td>\n",
       "      <td>1.080000</td>\n",
       "      <td>14.200000</td>\n",
       "      <td>9.000000</td>\n",
       "    </tr>\n",
       "  </tbody>\n",
       "</table>\n",
       "</div>"
      ],
      "text/plain": [
       "       fixed_acidity  volatile_acidity  citric_acid  residual_sugar  \\\n",
       "count    4898.000000       4898.000000  4898.000000     4898.000000   \n",
       "mean        6.854788          0.278241     0.334192        6.391415   \n",
       "std         0.843868          0.100795     0.121020        5.072058   \n",
       "min         3.800000          0.080000     0.000000        0.600000   \n",
       "25%         6.300000          0.210000     0.270000        1.700000   \n",
       "50%         6.800000          0.260000     0.320000        5.200000   \n",
       "75%         7.300000          0.320000     0.390000        9.900000   \n",
       "max        14.200000          1.100000     1.660000       65.800000   \n",
       "\n",
       "         chlorides  free_sulfur_dioxide  total_sulfur_dioxide      density  \\\n",
       "count  4898.000000          4898.000000           4898.000000  4898.000000   \n",
       "mean      0.045772            35.308085            138.360657     0.994027   \n",
       "std       0.021848            17.007137             42.498065     0.002991   \n",
       "min       0.009000             2.000000              9.000000     0.987110   \n",
       "25%       0.036000            23.000000            108.000000     0.991723   \n",
       "50%       0.043000            34.000000            134.000000     0.993740   \n",
       "75%       0.050000            46.000000            167.000000     0.996100   \n",
       "max       0.346000           289.000000            440.000000     1.038980   \n",
       "\n",
       "                pH    sulphates      alcohol      quality  \n",
       "count  4898.000000  4898.000000  4898.000000  4898.000000  \n",
       "mean      3.188267     0.489847    10.514267     5.877909  \n",
       "std       0.151001     0.114126     1.230621     0.885639  \n",
       "min       2.720000     0.220000     8.000000     3.000000  \n",
       "25%       3.090000     0.410000     9.500000     5.000000  \n",
       "50%       3.180000     0.470000    10.400000     6.000000  \n",
       "75%       3.280000     0.550000    11.400000     6.000000  \n",
       "max       3.820000     1.080000    14.200000     9.000000  "
      ]
     },
     "execution_count": 85,
     "metadata": {},
     "output_type": "execute_result"
    }
   ],
   "source": [
    "#Import csv files into Pandas data frames\n",
    "#reddf = pd.read_csv('winequality-red.csv',sep=\";\")\n",
    "whitedf = pd.read_csv('winequality-white.csv',sep=\";\")\n",
    "df = pd.read_csv('winequality-white.csv',sep=\";\")\n",
    "df = df.rename({'fixed acidity': 'fixed_acidity','volatile acidity': 'volatile_acidity', 'citric acid': 'citric_acid', 'residual sugar':'residual_sugar',  'free sulfur dioxide':'free_sulfur_dioxide', 'total sulfur dioxide':'total_sulfur_dioxide'}, axis=1)\n",
    "\n",
    "df.describe()\n"
   ]
  },
  {
   "cell_type": "markdown",
   "metadata": {},
   "source": [
    "### Fitting Linear Regression using `statsmodels`\n",
    "***\n",
    "[Statsmodels](http://statsmodels.sourceforge.net/) is a great Python library for a lot of basic and inferential statistics. It also provides basic regression functions using an R-like syntax, so it's commonly used by statisticians. While we don't cover statsmodels officially in the Data Science Intensive workshop, it's a good library to have in your toolbox. Here's a quick example of what you could do with it. The version of least-squares we will use in statsmodels is called *ordinary least-squares (OLS)*. There are many other versions of least-squares such as [partial least squares (PLS)](https://en.wikipedia.org/wiki/Partial_least_squares_regression) and [weighted least squares (WLS)](https://en.wikipedia.org/wiki/Iteratively_reweighted_least_squares)."
   ]
  },
  {
   "cell_type": "code",
   "execution_count": 86,
   "metadata": {},
   "outputs": [],
   "source": [
    "# Import regression modules\n",
    "import statsmodels.api as sm\n",
    "from statsmodels.formula.api import ols"
   ]
  },
  {
   "cell_type": "code",
   "execution_count": 87,
   "metadata": {},
   "outputs": [
    {
     "data": {
      "text/plain": [
       "'0.12.0'"
      ]
     },
     "execution_count": 87,
     "metadata": {},
     "output_type": "execute_result"
    }
   ],
   "source": [
    "sm.__version__"
   ]
  },
  {
   "cell_type": "markdown",
   "metadata": {},
   "source": [
    "## Model 1\n"
   ]
  },
  {
   "cell_type": "code",
   "execution_count": 88,
   "metadata": {},
   "outputs": [
    {
     "data": {
      "text/html": [
       "<div>\n",
       "<style scoped>\n",
       "    .dataframe tbody tr th:only-of-type {\n",
       "        vertical-align: middle;\n",
       "    }\n",
       "\n",
       "    .dataframe tbody tr th {\n",
       "        vertical-align: top;\n",
       "    }\n",
       "\n",
       "    .dataframe thead th {\n",
       "        text-align: right;\n",
       "    }\n",
       "</style>\n",
       "<table border=\"1\" class=\"dataframe\">\n",
       "  <thead>\n",
       "    <tr style=\"text-align: right;\">\n",
       "      <th></th>\n",
       "      <th>fixed_acidity</th>\n",
       "      <th>volatile_acidity</th>\n",
       "      <th>citric_acid</th>\n",
       "      <th>residual_sugar</th>\n",
       "      <th>chlorides</th>\n",
       "      <th>free_sulfur_dioxide</th>\n",
       "      <th>total_sulfur_dioxide</th>\n",
       "      <th>density</th>\n",
       "      <th>pH</th>\n",
       "      <th>sulphates</th>\n",
       "      <th>alcohol</th>\n",
       "    </tr>\n",
       "  </thead>\n",
       "  <tbody>\n",
       "    <tr>\n",
       "      <th>2287</th>\n",
       "      <td>6.7</td>\n",
       "      <td>0.43</td>\n",
       "      <td>0.23</td>\n",
       "      <td>5.00</td>\n",
       "      <td>0.157</td>\n",
       "      <td>49.0</td>\n",
       "      <td>145.0</td>\n",
       "      <td>0.99471</td>\n",
       "      <td>3.17</td>\n",
       "      <td>0.49</td>\n",
       "      <td>9.4</td>\n",
       "    </tr>\n",
       "    <tr>\n",
       "      <th>2300</th>\n",
       "      <td>7.3</td>\n",
       "      <td>0.30</td>\n",
       "      <td>0.33</td>\n",
       "      <td>2.30</td>\n",
       "      <td>0.043</td>\n",
       "      <td>28.0</td>\n",
       "      <td>125.0</td>\n",
       "      <td>0.99084</td>\n",
       "      <td>3.34</td>\n",
       "      <td>0.44</td>\n",
       "      <td>12.6</td>\n",
       "    </tr>\n",
       "    <tr>\n",
       "      <th>3591</th>\n",
       "      <td>6.4</td>\n",
       "      <td>0.28</td>\n",
       "      <td>0.36</td>\n",
       "      <td>1.30</td>\n",
       "      <td>0.053</td>\n",
       "      <td>28.0</td>\n",
       "      <td>186.0</td>\n",
       "      <td>0.99211</td>\n",
       "      <td>3.31</td>\n",
       "      <td>0.45</td>\n",
       "      <td>10.8</td>\n",
       "    </tr>\n",
       "    <tr>\n",
       "      <th>3614</th>\n",
       "      <td>6.4</td>\n",
       "      <td>0.38</td>\n",
       "      <td>0.24</td>\n",
       "      <td>7.20</td>\n",
       "      <td>0.047</td>\n",
       "      <td>41.0</td>\n",
       "      <td>151.0</td>\n",
       "      <td>0.99604</td>\n",
       "      <td>3.11</td>\n",
       "      <td>0.60</td>\n",
       "      <td>9.2</td>\n",
       "    </tr>\n",
       "    <tr>\n",
       "      <th>2634</th>\n",
       "      <td>8.7</td>\n",
       "      <td>0.31</td>\n",
       "      <td>0.73</td>\n",
       "      <td>14.35</td>\n",
       "      <td>0.044</td>\n",
       "      <td>27.0</td>\n",
       "      <td>191.0</td>\n",
       "      <td>1.00013</td>\n",
       "      <td>2.96</td>\n",
       "      <td>0.88</td>\n",
       "      <td>8.7</td>\n",
       "    </tr>\n",
       "  </tbody>\n",
       "</table>\n",
       "</div>"
      ],
      "text/plain": [
       "      fixed_acidity  volatile_acidity  citric_acid  residual_sugar  chlorides  \\\n",
       "2287            6.7              0.43         0.23            5.00      0.157   \n",
       "2300            7.3              0.30         0.33            2.30      0.043   \n",
       "3591            6.4              0.28         0.36            1.30      0.053   \n",
       "3614            6.4              0.38         0.24            7.20      0.047   \n",
       "2634            8.7              0.31         0.73           14.35      0.044   \n",
       "\n",
       "      free_sulfur_dioxide  total_sulfur_dioxide  density    pH  sulphates  \\\n",
       "2287                 49.0                 145.0  0.99471  3.17       0.49   \n",
       "2300                 28.0                 125.0  0.99084  3.34       0.44   \n",
       "3591                 28.0                 186.0  0.99211  3.31       0.45   \n",
       "3614                 41.0                 151.0  0.99604  3.11       0.60   \n",
       "2634                 27.0                 191.0  1.00013  2.96       0.88   \n",
       "\n",
       "      alcohol  \n",
       "2287      9.4  \n",
       "2300     12.6  \n",
       "3591     10.8  \n",
       "3614      9.2  \n",
       "2634      8.7  "
      ]
     },
     "execution_count": 88,
     "metadata": {},
     "output_type": "execute_result"
    }
   ],
   "source": [
    "ym1 = df.quality\n",
    "Xm1 = df.drop(['quality'],axis=1)\n",
    "from sklearn.model_selection import train_test_split\n",
    "Xm1_train, Xm1_test, ym1_train, ym1_test = train_test_split(Xm1, ym1, test_size=0.25, random_state=101)\n",
    "Xm1_train.head()"
   ]
  },
  {
   "cell_type": "code",
   "execution_count": 89,
   "metadata": {},
   "outputs": [
    {
     "data": {
      "text/plain": [
       "(3673, 11)"
      ]
     },
     "execution_count": 89,
     "metadata": {},
     "output_type": "execute_result"
    }
   ],
   "source": [
    "Xm1_train.shape"
   ]
  },
  {
   "cell_type": "code",
   "execution_count": 90,
   "metadata": {},
   "outputs": [
    {
     "name": "stdout",
     "output_type": "stream",
     "text": [
      "Estimated intercept coefficient: 143.952536302889\n",
      "Number of coefficients: 11\n"
     ]
    },
    {
     "data": {
      "text/html": [
       "<div>\n",
       "<style scoped>\n",
       "    .dataframe tbody tr th:only-of-type {\n",
       "        vertical-align: middle;\n",
       "    }\n",
       "\n",
       "    .dataframe tbody tr th {\n",
       "        vertical-align: top;\n",
       "    }\n",
       "\n",
       "    .dataframe thead th {\n",
       "        text-align: right;\n",
       "    }\n",
       "</style>\n",
       "<table border=\"1\" class=\"dataframe\">\n",
       "  <thead>\n",
       "    <tr style=\"text-align: right;\">\n",
       "      <th></th>\n",
       "      <th>Coefficient</th>\n",
       "    </tr>\n",
       "  </thead>\n",
       "  <tbody>\n",
       "    <tr>\n",
       "      <th>fixed_acidity</th>\n",
       "      <td>0.045472</td>\n",
       "    </tr>\n",
       "    <tr>\n",
       "      <th>volatile_acidity</th>\n",
       "      <td>-1.815218</td>\n",
       "    </tr>\n",
       "    <tr>\n",
       "      <th>citric_acid</th>\n",
       "      <td>0.011121</td>\n",
       "    </tr>\n",
       "    <tr>\n",
       "      <th>residual_sugar</th>\n",
       "      <td>0.078556</td>\n",
       "    </tr>\n",
       "    <tr>\n",
       "      <th>chlorides</th>\n",
       "      <td>-0.431530</td>\n",
       "    </tr>\n",
       "    <tr>\n",
       "      <th>free_sulfur_dioxide</th>\n",
       "      <td>0.004660</td>\n",
       "    </tr>\n",
       "    <tr>\n",
       "      <th>total_sulfur_dioxide</th>\n",
       "      <td>-0.000387</td>\n",
       "    </tr>\n",
       "    <tr>\n",
       "      <th>density</th>\n",
       "      <td>-143.561669</td>\n",
       "    </tr>\n",
       "    <tr>\n",
       "      <th>pH</th>\n",
       "      <td>0.563637</td>\n",
       "    </tr>\n",
       "    <tr>\n",
       "      <th>sulphates</th>\n",
       "      <td>0.667412</td>\n",
       "    </tr>\n",
       "    <tr>\n",
       "      <th>alcohol</th>\n",
       "      <td>0.199916</td>\n",
       "    </tr>\n",
       "  </tbody>\n",
       "</table>\n",
       "</div>"
      ],
      "text/plain": [
       "                      Coefficient\n",
       "fixed_acidity            0.045472\n",
       "volatile_acidity        -1.815218\n",
       "citric_acid              0.011121\n",
       "residual_sugar           0.078556\n",
       "chlorides               -0.431530\n",
       "free_sulfur_dioxide      0.004660\n",
       "total_sulfur_dioxide    -0.000387\n",
       "density               -143.561669\n",
       "pH                       0.563637\n",
       "sulphates                0.667412\n",
       "alcohol                  0.199916"
      ]
     },
     "execution_count": 90,
     "metadata": {},
     "output_type": "execute_result"
    }
   ],
   "source": [
    "from sklearn.linear_model import LinearRegression\n",
    "lm1 = LinearRegression()\n",
    "lm1.fit(Xm1_train,ym1_train)\n",
    "print('Estimated intercept coefficient:',lm1.intercept_)\n",
    "print ('Number of coefficients:', len(lm1.coef_))\n",
    "coeffm1_df = pd.DataFrame(lm1.coef_,Xm1.columns,columns=['Coefficient'])\n",
    "coeffm1_df"
   ]
  },
  {
   "cell_type": "code",
   "execution_count": 91,
   "metadata": {},
   "outputs": [
    {
     "data": {
      "text/html": [
       "<div>\n",
       "<style scoped>\n",
       "    .dataframe tbody tr th:only-of-type {\n",
       "        vertical-align: middle;\n",
       "    }\n",
       "\n",
       "    .dataframe tbody tr th {\n",
       "        vertical-align: top;\n",
       "    }\n",
       "\n",
       "    .dataframe thead th {\n",
       "        text-align: right;\n",
       "    }\n",
       "</style>\n",
       "<table border=\"1\" class=\"dataframe\">\n",
       "  <thead>\n",
       "    <tr style=\"text-align: right;\">\n",
       "      <th></th>\n",
       "      <th>VIF</th>\n",
       "      <th>variable</th>\n",
       "    </tr>\n",
       "  </thead>\n",
       "  <tbody>\n",
       "    <tr>\n",
       "      <th>0</th>\n",
       "      <td>3.067856e+06</td>\n",
       "      <td>Intercept</td>\n",
       "    </tr>\n",
       "    <tr>\n",
       "      <th>1</th>\n",
       "      <td>2.691435e+00</td>\n",
       "      <td>fixed_acidity</td>\n",
       "    </tr>\n",
       "    <tr>\n",
       "      <th>2</th>\n",
       "      <td>1.141156e+00</td>\n",
       "      <td>volatile_acidity</td>\n",
       "    </tr>\n",
       "    <tr>\n",
       "      <th>3</th>\n",
       "      <td>1.165215e+00</td>\n",
       "      <td>citric_acid</td>\n",
       "    </tr>\n",
       "    <tr>\n",
       "      <th>4</th>\n",
       "      <td>1.264406e+01</td>\n",
       "      <td>residual_sugar</td>\n",
       "    </tr>\n",
       "    <tr>\n",
       "      <th>5</th>\n",
       "      <td>1.236822e+00</td>\n",
       "      <td>chlorides</td>\n",
       "    </tr>\n",
       "    <tr>\n",
       "      <th>6</th>\n",
       "      <td>1.787880e+00</td>\n",
       "      <td>free_sulfur_dioxide</td>\n",
       "    </tr>\n",
       "    <tr>\n",
       "      <th>7</th>\n",
       "      <td>2.239233e+00</td>\n",
       "      <td>total_sulfur_dioxide</td>\n",
       "    </tr>\n",
       "    <tr>\n",
       "      <th>8</th>\n",
       "      <td>2.823255e+01</td>\n",
       "      <td>density</td>\n",
       "    </tr>\n",
       "    <tr>\n",
       "      <th>9</th>\n",
       "      <td>2.196362e+00</td>\n",
       "      <td>pH</td>\n",
       "    </tr>\n",
       "    <tr>\n",
       "      <th>10</th>\n",
       "      <td>1.138540e+00</td>\n",
       "      <td>sulphates</td>\n",
       "    </tr>\n",
       "    <tr>\n",
       "      <th>11</th>\n",
       "      <td>7.706957e+00</td>\n",
       "      <td>alcohol</td>\n",
       "    </tr>\n",
       "  </tbody>\n",
       "</table>\n",
       "</div>"
      ],
      "text/plain": [
       "             VIF              variable\n",
       "0   3.067856e+06             Intercept\n",
       "1   2.691435e+00         fixed_acidity\n",
       "2   1.141156e+00      volatile_acidity\n",
       "3   1.165215e+00           citric_acid\n",
       "4   1.264406e+01        residual_sugar\n",
       "5   1.236822e+00             chlorides\n",
       "6   1.787880e+00   free_sulfur_dioxide\n",
       "7   2.239233e+00  total_sulfur_dioxide\n",
       "8   2.823255e+01               density\n",
       "9   2.196362e+00                    pH\n",
       "10  1.138540e+00             sulphates\n",
       "11  7.706957e+00               alcohol"
      ]
     },
     "execution_count": 91,
     "metadata": {},
     "output_type": "execute_result"
    }
   ],
   "source": [
    "from patsy import dmatrices\n",
    "from statsmodels.stats.outliers_influence import variance_inflation_factor\n",
    "\n",
    "#find design matrix for linear regression model using 'rating' as response variable \n",
    "ym1, Xm1 = dmatrices('quality ~ fixed_acidity+volatile_acidity+citric_acid+residual_sugar+chlorides+free_sulfur_dioxide+total_sulfur_dioxide+density+pH+sulphates+alcohol', data=df, return_type='dataframe')\n",
    "\n",
    "#calculate VIF for each explanatory variable\n",
    "vifm1 = pd.DataFrame()\n",
    "vifm1['VIF'] = [variance_inflation_factor(Xm1.values, i) for i in range(Xm1.shape[1])]\n",
    "vifm1['variable'] = Xm1.columns\n",
    "\n",
    "#view VIF for each explanatory variable \n",
    "vifm1"
   ]
  },
  {
   "cell_type": "code",
   "execution_count": 92,
   "metadata": {},
   "outputs": [],
   "source": [
    "predictions_m1 = lm1.predict(Xm1_test)"
   ]
  },
  {
   "cell_type": "markdown",
   "metadata": {},
   "source": [
    "**Predicted vs. Actual**"
   ]
  },
  {
   "cell_type": "code",
   "execution_count": 93,
   "metadata": {},
   "outputs": [
    {
     "data": {
      "text/plain": [
       "<matplotlib.collections.PathCollection at 0x7fc6549afc70>"
      ]
     },
     "execution_count": 93,
     "metadata": {},
     "output_type": "execute_result"
    },
    {
     "data": {
      "image/png": "[encoded data removed]",
      "text/plain": [
       "<Figure size 432x288 with 1 Axes>"
      ]
     },
     "metadata": {},
     "output_type": "display_data"
    }
   ],
   "source": [
    "plt.scatter(ym1_test,predictions_m1)"
   ]
  },
  {
   "cell_type": "markdown",
   "metadata": {},
   "source": [
    "**Residual Histogram**"
   ]
  },
  {
   "cell_type": "code",
   "execution_count": 94,
   "metadata": {},
   "outputs": [
    {
     "data": {
      "image/png": "[encoded data removed]",
      "text/plain": [
       "<Figure size 432x288 with 1 Axes>"
      ]
     },
     "metadata": {},
     "output_type": "display_data"
    }
   ],
   "source": [
    "sns.distplot((ym1_test-predictions_m1),bins=50);"
   ]
  },
  {
   "cell_type": "code",
   "execution_count": 95,
   "metadata": {},
   "outputs": [
    {
     "name": "stdout",
     "output_type": "stream",
     "text": [
      "R-squared: 0.27411497036158483\n",
      "Mean Squared Error (MSE): 0.5819734399456571\n",
      "Root Mean Squared Error (RMSE): 0.762871837169034\n",
      "Log Mean Squared Error: 0.012696971403151895\n",
      "Explained Variance: 0.2741149819110832\n",
      "Mean Absolute Error (MAE): 0.5916037123365229\n",
      "Median Absolute Error: 0.48349570777801887\n",
      "Poisson Deviance: 0.09955379194269647\n",
      "Mean Gamma Deviance: 0.017342290822676968\n"
     ]
    }
   ],
   "source": [
    "from sklearn import metrics\n",
    "print('R-squared:', metrics.r2_score(ym1_test, predictions_m1))\n",
    "print('Mean Squared Error (MSE):', metrics.mean_squared_error(ym1_test, predictions_m1))\n",
    "print('Root Mean Squared Error (RMSE):', np.sqrt(metrics.mean_squared_error(ym1_test, predictions_m1)))\n",
    "print('Log Mean Squared Error:', metrics.mean_squared_log_error(ym1_test, predictions_m1))\n",
    "print('Explained Variance:', metrics.explained_variance_score(ym1_test, predictions_m1))\n",
    "print('Mean Absolute Error (MAE):', metrics.mean_absolute_error(ym1_test, predictions_m1))\n",
    "print('Median Absolute Error:', metrics.median_absolute_error(ym1_test, predictions_m1))\n",
    "print('Poisson Deviance:', metrics.mean_poisson_deviance(ym1_test, predictions_m1))\n",
    "print('Mean Gamma Deviance:', metrics.mean_gamma_deviance(ym1_test, predictions_m1))\n",
    "\n"
   ]
  },
  {
   "cell_type": "markdown",
   "metadata": {},
   "source": [
    "## Model 2 -  Drop Density For High VIF"
   ]
  },
  {
   "cell_type": "code",
   "execution_count": 96,
   "metadata": {},
   "outputs": [
    {
     "data": {
      "text/html": [
       "<div>\n",
       "<style scoped>\n",
       "    .dataframe tbody tr th:only-of-type {\n",
       "        vertical-align: middle;\n",
       "    }\n",
       "\n",
       "    .dataframe tbody tr th {\n",
       "        vertical-align: top;\n",
       "    }\n",
       "\n",
       "    .dataframe thead th {\n",
       "        text-align: right;\n",
       "    }\n",
       "</style>\n",
       "<table border=\"1\" class=\"dataframe\">\n",
       "  <thead>\n",
       "    <tr style=\"text-align: right;\">\n",
       "      <th></th>\n",
       "      <th>fixed_acidity</th>\n",
       "      <th>volatile_acidity</th>\n",
       "      <th>citric_acid</th>\n",
       "      <th>residual_sugar</th>\n",
       "      <th>chlorides</th>\n",
       "      <th>free_sulfur_dioxide</th>\n",
       "      <th>total_sulfur_dioxide</th>\n",
       "      <th>pH</th>\n",
       "      <th>sulphates</th>\n",
       "      <th>alcohol</th>\n",
       "    </tr>\n",
       "  </thead>\n",
       "  <tbody>\n",
       "    <tr>\n",
       "      <th>2287</th>\n",
       "      <td>6.7</td>\n",
       "      <td>0.43</td>\n",
       "      <td>0.23</td>\n",
       "      <td>5.00</td>\n",
       "      <td>0.157</td>\n",
       "      <td>49.0</td>\n",
       "      <td>145.0</td>\n",
       "      <td>3.17</td>\n",
       "      <td>0.49</td>\n",
       "      <td>9.4</td>\n",
       "    </tr>\n",
       "    <tr>\n",
       "      <th>2300</th>\n",
       "      <td>7.3</td>\n",
       "      <td>0.30</td>\n",
       "      <td>0.33</td>\n",
       "      <td>2.30</td>\n",
       "      <td>0.043</td>\n",
       "      <td>28.0</td>\n",
       "      <td>125.0</td>\n",
       "      <td>3.34</td>\n",
       "      <td>0.44</td>\n",
       "      <td>12.6</td>\n",
       "    </tr>\n",
       "    <tr>\n",
       "      <th>3591</th>\n",
       "      <td>6.4</td>\n",
       "      <td>0.28</td>\n",
       "      <td>0.36</td>\n",
       "      <td>1.30</td>\n",
       "      <td>0.053</td>\n",
       "      <td>28.0</td>\n",
       "      <td>186.0</td>\n",
       "      <td>3.31</td>\n",
       "      <td>0.45</td>\n",
       "      <td>10.8</td>\n",
       "    </tr>\n",
       "    <tr>\n",
       "      <th>3614</th>\n",
       "      <td>6.4</td>\n",
       "      <td>0.38</td>\n",
       "      <td>0.24</td>\n",
       "      <td>7.20</td>\n",
       "      <td>0.047</td>\n",
       "      <td>41.0</td>\n",
       "      <td>151.0</td>\n",
       "      <td>3.11</td>\n",
       "      <td>0.60</td>\n",
       "      <td>9.2</td>\n",
       "    </tr>\n",
       "    <tr>\n",
       "      <th>2634</th>\n",
       "      <td>8.7</td>\n",
       "      <td>0.31</td>\n",
       "      <td>0.73</td>\n",
       "      <td>14.35</td>\n",
       "      <td>0.044</td>\n",
       "      <td>27.0</td>\n",
       "      <td>191.0</td>\n",
       "      <td>2.96</td>\n",
       "      <td>0.88</td>\n",
       "      <td>8.7</td>\n",
       "    </tr>\n",
       "  </tbody>\n",
       "</table>\n",
       "</div>"
      ],
      "text/plain": [
       "      fixed_acidity  volatile_acidity  citric_acid  residual_sugar  chlorides  \\\n",
       "2287            6.7              0.43         0.23            5.00      0.157   \n",
       "2300            7.3              0.30         0.33            2.30      0.043   \n",
       "3591            6.4              0.28         0.36            1.30      0.053   \n",
       "3614            6.4              0.38         0.24            7.20      0.047   \n",
       "2634            8.7              0.31         0.73           14.35      0.044   \n",
       "\n",
       "      free_sulfur_dioxide  total_sulfur_dioxide    pH  sulphates  alcohol  \n",
       "2287                 49.0                 145.0  3.17       0.49      9.4  \n",
       "2300                 28.0                 125.0  3.34       0.44     12.6  \n",
       "3591                 28.0                 186.0  3.31       0.45     10.8  \n",
       "3614                 41.0                 151.0  3.11       0.60      9.2  \n",
       "2634                 27.0                 191.0  2.96       0.88      8.7  "
      ]
     },
     "execution_count": 96,
     "metadata": {},
     "output_type": "execute_result"
    }
   ],
   "source": [
    "ym2 = df.quality\n",
    "Xm2 = df.drop(['quality','density'],axis=1)\n",
    "from sklearn.model_selection import train_test_split\n",
    "Xm2_train, Xm2_test, ym2_train, ym2_test = train_test_split(Xm2, ym2, test_size=0.25, random_state=101)\n",
    "Xm2_train.head()"
   ]
  },
  {
   "cell_type": "code",
   "execution_count": 97,
   "metadata": {},
   "outputs": [
    {
     "name": "stdout",
     "output_type": "stream",
     "text": [
      "Estimated intercept coefficient: 2.5003909970853795\n",
      "Number of coefficients: 10\n"
     ]
    },
    {
     "data": {
      "text/html": [
       "<div>\n",
       "<style scoped>\n",
       "    .dataframe tbody tr th:only-of-type {\n",
       "        vertical-align: middle;\n",
       "    }\n",
       "\n",
       "    .dataframe tbody tr th {\n",
       "        vertical-align: top;\n",
       "    }\n",
       "\n",
       "    .dataframe thead th {\n",
       "        text-align: right;\n",
       "    }\n",
       "</style>\n",
       "<table border=\"1\" class=\"dataframe\">\n",
       "  <thead>\n",
       "    <tr style=\"text-align: right;\">\n",
       "      <th></th>\n",
       "      <th>Coefficient</th>\n",
       "    </tr>\n",
       "  </thead>\n",
       "  <tbody>\n",
       "    <tr>\n",
       "      <th>fixed_acidity</th>\n",
       "      <td>-0.064722</td>\n",
       "    </tr>\n",
       "    <tr>\n",
       "      <th>volatile_acidity</th>\n",
       "      <td>-1.926975</td>\n",
       "    </tr>\n",
       "    <tr>\n",
       "      <th>citric_acid</th>\n",
       "      <td>-0.045383</td>\n",
       "    </tr>\n",
       "    <tr>\n",
       "      <th>residual_sugar</th>\n",
       "      <td>0.024023</td>\n",
       "    </tr>\n",
       "    <tr>\n",
       "      <th>chlorides</th>\n",
       "      <td>-1.099982</td>\n",
       "    </tr>\n",
       "    <tr>\n",
       "      <th>free_sulfur_dioxide</th>\n",
       "      <td>0.005728</td>\n",
       "    </tr>\n",
       "    <tr>\n",
       "      <th>total_sulfur_dioxide</th>\n",
       "      <td>-0.000928</td>\n",
       "    </tr>\n",
       "    <tr>\n",
       "      <th>pH</th>\n",
       "      <td>0.057598</td>\n",
       "    </tr>\n",
       "    <tr>\n",
       "      <th>sulphates</th>\n",
       "      <td>0.469519</td>\n",
       "    </tr>\n",
       "    <tr>\n",
       "      <th>alcohol</th>\n",
       "      <td>0.359635</td>\n",
       "    </tr>\n",
       "  </tbody>\n",
       "</table>\n",
       "</div>"
      ],
      "text/plain": [
       "                      Coefficient\n",
       "fixed_acidity           -0.064722\n",
       "volatile_acidity        -1.926975\n",
       "citric_acid             -0.045383\n",
       "residual_sugar           0.024023\n",
       "chlorides               -1.099982\n",
       "free_sulfur_dioxide      0.005728\n",
       "total_sulfur_dioxide    -0.000928\n",
       "pH                       0.057598\n",
       "sulphates                0.469519\n",
       "alcohol                  0.359635"
      ]
     },
     "execution_count": 97,
     "metadata": {},
     "output_type": "execute_result"
    }
   ],
   "source": [
    "from sklearn.linear_model import LinearRegression\n",
    "lm2 = LinearRegression()\n",
    "lm2.fit(Xm2_train,ym2_train)\n",
    "print('Estimated intercept coefficient:',lm2.intercept_)\n",
    "print ('Number of coefficients:', len(lm2.coef_))\n",
    "coeffm2_df = pd.DataFrame(lm2.coef_,Xm2.columns,columns=['Coefficient'])\n",
    "coeffm2_df"
   ]
  },
  {
   "cell_type": "code",
   "execution_count": 98,
   "metadata": {},
   "outputs": [],
   "source": [
    "predictions_m2 = lm2.predict(Xm2_test)"
   ]
  },
  {
   "cell_type": "markdown",
   "metadata": {},
   "source": [
    "**Predicted vs. Actual**"
   ]
  },
  {
   "cell_type": "code",
   "execution_count": 99,
   "metadata": {},
   "outputs": [
    {
     "data": {
      "text/plain": [
       "<matplotlib.collections.PathCollection at 0x7fc6528bd1c0>"
      ]
     },
     "execution_count": 99,
     "metadata": {},
     "output_type": "execute_result"
    },
    {
     "data": {
      "image/png": "[encoded data removed]",
      "text/plain": [
       "<Figure size 432x288 with 1 Axes>"
      ]
     },
     "metadata": {},
     "output_type": "display_data"
    }
   ],
   "source": [
    "plt.scatter(ym2_test,predictions_m2)"
   ]
  },
  {
   "cell_type": "markdown",
   "metadata": {},
   "source": [
    "**Residual Histogram**"
   ]
  },
  {
   "cell_type": "code",
   "execution_count": 100,
   "metadata": {},
   "outputs": [
    {
     "data": {
      "image/png": "[encoded data removed]",
      "text/plain": [
       "<Figure size 432x288 with 1 Axes>"
      ]
     },
     "metadata": {},
     "output_type": "display_data"
    }
   ],
   "source": [
    "sns.distplot((ym2_test-predictions_m2),bins=50);"
   ]
  },
  {
   "cell_type": "code",
   "execution_count": 101,
   "metadata": {},
   "outputs": [
    {
     "name": "stdout",
     "output_type": "stream",
     "text": [
      "R-squared: 0.26509520406978937\n",
      "Mean Squared Error (MSE): 0.5892049768998726\n",
      "Root Mean Squared Error (RMSE): 0.7675968843734794\n",
      "Log Mean Squared Error: 0.01285777638199399\n",
      "Explained Variance: 0.26510013080953776\n",
      "Mean Absolute Error (MAE): 0.5959639817162875\n",
      "Median Absolute Error: 0.49020306093928845\n",
      "Poisson Deviance: 0.1007965909260457\n",
      "Mean Gamma Deviance: 0.01755817337655694\n"
     ]
    }
   ],
   "source": [
    "from sklearn import metrics\n",
    "print('R-squared:', metrics.r2_score(ym2_test, predictions_m2))\n",
    "print('Mean Squared Error (MSE):', metrics.mean_squared_error(ym2_test, predictions_m2))\n",
    "print('Root Mean Squared Error (RMSE):', np.sqrt(metrics.mean_squared_error(ym2_test, predictions_m2)))\n",
    "print('Log Mean Squared Error:', metrics.mean_squared_log_error(ym2_test, predictions_m2))\n",
    "print('Explained Variance:', metrics.explained_variance_score(ym2_test, predictions_m2))\n",
    "print('Mean Absolute Error (MAE):', metrics.mean_absolute_error(ym2_test, predictions_m2))\n",
    "print('Median Absolute Error:', metrics.median_absolute_error(ym2_test, predictions_m2))\n",
    "print('Poisson Deviance:', metrics.mean_poisson_deviance(ym2_test, predictions_m2))\n",
    "print('Mean Gamma Deviance:', metrics.mean_gamma_deviance(ym2_test, predictions_m2))\n",
    "\n"
   ]
  },
  {
   "cell_type": "code",
   "execution_count": 102,
   "metadata": {},
   "outputs": [
    {
     "data": {
      "text/html": [
       "<div>\n",
       "<style scoped>\n",
       "    .dataframe tbody tr th:only-of-type {\n",
       "        vertical-align: middle;\n",
       "    }\n",
       "\n",
       "    .dataframe tbody tr th {\n",
       "        vertical-align: top;\n",
       "    }\n",
       "\n",
       "    .dataframe thead th {\n",
       "        text-align: right;\n",
       "    }\n",
       "</style>\n",
       "<table border=\"1\" class=\"dataframe\">\n",
       "  <thead>\n",
       "    <tr style=\"text-align: right;\">\n",
       "      <th></th>\n",
       "      <th>VIF</th>\n",
       "      <th>variable</th>\n",
       "    </tr>\n",
       "  </thead>\n",
       "  <tbody>\n",
       "    <tr>\n",
       "      <th>0</th>\n",
       "      <td>1039.129803</td>\n",
       "      <td>Intercept</td>\n",
       "    </tr>\n",
       "    <tr>\n",
       "      <th>1</th>\n",
       "      <td>1.356128</td>\n",
       "      <td>fixed_acidity</td>\n",
       "    </tr>\n",
       "    <tr>\n",
       "      <th>2</th>\n",
       "      <td>1.128298</td>\n",
       "      <td>volatile_acidity</td>\n",
       "    </tr>\n",
       "    <tr>\n",
       "      <th>3</th>\n",
       "      <td>1.159884</td>\n",
       "      <td>citric_acid</td>\n",
       "    </tr>\n",
       "    <tr>\n",
       "      <th>4</th>\n",
       "      <td>1.435215</td>\n",
       "      <td>residual_sugar</td>\n",
       "    </tr>\n",
       "    <tr>\n",
       "      <th>5</th>\n",
       "      <td>1.203645</td>\n",
       "      <td>chlorides</td>\n",
       "    </tr>\n",
       "    <tr>\n",
       "      <th>6</th>\n",
       "      <td>1.744627</td>\n",
       "      <td>free_sulfur_dioxide</td>\n",
       "    </tr>\n",
       "    <tr>\n",
       "      <th>7</th>\n",
       "      <td>2.153170</td>\n",
       "      <td>total_sulfur_dioxide</td>\n",
       "    </tr>\n",
       "    <tr>\n",
       "      <th>8</th>\n",
       "      <td>1.330912</td>\n",
       "      <td>pH</td>\n",
       "    </tr>\n",
       "    <tr>\n",
       "      <th>9</th>\n",
       "      <td>1.056637</td>\n",
       "      <td>sulphates</td>\n",
       "    </tr>\n",
       "    <tr>\n",
       "      <th>10</th>\n",
       "      <td>1.647117</td>\n",
       "      <td>alcohol</td>\n",
       "    </tr>\n",
       "  </tbody>\n",
       "</table>\n",
       "</div>"
      ],
      "text/plain": [
       "            VIF              variable\n",
       "0   1039.129803             Intercept\n",
       "1      1.356128         fixed_acidity\n",
       "2      1.128298      volatile_acidity\n",
       "3      1.159884           citric_acid\n",
       "4      1.435215        residual_sugar\n",
       "5      1.203645             chlorides\n",
       "6      1.744627   free_sulfur_dioxide\n",
       "7      2.153170  total_sulfur_dioxide\n",
       "8      1.330912                    pH\n",
       "9      1.056637             sulphates\n",
       "10     1.647117               alcohol"
      ]
     },
     "execution_count": 102,
     "metadata": {},
     "output_type": "execute_result"
    }
   ],
   "source": [
    "from patsy import dmatrices\n",
    "from statsmodels.stats.outliers_influence import variance_inflation_factor\n",
    "\n",
    "#find design matrix for linear regression model using 'rating' as response variable \n",
    "ym2, Xm2 = dmatrices('quality ~ fixed_acidity+volatile_acidity+citric_acid+residual_sugar+chlorides+free_sulfur_dioxide+total_sulfur_dioxide+pH+sulphates+alcohol', data=df, return_type='dataframe')\n",
    "\n",
    "#calculate VIF for each explanatory variable\n",
    "vifm2 = pd.DataFrame()\n",
    "vifm2['VIF'] = [variance_inflation_factor(Xm2.values, i) for i in range(Xm2.shape[1])]\n",
    "vifm2['variable'] = Xm2.columns\n",
    "\n",
    "#view VIF for each explanatory variable \n",
    "vifm2"
   ]
  },
  {
   "cell_type": "markdown",
   "metadata": {},
   "source": [
    "## Backward Elimination Method to create subsequent models"
   ]
  },
  {
   "cell_type": "markdown",
   "metadata": {},
   "source": [
    "## Model 3: Drop Total Sulfur Dioxide\n"
   ]
  },
  {
   "cell_type": "code",
   "execution_count": 103,
   "metadata": {},
   "outputs": [
    {
     "data": {
      "text/html": [
       "<div>\n",
       "<style scoped>\n",
       "    .dataframe tbody tr th:only-of-type {\n",
       "        vertical-align: middle;\n",
       "    }\n",
       "\n",
       "    .dataframe tbody tr th {\n",
       "        vertical-align: top;\n",
       "    }\n",
       "\n",
       "    .dataframe thead th {\n",
       "        text-align: right;\n",
       "    }\n",
       "</style>\n",
       "<table border=\"1\" class=\"dataframe\">\n",
       "  <thead>\n",
       "    <tr style=\"text-align: right;\">\n",
       "      <th></th>\n",
       "      <th>fixed_acidity</th>\n",
       "      <th>volatile_acidity</th>\n",
       "      <th>citric_acid</th>\n",
       "      <th>residual_sugar</th>\n",
       "      <th>chlorides</th>\n",
       "      <th>free_sulfur_dioxide</th>\n",
       "      <th>pH</th>\n",
       "      <th>sulphates</th>\n",
       "      <th>alcohol</th>\n",
       "    </tr>\n",
       "  </thead>\n",
       "  <tbody>\n",
       "    <tr>\n",
       "      <th>2287</th>\n",
       "      <td>6.7</td>\n",
       "      <td>0.43</td>\n",
       "      <td>0.23</td>\n",
       "      <td>5.00</td>\n",
       "      <td>0.157</td>\n",
       "      <td>49.0</td>\n",
       "      <td>3.17</td>\n",
       "      <td>0.49</td>\n",
       "      <td>9.4</td>\n",
       "    </tr>\n",
       "    <tr>\n",
       "      <th>2300</th>\n",
       "      <td>7.3</td>\n",
       "      <td>0.30</td>\n",
       "      <td>0.33</td>\n",
       "      <td>2.30</td>\n",
       "      <td>0.043</td>\n",
       "      <td>28.0</td>\n",
       "      <td>3.34</td>\n",
       "      <td>0.44</td>\n",
       "      <td>12.6</td>\n",
       "    </tr>\n",
       "    <tr>\n",
       "      <th>3591</th>\n",
       "      <td>6.4</td>\n",
       "      <td>0.28</td>\n",
       "      <td>0.36</td>\n",
       "      <td>1.30</td>\n",
       "      <td>0.053</td>\n",
       "      <td>28.0</td>\n",
       "      <td>3.31</td>\n",
       "      <td>0.45</td>\n",
       "      <td>10.8</td>\n",
       "    </tr>\n",
       "    <tr>\n",
       "      <th>3614</th>\n",
       "      <td>6.4</td>\n",
       "      <td>0.38</td>\n",
       "      <td>0.24</td>\n",
       "      <td>7.20</td>\n",
       "      <td>0.047</td>\n",
       "      <td>41.0</td>\n",
       "      <td>3.11</td>\n",
       "      <td>0.60</td>\n",
       "      <td>9.2</td>\n",
       "    </tr>\n",
       "    <tr>\n",
       "      <th>2634</th>\n",
       "      <td>8.7</td>\n",
       "      <td>0.31</td>\n",
       "      <td>0.73</td>\n",
       "      <td>14.35</td>\n",
       "      <td>0.044</td>\n",
       "      <td>27.0</td>\n",
       "      <td>2.96</td>\n",
       "      <td>0.88</td>\n",
       "      <td>8.7</td>\n",
       "    </tr>\n",
       "  </tbody>\n",
       "</table>\n",
       "</div>"
      ],
      "text/plain": [
       "      fixed_acidity  volatile_acidity  citric_acid  residual_sugar  chlorides  \\\n",
       "2287            6.7              0.43         0.23            5.00      0.157   \n",
       "2300            7.3              0.30         0.33            2.30      0.043   \n",
       "3591            6.4              0.28         0.36            1.30      0.053   \n",
       "3614            6.4              0.38         0.24            7.20      0.047   \n",
       "2634            8.7              0.31         0.73           14.35      0.044   \n",
       "\n",
       "      free_sulfur_dioxide    pH  sulphates  alcohol  \n",
       "2287                 49.0  3.17       0.49      9.4  \n",
       "2300                 28.0  3.34       0.44     12.6  \n",
       "3591                 28.0  3.31       0.45     10.8  \n",
       "3614                 41.0  3.11       0.60      9.2  \n",
       "2634                 27.0  2.96       0.88      8.7  "
      ]
     },
     "execution_count": 103,
     "metadata": {},
     "output_type": "execute_result"
    }
   ],
   "source": [
    "ym3 = df.quality\n",
    "Xm3 = df.drop(['quality','density','total_sulfur_dioxide'],axis=1)\n",
    "from sklearn.model_selection import train_test_split\n",
    "Xm3_train, Xm3_test, ym3_train, ym3_test = train_test_split(Xm3, ym3, test_size=0.25, random_state=101)\n",
    "Xm3_train.head()"
   ]
  },
  {
   "cell_type": "code",
   "execution_count": 104,
   "metadata": {},
   "outputs": [
    {
     "data": {
      "text/plain": [
       "(3673, 9)"
      ]
     },
     "execution_count": 104,
     "metadata": {},
     "output_type": "execute_result"
    }
   ],
   "source": [
    "Xm3_train.shape"
   ]
  },
  {
   "cell_type": "code",
   "execution_count": 105,
   "metadata": {},
   "outputs": [
    {
     "name": "stdout",
     "output_type": "stream",
     "text": [
      "Estimated intercept coefficient: 2.493963989194946\n",
      "Number of coefficients: 9\n"
     ]
    },
    {
     "data": {
      "text/html": [
       "<div>\n",
       "<style scoped>\n",
       "    .dataframe tbody tr th:only-of-type {\n",
       "        vertical-align: middle;\n",
       "    }\n",
       "\n",
       "    .dataframe tbody tr th {\n",
       "        vertical-align: top;\n",
       "    }\n",
       "\n",
       "    .dataframe thead th {\n",
       "        text-align: right;\n",
       "    }\n",
       "</style>\n",
       "<table border=\"1\" class=\"dataframe\">\n",
       "  <thead>\n",
       "    <tr style=\"text-align: right;\">\n",
       "      <th></th>\n",
       "      <th>Coefficient</th>\n",
       "    </tr>\n",
       "  </thead>\n",
       "  <tbody>\n",
       "    <tr>\n",
       "      <th>fixed_acidity</th>\n",
       "      <td>-0.069751</td>\n",
       "    </tr>\n",
       "    <tr>\n",
       "      <th>volatile_acidity</th>\n",
       "      <td>-1.993444</td>\n",
       "    </tr>\n",
       "    <tr>\n",
       "      <th>citric_acid</th>\n",
       "      <td>-0.059616</td>\n",
       "    </tr>\n",
       "    <tr>\n",
       "      <th>residual_sugar</th>\n",
       "      <td>0.023051</td>\n",
       "    </tr>\n",
       "    <tr>\n",
       "      <th>chlorides</th>\n",
       "      <td>-1.153843</td>\n",
       "    </tr>\n",
       "    <tr>\n",
       "      <th>free_sulfur_dioxide</th>\n",
       "      <td>0.004507</td>\n",
       "    </tr>\n",
       "    <tr>\n",
       "      <th>pH</th>\n",
       "      <td>0.031529</td>\n",
       "    </tr>\n",
       "    <tr>\n",
       "      <th>sulphates</th>\n",
       "      <td>0.437891</td>\n",
       "    </tr>\n",
       "    <tr>\n",
       "      <th>alcohol</th>\n",
       "      <td>0.367818</td>\n",
       "    </tr>\n",
       "  </tbody>\n",
       "</table>\n",
       "</div>"
      ],
      "text/plain": [
       "                     Coefficient\n",
       "fixed_acidity          -0.069751\n",
       "volatile_acidity       -1.993444\n",
       "citric_acid            -0.059616\n",
       "residual_sugar          0.023051\n",
       "chlorides              -1.153843\n",
       "free_sulfur_dioxide     0.004507\n",
       "pH                      0.031529\n",
       "sulphates               0.437891\n",
       "alcohol                 0.367818"
      ]
     },
     "execution_count": 105,
     "metadata": {},
     "output_type": "execute_result"
    }
   ],
   "source": [
    "from sklearn.linear_model import LinearRegression\n",
    "lm3 = LinearRegression()\n",
    "lm3.fit(Xm3_train,ym3_train)\n",
    "print('Estimated intercept coefficient:',lm3.intercept_)\n",
    "print ('Number of coefficients:', len(lm3.coef_))\n",
    "coeffm1_df = pd.DataFrame(lm3.coef_,Xm3.columns,columns=['Coefficient'])\n",
    "coeffm1_df"
   ]
  },
  {
   "cell_type": "code",
   "execution_count": 106,
   "metadata": {},
   "outputs": [],
   "source": [
    "predictions_m3 = lm3.predict(Xm3_test)"
   ]
  },
  {
   "cell_type": "markdown",
   "metadata": {},
   "source": [
    "**Predicted vs. Actual**"
   ]
  },
  {
   "cell_type": "code",
   "execution_count": 107,
   "metadata": {},
   "outputs": [
    {
     "data": {
      "text/plain": [
       "<matplotlib.collections.PathCollection at 0x7fc653cbc100>"
      ]
     },
     "execution_count": 107,
     "metadata": {},
     "output_type": "execute_result"
    },
    {
     "data": {
      "image/png": "[encoded data removed]",
      "text/plain": [
       "<Figure size 432x288 with 1 Axes>"
      ]
     },
     "metadata": {},
     "output_type": "display_data"
    }
   ],
   "source": [
    "plt.scatter(ym3_test,predictions_m3)"
   ]
  },
  {
   "cell_type": "markdown",
   "metadata": {},
   "source": [
    "**Residual Histogram**"
   ]
  },
  {
   "cell_type": "code",
   "execution_count": 108,
   "metadata": {},
   "outputs": [
    {
     "data": {
      "image/png": "[encoded data removed]",
      "text/plain": [
       "<Figure size 432x288 with 1 Axes>"
      ]
     },
     "metadata": {},
     "output_type": "display_data"
    }
   ],
   "source": [
    "sns.distplot((ym3_test-predictions_m3),bins=50);"
   ]
  },
  {
   "cell_type": "code",
   "execution_count": 109,
   "metadata": {},
   "outputs": [
    {
     "name": "stdout",
     "output_type": "stream",
     "text": [
      "R-squared: 0.26468117010987735\n",
      "Mean Squared Error (MSE): 0.5895369258422889\n",
      "Root Mean Squared Error (RMSE): 0.7678130800151095\n",
      "Log Mean Squared Error: 0.012857010136497721\n",
      "Explained Variance: 0.2646894788104839\n",
      "Mean Absolute Error (MAE): 0.5964134577115189\n",
      "Median Absolute Error: 0.4910005935716155\n",
      "Poisson Deviance: 0.1008325825563816\n",
      "Mean Gamma Deviance: 0.017560698774094687\n"
     ]
    }
   ],
   "source": [
    "from sklearn import metrics\n",
    "print('R-squared:', metrics.r2_score(ym3_test, predictions_m3))\n",
    "print('Mean Squared Error (MSE):', metrics.mean_squared_error(ym3_test, predictions_m3))\n",
    "print('Root Mean Squared Error (RMSE):', np.sqrt(metrics.mean_squared_error(ym3_test, predictions_m3)))\n",
    "print('Log Mean Squared Error:', metrics.mean_squared_log_error(ym3_test, predictions_m3))\n",
    "print('Explained Variance:', metrics.explained_variance_score(ym3_test, predictions_m3))\n",
    "print('Mean Absolute Error (MAE):', metrics.mean_absolute_error(ym3_test, predictions_m3))\n",
    "print('Median Absolute Error:', metrics.median_absolute_error(ym3_test, predictions_m3))\n",
    "print('Poisson Deviance:', metrics.mean_poisson_deviance(ym3_test, predictions_m3))\n",
    "print('Mean Gamma Deviance:', metrics.mean_gamma_deviance(ym3_test, predictions_m3))\n",
    "\n"
   ]
  },
  {
   "cell_type": "markdown",
   "metadata": {},
   "source": [
    "## Model 4: Drop Free Sulfur Dioxide"
   ]
  },
  {
   "cell_type": "code",
   "execution_count": 110,
   "metadata": {},
   "outputs": [
    {
     "data": {
      "text/html": [
       "<div>\n",
       "<style scoped>\n",
       "    .dataframe tbody tr th:only-of-type {\n",
       "        vertical-align: middle;\n",
       "    }\n",
       "\n",
       "    .dataframe tbody tr th {\n",
       "        vertical-align: top;\n",
       "    }\n",
       "\n",
       "    .dataframe thead th {\n",
       "        text-align: right;\n",
       "    }\n",
       "</style>\n",
       "<table border=\"1\" class=\"dataframe\">\n",
       "  <thead>\n",
       "    <tr style=\"text-align: right;\">\n",
       "      <th></th>\n",
       "      <th>fixed_acidity</th>\n",
       "      <th>volatile_acidity</th>\n",
       "      <th>citric_acid</th>\n",
       "      <th>residual_sugar</th>\n",
       "      <th>chlorides</th>\n",
       "      <th>pH</th>\n",
       "      <th>sulphates</th>\n",
       "      <th>alcohol</th>\n",
       "    </tr>\n",
       "  </thead>\n",
       "  <tbody>\n",
       "    <tr>\n",
       "      <th>2287</th>\n",
       "      <td>6.7</td>\n",
       "      <td>0.43</td>\n",
       "      <td>0.23</td>\n",
       "      <td>5.00</td>\n",
       "      <td>0.157</td>\n",
       "      <td>3.17</td>\n",
       "      <td>0.49</td>\n",
       "      <td>9.4</td>\n",
       "    </tr>\n",
       "    <tr>\n",
       "      <th>2300</th>\n",
       "      <td>7.3</td>\n",
       "      <td>0.30</td>\n",
       "      <td>0.33</td>\n",
       "      <td>2.30</td>\n",
       "      <td>0.043</td>\n",
       "      <td>3.34</td>\n",
       "      <td>0.44</td>\n",
       "      <td>12.6</td>\n",
       "    </tr>\n",
       "    <tr>\n",
       "      <th>3591</th>\n",
       "      <td>6.4</td>\n",
       "      <td>0.28</td>\n",
       "      <td>0.36</td>\n",
       "      <td>1.30</td>\n",
       "      <td>0.053</td>\n",
       "      <td>3.31</td>\n",
       "      <td>0.45</td>\n",
       "      <td>10.8</td>\n",
       "    </tr>\n",
       "    <tr>\n",
       "      <th>3614</th>\n",
       "      <td>6.4</td>\n",
       "      <td>0.38</td>\n",
       "      <td>0.24</td>\n",
       "      <td>7.20</td>\n",
       "      <td>0.047</td>\n",
       "      <td>3.11</td>\n",
       "      <td>0.60</td>\n",
       "      <td>9.2</td>\n",
       "    </tr>\n",
       "    <tr>\n",
       "      <th>2634</th>\n",
       "      <td>8.7</td>\n",
       "      <td>0.31</td>\n",
       "      <td>0.73</td>\n",
       "      <td>14.35</td>\n",
       "      <td>0.044</td>\n",
       "      <td>2.96</td>\n",
       "      <td>0.88</td>\n",
       "      <td>8.7</td>\n",
       "    </tr>\n",
       "  </tbody>\n",
       "</table>\n",
       "</div>"
      ],
      "text/plain": [
       "      fixed_acidity  volatile_acidity  citric_acid  residual_sugar  chlorides  \\\n",
       "2287            6.7              0.43         0.23            5.00      0.157   \n",
       "2300            7.3              0.30         0.33            2.30      0.043   \n",
       "3591            6.4              0.28         0.36            1.30      0.053   \n",
       "3614            6.4              0.38         0.24            7.20      0.047   \n",
       "2634            8.7              0.31         0.73           14.35      0.044   \n",
       "\n",
       "        pH  sulphates  alcohol  \n",
       "2287  3.17       0.49      9.4  \n",
       "2300  3.34       0.44     12.6  \n",
       "3591  3.31       0.45     10.8  \n",
       "3614  3.11       0.60      9.2  \n",
       "2634  2.96       0.88      8.7  "
      ]
     },
     "execution_count": 110,
     "metadata": {},
     "output_type": "execute_result"
    }
   ],
   "source": [
    "ym4 = df.quality\n",
    "Xm4 = df.drop(['quality','density','total_sulfur_dioxide','free_sulfur_dioxide'],axis=1)\n",
    "from sklearn.model_selection import train_test_split\n",
    "Xm4_train, Xm4_test, ym4_train, ym4_test = train_test_split(Xm4, ym4, test_size=0.25, random_state=101)\n",
    "Xm4_train.head()\n"
   ]
  },
  {
   "cell_type": "code",
   "execution_count": 111,
   "metadata": {},
   "outputs": [
    {
     "data": {
      "text/plain": [
       "(3673, 8)"
      ]
     },
     "execution_count": 111,
     "metadata": {},
     "output_type": "execute_result"
    }
   ],
   "source": [
    "Xm4_train.shape"
   ]
  },
  {
   "cell_type": "code",
   "execution_count": 112,
   "metadata": {},
   "outputs": [
    {
     "name": "stdout",
     "output_type": "stream",
     "text": [
      "Estimated intercept coefficient: 2.7104732485782757\n",
      "Number of coefficients: 8\n"
     ]
    },
    {
     "data": {
      "text/html": [
       "<div>\n",
       "<style scoped>\n",
       "    .dataframe tbody tr th:only-of-type {\n",
       "        vertical-align: middle;\n",
       "    }\n",
       "\n",
       "    .dataframe tbody tr th {\n",
       "        vertical-align: top;\n",
       "    }\n",
       "\n",
       "    .dataframe thead th {\n",
       "        text-align: right;\n",
       "    }\n",
       "</style>\n",
       "<table border=\"1\" class=\"dataframe\">\n",
       "  <thead>\n",
       "    <tr style=\"text-align: right;\">\n",
       "      <th></th>\n",
       "      <th>Coefficient</th>\n",
       "    </tr>\n",
       "  </thead>\n",
       "  <tbody>\n",
       "    <tr>\n",
       "      <th>fixed_acidity</th>\n",
       "      <td>-0.078696</td>\n",
       "    </tr>\n",
       "    <tr>\n",
       "      <th>volatile_acidity</th>\n",
       "      <td>-2.062295</td>\n",
       "    </tr>\n",
       "    <tr>\n",
       "      <th>citric_acid</th>\n",
       "      <td>-0.001889</td>\n",
       "    </tr>\n",
       "    <tr>\n",
       "      <th>residual_sugar</th>\n",
       "      <td>0.026697</td>\n",
       "    </tr>\n",
       "    <tr>\n",
       "      <th>chlorides</th>\n",
       "      <td>-1.030577</td>\n",
       "    </tr>\n",
       "    <tr>\n",
       "      <th>pH</th>\n",
       "      <td>0.047746</td>\n",
       "    </tr>\n",
       "    <tr>\n",
       "      <th>sulphates</th>\n",
       "      <td>0.466914</td>\n",
       "    </tr>\n",
       "    <tr>\n",
       "      <th>alcohol</th>\n",
       "      <td>0.359302</td>\n",
       "    </tr>\n",
       "  </tbody>\n",
       "</table>\n",
       "</div>"
      ],
      "text/plain": [
       "                  Coefficient\n",
       "fixed_acidity       -0.078696\n",
       "volatile_acidity    -2.062295\n",
       "citric_acid         -0.001889\n",
       "residual_sugar       0.026697\n",
       "chlorides           -1.030577\n",
       "pH                   0.047746\n",
       "sulphates            0.466914\n",
       "alcohol              0.359302"
      ]
     },
     "execution_count": 112,
     "metadata": {},
     "output_type": "execute_result"
    }
   ],
   "source": [
    "lm4 = LinearRegression()\n",
    "lm4.fit(Xm4_train,ym4_train)\n",
    "print('Estimated intercept coefficient:',lm4.intercept_)\n",
    "print ('Number of coefficients:', len(lm4.coef_))\n",
    "coeffm4_df = pd.DataFrame(lm4.coef_,Xm4.columns,columns=['Coefficient'])\n",
    "coeffm4_df"
   ]
  },
  {
   "cell_type": "code",
   "execution_count": 113,
   "metadata": {},
   "outputs": [],
   "source": [
    "predictions_m4 = lm4.predict(Xm4_test)"
   ]
  },
  {
   "cell_type": "markdown",
   "metadata": {},
   "source": [
    "**Predicted vs. Actual**"
   ]
  },
  {
   "cell_type": "code",
   "execution_count": 114,
   "metadata": {},
   "outputs": [
    {
     "data": {
      "text/plain": [
       "<matplotlib.collections.PathCollection at 0x7fc6545f4190>"
      ]
     },
     "execution_count": 114,
     "metadata": {},
     "output_type": "execute_result"
    },
    {
     "data": {
      "image/png": "[encoded data removed]",
      "text/plain": [
       "<Figure size 432x288 with 1 Axes>"
      ]
     },
     "metadata": {},
     "output_type": "display_data"
    }
   ],
   "source": [
    "plt.scatter(ym1_test,predictions_m4)"
   ]
  },
  {
   "cell_type": "markdown",
   "metadata": {},
   "source": [
    "**Residual Histogram**"
   ]
  },
  {
   "cell_type": "code",
   "execution_count": 115,
   "metadata": {},
   "outputs": [
    {
     "data": {
      "image/png": "[encoded data removed]",
      "text/plain": [
       "<Figure size 432x288 with 1 Axes>"
      ]
     },
     "metadata": {},
     "output_type": "display_data"
    }
   ],
   "source": [
    "sns.distplot((ym4_test-predictions_m4),bins=50);"
   ]
  },
  {
   "cell_type": "markdown",
   "metadata": {},
   "source": [
    "## Model 5: Drop Fixed Acidity\n"
   ]
  },
  {
   "cell_type": "code",
   "execution_count": 116,
   "metadata": {},
   "outputs": [
    {
     "data": {
      "text/html": [
       "<div>\n",
       "<style scoped>\n",
       "    .dataframe tbody tr th:only-of-type {\n",
       "        vertical-align: middle;\n",
       "    }\n",
       "\n",
       "    .dataframe tbody tr th {\n",
       "        vertical-align: top;\n",
       "    }\n",
       "\n",
       "    .dataframe thead th {\n",
       "        text-align: right;\n",
       "    }\n",
       "</style>\n",
       "<table border=\"1\" class=\"dataframe\">\n",
       "  <thead>\n",
       "    <tr style=\"text-align: right;\">\n",
       "      <th></th>\n",
       "      <th>volatile_acidity</th>\n",
       "      <th>citric_acid</th>\n",
       "      <th>residual_sugar</th>\n",
       "      <th>chlorides</th>\n",
       "      <th>pH</th>\n",
       "      <th>sulphates</th>\n",
       "      <th>alcohol</th>\n",
       "    </tr>\n",
       "  </thead>\n",
       "  <tbody>\n",
       "    <tr>\n",
       "      <th>2287</th>\n",
       "      <td>0.43</td>\n",
       "      <td>0.23</td>\n",
       "      <td>5.00</td>\n",
       "      <td>0.157</td>\n",
       "      <td>3.17</td>\n",
       "      <td>0.49</td>\n",
       "      <td>9.4</td>\n",
       "    </tr>\n",
       "    <tr>\n",
       "      <th>2300</th>\n",
       "      <td>0.30</td>\n",
       "      <td>0.33</td>\n",
       "      <td>2.30</td>\n",
       "      <td>0.043</td>\n",
       "      <td>3.34</td>\n",
       "      <td>0.44</td>\n",
       "      <td>12.6</td>\n",
       "    </tr>\n",
       "    <tr>\n",
       "      <th>3591</th>\n",
       "      <td>0.28</td>\n",
       "      <td>0.36</td>\n",
       "      <td>1.30</td>\n",
       "      <td>0.053</td>\n",
       "      <td>3.31</td>\n",
       "      <td>0.45</td>\n",
       "      <td>10.8</td>\n",
       "    </tr>\n",
       "    <tr>\n",
       "      <th>3614</th>\n",
       "      <td>0.38</td>\n",
       "      <td>0.24</td>\n",
       "      <td>7.20</td>\n",
       "      <td>0.047</td>\n",
       "      <td>3.11</td>\n",
       "      <td>0.60</td>\n",
       "      <td>9.2</td>\n",
       "    </tr>\n",
       "    <tr>\n",
       "      <th>2634</th>\n",
       "      <td>0.31</td>\n",
       "      <td>0.73</td>\n",
       "      <td>14.35</td>\n",
       "      <td>0.044</td>\n",
       "      <td>2.96</td>\n",
       "      <td>0.88</td>\n",
       "      <td>8.7</td>\n",
       "    </tr>\n",
       "  </tbody>\n",
       "</table>\n",
       "</div>"
      ],
      "text/plain": [
       "      volatile_acidity  citric_acid  residual_sugar  chlorides    pH  \\\n",
       "2287              0.43         0.23            5.00      0.157  3.17   \n",
       "2300              0.30         0.33            2.30      0.043  3.34   \n",
       "3591              0.28         0.36            1.30      0.053  3.31   \n",
       "3614              0.38         0.24            7.20      0.047  3.11   \n",
       "2634              0.31         0.73           14.35      0.044  2.96   \n",
       "\n",
       "      sulphates  alcohol  \n",
       "2287       0.49      9.4  \n",
       "2300       0.44     12.6  \n",
       "3591       0.45     10.8  \n",
       "3614       0.60      9.2  \n",
       "2634       0.88      8.7  "
      ]
     },
     "execution_count": 116,
     "metadata": {},
     "output_type": "execute_result"
    }
   ],
   "source": [
    "ym5 = df.quality\n",
    "Xm5 = df.drop(['quality','density','total_sulfur_dioxide','free_sulfur_dioxide','fixed_acidity'],axis=1)\n",
    "from sklearn.model_selection import train_test_split\n",
    "Xm5_train, Xm5_test, ym5_train, ym5_test = train_test_split(Xm5, ym5, test_size=0.25, random_state=101)\n",
    "Xm5_train.head()\n",
    "\n",
    "\n"
   ]
  },
  {
   "cell_type": "code",
   "execution_count": 117,
   "metadata": {},
   "outputs": [
    {
     "data": {
      "text/plain": [
       "(3673, 7)"
      ]
     },
     "execution_count": 117,
     "metadata": {},
     "output_type": "execute_result"
    }
   ],
   "source": [
    "Xm5_train.shape"
   ]
  },
  {
   "cell_type": "code",
   "execution_count": 118,
   "metadata": {},
   "outputs": [
    {
     "name": "stdout",
     "output_type": "stream",
     "text": [
      "Estimated intercept coefficient: 1.6019105146305712\n",
      "Number of coefficients: 7\n"
     ]
    },
    {
     "data": {
      "text/html": [
       "<div>\n",
       "<style scoped>\n",
       "    .dataframe tbody tr th:only-of-type {\n",
       "        vertical-align: middle;\n",
       "    }\n",
       "\n",
       "    .dataframe tbody tr th {\n",
       "        vertical-align: top;\n",
       "    }\n",
       "\n",
       "    .dataframe thead th {\n",
       "        text-align: right;\n",
       "    }\n",
       "</style>\n",
       "<table border=\"1\" class=\"dataframe\">\n",
       "  <thead>\n",
       "    <tr style=\"text-align: right;\">\n",
       "      <th></th>\n",
       "      <th>Coefficient</th>\n",
       "    </tr>\n",
       "  </thead>\n",
       "  <tbody>\n",
       "    <tr>\n",
       "      <th>volatile_acidity</th>\n",
       "      <td>-2.068992</td>\n",
       "    </tr>\n",
       "    <tr>\n",
       "      <th>citric_acid</th>\n",
       "      <td>-0.135296</td>\n",
       "    </tr>\n",
       "    <tr>\n",
       "      <th>residual_sugar</th>\n",
       "      <td>0.027140</td>\n",
       "    </tr>\n",
       "    <tr>\n",
       "      <th>chlorides</th>\n",
       "      <td>-0.816996</td>\n",
       "    </tr>\n",
       "    <tr>\n",
       "      <th>pH</th>\n",
       "      <td>0.219374</td>\n",
       "    </tr>\n",
       "    <tr>\n",
       "      <th>sulphates</th>\n",
       "      <td>0.458582</td>\n",
       "    </tr>\n",
       "    <tr>\n",
       "      <th>alcohol</th>\n",
       "      <td>0.364972</td>\n",
       "    </tr>\n",
       "  </tbody>\n",
       "</table>\n",
       "</div>"
      ],
      "text/plain": [
       "                  Coefficient\n",
       "volatile_acidity    -2.068992\n",
       "citric_acid         -0.135296\n",
       "residual_sugar       0.027140\n",
       "chlorides           -0.816996\n",
       "pH                   0.219374\n",
       "sulphates            0.458582\n",
       "alcohol              0.364972"
      ]
     },
     "execution_count": 118,
     "metadata": {},
     "output_type": "execute_result"
    }
   ],
   "source": [
    "from sklearn.linear_model import LinearRegression\n",
    "lm5 = LinearRegression()\n",
    "lm5.fit(Xm5_train,ym5_train)\n",
    "print('Estimated intercept coefficient:',lm5.intercept_)\n",
    "print ('Number of coefficients:', len(lm5.coef_))\n",
    "coeffm5_df = pd.DataFrame(lm5.coef_,Xm5.columns,columns=['Coefficient'])\n",
    "coeffm5_df"
   ]
  },
  {
   "cell_type": "code",
   "execution_count": 119,
   "metadata": {},
   "outputs": [],
   "source": [
    "predictions_m5 = lm5.predict(Xm5_test)"
   ]
  },
  {
   "cell_type": "markdown",
   "metadata": {},
   "source": [
    "**Predicted vs. Actual**"
   ]
  },
  {
   "cell_type": "code",
   "execution_count": 120,
   "metadata": {},
   "outputs": [
    {
     "data": {
      "text/plain": [
       "<matplotlib.collections.PathCollection at 0x7fc654206820>"
      ]
     },
     "execution_count": 120,
     "metadata": {},
     "output_type": "execute_result"
    },
    {
     "data": {
      "image/png": "[encoded data removed]",
      "text/plain": [
       "<Figure size 432x288 with 1 Axes>"
      ]
     },
     "metadata": {},
     "output_type": "display_data"
    }
   ],
   "source": [
    "plt.scatter(ym5_test,predictions_m5)"
   ]
  },
  {
   "cell_type": "markdown",
   "metadata": {},
   "source": [
    "**Residual Histogram**"
   ]
  },
  {
   "cell_type": "code",
   "execution_count": 121,
   "metadata": {},
   "outputs": [
    {
     "data": {
      "image/png": "[encoded data removed]",
      "text/plain": [
       "<Figure size 432x288 with 1 Axes>"
      ]
     },
     "metadata": {},
     "output_type": "display_data"
    }
   ],
   "source": [
    "sns.distplot((ym5_test-predictions_m5),bins=50);"
   ]
  },
  {
   "cell_type": "code",
   "execution_count": 122,
   "metadata": {},
   "outputs": [
    {
     "name": "stdout",
     "output_type": "stream",
     "text": [
      "R-squared: 0.27090819031010827\n",
      "Mean Squared Error (MSE): 0.5845444542819584\n",
      "Root Mean Squared Error (RMSE): 0.7645550694894112\n",
      "Log Mean Squared Error: 0.012762438586606325\n",
      "Explained Variance: 0.2709164085838651\n",
      "Mean Absolute Error (MAE): 0.5961532245399979\n",
      "Median Absolute Error: 0.48955066660660496\n",
      "Poisson Deviance: 0.09994230032931806\n",
      "Mean Gamma Deviance: 0.017403392098669465\n"
     ]
    }
   ],
   "source": [
    "from sklearn import metrics\n",
    "print('R-squared:', metrics.r2_score(ym5_test, predictions_m5))\n",
    "print('Mean Squared Error (MSE):', metrics.mean_squared_error(ym5_test, predictions_m5))\n",
    "print('Root Mean Squared Error (RMSE):', np.sqrt(metrics.mean_squared_error(ym5_test, predictions_m5)))\n",
    "print('Log Mean Squared Error:', metrics.mean_squared_log_error(ym5_test, predictions_m5))\n",
    "print('Explained Variance:', metrics.explained_variance_score(ym5_test, predictions_m5))\n",
    "print('Mean Absolute Error (MAE):', metrics.mean_absolute_error(ym5_test, predictions_m5))\n",
    "print('Median Absolute Error:', metrics.median_absolute_error(ym5_test, predictions_m5))\n",
    "print('Poisson Deviance:', metrics.mean_poisson_deviance(ym5_test, predictions_m5))\n",
    "print('Mean Gamma Deviance:', metrics.mean_gamma_deviance(ym5_test, predictions_m5))\n",
    "\n"
   ]
  },
  {
   "cell_type": "markdown",
   "metadata": {},
   "source": [
    "\n",
    "## Model 6: Drop Residual Sugar\n",
    "\n"
   ]
  },
  {
   "cell_type": "code",
   "execution_count": 123,
   "metadata": {},
   "outputs": [
    {
     "data": {
      "text/html": [
       "<div>\n",
       "<style scoped>\n",
       "    .dataframe tbody tr th:only-of-type {\n",
       "        vertical-align: middle;\n",
       "    }\n",
       "\n",
       "    .dataframe tbody tr th {\n",
       "        vertical-align: top;\n",
       "    }\n",
       "\n",
       "    .dataframe thead th {\n",
       "        text-align: right;\n",
       "    }\n",
       "</style>\n",
       "<table border=\"1\" class=\"dataframe\">\n",
       "  <thead>\n",
       "    <tr style=\"text-align: right;\">\n",
       "      <th></th>\n",
       "      <th>volatile_acidity</th>\n",
       "      <th>citric_acid</th>\n",
       "      <th>chlorides</th>\n",
       "      <th>pH</th>\n",
       "      <th>sulphates</th>\n",
       "      <th>alcohol</th>\n",
       "    </tr>\n",
       "  </thead>\n",
       "  <tbody>\n",
       "    <tr>\n",
       "      <th>2287</th>\n",
       "      <td>0.43</td>\n",
       "      <td>0.23</td>\n",
       "      <td>0.157</td>\n",
       "      <td>3.17</td>\n",
       "      <td>0.49</td>\n",
       "      <td>9.4</td>\n",
       "    </tr>\n",
       "    <tr>\n",
       "      <th>2300</th>\n",
       "      <td>0.30</td>\n",
       "      <td>0.33</td>\n",
       "      <td>0.043</td>\n",
       "      <td>3.34</td>\n",
       "      <td>0.44</td>\n",
       "      <td>12.6</td>\n",
       "    </tr>\n",
       "    <tr>\n",
       "      <th>3591</th>\n",
       "      <td>0.28</td>\n",
       "      <td>0.36</td>\n",
       "      <td>0.053</td>\n",
       "      <td>3.31</td>\n",
       "      <td>0.45</td>\n",
       "      <td>10.8</td>\n",
       "    </tr>\n",
       "    <tr>\n",
       "      <th>3614</th>\n",
       "      <td>0.38</td>\n",
       "      <td>0.24</td>\n",
       "      <td>0.047</td>\n",
       "      <td>3.11</td>\n",
       "      <td>0.60</td>\n",
       "      <td>9.2</td>\n",
       "    </tr>\n",
       "    <tr>\n",
       "      <th>2634</th>\n",
       "      <td>0.31</td>\n",
       "      <td>0.73</td>\n",
       "      <td>0.044</td>\n",
       "      <td>2.96</td>\n",
       "      <td>0.88</td>\n",
       "      <td>8.7</td>\n",
       "    </tr>\n",
       "  </tbody>\n",
       "</table>\n",
       "</div>"
      ],
      "text/plain": [
       "      volatile_acidity  citric_acid  chlorides    pH  sulphates  alcohol\n",
       "2287              0.43         0.23      0.157  3.17       0.49      9.4\n",
       "2300              0.30         0.33      0.043  3.34       0.44     12.6\n",
       "3591              0.28         0.36      0.053  3.31       0.45     10.8\n",
       "3614              0.38         0.24      0.047  3.11       0.60      9.2\n",
       "2634              0.31         0.73      0.044  2.96       0.88      8.7"
      ]
     },
     "execution_count": 123,
     "metadata": {},
     "output_type": "execute_result"
    }
   ],
   "source": [
    "ym6 = df.quality\n",
    "Xm6 = df.drop(['quality','density','total_sulfur_dioxide','free_sulfur_dioxide','fixed_acidity','residual_sugar'],axis=1)\n",
    "from sklearn.model_selection import train_test_split\n",
    "Xm6_train, Xm6_test, ym6_train, ym6_test = train_test_split(Xm6, ym6, test_size=0.25, random_state=101)\n",
    "Xm6_train.head()\n"
   ]
  },
  {
   "cell_type": "code",
   "execution_count": 124,
   "metadata": {},
   "outputs": [
    {
     "data": {
      "text/plain": [
       "(3673, 6)"
      ]
     },
     "execution_count": 124,
     "metadata": {},
     "output_type": "execute_result"
    }
   ],
   "source": [
    "Xm6_train.shape"
   ]
  },
  {
   "cell_type": "code",
   "execution_count": 125,
   "metadata": {},
   "outputs": [
    {
     "name": "stdout",
     "output_type": "stream",
     "text": [
      "Estimated intercept coefficient: 2.6788909686910563\n",
      "Number of coefficients: 6\n"
     ]
    },
    {
     "data": {
      "text/html": [
       "<div>\n",
       "<style scoped>\n",
       "    .dataframe tbody tr th:only-of-type {\n",
       "        vertical-align: middle;\n",
       "    }\n",
       "\n",
       "    .dataframe tbody tr th {\n",
       "        vertical-align: top;\n",
       "    }\n",
       "\n",
       "    .dataframe thead th {\n",
       "        text-align: right;\n",
       "    }\n",
       "</style>\n",
       "<table border=\"1\" class=\"dataframe\">\n",
       "  <thead>\n",
       "    <tr style=\"text-align: right;\">\n",
       "      <th></th>\n",
       "      <th>Coefficient</th>\n",
       "    </tr>\n",
       "  </thead>\n",
       "  <tbody>\n",
       "    <tr>\n",
       "      <th>volatile_acidity</th>\n",
       "      <td>-1.911859</td>\n",
       "    </tr>\n",
       "    <tr>\n",
       "      <th>citric_acid</th>\n",
       "      <td>-0.066083</td>\n",
       "    </tr>\n",
       "    <tr>\n",
       "      <th>chlorides</th>\n",
       "      <td>-1.449114</td>\n",
       "    </tr>\n",
       "    <tr>\n",
       "      <th>pH</th>\n",
       "      <td>0.102342</td>\n",
       "    </tr>\n",
       "    <tr>\n",
       "      <th>sulphates</th>\n",
       "      <td>0.436522</td>\n",
       "    </tr>\n",
       "    <tr>\n",
       "      <th>alcohol</th>\n",
       "      <td>0.312082</td>\n",
       "    </tr>\n",
       "  </tbody>\n",
       "</table>\n",
       "</div>"
      ],
      "text/plain": [
       "                  Coefficient\n",
       "volatile_acidity    -1.911859\n",
       "citric_acid         -0.066083\n",
       "chlorides           -1.449114\n",
       "pH                   0.102342\n",
       "sulphates            0.436522\n",
       "alcohol              0.312082"
      ]
     },
     "execution_count": 125,
     "metadata": {},
     "output_type": "execute_result"
    }
   ],
   "source": [
    "from sklearn.linear_model import LinearRegression\n",
    "lm6 = LinearRegression()\n",
    "lm6.fit(Xm6_train,ym6_train)\n",
    "print('Estimated intercept coefficient:',lm6.intercept_)\n",
    "print ('Number of coefficients:', len(lm6.coef_))\n",
    "coeffm6_df = pd.DataFrame(lm6.coef_,Xm6.columns,columns=['Coefficient'])\n",
    "coeffm6_df\n"
   ]
  },
  {
   "cell_type": "code",
   "execution_count": 126,
   "metadata": {},
   "outputs": [],
   "source": [
    "predictions_m6 = lm6.predict(Xm6_test)"
   ]
  },
  {
   "cell_type": "markdown",
   "metadata": {},
   "source": [
    "**Predicted vs. Actual**"
   ]
  },
  {
   "cell_type": "code",
   "execution_count": 127,
   "metadata": {},
   "outputs": [
    {
     "data": {
      "text/plain": [
       "<matplotlib.collections.PathCollection at 0x7fc6569a5c70>"
      ]
     },
     "execution_count": 127,
     "metadata": {},
     "output_type": "execute_result"
    },
    {
     "data": {
      "image/png": "[encoded data removed]",
      "text/plain": [
       "<Figure size 432x288 with 1 Axes>"
      ]
     },
     "metadata": {},
     "output_type": "display_data"
    }
   ],
   "source": [
    "plt.scatter(ym6_test,predictions_m6)"
   ]
  },
  {
   "cell_type": "markdown",
   "metadata": {},
   "source": [
    "**Residual Histogram**"
   ]
  },
  {
   "cell_type": "code",
   "execution_count": 128,
   "metadata": {},
   "outputs": [
    {
     "data": {
      "image/png": "[encoded data removed]",
      "text/plain": [
       "<Figure size 432x288 with 1 Axes>"
      ]
     },
     "metadata": {},
     "output_type": "display_data"
    }
   ],
   "source": [
    "sns.distplot((ym6_test-predictions_m6),bins=50);"
   ]
  },
  {
   "cell_type": "code",
   "execution_count": 129,
   "metadata": {},
   "outputs": [
    {
     "name": "stdout",
     "output_type": "stream",
     "text": [
      "R-squared: 0.24681211000342873\n",
      "Mean Squared Error (MSE): 0.6038633245888312\n",
      "Root Mean Squared Error (RMSE): 0.7770864331519571\n",
      "Log Mean Squared Error: 0.013239739394785685\n",
      "Explained Variance: 0.24689573490258032\n",
      "Mean Absolute Error (MAE): 0.6053745754368878\n",
      "Median Absolute Error: 0.489449205259584\n",
      "Poisson Deviance: 0.10341057018076752\n",
      "Mean Gamma Deviance: 0.01802585302425359\n"
     ]
    }
   ],
   "source": [
    "from sklearn import metrics\n",
    "print('R-squared:', metrics.r2_score(ym6_test, predictions_m6))\n",
    "print('Mean Squared Error (MSE):', metrics.mean_squared_error(ym6_test, predictions_m6))\n",
    "print('Root Mean Squared Error (RMSE):', np.sqrt(metrics.mean_squared_error(ym6_test, predictions_m6)))\n",
    "print('Log Mean Squared Error:', metrics.mean_squared_log_error(ym6_test, predictions_m6))\n",
    "print('Explained Variance:', metrics.explained_variance_score(ym6_test, predictions_m6))\n",
    "print('Mean Absolute Error (MAE):', metrics.mean_absolute_error(ym6_test, predictions_m6))\n",
    "print('Median Absolute Error:', metrics.median_absolute_error(ym6_test, predictions_m6))\n",
    "print('Poisson Deviance:', metrics.mean_poisson_deviance(ym6_test, predictions_m6))\n",
    "print('Mean Gamma Deviance:', metrics.mean_gamma_deviance(ym6_test, predictions_m6))\n",
    "\n"
   ]
  },
  {
   "cell_type": "markdown",
   "metadata": {},
   "source": [
    "## Model 7: Drop Citric Acid"
   ]
  },
  {
   "cell_type": "code",
   "execution_count": 130,
   "metadata": {},
   "outputs": [
    {
     "data": {
      "text/html": [
       "<div>\n",
       "<style scoped>\n",
       "    .dataframe tbody tr th:only-of-type {\n",
       "        vertical-align: middle;\n",
       "    }\n",
       "\n",
       "    .dataframe tbody tr th {\n",
       "        vertical-align: top;\n",
       "    }\n",
       "\n",
       "    .dataframe thead th {\n",
       "        text-align: right;\n",
       "    }\n",
       "</style>\n",
       "<table border=\"1\" class=\"dataframe\">\n",
       "  <thead>\n",
       "    <tr style=\"text-align: right;\">\n",
       "      <th></th>\n",
       "      <th>volatile_acidity</th>\n",
       "      <th>chlorides</th>\n",
       "      <th>pH</th>\n",
       "      <th>sulphates</th>\n",
       "      <th>alcohol</th>\n",
       "    </tr>\n",
       "  </thead>\n",
       "  <tbody>\n",
       "    <tr>\n",
       "      <th>2287</th>\n",
       "      <td>0.43</td>\n",
       "      <td>0.157</td>\n",
       "      <td>3.17</td>\n",
       "      <td>0.49</td>\n",
       "      <td>9.4</td>\n",
       "    </tr>\n",
       "    <tr>\n",
       "      <th>2300</th>\n",
       "      <td>0.30</td>\n",
       "      <td>0.043</td>\n",
       "      <td>3.34</td>\n",
       "      <td>0.44</td>\n",
       "      <td>12.6</td>\n",
       "    </tr>\n",
       "    <tr>\n",
       "      <th>3591</th>\n",
       "      <td>0.28</td>\n",
       "      <td>0.053</td>\n",
       "      <td>3.31</td>\n",
       "      <td>0.45</td>\n",
       "      <td>10.8</td>\n",
       "    </tr>\n",
       "    <tr>\n",
       "      <th>3614</th>\n",
       "      <td>0.38</td>\n",
       "      <td>0.047</td>\n",
       "      <td>3.11</td>\n",
       "      <td>0.60</td>\n",
       "      <td>9.2</td>\n",
       "    </tr>\n",
       "    <tr>\n",
       "      <th>2634</th>\n",
       "      <td>0.31</td>\n",
       "      <td>0.044</td>\n",
       "      <td>2.96</td>\n",
       "      <td>0.88</td>\n",
       "      <td>8.7</td>\n",
       "    </tr>\n",
       "  </tbody>\n",
       "</table>\n",
       "</div>"
      ],
      "text/plain": [
       "      volatile_acidity  chlorides    pH  sulphates  alcohol\n",
       "2287              0.43      0.157  3.17       0.49      9.4\n",
       "2300              0.30      0.043  3.34       0.44     12.6\n",
       "3591              0.28      0.053  3.31       0.45     10.8\n",
       "3614              0.38      0.047  3.11       0.60      9.2\n",
       "2634              0.31      0.044  2.96       0.88      8.7"
      ]
     },
     "execution_count": 130,
     "metadata": {},
     "output_type": "execute_result"
    }
   ],
   "source": [
    "ym7 = df.quality\n",
    "Xm7 = df.drop(['quality','density','total_sulfur_dioxide','free_sulfur_dioxide','fixed_acidity','residual_sugar','citric_acid'],axis=1)\n",
    "from sklearn.model_selection import train_test_split\n",
    "Xm7_train, Xm7_test, ym7_train, ym7_test = train_test_split(Xm7, ym7, test_size=0.25, random_state=101)\n",
    "Xm7_train.head()\n"
   ]
  },
  {
   "cell_type": "code",
   "execution_count": 131,
   "metadata": {},
   "outputs": [
    {
     "data": {
      "text/plain": [
       "(3673, 5)"
      ]
     },
     "execution_count": 131,
     "metadata": {},
     "output_type": "execute_result"
    }
   ],
   "source": [
    "Xm7_train.shape"
   ]
  },
  {
   "cell_type": "code",
   "execution_count": 132,
   "metadata": {},
   "outputs": [
    {
     "name": "stdout",
     "output_type": "stream",
     "text": [
      "Estimated intercept coefficient: 2.6275204385725583\n",
      "Number of coefficients: 5\n"
     ]
    },
    {
     "data": {
      "text/html": [
       "<div>\n",
       "<style scoped>\n",
       "    .dataframe tbody tr th:only-of-type {\n",
       "        vertical-align: middle;\n",
       "    }\n",
       "\n",
       "    .dataframe tbody tr th {\n",
       "        vertical-align: top;\n",
       "    }\n",
       "\n",
       "    .dataframe thead th {\n",
       "        text-align: right;\n",
       "    }\n",
       "</style>\n",
       "<table border=\"1\" class=\"dataframe\">\n",
       "  <thead>\n",
       "    <tr style=\"text-align: right;\">\n",
       "      <th></th>\n",
       "      <th>Coefficient</th>\n",
       "    </tr>\n",
       "  </thead>\n",
       "  <tbody>\n",
       "    <tr>\n",
       "      <th>volatile_acidity</th>\n",
       "      <td>-1.898693</td>\n",
       "    </tr>\n",
       "    <tr>\n",
       "      <th>chlorides</th>\n",
       "      <td>-1.482716</td>\n",
       "    </tr>\n",
       "    <tr>\n",
       "      <th>pH</th>\n",
       "      <td>0.111604</td>\n",
       "    </tr>\n",
       "    <tr>\n",
       "      <th>sulphates</th>\n",
       "      <td>0.430672</td>\n",
       "    </tr>\n",
       "    <tr>\n",
       "      <th>alcohol</th>\n",
       "      <td>0.312137</td>\n",
       "    </tr>\n",
       "  </tbody>\n",
       "</table>\n",
       "</div>"
      ],
      "text/plain": [
       "                  Coefficient\n",
       "volatile_acidity    -1.898693\n",
       "chlorides           -1.482716\n",
       "pH                   0.111604\n",
       "sulphates            0.430672\n",
       "alcohol              0.312137"
      ]
     },
     "execution_count": 132,
     "metadata": {},
     "output_type": "execute_result"
    }
   ],
   "source": [
    "from sklearn.linear_model import LinearRegression\n",
    "lm7 = LinearRegression()\n",
    "lm7.fit(Xm7_train,ym7_train)\n",
    "print('Estimated intercept coefficient:',lm7.intercept_)\n",
    "print ('Number of coefficients:', len(lm7.coef_))\n",
    "coeffm7_df = pd.DataFrame(lm7.coef_,Xm7.columns,columns=['Coefficient'])\n",
    "coeffm7_df"
   ]
  },
  {
   "cell_type": "code",
   "execution_count": 133,
   "metadata": {},
   "outputs": [],
   "source": [
    "predictions_m7 = lm7.predict(Xm7_test)"
   ]
  },
  {
   "cell_type": "markdown",
   "metadata": {},
   "source": [
    "**Predicted vs. Actual**"
   ]
  },
  {
   "cell_type": "code",
   "execution_count": 134,
   "metadata": {},
   "outputs": [
    {
     "data": {
      "text/plain": [
       "<matplotlib.collections.PathCollection at 0x7fc652a83a90>"
      ]
     },
     "execution_count": 134,
     "metadata": {},
     "output_type": "execute_result"
    },
    {
     "data": {
      "image/png": "[encoded data removed]",
      "text/plain": [
       "<Figure size 432x288 with 1 Axes>"
      ]
     },
     "metadata": {},
     "output_type": "display_data"
    }
   ],
   "source": [
    "plt.scatter(ym7_test,predictions_m7)"
   ]
  },
  {
   "cell_type": "markdown",
   "metadata": {},
   "source": [
    "**Residual Histogram**"
   ]
  },
  {
   "cell_type": "code",
   "execution_count": 135,
   "metadata": {},
   "outputs": [
    {
     "data": {
      "image/png": "[encoded data removed]",
      "text/plain": [
       "<Figure size 432x288 with 1 Axes>"
      ]
     },
     "metadata": {},
     "output_type": "display_data"
    }
   ],
   "source": [
    "sns.distplot((ym7_test-predictions_m7),bins=50);"
   ]
  },
  {
   "cell_type": "code",
   "execution_count": 136,
   "metadata": {},
   "outputs": [
    {
     "name": "stdout",
     "output_type": "stream",
     "text": [
      "R-squared: 0.24709891109735438\n",
      "Mean Squared Error (MSE): 0.6036333837409049\n",
      "Root Mean Squared Error (RMSE): 0.7769384684393642\n",
      "Log Mean Squared Error: 0.013234989826494629\n",
      "Explained Variance: 0.24718897587223843\n",
      "Mean Absolute Error (MAE): 0.6055662259325575\n",
      "Median Absolute Error: 0.49206695528555144\n",
      "Poisson Deviance: 0.10337357501833\n",
      "Mean Gamma Deviance: 0.01801987038429321\n"
     ]
    }
   ],
   "source": [
    "from sklearn import metrics\n",
    "print('R-squared:', metrics.r2_score(ym7_test, predictions_m7))\n",
    "print('Mean Squared Error (MSE):', metrics.mean_squared_error(ym7_test, predictions_m7))\n",
    "print('Root Mean Squared Error (RMSE):', np.sqrt(metrics.mean_squared_error(ym7_test, predictions_m7)))\n",
    "print('Log Mean Squared Error:', metrics.mean_squared_log_error(ym7_test, predictions_m7))\n",
    "print('Explained Variance:', metrics.explained_variance_score(ym7_test, predictions_m7))\n",
    "print('Mean Absolute Error (MAE):', metrics.mean_absolute_error(ym7_test, predictions_m7))\n",
    "print('Median Absolute Error:', metrics.median_absolute_error(ym7_test, predictions_m7))\n",
    "print('Poisson Deviance:', metrics.mean_poisson_deviance(ym7_test, predictions_m7))\n",
    "print('Mean Gamma Deviance:', metrics.mean_gamma_deviance(ym7_test, predictions_m7))\n"
   ]
  },
  {
   "cell_type": "markdown",
   "metadata": {},
   "source": [
    "## Model 8: Drop Alcohol"
   ]
  },
  {
   "cell_type": "code",
   "execution_count": 137,
   "metadata": {},
   "outputs": [
    {
     "data": {
      "text/html": [
       "<div>\n",
       "<style scoped>\n",
       "    .dataframe tbody tr th:only-of-type {\n",
       "        vertical-align: middle;\n",
       "    }\n",
       "\n",
       "    .dataframe tbody tr th {\n",
       "        vertical-align: top;\n",
       "    }\n",
       "\n",
       "    .dataframe thead th {\n",
       "        text-align: right;\n",
       "    }\n",
       "</style>\n",
       "<table border=\"1\" class=\"dataframe\">\n",
       "  <thead>\n",
       "    <tr style=\"text-align: right;\">\n",
       "      <th></th>\n",
       "      <th>volatile_acidity</th>\n",
       "      <th>chlorides</th>\n",
       "      <th>pH</th>\n",
       "      <th>sulphates</th>\n",
       "    </tr>\n",
       "  </thead>\n",
       "  <tbody>\n",
       "    <tr>\n",
       "      <th>2287</th>\n",
       "      <td>0.43</td>\n",
       "      <td>0.157</td>\n",
       "      <td>3.17</td>\n",
       "      <td>0.49</td>\n",
       "    </tr>\n",
       "    <tr>\n",
       "      <th>2300</th>\n",
       "      <td>0.30</td>\n",
       "      <td>0.043</td>\n",
       "      <td>3.34</td>\n",
       "      <td>0.44</td>\n",
       "    </tr>\n",
       "    <tr>\n",
       "      <th>3591</th>\n",
       "      <td>0.28</td>\n",
       "      <td>0.053</td>\n",
       "      <td>3.31</td>\n",
       "      <td>0.45</td>\n",
       "    </tr>\n",
       "    <tr>\n",
       "      <th>3614</th>\n",
       "      <td>0.38</td>\n",
       "      <td>0.047</td>\n",
       "      <td>3.11</td>\n",
       "      <td>0.60</td>\n",
       "    </tr>\n",
       "    <tr>\n",
       "      <th>2634</th>\n",
       "      <td>0.31</td>\n",
       "      <td>0.044</td>\n",
       "      <td>2.96</td>\n",
       "      <td>0.88</td>\n",
       "    </tr>\n",
       "  </tbody>\n",
       "</table>\n",
       "</div>"
      ],
      "text/plain": [
       "      volatile_acidity  chlorides    pH  sulphates\n",
       "2287              0.43      0.157  3.17       0.49\n",
       "2300              0.30      0.043  3.34       0.44\n",
       "3591              0.28      0.053  3.31       0.45\n",
       "3614              0.38      0.047  3.11       0.60\n",
       "2634              0.31      0.044  2.96       0.88"
      ]
     },
     "execution_count": 137,
     "metadata": {},
     "output_type": "execute_result"
    }
   ],
   "source": [
    "ym8 = df.quality\n",
    "Xm8 = df.drop(['quality','density','total_sulfur_dioxide','free_sulfur_dioxide','fixed_acidity','residual_sugar','citric_acid','alcohol'],axis=1)\n",
    "from sklearn.model_selection import train_test_split\n",
    "Xm8_train, Xm8_test, ym8_train, ym8_test = train_test_split(Xm8, ym8, test_size=0.25, random_state=101)\n",
    "Xm8_train.head()"
   ]
  },
  {
   "cell_type": "code",
   "execution_count": 138,
   "metadata": {},
   "outputs": [
    {
     "data": {
      "text/plain": [
       "(3673, 4)"
      ]
     },
     "execution_count": 138,
     "metadata": {},
     "output_type": "execute_result"
    }
   ],
   "source": [
    "Xm8_train.shape"
   ]
  },
  {
   "cell_type": "code",
   "execution_count": 139,
   "metadata": {},
   "outputs": [
    {
     "name": "stdout",
     "output_type": "stream",
     "text": [
      "Estimated intercept coefficient: 5.38975028402615\n",
      "Number of coefficients: 4\n"
     ]
    },
    {
     "data": {
      "text/html": [
       "<div>\n",
       "<style scoped>\n",
       "    .dataframe tbody tr th:only-of-type {\n",
       "        vertical-align: middle;\n",
       "    }\n",
       "\n",
       "    .dataframe tbody tr th {\n",
       "        vertical-align: top;\n",
       "    }\n",
       "\n",
       "    .dataframe thead th {\n",
       "        text-align: right;\n",
       "    }\n",
       "</style>\n",
       "<table border=\"1\" class=\"dataframe\">\n",
       "  <thead>\n",
       "    <tr style=\"text-align: right;\">\n",
       "      <th></th>\n",
       "      <th>Coefficient</th>\n",
       "    </tr>\n",
       "  </thead>\n",
       "  <tbody>\n",
       "    <tr>\n",
       "      <th>volatile_acidity</th>\n",
       "      <td>-1.521581</td>\n",
       "    </tr>\n",
       "    <tr>\n",
       "      <th>chlorides</th>\n",
       "      <td>-7.918050</td>\n",
       "    </tr>\n",
       "    <tr>\n",
       "      <th>pH</th>\n",
       "      <td>0.349199</td>\n",
       "    </tr>\n",
       "    <tr>\n",
       "      <th>sulphates</th>\n",
       "      <td>0.338893</td>\n",
       "    </tr>\n",
       "  </tbody>\n",
       "</table>\n",
       "</div>"
      ],
      "text/plain": [
       "                  Coefficient\n",
       "volatile_acidity    -1.521581\n",
       "chlorides           -7.918050\n",
       "pH                   0.349199\n",
       "sulphates            0.338893"
      ]
     },
     "execution_count": 139,
     "metadata": {},
     "output_type": "execute_result"
    }
   ],
   "source": [
    "from sklearn.linear_model import LinearRegression\n",
    "lm8 = LinearRegression()\n",
    "lm8.fit(Xm8_train,ym8_train)\n",
    "print('Estimated intercept coefficient:',lm8.intercept_)\n",
    "print ('Number of coefficients:', len(lm8.coef_))\n",
    "coeffm8_df = pd.DataFrame(lm8.coef_,Xm8.columns,columns=['Coefficient'])\n",
    "coeffm8_df"
   ]
  },
  {
   "cell_type": "code",
   "execution_count": 140,
   "metadata": {},
   "outputs": [],
   "source": [
    "predictions_m8 = lm8.predict(Xm8_test)"
   ]
  },
  {
   "cell_type": "markdown",
   "metadata": {},
   "source": [
    "**Predicted vs. Actual**"
   ]
  },
  {
   "cell_type": "code",
   "execution_count": 141,
   "metadata": {},
   "outputs": [
    {
     "data": {
      "text/plain": [
       "<matplotlib.collections.PathCollection at 0x7fc6546dd670>"
      ]
     },
     "execution_count": 141,
     "metadata": {},
     "output_type": "execute_result"
    },
    {
     "data": {
      "image/png": "[encoded data removed]",
      "text/plain": [
       "<Figure size 432x288 with 1 Axes>"
      ]
     },
     "metadata": {},
     "output_type": "display_data"
    }
   ],
   "source": [
    "plt.scatter(ym8_test,predictions_m8)"
   ]
  },
  {
   "cell_type": "markdown",
   "metadata": {},
   "source": [
    "**Residual Histogram**"
   ]
  },
  {
   "cell_type": "code",
   "execution_count": 142,
   "metadata": {},
   "outputs": [
    {
     "data": {
      "image/png": "[encoded data removed]",
      "text/plain": [
       "<Figure size 432x288 with 1 Axes>"
      ]
     },
     "metadata": {},
     "output_type": "display_data"
    }
   ],
   "source": [
    "sns.distplot((ym8_test-predictions_m8),bins=50);"
   ]
  },
  {
   "cell_type": "code",
   "execution_count": 143,
   "metadata": {},
   "outputs": [
    {
     "name": "stdout",
     "output_type": "stream",
     "text": [
      "R-squared: 0.08991527166544455\n",
      "Mean Squared Error (MSE): 0.7296543093810627\n",
      "Root Mean Squared Error (RMSE): 0.8541980504432579\n",
      "Log Mean Squared Error: 0.016065544692430607\n",
      "Explained Variance: 0.09049503549612081\n",
      "Mean Absolute Error (MAE): 0.6406116938179214\n",
      "Median Absolute Error: 0.6687454695785702\n",
      "Poisson Deviance: 0.12538746858159291\n",
      "Mean Gamma Deviance: 0.02189750310065115\n"
     ]
    }
   ],
   "source": [
    "from sklearn import metrics\n",
    "print('R-squared:', metrics.r2_score(ym8_test, predictions_m8))\n",
    "print('Mean Squared Error (MSE):', metrics.mean_squared_error(ym8_test, predictions_m8))\n",
    "print('Root Mean Squared Error (RMSE):', np.sqrt(metrics.mean_squared_error(ym8_test, predictions_m8)))\n",
    "print('Log Mean Squared Error:', metrics.mean_squared_log_error(ym8_test, predictions_m8))\n",
    "print('Explained Variance:', metrics.explained_variance_score(ym8_test, predictions_m8))\n",
    "print('Mean Absolute Error (MAE):', metrics.mean_absolute_error(ym8_test, predictions_m8))\n",
    "print('Median Absolute Error:', metrics.median_absolute_error(ym8_test, predictions_m8))\n",
    "print('Poisson Deviance:', metrics.mean_poisson_deviance(ym8_test, predictions_m8))\n",
    "print('Mean Gamma Deviance:', metrics.mean_gamma_deviance(ym8_test, predictions_m8))\n"
   ]
  },
  {
   "cell_type": "markdown",
   "metadata": {},
   "source": [
    "## Model 9: Drop pH"
   ]
  },
  {
   "cell_type": "code",
   "execution_count": 144,
   "metadata": {
    "scrolled": true
   },
   "outputs": [
    {
     "data": {
      "text/html": [
       "<div>\n",
       "<style scoped>\n",
       "    .dataframe tbody tr th:only-of-type {\n",
       "        vertical-align: middle;\n",
       "    }\n",
       "\n",
       "    .dataframe tbody tr th {\n",
       "        vertical-align: top;\n",
       "    }\n",
       "\n",
       "    .dataframe thead th {\n",
       "        text-align: right;\n",
       "    }\n",
       "</style>\n",
       "<table border=\"1\" class=\"dataframe\">\n",
       "  <thead>\n",
       "    <tr style=\"text-align: right;\">\n",
       "      <th></th>\n",
       "      <th>volatile_acidity</th>\n",
       "      <th>chlorides</th>\n",
       "      <th>sulphates</th>\n",
       "    </tr>\n",
       "  </thead>\n",
       "  <tbody>\n",
       "    <tr>\n",
       "      <th>2287</th>\n",
       "      <td>0.43</td>\n",
       "      <td>0.157</td>\n",
       "      <td>0.49</td>\n",
       "    </tr>\n",
       "    <tr>\n",
       "      <th>2300</th>\n",
       "      <td>0.30</td>\n",
       "      <td>0.043</td>\n",
       "      <td>0.44</td>\n",
       "    </tr>\n",
       "    <tr>\n",
       "      <th>3591</th>\n",
       "      <td>0.28</td>\n",
       "      <td>0.053</td>\n",
       "      <td>0.45</td>\n",
       "    </tr>\n",
       "    <tr>\n",
       "      <th>3614</th>\n",
       "      <td>0.38</td>\n",
       "      <td>0.047</td>\n",
       "      <td>0.60</td>\n",
       "    </tr>\n",
       "    <tr>\n",
       "      <th>2634</th>\n",
       "      <td>0.31</td>\n",
       "      <td>0.044</td>\n",
       "      <td>0.88</td>\n",
       "    </tr>\n",
       "  </tbody>\n",
       "</table>\n",
       "</div>"
      ],
      "text/plain": [
       "      volatile_acidity  chlorides  sulphates\n",
       "2287              0.43      0.157       0.49\n",
       "2300              0.30      0.043       0.44\n",
       "3591              0.28      0.053       0.45\n",
       "3614              0.38      0.047       0.60\n",
       "2634              0.31      0.044       0.88"
      ]
     },
     "execution_count": 144,
     "metadata": {},
     "output_type": "execute_result"
    }
   ],
   "source": [
    "ym9 = df.quality\n",
    "Xm9 = df.drop(['quality','density','total_sulfur_dioxide','free_sulfur_dioxide','fixed_acidity','residual_sugar','citric_acid','alcohol','pH'],axis=1)\n",
    "from sklearn.model_selection import train_test_split\n",
    "Xm9_train, Xm9_test, ym9_train, ym9_test = train_test_split(Xm9, ym9, test_size=0.25, random_state=101)\n",
    "Xm9_train.head()\n"
   ]
  },
  {
   "cell_type": "code",
   "execution_count": 145,
   "metadata": {},
   "outputs": [
    {
     "data": {
      "text/plain": [
       "(3673, 3)"
      ]
     },
     "execution_count": 145,
     "metadata": {},
     "output_type": "execute_result"
    }
   ],
   "source": [
    "Xm9_train.shape"
   ]
  },
  {
   "cell_type": "code",
   "execution_count": 146,
   "metadata": {},
   "outputs": [
    {
     "name": "stdout",
     "output_type": "stream",
     "text": [
      "Estimated intercept coefficient: 6.480874773732867\n",
      "Number of coefficients: 3\n"
     ]
    },
    {
     "data": {
      "text/html": [
       "<div>\n",
       "<style scoped>\n",
       "    .dataframe tbody tr th:only-of-type {\n",
       "        vertical-align: middle;\n",
       "    }\n",
       "\n",
       "    .dataframe tbody tr th {\n",
       "        vertical-align: top;\n",
       "    }\n",
       "\n",
       "    .dataframe thead th {\n",
       "        text-align: right;\n",
       "    }\n",
       "</style>\n",
       "<table border=\"1\" class=\"dataframe\">\n",
       "  <thead>\n",
       "    <tr style=\"text-align: right;\">\n",
       "      <th></th>\n",
       "      <th>Coefficient</th>\n",
       "    </tr>\n",
       "  </thead>\n",
       "  <tbody>\n",
       "    <tr>\n",
       "      <th>volatile_acidity</th>\n",
       "      <td>-1.533369</td>\n",
       "    </tr>\n",
       "    <tr>\n",
       "      <th>chlorides</th>\n",
       "      <td>-8.150831</td>\n",
       "    </tr>\n",
       "    <tr>\n",
       "      <th>sulphates</th>\n",
       "      <td>0.412238</td>\n",
       "    </tr>\n",
       "  </tbody>\n",
       "</table>\n",
       "</div>"
      ],
      "text/plain": [
       "                  Coefficient\n",
       "volatile_acidity    -1.533369\n",
       "chlorides           -8.150831\n",
       "sulphates            0.412238"
      ]
     },
     "execution_count": 146,
     "metadata": {},
     "output_type": "execute_result"
    }
   ],
   "source": [
    "from sklearn.linear_model import LinearRegression\n",
    "lm9 = LinearRegression()\n",
    "lm9.fit(Xm9_train,ym9_train)\n",
    "print('Estimated intercept coefficient:',lm9.intercept_)\n",
    "print ('Number of coefficients:', len(lm9.coef_))\n",
    "coeffm9_df = pd.DataFrame(lm9.coef_,Xm9.columns,columns=['Coefficient'])\n",
    "coeffm9_df\n"
   ]
  },
  {
   "cell_type": "code",
   "execution_count": 147,
   "metadata": {},
   "outputs": [],
   "source": [
    "predictions_m9 = lm9.predict(Xm9_test)"
   ]
  },
  {
   "cell_type": "markdown",
   "metadata": {},
   "source": [
    "**Predicted vs. Actual**"
   ]
  },
  {
   "cell_type": "code",
   "execution_count": 148,
   "metadata": {},
   "outputs": [
    {
     "data": {
      "text/plain": [
       "<matplotlib.collections.PathCollection at 0x7fc65284af10>"
      ]
     },
     "execution_count": 148,
     "metadata": {},
     "output_type": "execute_result"
    },
    {
     "data": {
      "image/png": "[encoded data removed]",
      "text/plain": [
       "<Figure size 432x288 with 1 Axes>"
      ]
     },
     "metadata": {},
     "output_type": "display_data"
    }
   ],
   "source": [
    "plt.scatter(ym9_test,predictions_m9)"
   ]
  },
  {
   "cell_type": "markdown",
   "metadata": {},
   "source": [
    "**Residual Histogram**"
   ]
  },
  {
   "cell_type": "code",
   "execution_count": 149,
   "metadata": {
    "scrolled": true
   },
   "outputs": [
    {
     "data": {
      "image/png": "[encoded data removed]",
      "text/plain": [
       "<Figure size 432x288 with 1 Axes>"
      ]
     },
     "metadata": {},
     "output_type": "display_data"
    }
   ],
   "source": [
    "sns.distplot((ym9_test-predictions_m9),bins=50);"
   ]
  },
  {
   "cell_type": "code",
   "execution_count": 150,
   "metadata": {},
   "outputs": [
    {
     "name": "stdout",
     "output_type": "stream",
     "text": [
      "R-squared: 0.08184116036074818\n",
      "Mean Squared Error (MSE): 0.7361276738101912\n",
      "Root Mean Squared Error (RMSE): 0.8579788306305647\n",
      "Log Mean Squared Error: 0.016198073051312795\n",
      "Explained Variance: 0.08237405977740564\n",
      "Mean Absolute Error (MAE): 0.6397752266155057\n",
      "Median Absolute Error: 0.6839374679615773\n",
      "Poisson Deviance: 0.1264933810202237\n",
      "Mean Gamma Deviance: 0.022090467015785518\n"
     ]
    }
   ],
   "source": [
    "from sklearn import metrics\n",
    "print('R-squared:', metrics.r2_score(ym9_test, predictions_m9))\n",
    "print('Mean Squared Error (MSE):', metrics.mean_squared_error(ym9_test, predictions_m9))\n",
    "print('Root Mean Squared Error (RMSE):', np.sqrt(metrics.mean_squared_error(ym9_test, predictions_m9)))\n",
    "print('Log Mean Squared Error:', metrics.mean_squared_log_error(ym9_test, predictions_m9))\n",
    "print('Explained Variance:', metrics.explained_variance_score(ym9_test, predictions_m9))\n",
    "print('Mean Absolute Error (MAE):', metrics.mean_absolute_error(ym9_test, predictions_m9))\n",
    "print('Median Absolute Error:', metrics.median_absolute_error(ym9_test, predictions_m9))\n",
    "print('Poisson Deviance:', metrics.mean_poisson_deviance(ym9_test, predictions_m9))\n",
    "print('Mean Gamma Deviance:', metrics.mean_gamma_deviance(ym9_test, predictions_m9))\n"
   ]
  },
  {
   "cell_type": "markdown",
   "metadata": {},
   "source": [
    "## Model 10: Drop Sulphates"
   ]
  },
  {
   "cell_type": "code",
   "execution_count": 151,
   "metadata": {},
   "outputs": [
    {
     "data": {
      "text/html": [
       "<div>\n",
       "<style scoped>\n",
       "    .dataframe tbody tr th:only-of-type {\n",
       "        vertical-align: middle;\n",
       "    }\n",
       "\n",
       "    .dataframe tbody tr th {\n",
       "        vertical-align: top;\n",
       "    }\n",
       "\n",
       "    .dataframe thead th {\n",
       "        text-align: right;\n",
       "    }\n",
       "</style>\n",
       "<table border=\"1\" class=\"dataframe\">\n",
       "  <thead>\n",
       "    <tr style=\"text-align: right;\">\n",
       "      <th></th>\n",
       "      <th>volatile_acidity</th>\n",
       "      <th>chlorides</th>\n",
       "    </tr>\n",
       "  </thead>\n",
       "  <tbody>\n",
       "    <tr>\n",
       "      <th>2287</th>\n",
       "      <td>0.43</td>\n",
       "      <td>0.157</td>\n",
       "    </tr>\n",
       "    <tr>\n",
       "      <th>2300</th>\n",
       "      <td>0.30</td>\n",
       "      <td>0.043</td>\n",
       "    </tr>\n",
       "    <tr>\n",
       "      <th>3591</th>\n",
       "      <td>0.28</td>\n",
       "      <td>0.053</td>\n",
       "    </tr>\n",
       "    <tr>\n",
       "      <th>3614</th>\n",
       "      <td>0.38</td>\n",
       "      <td>0.047</td>\n",
       "    </tr>\n",
       "    <tr>\n",
       "      <th>2634</th>\n",
       "      <td>0.31</td>\n",
       "      <td>0.044</td>\n",
       "    </tr>\n",
       "  </tbody>\n",
       "</table>\n",
       "</div>"
      ],
      "text/plain": [
       "      volatile_acidity  chlorides\n",
       "2287              0.43      0.157\n",
       "2300              0.30      0.043\n",
       "3591              0.28      0.053\n",
       "3614              0.38      0.047\n",
       "2634              0.31      0.044"
      ]
     },
     "execution_count": 151,
     "metadata": {},
     "output_type": "execute_result"
    }
   ],
   "source": [
    "ym10 = df.quality\n",
    "Xm10 = df.drop(['quality','density','total_sulfur_dioxide','free_sulfur_dioxide','fixed_acidity','residual_sugar','citric_acid','alcohol','pH','sulphates'],axis=1)\n",
    "from sklearn.model_selection import train_test_split\n",
    "Xm10_train, Xm10_test, ym10_train, ym10_test = train_test_split(Xm10, ym10, test_size=0.25, random_state=101)\n",
    "Xm10_train.head()\n"
   ]
  },
  {
   "cell_type": "code",
   "execution_count": 152,
   "metadata": {},
   "outputs": [
    {
     "data": {
      "text/plain": [
       "(3673, 2)"
      ]
     },
     "execution_count": 152,
     "metadata": {},
     "output_type": "execute_result"
    }
   ],
   "source": [
    "Xm10_train.shape"
   ]
  },
  {
   "cell_type": "code",
   "execution_count": 153,
   "metadata": {},
   "outputs": [
    {
     "name": "stdout",
     "output_type": "stream",
     "text": [
      "Estimated intercept coefficient: 6.686953520753141\n",
      "Number of coefficients: 2\n"
     ]
    },
    {
     "data": {
      "text/html": [
       "<div>\n",
       "<style scoped>\n",
       "    .dataframe tbody tr th:only-of-type {\n",
       "        vertical-align: middle;\n",
       "    }\n",
       "\n",
       "    .dataframe tbody tr th {\n",
       "        vertical-align: top;\n",
       "    }\n",
       "\n",
       "    .dataframe thead th {\n",
       "        text-align: right;\n",
       "    }\n",
       "</style>\n",
       "<table border=\"1\" class=\"dataframe\">\n",
       "  <thead>\n",
       "    <tr style=\"text-align: right;\">\n",
       "      <th></th>\n",
       "      <th>Coefficient</th>\n",
       "    </tr>\n",
       "  </thead>\n",
       "  <tbody>\n",
       "    <tr>\n",
       "      <th>volatile_acidity</th>\n",
       "      <td>-1.551828</td>\n",
       "    </tr>\n",
       "    <tr>\n",
       "      <th>chlorides</th>\n",
       "      <td>-8.132977</td>\n",
       "    </tr>\n",
       "  </tbody>\n",
       "</table>\n",
       "</div>"
      ],
      "text/plain": [
       "                  Coefficient\n",
       "volatile_acidity    -1.551828\n",
       "chlorides           -8.132977"
      ]
     },
     "execution_count": 153,
     "metadata": {},
     "output_type": "execute_result"
    }
   ],
   "source": [
    "from sklearn.linear_model import LinearRegression\n",
    "lm10 = LinearRegression()\n",
    "lm10.fit(Xm10_train,ym10_train)\n",
    "print('Estimated intercept coefficient:',lm10.intercept_)\n",
    "print ('Number of coefficients:', len(lm10.coef_))\n",
    "coeffm10_df = pd.DataFrame(lm10.coef_,Xm10.columns,columns=['Coefficient'])\n",
    "coeffm10_df"
   ]
  },
  {
   "cell_type": "code",
   "execution_count": 154,
   "metadata": {},
   "outputs": [],
   "source": [
    "predictions_m10 = lm10.predict(Xm10_test)"
   ]
  },
  {
   "cell_type": "markdown",
   "metadata": {},
   "source": [
    "**Predicted vs. Actual**"
   ]
  },
  {
   "cell_type": "code",
   "execution_count": 155,
   "metadata": {},
   "outputs": [
    {
     "data": {
      "text/plain": [
       "<matplotlib.collections.PathCollection at 0x7fc6376382e0>"
      ]
     },
     "execution_count": 155,
     "metadata": {},
     "output_type": "execute_result"
    },
    {
     "data": {
      "image/png": "[encoded data removed]",
      "text/plain": [
       "<Figure size 432x288 with 1 Axes>"
      ]
     },
     "metadata": {},
     "output_type": "display_data"
    }
   ],
   "source": [
    "plt.scatter(ym10_test,predictions_m10)"
   ]
  },
  {
   "cell_type": "markdown",
   "metadata": {},
   "source": [
    "**Residual Histogram**"
   ]
  },
  {
   "cell_type": "code",
   "execution_count": 156,
   "metadata": {
    "scrolled": true
   },
   "outputs": [
    {
     "data": {
      "image/png": "[encoded data removed]",
      "text/plain": [
       "<Figure size 432x288 with 1 Axes>"
      ]
     },
     "metadata": {},
     "output_type": "display_data"
    }
   ],
   "source": [
    "sns.distplot((ym10_test-predictions_m10),bins=50);"
   ]
  },
  {
   "cell_type": "code",
   "execution_count": 157,
   "metadata": {},
   "outputs": [
    {
     "name": "stdout",
     "output_type": "stream",
     "text": [
      "R-squared: 0.08010152236575996\n",
      "Mean Squared Error (MSE): 0.7375224168712347\n",
      "Root Mean Squared Error (RMSE): 0.8587912533737373\n",
      "Log Mean Squared Error: 0.016238800919236025\n",
      "Explained Variance: 0.08059930239075308\n",
      "Mean Absolute Error (MAE): 0.639900324311556\n",
      "Median Absolute Error: 0.6911748503611017\n",
      "Poisson Deviance: 0.1267277764085777\n",
      "Mean Gamma Deviance: 0.022131878083392512\n"
     ]
    }
   ],
   "source": [
    "from sklearn import metrics\n",
    "print('R-squared:', metrics.r2_score(ym10_test, predictions_m10))\n",
    "print('Mean Squared Error (MSE):', metrics.mean_squared_error(ym10_test, predictions_m10))\n",
    "print('Root Mean Squared Error (RMSE):', np.sqrt(metrics.mean_squared_error(ym10_test, predictions_m10)))\n",
    "print('Log Mean Squared Error:', metrics.mean_squared_log_error(ym10_test, predictions_m10))\n",
    "print('Explained Variance:', metrics.explained_variance_score(ym10_test, predictions_m10))\n",
    "print('Mean Absolute Error (MAE):', metrics.mean_absolute_error(ym10_test, predictions_m10))\n",
    "print('Median Absolute Error:', metrics.median_absolute_error(ym10_test, predictions_m10))\n",
    "print('Poisson Deviance:', metrics.mean_poisson_deviance(ym10_test, predictions_m10))\n",
    "print('Mean Gamma Deviance:', metrics.mean_gamma_deviance(ym10_test, predictions_m10))\n"
   ]
  },
  {
   "cell_type": "markdown",
   "metadata": {},
   "source": [
    "## Model 11: Drop Volatile Activity"
   ]
  },
  {
   "cell_type": "code",
   "execution_count": 158,
   "metadata": {},
   "outputs": [
    {
     "data": {
      "text/html": [
       "<div>\n",
       "<style scoped>\n",
       "    .dataframe tbody tr th:only-of-type {\n",
       "        vertical-align: middle;\n",
       "    }\n",
       "\n",
       "    .dataframe tbody tr th {\n",
       "        vertical-align: top;\n",
       "    }\n",
       "\n",
       "    .dataframe thead th {\n",
       "        text-align: right;\n",
       "    }\n",
       "</style>\n",
       "<table border=\"1\" class=\"dataframe\">\n",
       "  <thead>\n",
       "    <tr style=\"text-align: right;\">\n",
       "      <th></th>\n",
       "      <th>chlorides</th>\n",
       "    </tr>\n",
       "  </thead>\n",
       "  <tbody>\n",
       "    <tr>\n",
       "      <th>2287</th>\n",
       "      <td>0.157</td>\n",
       "    </tr>\n",
       "    <tr>\n",
       "      <th>2300</th>\n",
       "      <td>0.043</td>\n",
       "    </tr>\n",
       "    <tr>\n",
       "      <th>3591</th>\n",
       "      <td>0.053</td>\n",
       "    </tr>\n",
       "    <tr>\n",
       "      <th>3614</th>\n",
       "      <td>0.047</td>\n",
       "    </tr>\n",
       "    <tr>\n",
       "      <th>2634</th>\n",
       "      <td>0.044</td>\n",
       "    </tr>\n",
       "  </tbody>\n",
       "</table>\n",
       "</div>"
      ],
      "text/plain": [
       "      chlorides\n",
       "2287      0.157\n",
       "2300      0.043\n",
       "3591      0.053\n",
       "3614      0.047\n",
       "2634      0.044"
      ]
     },
     "execution_count": 158,
     "metadata": {},
     "output_type": "execute_result"
    }
   ],
   "source": [
    "ym11 = df.quality\n",
    "Xm11 = df.drop(['quality','density','total_sulfur_dioxide','free_sulfur_dioxide','fixed_acidity','residual_sugar','citric_acid','alcohol','pH','sulphates','volatile_acidity'],axis=1)\n",
    "from sklearn.model_selection import train_test_split\n",
    "Xm11_train, Xm11_test, ym11_train, ym11_test = train_test_split(Xm11, ym11, test_size=0.25, random_state=101)\n",
    "Xm11_train.head()\n"
   ]
  },
  {
   "cell_type": "code",
   "execution_count": 159,
   "metadata": {},
   "outputs": [
    {
     "data": {
      "text/plain": [
       "(3673, 1)"
      ]
     },
     "execution_count": 159,
     "metadata": {},
     "output_type": "execute_result"
    }
   ],
   "source": [
    "Xm11_train.shape"
   ]
  },
  {
   "cell_type": "code",
   "execution_count": 160,
   "metadata": {},
   "outputs": [
    {
     "name": "stdout",
     "output_type": "stream",
     "text": [
      "Estimated intercept coefficient: 6.283683265269979\n",
      "Number of coefficients: 1\n"
     ]
    },
    {
     "data": {
      "text/html": [
       "<div>\n",
       "<style scoped>\n",
       "    .dataframe tbody tr th:only-of-type {\n",
       "        vertical-align: middle;\n",
       "    }\n",
       "\n",
       "    .dataframe tbody tr th {\n",
       "        vertical-align: top;\n",
       "    }\n",
       "\n",
       "    .dataframe thead th {\n",
       "        text-align: right;\n",
       "    }\n",
       "</style>\n",
       "<table border=\"1\" class=\"dataframe\">\n",
       "  <thead>\n",
       "    <tr style=\"text-align: right;\">\n",
       "      <th></th>\n",
       "      <th>Coefficient</th>\n",
       "    </tr>\n",
       "  </thead>\n",
       "  <tbody>\n",
       "    <tr>\n",
       "      <th>chlorides</th>\n",
       "      <td>-8.708</td>\n",
       "    </tr>\n",
       "  </tbody>\n",
       "</table>\n",
       "</div>"
      ],
      "text/plain": [
       "           Coefficient\n",
       "chlorides       -8.708"
      ]
     },
     "execution_count": 160,
     "metadata": {},
     "output_type": "execute_result"
    }
   ],
   "source": [
    "from sklearn.linear_model import LinearRegression\n",
    "lm11 = LinearRegression()\n",
    "lm11.fit(Xm11_train,ym11_train)\n",
    "print('Estimated intercept coefficient:',lm11.intercept_)\n",
    "print ('Number of coefficients:', len(lm11.coef_))\n",
    "coeffm11_df = pd.DataFrame(lm11.coef_,Xm11.columns,columns=['Coefficient'])\n",
    "coeffm11_df"
   ]
  },
  {
   "cell_type": "code",
   "execution_count": 161,
   "metadata": {},
   "outputs": [],
   "source": [
    "predictions_m11 = lm11.predict(Xm11_test)"
   ]
  },
  {
   "cell_type": "markdown",
   "metadata": {},
   "source": [
    "**Predicted vs. Actual**"
   ]
  },
  {
   "cell_type": "code",
   "execution_count": 162,
   "metadata": {},
   "outputs": [
    {
     "data": {
      "text/plain": [
       "<matplotlib.collections.PathCollection at 0x7fc638122d60>"
      ]
     },
     "execution_count": 162,
     "metadata": {},
     "output_type": "execute_result"
    },
    {
     "data": {
      "image/png": "[encoded data removed]",
      "text/plain": [
       "<Figure size 432x288 with 1 Axes>"
      ]
     },
     "metadata": {},
     "output_type": "display_data"
    }
   ],
   "source": [
    "plt.scatter(ym11_test,predictions_m11)"
   ]
  },
  {
   "cell_type": "markdown",
   "metadata": {},
   "source": [
    "**Residual Histogram**"
   ]
  },
  {
   "cell_type": "code",
   "execution_count": 163,
   "metadata": {},
   "outputs": [
    {
     "data": {
      "image/png": "[encoded data removed]",
      "text/plain": [
       "<Figure size 432x288 with 1 Axes>"
      ]
     },
     "metadata": {},
     "output_type": "display_data"
    }
   ],
   "source": [
    "sns.distplot((ym11_test-predictions_m11),bins=50);"
   ]
  },
  {
   "cell_type": "code",
   "execution_count": 164,
   "metadata": {},
   "outputs": [
    {
     "name": "stdout",
     "output_type": "stream",
     "text": [
      "R-squared: 0.04152810337890955\n",
      "Mean Squared Error (MSE): 0.7684483960850845\n",
      "Root Mean Squared Error (RMSE): 0.8766118845219272\n",
      "Log Mean Squared Error: 0.017038324961598756\n",
      "Explained Variance: 0.0425584355784695\n",
      "Mean Absolute Error (MAE): 0.6511638759852955\n",
      "Median Absolute Error: 0.7960352888401481\n",
      "Poisson Deviance: 0.13224761152135875\n",
      "Mean Gamma Deviance: 0.023120430008065063\n"
     ]
    }
   ],
   "source": [
    "from sklearn import metrics\n",
    "print('R-squared:', metrics.r2_score(ym11_test, predictions_m11))\n",
    "print('Mean Squared Error (MSE):', metrics.mean_squared_error(ym11_test, predictions_m11))\n",
    "print('Root Mean Squared Error (RMSE):', np.sqrt(metrics.mean_squared_error(ym11_test, predictions_m11)))\n",
    "print('Log Mean Squared Error:', metrics.mean_squared_log_error(ym11_test, predictions_m11))\n",
    "print('Explained Variance:', metrics.explained_variance_score(ym11_test, predictions_m11))\n",
    "print('Mean Absolute Error (MAE):', metrics.mean_absolute_error(ym11_test, predictions_m11))\n",
    "print('Median Absolute Error:', metrics.median_absolute_error(ym11_test, predictions_m11))\n",
    "print('Poisson Deviance:', metrics.mean_poisson_deviance(ym11_test, predictions_m11))\n",
    "print('Mean Gamma Deviance:', metrics.mean_gamma_deviance(ym11_test, predictions_m11))\n"
   ]
  },
  {
   "cell_type": "code",
   "execution_count": null,
   "metadata": {},
   "outputs": [],
   "source": []
  },
  {
   "cell_type": "code",
   "execution_count": null,
   "metadata": {},
   "outputs": [],
   "source": []
  }
 ],
 "metadata": {
  "kernelspec": {
   "display_name": "Python 3",
   "language": "python",
   "name": "python3"
  },
  "language_info": {
   "codemirror_mode": {
    "name": "ipython",
    "version": 3
   },
   "file_extension": ".py",
   "mimetype": "text/x-python",
   "name": "python",
   "nbconvert_exporter": "python",
   "pygments_lexer": "ipython3",
   "version": "3.8.5"
  }
 },
 "nbformat": 4,
 "nbformat_minor": 2
}
