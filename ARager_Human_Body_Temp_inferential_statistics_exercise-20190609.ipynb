{
 "cells": [
  {
   "cell_type": "markdown",
   "metadata": {},
   "source": [
    "<h1>What is the True Normal Human Body Temperature? </h1>\n",
    "<h2>Audrey Rager</h2>\n",
    "\n",
    "<h3>Background</h3>\n",
    "\n",
    "The mean normal body temperature was held to be 37$^{\\circ}$C or 98.6$^{\\circ}$F for more than 120 years since it was first conceptualized and reported by Carl Wunderlich in a famous 1868 book. But, is this value statistically correct?"
   ]
  },
  {
   "cell_type": "markdown",
   "metadata": {},
   "source": [
    "<h3>Exercises</h3>\n",
    "\n",
    "<p>In this exercise, you will analyze a dataset of human body temperatures and employ the concepts of hypothesis testing, confidence intervals, and statistical significance.</p>\n",
    "\n",
    "\n",
    "You can include written notes in notebook cells using Markdown: \n",
    "   - In the control panel at the top, choose Cell > Cell Type > Markdown\n",
    "   - Markdown syntax: http://nestacms.com/docs/creating-content/markdown-cheat-sheet\n",
    "\n",
    "#### Resources\n",
    "\n",
    "+ Information and data sources: http://www.amstat.org/publications/jse/datasets/normtemp.txt, http://www.amstat.org/publications/jse/jse_data_archive.htm\n",
    "+ Markdown syntax: http://nestacms.com/docs/creating-content/markdown-cheat-sheet\n",
    "\n",
    "****\n",
    "\n",
    "<p>Answer the following questions <b>in this notebook below and submit to your Github account</b>.</p> "
   ]
  },
  {
   "cell_type": "markdown",
   "metadata": {},
   "source": [
    "<h2>1. Is the distribution of body temperatures normal?</h2>\n",
    "<ul>\n",
    "    <li> Although this is not a requirement for the Central Limit Theorem to hold (read the introduction on Wikipedia's page about the CLT carefully: https://en.wikipedia.org/wiki/Central_limit_theorem), it gives us some peace of mind that the population may also be normally distributed if we assume that this sample is representative of the population.\n",
    "        <li> Think about the way you're going to check for the normality of the distribution. Graphical methods are usually used first, but there are also other ways: https://en.wikipedia.org/wiki/Normality_test\n",
    "    </ul>\n",
    "        "
   ]
  },
  {
   "cell_type": "markdown",
   "metadata": {},
   "source": [
    "<i>First, I'll import packages and read the data into a Pandas dataframe and examine the data.</i>"
   ]
  },
  {
   "cell_type": "code",
   "execution_count": 317,
   "metadata": {},
   "outputs": [
    {
     "data": {
      "text/html": [
       "<div>\n",
       "<style scoped>\n",
       "    .dataframe tbody tr th:only-of-type {\n",
       "        vertical-align: middle;\n",
       "    }\n",
       "\n",
       "    .dataframe tbody tr th {\n",
       "        vertical-align: top;\n",
       "    }\n",
       "\n",
       "    .dataframe thead th {\n",
       "        text-align: right;\n",
       "    }\n",
       "</style>\n",
       "<table border=\"1\" class=\"dataframe\">\n",
       "  <thead>\n",
       "    <tr style=\"text-align: right;\">\n",
       "      <th></th>\n",
       "      <th>temperature</th>\n",
       "      <th>gender</th>\n",
       "      <th>heart_rate</th>\n",
       "    </tr>\n",
       "  </thead>\n",
       "  <tbody>\n",
       "    <tr>\n",
       "      <th>0</th>\n",
       "      <td>99.3</td>\n",
       "      <td>F</td>\n",
       "      <td>68.0</td>\n",
       "    </tr>\n",
       "    <tr>\n",
       "      <th>1</th>\n",
       "      <td>98.4</td>\n",
       "      <td>F</td>\n",
       "      <td>81.0</td>\n",
       "    </tr>\n",
       "    <tr>\n",
       "      <th>2</th>\n",
       "      <td>97.8</td>\n",
       "      <td>M</td>\n",
       "      <td>73.0</td>\n",
       "    </tr>\n",
       "    <tr>\n",
       "      <th>3</th>\n",
       "      <td>99.2</td>\n",
       "      <td>F</td>\n",
       "      <td>66.0</td>\n",
       "    </tr>\n",
       "    <tr>\n",
       "      <th>4</th>\n",
       "      <td>98.0</td>\n",
       "      <td>F</td>\n",
       "      <td>73.0</td>\n",
       "    </tr>\n",
       "  </tbody>\n",
       "</table>\n",
       "</div>"
      ],
      "text/plain": [
       "   temperature gender  heart_rate\n",
       "0         99.3      F        68.0\n",
       "1         98.4      F        81.0\n",
       "2         97.8      M        73.0\n",
       "3         99.2      F        66.0\n",
       "4         98.0      F        73.0"
      ]
     },
     "execution_count": 317,
     "metadata": {},
     "output_type": "execute_result"
    }
   ],
   "source": [
    "#Import packages\n",
    "import pandas as pd\n",
    "import matplotlib.pyplot as plt\n",
    "import seaborn as sns\n",
    "import numpy as np\n",
    "import numpy.random as random\n",
    "import scipy.stats as stats\n",
    "import datetime as dt\n",
    "import statsmodels.api as sm\n",
    "from scipy.stats import norm\n",
    "import statsmodels.stats.weightstats as smsw\n",
    "import pylab\n",
    "\n",
    "\n",
    "#Read data into a dataframe\n",
    "df = pd.read_csv('data/human_body_temperature.csv')\n",
    "\n",
    "#Explore the data\n",
    "#Print the header\n",
    "df.head()"
   ]
  },
  {
   "cell_type": "code",
   "execution_count": 318,
   "metadata": {},
   "outputs": [
    {
     "data": {
      "text/html": [
       "<div>\n",
       "<style scoped>\n",
       "    .dataframe tbody tr th:only-of-type {\n",
       "        vertical-align: middle;\n",
       "    }\n",
       "\n",
       "    .dataframe tbody tr th {\n",
       "        vertical-align: top;\n",
       "    }\n",
       "\n",
       "    .dataframe thead th {\n",
       "        text-align: right;\n",
       "    }\n",
       "</style>\n",
       "<table border=\"1\" class=\"dataframe\">\n",
       "  <thead>\n",
       "    <tr style=\"text-align: right;\">\n",
       "      <th></th>\n",
       "      <th>temperature</th>\n",
       "      <th>gender</th>\n",
       "      <th>heart_rate</th>\n",
       "    </tr>\n",
       "  </thead>\n",
       "  <tbody>\n",
       "    <tr>\n",
       "      <th>125</th>\n",
       "      <td>96.3</td>\n",
       "      <td>M</td>\n",
       "      <td>70.0</td>\n",
       "    </tr>\n",
       "    <tr>\n",
       "      <th>126</th>\n",
       "      <td>97.7</td>\n",
       "      <td>M</td>\n",
       "      <td>77.0</td>\n",
       "    </tr>\n",
       "    <tr>\n",
       "      <th>127</th>\n",
       "      <td>98.2</td>\n",
       "      <td>F</td>\n",
       "      <td>73.0</td>\n",
       "    </tr>\n",
       "    <tr>\n",
       "      <th>128</th>\n",
       "      <td>97.9</td>\n",
       "      <td>M</td>\n",
       "      <td>72.0</td>\n",
       "    </tr>\n",
       "    <tr>\n",
       "      <th>129</th>\n",
       "      <td>98.7</td>\n",
       "      <td>F</td>\n",
       "      <td>59.0</td>\n",
       "    </tr>\n",
       "  </tbody>\n",
       "</table>\n",
       "</div>"
      ],
      "text/plain": [
       "     temperature gender  heart_rate\n",
       "125         96.3      M        70.0\n",
       "126         97.7      M        77.0\n",
       "127         98.2      F        73.0\n",
       "128         97.9      M        72.0\n",
       "129         98.7      F        59.0"
      ]
     },
     "execution_count": 318,
     "metadata": {},
     "output_type": "execute_result"
    }
   ],
   "source": [
    "#print the tail\n",
    "df.tail()"
   ]
  },
  {
   "cell_type": "code",
   "execution_count": 319,
   "metadata": {},
   "outputs": [
    {
     "name": "stdout",
     "output_type": "stream",
     "text": [
      "<class 'pandas.core.frame.DataFrame'>\n",
      "RangeIndex: 130 entries, 0 to 129\n",
      "Data columns (total 3 columns):\n",
      "temperature    130 non-null float64\n",
      "gender         130 non-null object\n",
      "heart_rate     130 non-null float64\n",
      "dtypes: float64(2), object(1)\n",
      "memory usage: 3.1+ KB\n"
     ]
    }
   ],
   "source": [
    "#The readme file says there are no null values; but let's double check\n",
    "df.info()"
   ]
  },
  {
   "cell_type": "code",
   "execution_count": 320,
   "metadata": {},
   "outputs": [
    {
     "data": {
      "text/html": [
       "<div>\n",
       "<style scoped>\n",
       "    .dataframe tbody tr th:only-of-type {\n",
       "        vertical-align: middle;\n",
       "    }\n",
       "\n",
       "    .dataframe tbody tr th {\n",
       "        vertical-align: top;\n",
       "    }\n",
       "\n",
       "    .dataframe thead th {\n",
       "        text-align: right;\n",
       "    }\n",
       "</style>\n",
       "<table border=\"1\" class=\"dataframe\">\n",
       "  <thead>\n",
       "    <tr style=\"text-align: right;\">\n",
       "      <th></th>\n",
       "      <th>temperature</th>\n",
       "      <th>heart_rate</th>\n",
       "    </tr>\n",
       "  </thead>\n",
       "  <tbody>\n",
       "    <tr>\n",
       "      <th>count</th>\n",
       "      <td>130.000000</td>\n",
       "      <td>130.000000</td>\n",
       "    </tr>\n",
       "    <tr>\n",
       "      <th>mean</th>\n",
       "      <td>98.249231</td>\n",
       "      <td>73.761538</td>\n",
       "    </tr>\n",
       "    <tr>\n",
       "      <th>std</th>\n",
       "      <td>0.733183</td>\n",
       "      <td>7.062077</td>\n",
       "    </tr>\n",
       "    <tr>\n",
       "      <th>min</th>\n",
       "      <td>96.300000</td>\n",
       "      <td>57.000000</td>\n",
       "    </tr>\n",
       "    <tr>\n",
       "      <th>25%</th>\n",
       "      <td>97.800000</td>\n",
       "      <td>69.000000</td>\n",
       "    </tr>\n",
       "    <tr>\n",
       "      <th>50%</th>\n",
       "      <td>98.300000</td>\n",
       "      <td>74.000000</td>\n",
       "    </tr>\n",
       "    <tr>\n",
       "      <th>75%</th>\n",
       "      <td>98.700000</td>\n",
       "      <td>79.000000</td>\n",
       "    </tr>\n",
       "    <tr>\n",
       "      <th>max</th>\n",
       "      <td>100.800000</td>\n",
       "      <td>89.000000</td>\n",
       "    </tr>\n",
       "  </tbody>\n",
       "</table>\n",
       "</div>"
      ],
      "text/plain": [
       "       temperature  heart_rate\n",
       "count   130.000000  130.000000\n",
       "mean     98.249231   73.761538\n",
       "std       0.733183    7.062077\n",
       "min      96.300000   57.000000\n",
       "25%      97.800000   69.000000\n",
       "50%      98.300000   74.000000\n",
       "75%      98.700000   79.000000\n",
       "max     100.800000   89.000000"
      ]
     },
     "execution_count": 320,
     "metadata": {},
     "output_type": "execute_result"
    }
   ],
   "source": [
    "#descriptive statistics\n",
    "df.describe()"
   ]
  },
  {
   "cell_type": "markdown",
   "metadata": {},
   "source": [
    "<b><i>Graphical Normality Tests</i></b>"
   ]
  },
  {
   "cell_type": "markdown",
   "metadata": {},
   "source": [
    "<i>One graphical method to test for normality is to plot a histogram of the data and compare it to a normal curve.</i>"
   ]
  },
  {
   "cell_type": "code",
   "execution_count": 321,
   "metadata": {},
   "outputs": [
    {
     "data": {
      "image/png": "[encoded data removed]",
      "text/plain": [
       "<Figure size 720x360 with 1 Axes>"
      ]
     },
     "metadata": {},
     "output_type": "display_data"
    }
   ],
   "source": [
    "temperature = df['temperature']\n",
    "fig, axes = plt.subplots(nrows=1, ncols=1, figsize=(10,5))\n",
    "sns.set()\n",
    "plt.hist(temperature, bins='auto', density=True)\n",
    "plt.xlabel('Temperature($^\\circ$F)')\n",
    "plt.ylabel('Count')\n",
    "plt.title('Human Body Temperature')\n",
    "plt.show()"
   ]
  },
  {
   "cell_type": "markdown",
   "metadata": {},
   "source": [
    "<i>The number of bins makes a difference (aka binning bias). In the above histogram, the number of bins was set to \"auto\" and resulted in 13 bins. With this number of bins, it looks like there is a bimodal distribution with a slight left skew. If this is a bimodal distribution, it's possible it could be due to gender.</i>"
   ]
  },
  {
   "cell_type": "code",
   "execution_count": 322,
   "metadata": {},
   "outputs": [
    {
     "data": {
      "image/png": "[encoded data removed]",
      "text/plain": [
       "<Figure size 720x360 with 1 Axes>"
      ]
     },
     "metadata": {},
     "output_type": "display_data"
    }
   ],
   "source": [
    "fig, axes = plt.subplots(nrows=1, ncols=1, figsize=(10,5))\n",
    "sns.set()\n",
    "plt.hist(temperature, bins=20, density=True)\n",
    "plt.xlabel('Temperature($^\\circ$F)')\n",
    "plt.ylabel('Count')\n",
    "plt.title('Human Body Temperature')\n",
    "plt.show()"
   ]
  },
  {
   "cell_type": "markdown",
   "metadata": {},
   "source": [
    "<i>In this histogram with 20 bins the data look like they might have a bimodal distribution and a left skew.</i>"
   ]
  },
  {
   "cell_type": "code",
   "execution_count": 323,
   "metadata": {},
   "outputs": [
    {
     "data": {
      "image/png": "[encoded data removed]",
      "text/plain": [
       "<Figure size 720x360 with 1 Axes>"
      ]
     },
     "metadata": {},
     "output_type": "display_data"
    }
   ],
   "source": [
    "fig, axes = plt.subplots(nrows=1, ncols=1, figsize=(10,5))\n",
    "sns.set()\n",
    "plt.hist(temperature, bins=10, density=True)\n",
    "plt.xlabel('Temperature($^\\circ$F)')\n",
    "plt.ylabel('Count')\n",
    "plt.title('Human Body Temperature')\n",
    "plt.show()"
   ]
  },
  {
   "cell_type": "markdown",
   "metadata": {},
   "source": [
    "<i>With ten bins, there still appears to be a slight left skew, but the distribution looks fairly normal with a single peak. Another graphical reprsentation of the data we can look at and compare to a normal distribution is the probablity density function shown below.</i>"
   ]
  },
  {
   "cell_type": "code",
   "execution_count": 324,
   "metadata": {},
   "outputs": [
    {
     "name": "stdout",
     "output_type": "stream",
     "text": [
      "98.24923076923078\n"
     ]
    },
    {
     "data": {
      "image/png": "[encoded data removed]",
      "text/plain": [
       "<Figure size 720x360 with 1 Axes>"
      ]
     },
     "metadata": {},
     "output_type": "display_data"
    }
   ],
   "source": [
    "# Is the distribution of body temperatures normal?\n",
    "#fig, axes = plt.subplots(nrows=1, ncols=2, figsize=(12,6))\n",
    "\n",
    "#lbin = []\n",
    "#lbin.append(mlist(96.0,.4,10))\n",
    "#lbin.append(mlist(96.0,.4,12))\n",
    "\n",
    "#for i in range(len(lbin)):\n",
    "#    _ = hist_plots(df,lbin[i],i)\n",
    "    \n",
    "#import warnings\n",
    "\n",
    "#with warnings.catch_warnings():\n",
    "   # warnings.simplefilter(\"ignore\")\n",
    "    #fxn()\n",
    "# density plot\n",
    "temp_mean = df.temperature.mean()\n",
    "print(temp_mean)\n",
    "#fig, axes = plt.subplots(nrows=1, ncols=1, figsize=(14,7))\n",
    "temps = df['temperature']\n",
    "binz = mlist(96.0,.4,11)\n",
    "fig, axes = plt.subplots(nrows=1, ncols=1, figsize=(10,5))\n",
    "_ = sns.distplot(temps, hist = False, bins=binz, kde = True,\n",
    "                  kde_kws = {'shade': True, 'linewidth': 3})\n",
    "_ = plt.title('Density Plot for Body Temperatures', fontsize=16)\n",
    "_ = plt.xlabel('Temperature', fontsize=16)\n",
    "_ = plt.ylabel('Density', fontsize=16)\n",
    "_ = plt.tick_params(axis = 'x', which = 'major', labelsize = 16)\n",
    "_ = plt.tick_params(axis = 'y', which = 'major', labelsize = 16)\n",
    "_ = plt.axvline(x=temp_mean,color='k', linestyle='--',label='Temperature Mean: 98.2')\n",
    "_ = plt.legend(loc='upper left')\n",
    "plt.show()"
   ]
  },
  {
   "cell_type": "markdown",
   "metadata": {},
   "source": [
    "<i>In this probability density plot, the data appear to be close to normally distributed. But since everything is so smoothed out, this could be deceiving. Another graphical method is a Q-Q plot.</i>"
   ]
  },
  {
   "cell_type": "code",
   "execution_count": 325,
   "metadata": {},
   "outputs": [
    {
     "data": {
      "image/png": "[encoded data removed]",
      "text/plain": [
       "<Figure size 432x288 with 1 Axes>"
      ]
     },
     "metadata": {},
     "output_type": "display_data"
    }
   ],
   "source": [
    "# q-q plot of all temperatures to test for normality\n",
    "\n",
    "_ = sm.qqplot(temperature,  fit=True, line='45')\n",
    "plt.show()"
   ]
  },
  {
   "cell_type": "markdown",
   "metadata": {},
   "source": [
    "<i>Most of the values in the center fall on or near the line; the values in the tails seem to deviate from the theoretical normal distriubution. Now let's look at the CDF/ECDF plot</i>"
   ]
  },
  {
   "cell_type": "code",
   "execution_count": 326,
   "metadata": {},
   "outputs": [
    {
     "data": {
      "image/png": "[encoded data removed]",
      "text/plain": [
       "<Figure size 432x288 with 1 Axes>"
      ]
     },
     "metadata": {},
     "output_type": "display_data"
    }
   ],
   "source": [
    "# Plots the ECDF and CDF of the human body temperatures\n",
    "def ecdf(data):\n",
    "    \"\"\"\n",
    "    Compute ECDF for a one-dimensional array of measurements.\n",
    "    Returns tuple of arrays (x,y) that contain x and y values for ECDF.\n",
    "    \"\"\"\n",
    "    x = np.sort(data)\n",
    "    y = np.arange(1, len(x) + 1) / len(x)\n",
    "    \n",
    "    return x, y\n",
    "\n",
    "x_ecdf, y_ecdf = ecdf(temperature)\n",
    "\n",
    "temperature_theoretical = np.random.normal(np.mean(temperature), np.std(temperature), size=10000)\n",
    "\n",
    "x_theoretical_cdf, y_theoretical_cdf = ecdf(temperature_theoretical)\n",
    "\n",
    "plt.plot(x_ecdf, y_ecdf, marker='.', linestyle='none',color='darkslategray')\n",
    "plt.plot(x_theoretical_cdf, y_theoretical_cdf, color='r')\n",
    "plt.xlabel('Temperature($^\\circ$F)')\n",
    "plt.ylabel('CDF')\n",
    "plt.title('Human Body Temperature')\n",
    "plt.legend(('Actual Samples', 'Theoretical Normal'), loc='lower right')\n",
    "plt.show()"
   ]
  },
  {
   "cell_type": "markdown",
   "metadata": {},
   "source": [
    "The values line up pretty nicely with the ECDF curve suggesting that the distribition is normal.  But let's do some statistical tests to be sure."
   ]
  },
  {
   "cell_type": "markdown",
   "metadata": {},
   "source": [
    "<b><i>Statistical Normality Tests</i></b>"
   ]
  },
  {
   "cell_type": "markdown",
   "metadata": {},
   "source": [
    "<u>Shapiro-Wilk Test</u>"
   ]
  },
  {
   "cell_type": "code",
   "execution_count": 327,
   "metadata": {},
   "outputs": [
    {
     "name": "stdout",
     "output_type": "stream",
     "text": [
      "Statistics=0.987, p=0.233\n",
      "Human Body Temperature Data Set looks Gaussian (fail to reject H0)\n"
     ]
    }
   ],
   "source": [
    "# Shapiro-Wilk Test for normality\n",
    "# on Human Body Temperature Data\n",
    "\n",
    "from scipy.stats import shapiro\n",
    "\n",
    "stat, p = shapiro(temperature)\n",
    "print('Statistics=%.3f, p=%.3f' % (stat, p))\n",
    "# interpret\n",
    "alpha = 0.05\n",
    "if p > alpha:\n",
    "\tprint('Human Body Temperature Data Set looks Gaussian (fail to reject H0)')\n",
    "else:\n",
    "\tprint('Human Body Temperature Data Set does not look Gaussian (reject H0)')"
   ]
  },
  {
   "cell_type": "markdown",
   "metadata": {},
   "source": [
    "<u>D’Agostino’s K<sup>2</sup> Test</u>"
   ]
  },
  {
   "cell_type": "code",
   "execution_count": 328,
   "metadata": {},
   "outputs": [
    {
     "name": "stdout",
     "output_type": "stream",
     "text": [
      "Statistics=2.704, p=0.259\n",
      "Human Body Temperature Data Set looks Gaussian (fail to reject H0)\n"
     ]
    }
   ],
   "source": [
    "#D'Agostino's K^2 Test for Normality\n",
    "# on Human Body Temperature Data\n",
    "\n",
    "from scipy.stats import normaltest\n",
    "\n",
    "# normality test\n",
    "stat, p = normaltest(temperature)\n",
    "print('Statistics=%.3f, p=%.3f' % (stat, p))\n",
    "# interpret\n",
    "alpha = 0.05\n",
    "if p > alpha:\n",
    "\tprint('Human Body Temperature Data Set looks Gaussian (fail to reject H0)')\n",
    "else:\n",
    "\tprint('Human Body Temperature Data Set does not look Gaussian (reject H0)')"
   ]
  },
  {
   "cell_type": "markdown",
   "metadata": {},
   "source": [
    "<u>Anderson Darling Test</u>"
   ]
  },
  {
   "cell_type": "code",
   "execution_count": 329,
   "metadata": {},
   "outputs": [
    {
     "name": "stdout",
     "output_type": "stream",
     "text": [
      "Statistic: 0.520\n",
      "15.000: 0.560, Human Body Temperature Data Set looks normal (fail to reject H0)\n",
      "10.000: 0.637, Human Body Temperature Data Set looks normal (fail to reject H0)\n",
      "5.000: 0.765, Human Body Temperature Data Set looks normal (fail to reject H0)\n",
      "2.500: 0.892, Human Body Temperature Data Set looks normal (fail to reject H0)\n",
      "1.000: 1.061, Human Body Temperature Data Set looks normal (fail to reject H0)\n"
     ]
    }
   ],
   "source": [
    "#Anderson Darling Normality Test\n",
    "# on Human Body Temperature Data\n",
    "\n",
    "from scipy.stats import anderson\n",
    "# normality test\n",
    "result = anderson(temperature)\n",
    "print('Statistic: %.3f' % result.statistic)\n",
    "p = 0\n",
    "for i in range(len(result.critical_values)):\n",
    "\tsl, cv = result.significance_level[i], result.critical_values[i]\n",
    "\tif result.statistic < result.critical_values[i]:\n",
    "\t\tprint('%.3f: %.3f, Human Body Temperature Data Set looks normal (fail to reject H0)' % (sl, cv))\n",
    "\telse:\n",
    "\t\tprint('%.3f: %.3f, Human Body Temperature Data Set does not look normal (reject H0)' % (sl, cv))"
   ]
  },
  {
   "cell_type": "markdown",
   "metadata": {},
   "source": [
    "<h2><i><font color=\"blue\">Question 1 Answer: Based on the graphical and statistical normality tests, I conclude that the data are normally distributed.</font></i></h2>\n",
    "<hr>"
   ]
  },
  {
   "cell_type": "markdown",
   "metadata": {},
   "source": [
    "<h2>2. Is the sample size large? Are the observations independent?</h2>\n",
    "<ul>\n",
    "    <li> Remember that this is a condition for the Central Limit Theorem, and hence the statistical tests we are using, to apply.\n",
    "    </ul>"
   ]
  },
  {
   "cell_type": "markdown",
   "metadata": {},
   "source": [
    "<i>A rule of thumb is that a sample size >= 30 is large enough.</i>"
   ]
  },
  {
   "cell_type": "code",
   "execution_count": 330,
   "metadata": {},
   "outputs": [
    {
     "name": "stdout",
     "output_type": "stream",
     "text": [
      "The sample size is large (n > 30)\n"
     ]
    }
   ],
   "source": [
    "# test CLT's 1st condition: sample size\n",
    "if len(df) < 30:\n",
    "    print(\"The sample size is too small (n < 30)\")\n",
    "else:\n",
    "    print(\"The sample size is large (n > 30)\")"
   ]
  },
  {
   "cell_type": "markdown",
   "metadata": {},
   "source": [
    "<i>The data set has a large sample size. Just out of curiosity...What if we wanted to just study male or female body temperatures?  Would we have a large enough sample size?  Yes. There are more than 30 data points for each gender (see below).</i>"
   ]
  },
  {
   "cell_type": "code",
   "execution_count": 331,
   "metadata": {},
   "outputs": [
    {
     "data": {
      "text/plain": [
       "<matplotlib.axes._subplots.AxesSubplot at 0x1c24f3fa58>"
      ]
     },
     "execution_count": 331,
     "metadata": {},
     "output_type": "execute_result"
    },
    {
     "data": {
      "image/png": "[encoded data removed]",
      "text/plain": [
       "<Figure size 432x288 with 1 Axes>"
      ]
     },
     "metadata": {},
     "output_type": "display_data"
    }
   ],
   "source": [
    "sns.countplot(df['gender'],palette=['red','blue'])"
   ]
  },
  {
   "cell_type": "markdown",
   "metadata": {},
   "source": [
    "<i>Yes, the sample size for each gender is large enough too. The sample size is large enough.  But are the observations independent? <br>\n",
    "\n",
    "\n",
    "The data were derived from:\n",
    "<br>\n",
    "<br>\n",
    "Mackowiak, P. A.,\n",
    "Wasserman, S. S., and Levine, M. M.  (1992), \"A Critical Appraisal of\n",
    "98.6 Degrees F, the Upper Limit of the Normal Body Temperature, and\n",
    "Other Legacies of Carl Reinhold August Wunderlich,\" _Journal of the\n",
    "American Medical Association_, 268, 1578-1580.\n",
    "\n",
    "Because the data are from such a prestigious journal, it is probably fair to assume that the authors are very well educated and experienced researchers who have collected independent observations.  There is nothing that raises any red flags about the data collection.  If we have concerns, we can read the original journal article. But for now, I think it's reasonable to assume the observations are independent.\n",
    "</i>\n",
    "\n"
   ]
  },
  {
   "cell_type": "markdown",
   "metadata": {},
   "source": [
    "<h2><i><font color=\"blue\">Question 2 Answer: The sample size is large enough (n >= 30) and the observations are independent.</font></i></h2>\n",
    "<hr>\n"
   ]
  },
  {
   "cell_type": "markdown",
   "metadata": {},
   "source": [
    "<h2>3. Is the true population mean really 98.6 degrees F?</h2>\n",
    "<ul>\n",
    "    <li> First, try a bootstrap hypothesis test.\n",
    "    <li> Now, let's try frequentist statistical testing. Would you use a one-sample or two-sample test? Why?\n",
    "    <li> In this situation, is it appropriate to use the $t$ or $z$ statistic? \n",
    "    <li> Now try using the other test. How is the result be different? Why?\n",
    "    </ul>"
   ]
  },
  {
   "cell_type": "markdown",
   "metadata": {},
   "source": [
    "<h3>Bootstrap Hypothesis Test</h3>"
   ]
  },
  {
   "cell_type": "markdown",
   "metadata": {},
   "source": [
    "Perform a one-sample bootstrap hypothesis test.  The mean of the Human Body Temperature Data Set is 98.2 (98.249231). \n",
    "\n",
    "Ho: Mean = 98.6 degrees F\n",
    "Ha: Mean <> 98.6 degrees F\n",
    "\n",
    "Test statistic is mean\n",
    "\n",
    "Set significance level to be 0.05 (i.e. alpha = 0.05)\n",
    "\n",
    "If p-value is less than alpha, reject the null hypothesis.\n",
    "If p-value is greater than or equal to alpha, do not reject the null hypothesis.\n",
    "\n"
   ]
  },
  {
   "cell_type": "code",
   "execution_count": 332,
   "metadata": {},
   "outputs": [
    {
     "name": "stdout",
     "output_type": "stream",
     "text": [
      "p =  0.0\n",
      "Reject the null hypothesis.\n"
     ]
    }
   ],
   "source": [
    "alpha = 0.05\n",
    "\n",
    "def bootstrap_replicate_1d(data, func):\n",
    "    return func(np.random.choice(data, size=len(data)))\n",
    "\n",
    "def draw_bs_reps(data, func, size=1):\n",
    "    \"\"\"Draw bootstrap replicates.\"\"\"\n",
    "\n",
    "    # Initialize array of replicates: bs_replicates\n",
    "    bs_replicates = np.empty(size)\n",
    "\n",
    "    # Generate replicates\n",
    "    for i in range(size):\n",
    "        bs_replicates[i] = bootstrap_replicate_1d(data, func)\n",
    "\n",
    "    return bs_replicates\n",
    "\n",
    "\n",
    "# Make an array of translated impact temperatures: translated_temperature\n",
    "translated_temperature = temperature - np.mean(temperature) + 98.6\n",
    "\n",
    "# Take bootstrap replicates of translated Human Body Temperatures: bs_replicates\n",
    "bs_replicates = draw_bs_reps(translated_temperature, np.mean, 10000)\n",
    "\n",
    "# Compute fraction of replicates that are less than the observed Human Body Temperatures: p\n",
    "p = np.sum(bs_replicates <= np.mean(temperature)) / 10000\n",
    "\n",
    "# Print the p-value\n",
    "print('p = ', p)\n",
    "\n",
    "if p < alpha:\n",
    "    print('Reject the null hypothesis.')\n",
    "else:\n",
    "    print('Do not reject the null hypothesis.')\n",
    "        \n"
   ]
  },
  {
   "cell_type": "markdown",
   "metadata": {},
   "source": [
    "<h3>Frequentist Statistical Testing</h3>"
   ]
  },
  {
   "cell_type": "code",
   "execution_count": 333,
   "metadata": {},
   "outputs": [],
   "source": [
    "#Ho: Mean = 98.6\n",
    "#Ha: Mean <> 98.6\n",
    "#Significance level (alpha) = 0.05\n",
    "#Test statistic is mean"
   ]
  },
  {
   "cell_type": "code",
   "execution_count": 334,
   "metadata": {},
   "outputs": [
    {
     "name": "stdout",
     "output_type": "stream",
     "text": [
      "Test Statistic=-5.455, p=0.000\n",
      "Reject null hypothesis\n"
     ]
    }
   ],
   "source": [
    "#one sample z-test\n",
    "from statsmodels.stats.weightstats import ztest\n",
    "\n",
    "stat, p = ztest(x1=temperature, x2=None, value=98.6)\n",
    "print('Test Statistic=%.3f, p=%.3f' % (stat, p))\n",
    "if p<0.05:\n",
    "    print(\"Reject null hypothesis\")\n",
    "else:\n",
    "    print(\"Fail to reject null hypothesis\")"
   ]
  },
  {
   "cell_type": "code",
   "execution_count": 335,
   "metadata": {},
   "outputs": [
    {
     "name": "stdout",
     "output_type": "stream",
     "text": [
      "Test Statistic=-5.455, p=0.000\n",
      "Reject null hypothesis\n"
     ]
    }
   ],
   "source": [
    "#One-sample t-test\n",
    "stat, p = stats.ttest_1samp(df.temperature, 98.6)\n",
    "print('Test Statistic=%.3f, p=%.3f' % (stat, p))\n",
    "if p<0.05:\n",
    "    print(\"Reject null hypothesis\")\n",
    "else:\n",
    "    print(\"Fail to reject null hypothesis\")"
   ]
  },
  {
   "cell_type": "markdown",
   "metadata": {},
   "source": [
    "<h2><i><font color=\"blue\">Question 3 Answer: </i></h2></font><font color='blue'>No, the true population mean is not 98.6 degrees F.</h2>\n",
    "<ul>\n",
    "    <li> The null hypothesis that 98.6 is the mean was rejected using the bootstrap method.\n",
    "    <li> The null hypothesis that 98.6 is the mean was rejected using the frequentist method. I used a one-sample test because we were testing the null hypothesis that one set of data had a mean equal to a set value.  If were were comparing two data sets to each other, the two-sample test would be appropriate. \n",
    "    <li> In this situation, is it appropriate to use the $z$ statistic because the sample size is large (>30).\n",
    "    <li> I got the same result with the $t$ test.  This is because as the sample size increases, $t$ and $z$ converge. \n",
    "    </ul>\n",
    "<hr></font>"
   ]
  },
  {
   "cell_type": "markdown",
   "metadata": {},
   "source": [
    "<h2>4. Draw a small sample of size 10 from the data and repeat both frequentist tests.</h2>\n",
    "<ul>\n",
    "    <li> Which one is the correct one to use? \n",
    "    <li> What do you notice? What does this tell you about the difference in application of the $t$ and $z$ statistic?\n",
    "    </ul>"
   ]
  },
  {
   "cell_type": "markdown",
   "metadata": {},
   "source": [
    "<i>Randomly sample ten temperatures.</i>"
   ]
  },
  {
   "cell_type": "code",
   "execution_count": 336,
   "metadata": {},
   "outputs": [
    {
     "name": "stdout",
     "output_type": "stream",
     "text": [
      "113    99.1\n",
      "46     97.4\n",
      "49     97.1\n",
      "31     97.6\n",
      "34     99.3\n",
      "73     98.8\n",
      "7      98.8\n",
      "126    97.7\n",
      "82     97.5\n",
      "95     96.8\n",
      "Name: temperature, dtype: float64\n"
     ]
    }
   ],
   "source": [
    "ten_temps = temperature.sample(n=10)\n",
    "print(ten_temps)"
   ]
  },
  {
   "cell_type": "markdown",
   "metadata": {},
   "source": [
    "<i><u>Z Test</u></i>"
   ]
  },
  {
   "cell_type": "markdown",
   "metadata": {},
   "source": [
    "<i>Hypothesis Testing<p>\n",
    "    H<sub>0</sub>: Mean human body temperature is 98.6 degrees F<p>\n",
    "    H<sub>a</sub>: Mean human body temperature is not 98.6 degrees F<p>\n",
    "    alpha = 0.05<p>\n",
    "    test statistic is the mean\n",
    "</i>"
   ]
  },
  {
   "cell_type": "code",
   "execution_count": 337,
   "metadata": {},
   "outputs": [
    {
     "name": "stdout",
     "output_type": "stream",
     "text": [
      "Test Statistic=-2.073, p=0.038\n",
      "Reject null hypothesis\n"
     ]
    }
   ],
   "source": [
    "#Ho: Mean = 98.6\n",
    "#Ha: Mean <> 98.6\n",
    "#Significance level (alpha) = 0.05\n",
    "#Test statistic is mean\n",
    "#one sample z-test\n",
    "from statsmodels.stats.weightstats import ztest\n",
    "\n",
    "stat, p = ztest(x1=ten_temps, x2=None, value=98.6)\n",
    "print('Test Statistic=%.3f, p=%.3f' % (stat, p))\n",
    "if p<0.05:\n",
    "    print(\"Reject null hypothesis\")\n",
    "else:\n",
    "    print(\"Fail to reject null hypothesis\")"
   ]
  },
  {
   "cell_type": "markdown",
   "metadata": {},
   "source": [
    "<i><u>T Test</u></i>"
   ]
  },
  {
   "cell_type": "markdown",
   "metadata": {},
   "source": [
    "<i>Hypothesis Testing<p>\n",
    "    H<sub>0</sub>: Mean human body temperature is 98.6 degrees F<p>\n",
    "    H<sub>a</sub>: Mean human body temperature is not 98.6 degrees F<p>\n",
    "    alpha = 0.05<p>\n",
    "    test statistic is the mean\n",
    "</i>"
   ]
  },
  {
   "cell_type": "code",
   "execution_count": 338,
   "metadata": {},
   "outputs": [
    {
     "name": "stdout",
     "output_type": "stream",
     "text": [
      "Test Statistic=-5.455, p=0.000\n",
      "Reject null hypothesis\n"
     ]
    }
   ],
   "source": [
    "\n",
    "#One-sample t-test\n",
    "stat, p = stats.ttest_1samp(df.temperature, 98.6)\n",
    "print('Test Statistic=%.3f, p=%.3f' % (stat, p))\n",
    "if p<0.05:\n",
    "    print(\"Reject null hypothesis\")\n",
    "else:\n",
    "    print(\"Fail to reject null hypothesis\")"
   ]
  },
  {
   "cell_type": "code",
   "execution_count": 339,
   "metadata": {
    "scrolled": true
   },
   "outputs": [
    {
     "data": {
      "text/plain": [
       "Text(0.5,1,'Human Body Temperature (n=10)')"
      ]
     },
     "execution_count": 339,
     "metadata": {},
     "output_type": "execute_result"
    },
    {
     "data": {
      "image/png": "[encoded data removed]",
      "text/plain": [
       "<Figure size 432x288 with 1 Axes>"
      ]
     },
     "metadata": {},
     "output_type": "display_data"
    }
   ],
   "source": [
    "plt.hist(ten_temps, bins=10, density=True)\n",
    "plt.xlabel('Temperature($^\\circ$F)')\n",
    "plt.ylabel('Count')\n",
    "plt.title('Human Body Temperature (n=10)')"
   ]
  },
  {
   "cell_type": "code",
   "execution_count": 340,
   "metadata": {},
   "outputs": [
    {
     "data": {
      "image/png": "[encoded data removed]",
      "text/plain": [
       "<Figure size 432x288 with 1 Axes>"
      ]
     },
     "metadata": {},
     "output_type": "display_data"
    }
   ],
   "source": [
    "# q-q plot of all temperatures to test for normality\n",
    "\n",
    "_ = sm.qqplot(ten_temps,  fit=True, line='45')\n",
    "plt.show()"
   ]
  },
  {
   "cell_type": "markdown",
   "metadata": {},
   "source": [
    "<h2><i><font color=\"blue\">Question 4 Answer: </i></h2>\n",
    "<ul>\n",
    "    <li> <u>Which one is the correct one to use?</u>: <font color=\"blue\">The T-test is the correct one to use because it is used for sample sizes less than 30.  Small samples like this are not normally distributed as can be seen by the histogram and Q-Q plots above.</font>\n",
    "    <li> <u>What do you notice? What does this tell you about the difference in application of the $t$ and $z$ statistic?<u>: <font color=\"blue\">I noticed that if I ran the test on different randomly selected sets of ten, sometimes the z test would reject the null hypothesis and sometimes it would fail to reject it, but that the T-test always rejected the null hypothesis. It tells me that, while the t-test can be used for large sample sizes, the t-test must always be used for small samples (less than 30) and the Z-test must never be used for small samples.</font>\n",
    "    </ul>"
   ]
  },
  {
   "cell_type": "markdown",
   "metadata": {},
   "source": [
    "<h2>5. At what temperature should we consider someone's temperature to be \"abnormal\"?</h2>\n",
    " <ul>\n",
    "    <li> As in the previous example, try calculating everything using the boostrap approach, as well as the frequentist approach.\n",
    "    <li> Start by computing the margin of error and confidence interval. When calculating the confidence interval, keep in mind that you should use the appropriate formula for one draw, and not N draws.\n",
    "    </ul>"
   ]
  },
  {
   "cell_type": "code",
   "execution_count": 341,
   "metadata": {},
   "outputs": [
    {
     "name": "stdout",
     "output_type": "stream",
     "text": [
      "margin of error = 0.06405661469519336\n",
      "99% confidence interval = [98.08538077 98.41153846] body temperatures\n",
      "(98.09833886093628, 98.40012267752527)\n"
     ]
    },
    {
     "data": {
      "image/png": "[encoded data removed]",
      "text/plain": [
       "<Figure size 432x288 with 1 Axes>"
      ]
     },
     "metadata": {},
     "output_type": "display_data"
    }
   ],
   "source": [
    "# P( [sample mean] - margin of error < μ < [sample mean] + margin of error) = 0.95\n",
    "\n",
    "# frequentist approach\n",
    "alpha = 0.05\n",
    "cv95 = stats.t.ppf(1.0 - alpha, df.shape[0] - 1)\n",
    "\n",
    "alpha = 0.01\n",
    "cv99 = stats.t.ppf(1.0 - alpha, df.shape[0] - 1)\n",
    "\n",
    "\n",
    "stddev = np.std(df.temperature)\n",
    "\n",
    "sem = stddev / np.sqrt(df.shape[0])\n",
    "\n",
    "# 95% confidence interval ... 99% confidence interval\n",
    "ci_95 = (temp_mean - cv95 *sem,temp_mean + cv95 *sem )\n",
    "\n",
    "ci_99 = (temp_mean - cv99 *sem,temp_mean + cv99 *sem )\n",
    "\n",
    "# bootstrap approach\n",
    "# Draw bootstrap replicates of the mean temperatures: bs_replicates\n",
    "bs_replicates = draw_bs_reps(df.temperature,np.mean,10000)\n",
    "\n",
    "# Compute the 95% confidence interval: conf_int\n",
    "conf_int = np.percentile(bs_replicates,[0.5,99.5])\n",
    "\n",
    "# Print the margin of error\n",
    "print(\"margin of error = \" + str(sem))\n",
    "\n",
    "# Print the confidence interval\n",
    "print('99% confidence interval =', conf_int, 'body temperatures')\n",
    "\n",
    "# frequentist 99% confidence interval\n",
    "print(ci_99)\n",
    "\n",
    "# Plot the histogram of the replicates\n",
    "_ = plt.hist(bs_replicates, bins=50, density=True)\n",
    "_ = plt.xlabel('temperature')\n",
    "_ = plt.ylabel('PDF')\n",
    "\n",
    "# Show the plot\n",
    "plt.show()"
   ]
  },
  {
   "cell_type": "markdown",
   "metadata": {},
   "source": [
    "<h2><i><font color=\"blue\">Question 5 Answer: </font></i></h2> <font color=\"blue\"><i>At a 99% confidence interval, we could consider an abnormal temperature to be 98.085 or lower and 98.416 or higher</i></font>"
   ]
  },
  {
   "cell_type": "markdown",
   "metadata": {},
   "source": [
    "<h2>6. Is there a significant difference between males and females in normal temperature?</h2>\n",
    "    <ul>\n",
    "    <li> What testing approach did you use and why?\n",
    "    <li> Write a story with your conclusion in the context of the original problem.\n",
    "    </ul>"
   ]
  },
  {
   "cell_type": "markdown",
   "metadata": {},
   "source": [
    "<i>First, some EDA...</i>"
   ]
  },
  {
   "cell_type": "code",
   "execution_count": 363,
   "metadata": {},
   "outputs": [
    {
     "name": "stdout",
     "output_type": "stream",
     "text": [
      "Male Body Temperatures\n",
      "       temperature  heart_rate\n",
      "count    65.000000   65.000000\n",
      "mean     98.104615   73.369231\n",
      "std       0.698756    5.875184\n",
      "min      96.300000   58.000000\n",
      "25%      97.600000   70.000000\n",
      "50%      98.100000   73.000000\n",
      "75%      98.600000   78.000000\n",
      "max      99.500000   86.000000\n",
      "\n",
      "Female Body Temperatures\n",
      "       temperature  heart_rate\n",
      "count    65.000000   65.000000\n",
      "mean     98.393846   74.153846\n",
      "std       0.743488    8.105227\n",
      "min      96.400000   57.000000\n",
      "25%      98.000000   68.000000\n",
      "50%      98.400000   76.000000\n",
      "75%      98.800000   80.000000\n",
      "max     100.800000   89.000000\n"
     ]
    }
   ],
   "source": [
    "#Subset the data into male and female groups\n",
    "male_temps = df.loc[df['gender'] == 'M']\n",
    "female_temps = df.loc[df['gender'] == 'F']\n",
    "\n",
    "#List descriptive statistics\n",
    "print(\"Male Body Temperatures\")\n",
    "print(male_temps.describe())\n",
    "print()\n",
    "print(\"Female Body Temperatures\")\n",
    "print(female_temps.describe())\n"
   ]
  },
  {
   "cell_type": "code",
   "execution_count": 373,
   "metadata": {},
   "outputs": [
    {
     "data": {
      "text/plain": [
       "array([[<matplotlib.axes._subplots.AxesSubplot object at 0x1c26e9fc18>]],\n",
       "      dtype=object)"
      ]
     },
     "execution_count": 373,
     "metadata": {},
     "output_type": "execute_result"
    },
    {
     "data": {
      "image/png": "[encoded data removed]",
      "text/plain": [
       "<Figure size 432x288 with 1 Axes>"
      ]
     },
     "metadata": {},
     "output_type": "display_data"
    }
   ],
   "source": [
    "#Plot histogram of male body temperature data\n",
    "male_temps.hist(column='temperature')"
   ]
  },
  {
   "cell_type": "code",
   "execution_count": 374,
   "metadata": {},
   "outputs": [
    {
     "data": {
      "text/plain": [
       "array([[<matplotlib.axes._subplots.AxesSubplot object at 0x1c25d17400>]],\n",
       "      dtype=object)"
      ]
     },
     "execution_count": 374,
     "metadata": {},
     "output_type": "execute_result"
    },
    {
     "data": {
      "image/png": "[encoded data removed]",
      "text/plain": [
       "<Figure size 432x288 with 1 Axes>"
      ]
     },
     "metadata": {},
     "output_type": "display_data"
    }
   ],
   "source": [
    "#Plot histogram of female body temperature data\n",
    "\n",
    "female_temps.hist(column='temperature')"
   ]
  },
  {
   "cell_type": "code",
   "execution_count": 375,
   "metadata": {},
   "outputs": [
    {
     "data": {
      "text/plain": [
       "Text(0.5,1,'Male and Female Body Temperatures')"
      ]
     },
     "execution_count": 375,
     "metadata": {},
     "output_type": "execute_result"
    },
    {
     "data": {
      "image/png": "[encoded data removed]",
      "text/plain": [
       "<Figure size 432x288 with 1 Axes>"
      ]
     },
     "metadata": {},
     "output_type": "display_data"
    }
   ],
   "source": [
    "#Box-and-whisker plots of male and female temp data\n",
    "plt.boxplot([male_temps['temperature'],female_temps['temperature']], 1, 'rs', 0, labels=['Male','Female'])\n",
    "\n",
    "plt.xlabel('$^\\circ$F')\n",
    "plt.ylabel('Gender')\n",
    "plt.title('Male and Female Body Temperatures')\n"
   ]
  },
  {
   "cell_type": "markdown",
   "metadata": {},
   "source": [
    "<i>Hypothesis Testing<p>\n",
    "    H<sub>0</sub>: There is no significant difference between the mean male and mean female body temperatures<p>\n",
    "    H<sub>a</sub>: There is a significant difference between the mean male and mean female body temperatures<p>\n",
    "    alpha = 0.05<p>\n",
    "    test statistic is the mean\n",
    "</i>"
   ]
  },
  {
   "cell_type": "code",
   "execution_count": 389,
   "metadata": {},
   "outputs": [],
   "source": [
    "def permutation_sample(data1, data2):\n",
    "    \"\"\"Generate a permutation sample from two data sets.\"\"\"\n",
    "\n",
    "    # Concatenate the data sets: data\n",
    "    data = np.concatenate((data1,data2))\n",
    "\n",
    "    # Permute the concatenated array: permuted_data\n",
    "    permuted_data = np.random.permutation(data)\n",
    "\n",
    "    # Split the permuted array into two: perm_sample_1, perm_sample_2\n",
    "    perm_sample_1 = permuted_data[:len(data1)]\n",
    "    perm_sample_2 = permuted_data[len(data1):]\n",
    "\n",
    "    return perm_sample_1, perm_sample_2"
   ]
  },
  {
   "cell_type": "code",
   "execution_count": 402,
   "metadata": {},
   "outputs": [
    {
     "data": {
      "image/png": "[encoded data removed]",
      "text/plain": [
       "<Figure size 864x720 with 1 Axes>"
      ]
     },
     "metadata": {},
     "output_type": "display_data"
    }
   ],
   "source": [
    "\n",
    "fig, axes = plt.subplots(nrows=1, ncols=1, figsize=(12,10))\n",
    "for i in range(50):\n",
    "    # Generate permutation samples\n",
    "    perm_sample_1, perm_sample_2 = permutation_sample(male_temps, female_temps)\n",
    "\n",
    "\n",
    "    # Compute ECDFs\n",
    "    x_1, y_1 = ecdf(perm_sample_1)\n",
    "    x_2, y_2 = ecdf(perm_sample_2)\n",
    "\n",
    "    # Plot ECDFs of permutation sample\n",
    "    _ = plt.plot(x_1, y_1, marker='.', linestyle='none',\n",
    "                 color='red', alpha=0.02)\n",
    "    _ = plt.plot(x_2, y_2, marker='.', linestyle='none',\n",
    "                 color='blue', alpha=0.02)\n",
    "\n",
    "# Create and plot ECDFs from original data\n",
    "\n",
    "x_1, y_1 = ecdf(male_temps)\n",
    "x_2, y_2 = ecdf(female_temps)\n",
    "_ = plt.plot(x_1, y_1, marker='.', linestyle='none', color='blue', label='male')\n",
    "_ = plt.plot(x_2, y_2, marker='.', linestyle='none', color='red', label='female')\n",
    "\n",
    "\n",
    "# Label axes, set margin, and show plot\n",
    "plt.margins(0.02)\n",
    "_ = plt.xlabel('Temperature ($^\\circ$F)')\n",
    "_ = plt.ylabel('ECDF')\n",
    "plt.show()"
   ]
  },
  {
   "cell_type": "code",
   "execution_count": 403,
   "metadata": {},
   "outputs": [
    {
     "data": {
      "image/png": "[encoded data removed]",
      "text/plain": [
       "<Figure size 864x720 with 1 Axes>"
      ]
     },
     "metadata": {},
     "output_type": "display_data"
    }
   ],
   "source": [
    "#Bee swarm plot\n",
    "fig, axes = plt.subplots(nrows=1, ncols=1, figsize=(12,10))\n",
    "female_temps = df.loc[df.gender == 'F', 'temperature']\n",
    "male_temps = df.loc[df.gender == 'M', 'temperature']\n",
    "\n",
    "mean_temp_male = np.mean(male_temps)\n",
    "mean_temp_female = np.mean(female_temps)\n",
    "\n",
    "_ = sns.swarmplot(x='gender', y='temperature',hue='gender', palette=['red','blue'],data=df)\n",
    "_ = plt.axhline(y=mean_temp_female,color='tab:red', linestyle='--',label='Female Mean Temp: 98.4$^\\circ$F' )\n",
    "_ = plt.axhline(y=mean_temp_male,color='tab:blue', linestyle='--',label='Male Mean Temp: 98.1$^\\circ$F' )\n",
    "_ = plt.axhline(y=98.6 ,color='k', linestyle='-',label='Wunderlich\\'s Mean Temp: 98.6$^\\circ$F' )\n",
    "plt.xlabel('gender')\n",
    "plt.legend(loc=1,frameon=True).get_frame().set_edgecolor('k')\n",
    "plt.show()"
   ]
  },
  {
   "cell_type": "code",
   "execution_count": 404,
   "metadata": {},
   "outputs": [],
   "source": [
    "def draw_perm_reps(data_1, data_2, func, size=1):\n",
    "    \"\"\"Generate multiple permutation replicates.\"\"\"\n",
    "\n",
    "    # Initialize array of replicates: perm_replicates\n",
    "    perm_replicates = np.empty(size)\n",
    "\n",
    "    for i in range(size):\n",
    "        # Generate permutation sample\n",
    "        perm_sample_1, perm_sample_2 = permutation_sample(data_1, data_2)\n",
    "\n",
    "        # Compute the test statistic\n",
    "        perm_replicates[i] = func(perm_sample_1, perm_sample_2)\n",
    "\n",
    "    return perm_replicates"
   ]
  },
  {
   "cell_type": "code",
   "execution_count": 406,
   "metadata": {},
   "outputs": [
    {
     "name": "stdout",
     "output_type": "stream",
     "text": [
      "p-value = 0.9875\n",
      "Fail to reject null hypothesis\n"
     ]
    }
   ],
   "source": [
    "def diff_of_means(data_1, data_2):\n",
    "    \"\"\"Difference in means of two arrays.\"\"\"\n",
    "\n",
    "    # The difference of means of data_1, data_2: diff\n",
    "    diff = np.mean(data_1)-np.mean(data_2)\n",
    "\n",
    "    return diff\n",
    "\n",
    "# Compute difference of mean impact force from experiment: empirical_diff_means\n",
    "empirical_diff_means = np.mean(male_temps)-np.mean(female_temps)\n",
    "\n",
    "# Draw 10,000 permutation replicates: perm_replicates\n",
    "perm_replicates = draw_perm_reps(male_temps, female_temps,\n",
    "                                 diff_of_means, size=10000)\n",
    "\n",
    "# Compute p-value: p\n",
    "p = np.sum(perm_replicates >= empirical_diff_means) / len(perm_replicates)\n",
    "\n",
    "# Print the result\n",
    "print('p-value =', p)\n",
    "if p<0.05:\n",
    "    print(\"Reject null hypothesis\")\n",
    "else:\n",
    "    print(\"Fail to reject null hypothesis\")"
   ]
  },
  {
   "cell_type": "markdown",
   "metadata": {},
   "source": [
    "<h2><i><font color=\"blue\">Question 6 Answer: </i></h2></font>Is there a significant difference between males and females in normal temperature?  <font color=\"blue\"><i>No, there is no siginficant difference between male and female normal body temperatures. The p-value of 0.9875 was not smaller than the alpha value of 0.05; therefore we failed to reject the null hypothesis that there is no difference in male and female normal body temperatures.</i></font>\n",
    "    <ul>\n",
    "    <li> What testing approach did you use and why?: <font color=\"blue\"><i>I used a two-sample boot-strap sample with a z-statistic because two samples were being compared, the data were normally distributed, and the sample size of each group was large (n=65 for each gender; each being greater than 30).</i></font>\n",
    "    <li> Write a story with your conclusion in the context of the original problem.  <font color=\"blue\"><i>Since 1868, the normal human body temperature has been held to be 98.6$^{\\circ}$F (37$^{\\circ}$C) since Carl Wunderlich published his famous book. In this exercise, we have been asked to test whether this value statistically correct?  We have determined that the temperature data provided are normally distributed.  Both boot-strap and frequentist statistical methods resulted in rejecting the null-hypothesis that the mean normal human body temperature is 98.6$^{\\circ}$F.  Further experiments are needed to determine a more accurate estimate of the true mean.  We also determined that male and female body temperatures are not statistically different. In other words, we failed to reject the null hypothesis that there was a difference in body temperature between males and females.</i></font>\n",
    "    </ul>\n",
    "    </font>"
   ]
  },
  {
   "cell_type": "code",
   "execution_count": null,
   "metadata": {},
   "outputs": [],
   "source": []
  }
 ],
 "metadata": {
  "kernelspec": {
   "display_name": "Python 3",
   "language": "python",
   "name": "python3"
  },
  "language_info": {
   "codemirror_mode": {
    "name": "ipython",
    "version": 3
   },
   "file_extension": ".py",
   "mimetype": "text/x-python",
   "name": "python",
   "nbconvert_exporter": "python",
   "pygments_lexer": "ipython3",
   "version": "3.6.5"
  }
 },
 "nbformat": 4,
 "nbformat_minor": 1
}
